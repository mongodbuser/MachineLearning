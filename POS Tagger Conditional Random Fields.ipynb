{
 "cells": [
  {
   "cell_type": "markdown",
   "metadata": {},
   "source": [
    "## Part-of-Speech tagging using CRF"
   ]
  },
  {
   "cell_type": "markdown",
   "metadata": {},
   "source": [
    "# --------------------------------------------------------------------------------------------\n",
    "\n",
    "# ******************* Syntactic Processing Assignment ********************************\n",
    "\n",
    "### **********************    Part 2 - CRFs for POS Tagging **********************************************\n",
    "\n",
    "### Author: Sushma KR ############\n",
    "### Date: 27th July 2018\n",
    "\n",
    "# --------------------------------------------------------------------------------------------"
   ]
  },
  {
   "cell_type": "markdown",
   "metadata": {},
   "source": [
    "### Data Preparation"
   ]
  },
  {
   "cell_type": "code",
   "execution_count": 2,
   "metadata": {
    "scrolled": true
   },
   "outputs": [
    {
     "name": "stdout",
     "output_type": "stream",
     "text": [
      "[nltk_data] Downloading package brown to /Users/raagzcd/nltk_data...\n",
      "[nltk_data]   Package brown is already up-to-date!\n",
      "[nltk_data] Downloading package conll2000 to\n",
      "[nltk_data]     /Users/raagzcd/nltk_data...\n",
      "[nltk_data]   Package conll2000 is already up-to-date!\n"
     ]
    }
   ],
   "source": [
    "#Importing libraries\n",
    "import re, pprint\n",
    "import numpy as np\n",
    "import pandas as pd\n",
    "import pprint, time\n",
    "import random\n",
    "\n",
    "import nltk\n",
    "from nltk.tokenize import word_tokenize\n",
    "nltk.download('brown')\n",
    "nltk.download('conll2000')\n",
    "\n",
    "import sklearn\n",
    "from sklearn.model_selection import train_test_split\n",
    "from sklearn.model_selection import GridSearchCV\n",
    "\n",
    "import sklearn_crfsuite\n",
    "from sklearn_crfsuite import metrics\n",
    "from sklearn_crfsuite import scorers\n",
    "\n",
    "import calendar\n",
    "from calendar import month_name, month_abbr\n",
    "from calendar import day_name\n",
    "\n",
    "import matplotlib.pyplot as plt\n",
    "\n",
    "import _pickle as cPickle\n",
    "import os.path\n",
    "\n",
    "from collections import Counter"
   ]
  },
  {
   "cell_type": "code",
   "execution_count": 3,
   "metadata": {},
   "outputs": [],
   "source": [
    "# reading the Treebank tagged sentences\n",
    "wsj = list(nltk.corpus.treebank.tagged_sents(tagset='universal'))"
   ]
  },
  {
   "cell_type": "code",
   "execution_count": 4,
   "metadata": {},
   "outputs": [
    {
     "name": "stdout",
     "output_type": "stream",
     "text": [
      "[[('Pierre', 'NOUN'), ('Vinken', 'NOUN'), (',', '.'), ('61', 'NUM'), ('years', 'NOUN'), ('old', 'ADJ'), (',', '.'), ('will', 'VERB'), ('join', 'VERB'), ('the', 'DET'), ('board', 'NOUN'), ('as', 'ADP'), ('a', 'DET'), ('nonexecutive', 'ADJ'), ('director', 'NOUN'), ('Nov.', 'NOUN'), ('29', 'NUM'), ('.', '.')], [('Mr.', 'NOUN'), ('Vinken', 'NOUN'), ('is', 'VERB'), ('chairman', 'NOUN'), ('of', 'ADP'), ('Elsevier', 'NOUN'), ('N.V.', 'NOUN'), (',', '.'), ('the', 'DET'), ('Dutch', 'NOUN'), ('publishing', 'VERB'), ('group', 'NOUN'), ('.', '.')]]\n",
      "3914\n"
     ]
    }
   ],
   "source": [
    "# first few tagged sentences\n",
    "print(wsj[:2])\n",
    "print(len(wsj))"
   ]
  },
  {
   "cell_type": "code",
   "execution_count": 5,
   "metadata": {},
   "outputs": [],
   "source": [
    "# reading the Brown tagged sentences\n",
    "brown = list(nltk.corpus.brown.tagged_sents(tagset='universal'))"
   ]
  },
  {
   "cell_type": "code",
   "execution_count": 6,
   "metadata": {
    "scrolled": true
   },
   "outputs": [
    {
     "name": "stdout",
     "output_type": "stream",
     "text": [
      "[[('The', 'DET'), ('Fulton', 'NOUN'), ('County', 'NOUN'), ('Grand', 'ADJ'), ('Jury', 'NOUN'), ('said', 'VERB'), ('Friday', 'NOUN'), ('an', 'DET'), ('investigation', 'NOUN'), ('of', 'ADP'), (\"Atlanta's\", 'NOUN'), ('recent', 'ADJ'), ('primary', 'NOUN'), ('election', 'NOUN'), ('produced', 'VERB'), ('``', '.'), ('no', 'DET'), ('evidence', 'NOUN'), (\"''\", '.'), ('that', 'ADP'), ('any', 'DET'), ('irregularities', 'NOUN'), ('took', 'VERB'), ('place', 'NOUN'), ('.', '.')], [('The', 'DET'), ('jury', 'NOUN'), ('further', 'ADV'), ('said', 'VERB'), ('in', 'ADP'), ('term-end', 'NOUN'), ('presentments', 'NOUN'), ('that', 'ADP'), ('the', 'DET'), ('City', 'NOUN'), ('Executive', 'ADJ'), ('Committee', 'NOUN'), (',', '.'), ('which', 'DET'), ('had', 'VERB'), ('over-all', 'ADJ'), ('charge', 'NOUN'), ('of', 'ADP'), ('the', 'DET'), ('election', 'NOUN'), (',', '.'), ('``', '.'), ('deserves', 'VERB'), ('the', 'DET'), ('praise', 'NOUN'), ('and', 'CONJ'), ('thanks', 'NOUN'), ('of', 'ADP'), ('the', 'DET'), ('City', 'NOUN'), ('of', 'ADP'), ('Atlanta', 'NOUN'), (\"''\", '.'), ('for', 'ADP'), ('the', 'DET'), ('manner', 'NOUN'), ('in', 'ADP'), ('which', 'DET'), ('the', 'DET'), ('election', 'NOUN'), ('was', 'VERB'), ('conducted', 'VERB'), ('.', '.')]]\n",
      "57340\n"
     ]
    }
   ],
   "source": [
    "# first few tagged sentences\n",
    "print(brown[:2])\n",
    "print(len(brown))"
   ]
  },
  {
   "cell_type": "code",
   "execution_count": 7,
   "metadata": {},
   "outputs": [],
   "source": [
    "# reading the conll2000 tagged sentences\n",
    "conll2000= list(nltk.corpus.conll2000.tagged_sents(tagset='universal'))"
   ]
  },
  {
   "cell_type": "code",
   "execution_count": 8,
   "metadata": {},
   "outputs": [
    {
     "name": "stdout",
     "output_type": "stream",
     "text": [
      "[[('Confidence', 'NOUN'), ('in', 'ADP'), ('the', 'DET'), ('pound', 'NOUN'), ('is', 'VERB'), ('widely', 'ADV'), ('expected', 'VERB'), ('to', 'PRT'), ('take', 'VERB'), ('another', 'DET'), ('sharp', 'ADJ'), ('dive', 'NOUN'), ('if', 'ADP'), ('trade', 'NOUN'), ('figures', 'NOUN'), ('for', 'ADP'), ('September', 'NOUN'), (',', '.'), ('due', 'ADJ'), ('for', 'ADP'), ('release', 'NOUN'), ('tomorrow', 'NOUN'), (',', '.'), ('fail', 'VERB'), ('to', 'PRT'), ('show', 'VERB'), ('a', 'DET'), ('substantial', 'ADJ'), ('improvement', 'NOUN'), ('from', 'ADP'), ('July', 'NOUN'), ('and', 'CONJ'), ('August', 'NOUN'), (\"'s\", 'PRT'), ('near-record', 'ADJ'), ('deficits', 'NOUN'), ('.', '.')], [('Chancellor', 'NOUN'), ('of', 'ADP'), ('the', 'DET'), ('Exchequer', 'NOUN'), ('Nigel', 'NOUN'), ('Lawson', 'NOUN'), (\"'s\", 'PRT'), ('restated', 'VERB'), ('commitment', 'NOUN'), ('to', 'PRT'), ('a', 'DET'), ('firm', 'NOUN'), ('monetary', 'ADJ'), ('policy', 'NOUN'), ('has', 'VERB'), ('helped', 'VERB'), ('to', 'PRT'), ('prevent', 'VERB'), ('a', 'DET'), ('freefall', 'NOUN'), ('in', 'ADP'), ('sterling', 'NOUN'), ('over', 'ADP'), ('the', 'DET'), ('past', 'ADJ'), ('week', 'NOUN'), ('.', '.')]]\n",
      "10948\n"
     ]
    }
   ],
   "source": [
    "# first few tagged sentences\n",
    "print(conll2000[:2])\n",
    "print(len(conll2000))"
   ]
  },
  {
   "cell_type": "code",
   "execution_count": 9,
   "metadata": {},
   "outputs": [],
   "source": [
    "nltk_data = wsj + brown + conll2000"
   ]
  },
  {
   "cell_type": "code",
   "execution_count": 10,
   "metadata": {},
   "outputs": [
    {
     "name": "stdout",
     "output_type": "stream",
     "text": [
      "[[('Pierre', 'NOUN'), ('Vinken', 'NOUN'), (',', '.'), ('61', 'NUM'), ('years', 'NOUN'), ('old', 'ADJ'), (',', '.'), ('will', 'VERB'), ('join', 'VERB'), ('the', 'DET'), ('board', 'NOUN'), ('as', 'ADP'), ('a', 'DET'), ('nonexecutive', 'ADJ'), ('director', 'NOUN'), ('Nov.', 'NOUN'), ('29', 'NUM'), ('.', '.')], [('Mr.', 'NOUN'), ('Vinken', 'NOUN'), ('is', 'VERB'), ('chairman', 'NOUN'), ('of', 'ADP'), ('Elsevier', 'NOUN'), ('N.V.', 'NOUN'), (',', '.'), ('the', 'DET'), ('Dutch', 'NOUN'), ('publishing', 'VERB'), ('group', 'NOUN'), ('.', '.')]]\n",
      "72202\n"
     ]
    }
   ],
   "source": [
    "print(nltk_data[:2])\n",
    "print(len(nltk_data))"
   ]
  },
  {
   "cell_type": "markdown",
   "metadata": {},
   "source": [
    "### 1. Build your CRF"
   ]
  },
  {
   "cell_type": "markdown",
   "metadata": {},
   "source": [
    "##### Define feature functions that would enhance the maximum likelihood estimates"
   ]
  },
  {
   "cell_type": "code",
   "execution_count": 11,
   "metadata": {},
   "outputs": [],
   "source": [
    "# Whether the word contains a hyphen or an apostrophe\n",
    "\n",
    "def word_contains_char(word, char):\n",
    "    if word.find(char) > 1:\n",
    "        return True\n",
    "    else:\n",
    "        return False"
   ]
  },
  {
   "cell_type": "code",
   "execution_count": 12,
   "metadata": {},
   "outputs": [],
   "source": [
    "#Check if the word is a month or an abbreviated version\n",
    "\n",
    "months = set(m.lower() for m in month_name[1:])\n",
    "months_abbr = set(m.lower() for m in month_abbr)\n",
    "\n",
    "def word_is_a_month(word):\n",
    "\n",
    "    word = word.lower()\n",
    "    \n",
    "    # If the word contains a hyphen or dot, extract the first part and check\n",
    "    if word.find('.') > 0:\n",
    "        word = word.split('.')[0].lower()\n",
    "    if word.find('-') > 0:\n",
    "        word = word.split('-')[0].lower()\n",
    "    \n",
    "    if word in months or word in months_abbr:\n",
    "        return True\n",
    "    else:\n",
    "        return False"
   ]
  },
  {
   "cell_type": "code",
   "execution_count": 13,
   "metadata": {},
   "outputs": [],
   "source": [
    "# Check if the word is a day of week\n",
    "\n",
    "days = set(d.lower() for d in day_name[:])\n",
    "\n",
    "def word_is_a_day(word):\n",
    "    word = word.lower()\n",
    "    \n",
    "    if word in days:\n",
    "        return True\n",
    "    else:\n",
    "        return False\n"
   ]
  },
  {
   "cell_type": "code",
   "execution_count": 14,
   "metadata": {},
   "outputs": [],
   "source": [
    "# Import the countries file into a dataframe\n",
    "\n",
    "countries = pd.read_csv(\"https://raw.githubusercontent.com/lukes/ISO-3166-Countries-with-Regional-Codes/master/all/all.csv\")"
   ]
  },
  {
   "cell_type": "code",
   "execution_count": 15,
   "metadata": {},
   "outputs": [],
   "source": [
    "# Check if the given word is a country\n",
    "\n",
    "def word_is_a_country(word):\n",
    "    set(countries['name'].str.lower())\n",
    "    \n",
    "    if(word.lower() in set(countries['name'].str.lower())):\n",
    "        return True\n",
    "    else:\n",
    "        return False"
   ]
  },
  {
   "cell_type": "code",
   "execution_count": 16,
   "metadata": {},
   "outputs": [],
   "source": [
    "# Extract all the honorifics used in English into a dataframe\n",
    "\n",
    "honorifics = pd.read_csv('https://gist.githubusercontent.com/abrambailey/9dbca470e9a562c625fd/raw/db0c0126301e6fd2a5b21a489f91a07d726fc893/EnglishHonorifics', quoting = 3)"
   ]
  },
  {
   "cell_type": "code",
   "execution_count": 17,
   "metadata": {},
   "outputs": [],
   "source": [
    "honorifics = [re.sub(\"'\", \"\", x).strip() for x in honorifics.index]"
   ]
  },
  {
   "cell_type": "code",
   "execution_count": 18,
   "metadata": {},
   "outputs": [],
   "source": [
    "# Check if the word is a honorific such as Mr, Miss etc\n",
    "\n",
    "def word_is_a_honorific(word):\n",
    "    if word in honorifics or word[:-1] in honorifics:\n",
    "        return True\n",
    "    else:\n",
    "        return False"
   ]
  },
  {
   "cell_type": "code",
   "execution_count": 19,
   "metadata": {},
   "outputs": [
    {
     "data": {
      "text/html": [
       "<div>\n",
       "<style scoped>\n",
       "    .dataframe tbody tr th:only-of-type {\n",
       "        vertical-align: middle;\n",
       "    }\n",
       "\n",
       "    .dataframe tbody tr th {\n",
       "        vertical-align: top;\n",
       "    }\n",
       "\n",
       "    .dataframe thead th {\n",
       "        text-align: right;\n",
       "    }\n",
       "</style>\n",
       "<table border=\"1\" class=\"dataframe\">\n",
       "  <thead>\n",
       "    <tr style=\"text-align: right;\">\n",
       "      <th></th>\n",
       "      <th>City</th>\n",
       "      <th>State short</th>\n",
       "      <th>State full</th>\n",
       "      <th>County</th>\n",
       "      <th>City alias</th>\n",
       "    </tr>\n",
       "  </thead>\n",
       "  <tbody>\n",
       "    <tr>\n",
       "      <th>0</th>\n",
       "      <td>Holtsville</td>\n",
       "      <td>NY</td>\n",
       "      <td>New York</td>\n",
       "      <td>SUFFOLK</td>\n",
       "      <td>Internal Revenue Service</td>\n",
       "    </tr>\n",
       "    <tr>\n",
       "      <th>1</th>\n",
       "      <td>Holtsville</td>\n",
       "      <td>NY</td>\n",
       "      <td>New York</td>\n",
       "      <td>SUFFOLK</td>\n",
       "      <td>Holtsville</td>\n",
       "    </tr>\n",
       "    <tr>\n",
       "      <th>2</th>\n",
       "      <td>Adjuntas</td>\n",
       "      <td>PR</td>\n",
       "      <td>Puerto Rico</td>\n",
       "      <td>ADJUNTAS</td>\n",
       "      <td>URB San Joaquin</td>\n",
       "    </tr>\n",
       "    <tr>\n",
       "      <th>3</th>\n",
       "      <td>Adjuntas</td>\n",
       "      <td>PR</td>\n",
       "      <td>Puerto Rico</td>\n",
       "      <td>ADJUNTAS</td>\n",
       "      <td>Jard De Adjuntas</td>\n",
       "    </tr>\n",
       "    <tr>\n",
       "      <th>4</th>\n",
       "      <td>Adjuntas</td>\n",
       "      <td>PR</td>\n",
       "      <td>Puerto Rico</td>\n",
       "      <td>ADJUNTAS</td>\n",
       "      <td>Colinas Del Gigante</td>\n",
       "    </tr>\n",
       "  </tbody>\n",
       "</table>\n",
       "</div>"
      ],
      "text/plain": [
       "         City State short   State full    County                City alias\n",
       "0  Holtsville          NY     New York   SUFFOLK  Internal Revenue Service\n",
       "1  Holtsville          NY     New York   SUFFOLK                Holtsville\n",
       "2    Adjuntas          PR  Puerto Rico  ADJUNTAS           URB San Joaquin\n",
       "3    Adjuntas          PR  Puerto Rico  ADJUNTAS          Jard De Adjuntas\n",
       "4    Adjuntas          PR  Puerto Rico  ADJUNTAS       Colinas Del Gigante"
      ]
     },
     "execution_count": 19,
     "metadata": {},
     "output_type": "execute_result"
    }
   ],
   "source": [
    "# Extract city, state and county names in US to a dataframe\n",
    "\n",
    "us_cities = pd.read_csv('https://raw.githubusercontent.com/grammakov/USA-cities-and-states/master/us_cities_states_counties.csv', sep = '|')\n",
    "us_cities.head()"
   ]
  },
  {
   "cell_type": "code",
   "execution_count": 20,
   "metadata": {},
   "outputs": [],
   "source": [
    "# storing cities, states and counties as sets\n",
    "\n",
    "cities = set(us_cities['City'].str.lower())\n",
    "states = set(us_cities['State full'].str.lower())\n",
    "counties = set(us_cities['County'].str.lower())"
   ]
  },
  {
   "cell_type": "code",
   "execution_count": 21,
   "metadata": {},
   "outputs": [],
   "source": [
    "# define a function to look up a given word in cities, states, county\n",
    "\n",
    "def gazetteer_lookup(word):\n",
    "    return (word in cities, word in states, word in counties)"
   ]
  },
  {
   "cell_type": "code",
   "execution_count": 22,
   "metadata": {},
   "outputs": [
    {
     "name": "stdout",
     "output_type": "stream",
     "text": [
      "(True, True, True)\n",
      "(False, True, True)\n",
      "(True, False, True)\n"
     ]
    }
   ],
   "source": [
    "# sample lookups\n",
    "\n",
    "print(gazetteer_lookup('washington'))\n",
    "print(gazetteer_lookup('utah'))\n",
    "print(gazetteer_lookup('philadelphia'))"
   ]
  },
  {
   "cell_type": "code",
   "execution_count": 23,
   "metadata": {},
   "outputs": [],
   "source": [
    "# extracts features for the word at index i in a sentence \n",
    "\n",
    "def word_features(sentence, i):\n",
    "    word = sentence[i][0]\n",
    "    \n",
    "    # first word\n",
    "    if i==0:\n",
    "        prevword = '<START>'\n",
    "    else:\n",
    "        prevword = sentence[i-1][0]\n",
    "    \n",
    "    # last word\n",
    "    if i == len(sentence)-1:\n",
    "        nextword = '<END>'\n",
    "    else:\n",
    "        nextword = sentence[i+1][0]\n",
    "        \n",
    "    gazetteer = gazetteer_lookup(word)\n",
    "    \n",
    "    # suffixes and prefixes\n",
    "    pref_1, pref_2, pref_3, pref_4 = word[:1], word[:2], word[:3], word[:4]\n",
    "    suff_1, suff_2, suff_3, suff_4 = word[-1:], word[-2:], word[-3:], word[-4:]\n",
    "    \n",
    "    return {'word': word,\n",
    "            'prevword': prevword,\n",
    "            'nextword': nextword, \n",
    "            'word_is_digit': word.isdigit(),\n",
    "            'wordlen': len(word),\n",
    "            'suff_1': suff_1,  \n",
    "            'suff_2': suff_2,  \n",
    "            'suff_3': suff_3,  \n",
    "            'suff_4': suff_4, \n",
    "            'pref_1': pref_1,  \n",
    "            'pref_2': pref_2,  \n",
    "            'pref_3': pref_3, \n",
    "            'pref_4': pref_4,\n",
    "            'initcap': word[0].isupper(),\n",
    "            'prev_word_initcap': prevword[0].isupper(),\n",
    "            'word_is_all_upper': word.isupper(),\n",
    "            'word_is_city': gazetteer[0],\n",
    "            'word_is_state': gazetteer[1],\n",
    "            'word_is_county': gazetteer[2],\n",
    "            'word_is_an_adverb': word[-2:] == 'ly',\n",
    "            'word_is_a_verb': word[-2:] == 'ly' or word[-3:] == 'ing'\n",
    "#             'word_contains_apostrophe': word_contains_char(word,\"'\"),\n",
    "#             'word_contains_hyphen': word_contains_char(word, '-'),\n",
    "#             'word_contains_dot': word_contains_char(word, '.'),\n",
    "#             'word_is_a_honorific': word_is_a_honorific(word),\n",
    "#             'word_is_a_country': word_is_a_country(word),\n",
    "#             'word_is_a_month': word_is_a_month(word),\n",
    "#             'word_is_a_day': word_is_a_day(word)\n",
    "           }  \n"
   ]
  },
  {
   "cell_type": "raw",
   "metadata": {},
   "source": [
    "It was expected that a number of functions would improve the accuracy of prediction, but it did not change much\n",
    "instead the prediction time got longer\n",
    "\n",
    "Hence, minimal number of functions have been used such that default python functions get used more than user defined\n",
    "functions. Built in python functions are a lot faster in performance"
   ]
  },
  {
   "cell_type": "code",
   "execution_count": 24,
   "metadata": {},
   "outputs": [],
   "source": [
    "# Extract the features of each word present in a sentence by the index position\n",
    "\n",
    "def sent2features(sent):\n",
    "    return [word_features(sent, i) for i in range(len(sent))]"
   ]
  },
  {
   "cell_type": "code",
   "execution_count": 25,
   "metadata": {},
   "outputs": [],
   "source": [
    "# Capture the start time"
   ]
  },
  {
   "cell_type": "code",
   "execution_count": 26,
   "metadata": {},
   "outputs": [],
   "source": [
    "start = time.time()"
   ]
  },
  {
   "cell_type": "code",
   "execution_count": 27,
   "metadata": {},
   "outputs": [],
   "source": [
    "# This defines the input data set for the algorithm\n",
    "\n",
    "wordfeatures = [sent2features(sent) for sent in nltk_data]"
   ]
  },
  {
   "cell_type": "code",
   "execution_count": 28,
   "metadata": {},
   "outputs": [],
   "source": [
    "end = time.time()"
   ]
  },
  {
   "cell_type": "code",
   "execution_count": 29,
   "metadata": {},
   "outputs": [
    {
     "name": "stdout",
     "output_type": "stream",
     "text": [
      "Difference: 7.19297194480896\n"
     ]
    }
   ],
   "source": [
    "print('Difference:', end - start)"
   ]
  },
  {
   "cell_type": "code",
   "execution_count": 30,
   "metadata": {},
   "outputs": [],
   "source": [
    "# This defines the output data set for the algorithm, will serve as the \"y\" that would be split into training and \n",
    "# test data sets\n",
    "\n",
    "pos_tags = []\n",
    "for sent in nltk_data:\n",
    "    word_tags = []\n",
    "    for tup in sent:\n",
    "        word_tags.append(tup[1])\n",
    "    pos_tags.append(word_tags)"
   ]
  },
  {
   "cell_type": "code",
   "execution_count": 31,
   "metadata": {},
   "outputs": [],
   "source": [
    "# Split the input and output datasets into training and validation sets in the ratio of 80:20\n",
    "\n",
    "X_train, X_valid, y_train, y_valid = train_test_split(wordfeatures, pos_tags, test_size=0.2, random_state=1)"
   ]
  },
  {
   "cell_type": "code",
   "execution_count": 32,
   "metadata": {},
   "outputs": [
    {
     "data": {
      "text/plain": [
       "57761"
      ]
     },
     "execution_count": 32,
     "metadata": {},
     "output_type": "execute_result"
    }
   ],
   "source": [
    "len(X_train)"
   ]
  },
  {
   "cell_type": "code",
   "execution_count": 33,
   "metadata": {},
   "outputs": [
    {
     "data": {
      "text/plain": [
       "14441"
      ]
     },
     "execution_count": 33,
     "metadata": {},
     "output_type": "execute_result"
    }
   ],
   "source": [
    "len(X_valid)"
   ]
  },
  {
   "cell_type": "markdown",
   "metadata": {},
   "source": [
    "### 2. Evaluate the model performance"
   ]
  },
  {
   "cell_type": "code",
   "execution_count": 34,
   "metadata": {},
   "outputs": [],
   "source": [
    "start = time.time()"
   ]
  },
  {
   "cell_type": "code",
   "execution_count": 35,
   "metadata": {},
   "outputs": [
    {
     "data": {
      "text/plain": [
       "CRF(algorithm='lbfgs', all_possible_states=None,\n",
       "  all_possible_transitions=True, averaging=None, c=None, c1=0.01, c2=0.1,\n",
       "  calibration_candidates=None, calibration_eta=None,\n",
       "  calibration_max_trials=None, calibration_rate=None,\n",
       "  calibration_samples=None, delta=None, epsilon=None, error_sensitive=None,\n",
       "  gamma=None, keep_tempfiles=None, linesearch=None, max_iterations=100,\n",
       "  max_linesearch=None, min_freq=None, model_filename=None,\n",
       "  num_memories=None, pa_type=None, period=None, trainer_cls=None,\n",
       "  variance=None, verbose=False)"
      ]
     },
     "execution_count": 35,
     "metadata": {},
     "output_type": "execute_result"
    }
   ],
   "source": [
    "# fitting crf with arbitrary hyperparameters\n",
    "crf = sklearn_crfsuite.CRF(\n",
    "    algorithm='lbfgs',\n",
    "    c1=0.01,\n",
    "    c2=0.1,\n",
    "    max_iterations=100,\n",
    "    all_possible_transitions=True\n",
    ")\n",
    "crf.fit(X_train, y_train)"
   ]
  },
  {
   "cell_type": "code",
   "execution_count": 36,
   "metadata": {},
   "outputs": [
    {
     "name": "stdout",
     "output_type": "stream",
     "text": [
      "295.28702998161316\n"
     ]
    }
   ],
   "source": [
    "end = time.time()\n",
    "difference = end-start\n",
    "print(difference)"
   ]
  },
  {
   "cell_type": "code",
   "execution_count": 37,
   "metadata": {},
   "outputs": [],
   "source": [
    "labels = crf.classes_"
   ]
  },
  {
   "cell_type": "code",
   "execution_count": 38,
   "metadata": {},
   "outputs": [
    {
     "data": {
      "text/plain": [
       "0.973370197847479"
      ]
     },
     "execution_count": 38,
     "metadata": {},
     "output_type": "execute_result"
    }
   ],
   "source": [
    "# Carry out prediction on the validation data set\n",
    "\n",
    "y_pred_valid = crf.predict(X_valid)\n",
    "metrics.flat_f1_score(y_valid, y_pred_valid,\n",
    "                      average='weighted', labels=labels)"
   ]
  },
  {
   "cell_type": "raw",
   "metadata": {},
   "source": [
    "The overall score does not give a detailed picture of how respective classes are performing. \n",
    "We can see the class-wise evaluation metrics below. Support represents the number of instances of \n",
    "the respective class in the training data"
   ]
  },
  {
   "cell_type": "markdown",
   "metadata": {},
   "source": [
    "### 3. Interpret the model (enlist important state and transition features)"
   ]
  },
  {
   "cell_type": "code",
   "execution_count": 39,
   "metadata": {},
   "outputs": [],
   "source": [
    "# class-wise scores\n",
    "sorted_labels = sorted(\n",
    "    labels,\n",
    "    key=lambda name: (name[1:], name[0])\n",
    ")"
   ]
  },
  {
   "cell_type": "code",
   "execution_count": 40,
   "metadata": {},
   "outputs": [
    {
     "name": "stdout",
     "output_type": "stream",
     "text": [
      "             precision    recall  f1-score   support\n",
      "\n",
      "          .      1.000     1.000     1.000     38448\n",
      "          X      0.985     0.877     0.927      1547\n",
      "        ADJ      0.936     0.937     0.936     21769\n",
      "        ADP      0.965     0.978     0.972     36894\n",
      "        ADV      0.948     0.937     0.942     13950\n",
      "       VERB      0.979     0.979     0.979     47138\n",
      "        DET      0.979     0.984     0.981     34220\n",
      "       CONJ      0.994     0.997     0.995      9512\n",
      "       NOUN      0.977     0.978     0.977     77289\n",
      "       PRON      0.973     0.948     0.960     11977\n",
      "        PRT      0.909     0.887     0.898      8349\n",
      "        NUM      0.986     0.994     0.990      5755\n",
      "\n",
      "avg / total      0.973     0.973     0.973    306848\n",
      "\n"
     ]
    }
   ],
   "source": [
    "print(metrics.flat_classification_report(\n",
    "    y_valid, y_pred_valid, labels=sorted_labels, digits=3\n",
    "))"
   ]
  },
  {
   "cell_type": "raw",
   "metadata": {},
   "source": [
    "The classification report tells us that:\n",
    "    - The overall f1-score (a weighted average of overall precision and recall) is 97.3%\n",
    "    - The important class i.e. those with high frequency such as NOUN, VERB, ADP are performing well"
   ]
  },
  {
   "cell_type": "code",
   "execution_count": 41,
   "metadata": {},
   "outputs": [],
   "source": [
    "# hyperparameter tuning\n",
    "\n",
    "# define fixed parameters and parameters to search\n",
    "crf = sklearn_crfsuite.CRF(\n",
    "    algorithm='lbfgs',\n",
    "    max_iterations=100,\n",
    "    all_possible_transitions=True\n",
    ")\n",
    "\n",
    "# parameters to tune\n",
    "params_space = {\n",
    "    'c1': [0.01, 0.1, 1],\n",
    "    'c2': [0.01, 0.1, 1]\n",
    "}\n",
    "\n",
    "# use the same metric for evaluation\n",
    "f1_scorer = scorers.make_scorer(metrics.flat_f1_score,\n",
    "                        average='weighted', labels=labels)"
   ]
  },
  {
   "cell_type": "code",
   "execution_count": 42,
   "metadata": {},
   "outputs": [
    {
     "name": "stdout",
     "output_type": "stream",
     "text": [
      "Fitting 3 folds for each of 9 candidates, totalling 27 fits\n"
     ]
    },
    {
     "name": "stderr",
     "output_type": "stream",
     "text": [
      "[Parallel(n_jobs=2)]: Done  27 out of  27 | elapsed: 80.4min finished\n"
     ]
    },
    {
     "data": {
      "text/plain": [
       "GridSearchCV(cv=3, error_score='raise',\n",
       "       estimator=CRF(algorithm='lbfgs', all_possible_states=None,\n",
       "  all_possible_transitions=True, averaging=None, c=None, c1=None, c2=None,\n",
       "  calibration_candidates=None, calibration_eta=None,\n",
       "  calibration_max_trials=None, calibration_rate=None,\n",
       "  calibration_samples=None, delta=None, epsilon=None, error...e,\n",
       "  num_memories=None, pa_type=None, period=None, trainer_cls=None,\n",
       "  variance=None, verbose=False),\n",
       "       fit_params=None, iid=True, n_jobs=2,\n",
       "       param_grid={'c1': [0.01, 0.1, 1], 'c2': [0.01, 0.1, 1]},\n",
       "       pre_dispatch='2*n_jobs', refit=True, return_train_score=True,\n",
       "       scoring=make_scorer(flat_f1_score, average=weighted, labels=['DET', 'NOUN', 'ADP', 'VERB', 'ADJ', 'CONJ', '.', 'ADV', 'PRON', 'X', 'PRT', 'NUM']),\n",
       "       verbose=1)"
      ]
     },
     "execution_count": 42,
     "metadata": {},
     "output_type": "execute_result"
    }
   ],
   "source": [
    "# instantiate a GridSearchCV object\n",
    "\n",
    "rs = GridSearchCV(crf, \n",
    "                  params_space,\n",
    "                  cv=3,\n",
    "                  verbose=1,\n",
    "                  n_jobs=2,\n",
    "                  scoring=f1_scorer, \n",
    "                  return_train_score=True)\n",
    "# fit\n",
    "rs.fit(X_train, y_train)"
   ]
  },
  {
   "cell_type": "code",
   "execution_count": 43,
   "metadata": {},
   "outputs": [
    {
     "data": {
      "text/html": [
       "<div>\n",
       "<style scoped>\n",
       "    .dataframe tbody tr th:only-of-type {\n",
       "        vertical-align: middle;\n",
       "    }\n",
       "\n",
       "    .dataframe tbody tr th {\n",
       "        vertical-align: top;\n",
       "    }\n",
       "\n",
       "    .dataframe thead th {\n",
       "        text-align: right;\n",
       "    }\n",
       "</style>\n",
       "<table border=\"1\" class=\"dataframe\">\n",
       "  <thead>\n",
       "    <tr style=\"text-align: right;\">\n",
       "      <th></th>\n",
       "      <th>mean_fit_time</th>\n",
       "      <th>std_fit_time</th>\n",
       "      <th>mean_score_time</th>\n",
       "      <th>std_score_time</th>\n",
       "      <th>param_c1</th>\n",
       "      <th>param_c2</th>\n",
       "      <th>params</th>\n",
       "      <th>split0_test_score</th>\n",
       "      <th>split1_test_score</th>\n",
       "      <th>split2_test_score</th>\n",
       "      <th>mean_test_score</th>\n",
       "      <th>std_test_score</th>\n",
       "      <th>rank_test_score</th>\n",
       "      <th>split0_train_score</th>\n",
       "      <th>split1_train_score</th>\n",
       "      <th>split2_train_score</th>\n",
       "      <th>mean_train_score</th>\n",
       "      <th>std_train_score</th>\n",
       "    </tr>\n",
       "  </thead>\n",
       "  <tbody>\n",
       "    <tr>\n",
       "      <th>0</th>\n",
       "      <td>214.308638</td>\n",
       "      <td>14.619042</td>\n",
       "      <td>6.956551</td>\n",
       "      <td>0.134989</td>\n",
       "      <td>0.01</td>\n",
       "      <td>0.01</td>\n",
       "      <td>{'c1': 0.01, 'c2': 0.01}</td>\n",
       "      <td>0.969142</td>\n",
       "      <td>0.969877</td>\n",
       "      <td>0.969856</td>\n",
       "      <td>0.969625</td>\n",
       "      <td>0.000342</td>\n",
       "      <td>6</td>\n",
       "      <td>0.991512</td>\n",
       "      <td>0.991238</td>\n",
       "      <td>0.991409</td>\n",
       "      <td>0.991386</td>\n",
       "      <td>0.000113</td>\n",
       "    </tr>\n",
       "    <tr>\n",
       "      <th>1</th>\n",
       "      <td>210.055309</td>\n",
       "      <td>9.569213</td>\n",
       "      <td>6.676993</td>\n",
       "      <td>0.048521</td>\n",
       "      <td>0.01</td>\n",
       "      <td>0.1</td>\n",
       "      <td>{'c1': 0.01, 'c2': 0.1}</td>\n",
       "      <td>0.970869</td>\n",
       "      <td>0.971696</td>\n",
       "      <td>0.971544</td>\n",
       "      <td>0.971370</td>\n",
       "      <td>0.000359</td>\n",
       "      <td>2</td>\n",
       "      <td>0.989260</td>\n",
       "      <td>0.989049</td>\n",
       "      <td>0.989157</td>\n",
       "      <td>0.989155</td>\n",
       "      <td>0.000086</td>\n",
       "    </tr>\n",
       "    <tr>\n",
       "      <th>2</th>\n",
       "      <td>242.815552</td>\n",
       "      <td>49.669689</td>\n",
       "      <td>7.257208</td>\n",
       "      <td>0.499369</td>\n",
       "      <td>0.01</td>\n",
       "      <td>1</td>\n",
       "      <td>{'c1': 0.01, 'c2': 1}</td>\n",
       "      <td>0.969269</td>\n",
       "      <td>0.970092</td>\n",
       "      <td>0.969692</td>\n",
       "      <td>0.969684</td>\n",
       "      <td>0.000336</td>\n",
       "      <td>5</td>\n",
       "      <td>0.978404</td>\n",
       "      <td>0.978165</td>\n",
       "      <td>0.977970</td>\n",
       "      <td>0.978180</td>\n",
       "      <td>0.000178</td>\n",
       "    </tr>\n",
       "    <tr>\n",
       "      <th>3</th>\n",
       "      <td>337.076049</td>\n",
       "      <td>11.370304</td>\n",
       "      <td>11.587638</td>\n",
       "      <td>4.175477</td>\n",
       "      <td>0.1</td>\n",
       "      <td>0.01</td>\n",
       "      <td>{'c1': 0.1, 'c2': 0.01}</td>\n",
       "      <td>0.970350</td>\n",
       "      <td>0.971016</td>\n",
       "      <td>0.971125</td>\n",
       "      <td>0.970830</td>\n",
       "      <td>0.000343</td>\n",
       "      <td>3</td>\n",
       "      <td>0.990917</td>\n",
       "      <td>0.990749</td>\n",
       "      <td>0.990887</td>\n",
       "      <td>0.990851</td>\n",
       "      <td>0.000073</td>\n",
       "    </tr>\n",
       "    <tr>\n",
       "      <th>4</th>\n",
       "      <td>338.871480</td>\n",
       "      <td>9.996433</td>\n",
       "      <td>12.513003</td>\n",
       "      <td>7.735089</td>\n",
       "      <td>0.1</td>\n",
       "      <td>0.1</td>\n",
       "      <td>{'c1': 0.1, 'c2': 0.1}</td>\n",
       "      <td>0.971052</td>\n",
       "      <td>0.971855</td>\n",
       "      <td>0.971472</td>\n",
       "      <td>0.971460</td>\n",
       "      <td>0.000328</td>\n",
       "      <td>1</td>\n",
       "      <td>0.988392</td>\n",
       "      <td>0.988122</td>\n",
       "      <td>0.988243</td>\n",
       "      <td>0.988252</td>\n",
       "      <td>0.000110</td>\n",
       "    </tr>\n",
       "    <tr>\n",
       "      <th>5</th>\n",
       "      <td>335.634802</td>\n",
       "      <td>6.478181</td>\n",
       "      <td>9.323682</td>\n",
       "      <td>0.703183</td>\n",
       "      <td>0.1</td>\n",
       "      <td>1</td>\n",
       "      <td>{'c1': 0.1, 'c2': 1}</td>\n",
       "      <td>0.969064</td>\n",
       "      <td>0.969818</td>\n",
       "      <td>0.969484</td>\n",
       "      <td>0.969455</td>\n",
       "      <td>0.000308</td>\n",
       "      <td>8</td>\n",
       "      <td>0.977697</td>\n",
       "      <td>0.977437</td>\n",
       "      <td>0.977210</td>\n",
       "      <td>0.977448</td>\n",
       "      <td>0.000199</td>\n",
       "    </tr>\n",
       "    <tr>\n",
       "      <th>6</th>\n",
       "      <td>321.398272</td>\n",
       "      <td>14.214177</td>\n",
       "      <td>18.460877</td>\n",
       "      <td>9.044935</td>\n",
       "      <td>1</td>\n",
       "      <td>0.01</td>\n",
       "      <td>{'c1': 1, 'c2': 0.01}</td>\n",
       "      <td>0.969408</td>\n",
       "      <td>0.970052</td>\n",
       "      <td>0.970024</td>\n",
       "      <td>0.969828</td>\n",
       "      <td>0.000297</td>\n",
       "      <td>4</td>\n",
       "      <td>0.976835</td>\n",
       "      <td>0.976506</td>\n",
       "      <td>0.976392</td>\n",
       "      <td>0.976577</td>\n",
       "      <td>0.000188</td>\n",
       "    </tr>\n",
       "    <tr>\n",
       "      <th>7</th>\n",
       "      <td>368.163482</td>\n",
       "      <td>11.260370</td>\n",
       "      <td>18.126002</td>\n",
       "      <td>9.099577</td>\n",
       "      <td>1</td>\n",
       "      <td>0.1</td>\n",
       "      <td>{'c1': 1, 'c2': 0.1}</td>\n",
       "      <td>0.969217</td>\n",
       "      <td>0.969923</td>\n",
       "      <td>0.969648</td>\n",
       "      <td>0.969596</td>\n",
       "      <td>0.000291</td>\n",
       "      <td>7</td>\n",
       "      <td>0.975913</td>\n",
       "      <td>0.975610</td>\n",
       "      <td>0.975464</td>\n",
       "      <td>0.975662</td>\n",
       "      <td>0.000187</td>\n",
       "    </tr>\n",
       "    <tr>\n",
       "      <th>8</th>\n",
       "      <td>320.238645</td>\n",
       "      <td>24.854551</td>\n",
       "      <td>10.692754</td>\n",
       "      <td>6.303131</td>\n",
       "      <td>1</td>\n",
       "      <td>1</td>\n",
       "      <td>{'c1': 1, 'c2': 1}</td>\n",
       "      <td>0.966881</td>\n",
       "      <td>0.967588</td>\n",
       "      <td>0.967242</td>\n",
       "      <td>0.967237</td>\n",
       "      <td>0.000288</td>\n",
       "      <td>9</td>\n",
       "      <td>0.971810</td>\n",
       "      <td>0.971271</td>\n",
       "      <td>0.971252</td>\n",
       "      <td>0.971444</td>\n",
       "      <td>0.000259</td>\n",
       "    </tr>\n",
       "  </tbody>\n",
       "</table>\n",
       "</div>"
      ],
      "text/plain": [
       "   mean_fit_time  std_fit_time  mean_score_time  std_score_time param_c1  \\\n",
       "0     214.308638     14.619042         6.956551        0.134989     0.01   \n",
       "1     210.055309      9.569213         6.676993        0.048521     0.01   \n",
       "2     242.815552     49.669689         7.257208        0.499369     0.01   \n",
       "3     337.076049     11.370304        11.587638        4.175477      0.1   \n",
       "4     338.871480      9.996433        12.513003        7.735089      0.1   \n",
       "5     335.634802      6.478181         9.323682        0.703183      0.1   \n",
       "6     321.398272     14.214177        18.460877        9.044935        1   \n",
       "7     368.163482     11.260370        18.126002        9.099577        1   \n",
       "8     320.238645     24.854551        10.692754        6.303131        1   \n",
       "\n",
       "  param_c2                    params  split0_test_score  split1_test_score  \\\n",
       "0     0.01  {'c1': 0.01, 'c2': 0.01}           0.969142           0.969877   \n",
       "1      0.1   {'c1': 0.01, 'c2': 0.1}           0.970869           0.971696   \n",
       "2        1     {'c1': 0.01, 'c2': 1}           0.969269           0.970092   \n",
       "3     0.01   {'c1': 0.1, 'c2': 0.01}           0.970350           0.971016   \n",
       "4      0.1    {'c1': 0.1, 'c2': 0.1}           0.971052           0.971855   \n",
       "5        1      {'c1': 0.1, 'c2': 1}           0.969064           0.969818   \n",
       "6     0.01     {'c1': 1, 'c2': 0.01}           0.969408           0.970052   \n",
       "7      0.1      {'c1': 1, 'c2': 0.1}           0.969217           0.969923   \n",
       "8        1        {'c1': 1, 'c2': 1}           0.966881           0.967588   \n",
       "\n",
       "   split2_test_score  mean_test_score  std_test_score  rank_test_score  \\\n",
       "0           0.969856         0.969625        0.000342                6   \n",
       "1           0.971544         0.971370        0.000359                2   \n",
       "2           0.969692         0.969684        0.000336                5   \n",
       "3           0.971125         0.970830        0.000343                3   \n",
       "4           0.971472         0.971460        0.000328                1   \n",
       "5           0.969484         0.969455        0.000308                8   \n",
       "6           0.970024         0.969828        0.000297                4   \n",
       "7           0.969648         0.969596        0.000291                7   \n",
       "8           0.967242         0.967237        0.000288                9   \n",
       "\n",
       "   split0_train_score  split1_train_score  split2_train_score  \\\n",
       "0            0.991512            0.991238            0.991409   \n",
       "1            0.989260            0.989049            0.989157   \n",
       "2            0.978404            0.978165            0.977970   \n",
       "3            0.990917            0.990749            0.990887   \n",
       "4            0.988392            0.988122            0.988243   \n",
       "5            0.977697            0.977437            0.977210   \n",
       "6            0.976835            0.976506            0.976392   \n",
       "7            0.975913            0.975610            0.975464   \n",
       "8            0.971810            0.971271            0.971252   \n",
       "\n",
       "   mean_train_score  std_train_score  \n",
       "0          0.991386         0.000113  \n",
       "1          0.989155         0.000086  \n",
       "2          0.978180         0.000178  \n",
       "3          0.990851         0.000073  \n",
       "4          0.988252         0.000110  \n",
       "5          0.977448         0.000199  \n",
       "6          0.976577         0.000188  \n",
       "7          0.975662         0.000187  \n",
       "8          0.971444         0.000259  "
      ]
     },
     "execution_count": 43,
     "metadata": {},
     "output_type": "execute_result"
    }
   ],
   "source": [
    "# store CV results in a DF\n",
    "\n",
    "cv_results = pd.DataFrame(rs.cv_results_)\n",
    "cv_results"
   ]
  },
  {
   "cell_type": "code",
   "execution_count": 44,
   "metadata": {},
   "outputs": [
    {
     "data": {
      "image/png": "[encoded data removed]",
      "text/plain": [
       "<Figure size 1152x432 with 3 Axes>"
      ]
     },
     "metadata": {},
     "output_type": "display_data"
    }
   ],
   "source": [
    "# plotting CV results\n",
    "# for each value of c2, make a plot of c1 versus train and test f1-score\n",
    "\n",
    "plt.figure(figsize=(16,6))\n",
    "\n",
    "for i, val in enumerate(params_space['c2']):\n",
    "   \n",
    "    # subplot 1/3/i\n",
    "    plt.subplot(1, 3, i+1)\n",
    "    c2_subset = cv_results[cv_results['param_c2']==val]\n",
    "\n",
    "    plt.plot(c2_subset[\"param_c1\"], c2_subset[\"mean_test_score\"])\n",
    "    plt.plot(c2_subset[\"param_c1\"], c2_subset[\"mean_train_score\"])\n",
    "    plt.xlabel('c1')\n",
    "    plt.ylabel('Mean F-score')\n",
    "    plt.title(\"c2={0}\".format(val))\n",
    "    plt.ylim([0.80, 1])\n",
    "    plt.legend(['validation score', 'train score'], loc='upper left')\n",
    "    plt.xscale('log')\n",
    "    \n",
    "plt.show()    "
   ]
  },
  {
   "cell_type": "raw",
   "metadata": {},
   "source": [
    "From the above graphs, we can consider c1 = 0.1 and c2 = 0.1 as the optimal hypermeters since the validation score is \n",
    "high and there is no overfitting"
   ]
  },
  {
   "cell_type": "code",
   "execution_count": 45,
   "metadata": {},
   "outputs": [
    {
     "data": {
      "text/plain": [
       "CRF(algorithm='lbfgs', all_possible_states=None,\n",
       "  all_possible_transitions=True, averaging=None, c=None, c1=0.1, c2=0.1,\n",
       "  calibration_candidates=None, calibration_eta=None,\n",
       "  calibration_max_trials=None, calibration_rate=None,\n",
       "  calibration_samples=None, delta=None, epsilon=None, error_sensitive=None,\n",
       "  gamma=None, keep_tempfiles=None, linesearch=None, max_iterations=100,\n",
       "  max_linesearch=None, min_freq=None, model_filename=None,\n",
       "  num_memories=None, pa_type=None, period=None, trainer_cls=None,\n",
       "  variance=None, verbose=False)"
      ]
     },
     "execution_count": 45,
     "metadata": {},
     "output_type": "execute_result"
    }
   ],
   "source": [
    "# building a model with optimal hyperparams\n",
    "\n",
    "crf = sklearn_crfsuite.CRF(\n",
    "    algorithm='lbfgs',\n",
    "    c1=0.1,\n",
    "    c2=0.1,\n",
    "    max_iterations=100,\n",
    "    all_possible_transitions=True\n",
    ")\n",
    "crf.fit(X_train, y_train)"
   ]
  },
  {
   "cell_type": "code",
   "execution_count": 46,
   "metadata": {},
   "outputs": [],
   "source": [
    "# save the model to a pickle file\n",
    "\n",
    "# if os.path.exists('SushmaKR_part2.pkl') == False:\n",
    "with open('SushmaKR_part2.pkl', 'wb') as clf:\n",
    "    try:\n",
    "        cPickle.dump(crf, clf)\n",
    "    except Exception as e:\n",
    "        print(e)\n",
    "    finally:\n",
    "        clf.close()  "
   ]
  },
  {
   "cell_type": "code",
   "execution_count": 47,
   "metadata": {},
   "outputs": [],
   "source": [
    "# load the trained model\n",
    "\n",
    "with open('SushmaKR_part2.pkl', 'rb') as fid:\n",
    "    crf = cPickle.load(fid)"
   ]
  },
  {
   "cell_type": "markdown",
   "metadata": {},
   "source": [
    "# Making Predictions - Validation Data Set"
   ]
  },
  {
   "cell_type": "code",
   "execution_count": 48,
   "metadata": {},
   "outputs": [
    {
     "data": {
      "text/plain": [
       "0.9732008567229816"
      ]
     },
     "execution_count": 48,
     "metadata": {},
     "output_type": "execute_result"
    }
   ],
   "source": [
    "# remove 'O' from the labels\n",
    "labels =list(crf.classes_)\n",
    "\n",
    "# make predictions on validation data\n",
    "y_pred = crf.predict(X_valid)\n",
    "metrics.flat_f1_score(y_valid, y_pred,\n",
    "                      average='weighted', labels=labels)"
   ]
  },
  {
   "cell_type": "raw",
   "metadata": {},
   "source": [
    "We can see that with the validation data set as well, the algorithm has generated nearly the same f1 score, hence\n",
    "there is no overfitting"
   ]
  },
  {
   "cell_type": "code",
   "execution_count": 49,
   "metadata": {},
   "outputs": [
    {
     "name": "stdout",
     "output_type": "stream",
     "text": [
      "             precision    recall  f1-score   support\n",
      "\n",
      "          .      1.000     1.000     1.000     38448\n",
      "          X      0.983     0.878     0.928      1547\n",
      "        ADJ      0.936     0.935     0.935     21769\n",
      "        ADP      0.965     0.978     0.972     36894\n",
      "        ADV      0.947     0.938     0.943     13950\n",
      "       VERB      0.979     0.979     0.979     47138\n",
      "        DET      0.979     0.983     0.981     34220\n",
      "       CONJ      0.994     0.997     0.996      9512\n",
      "       NOUN      0.976     0.978     0.977     77289\n",
      "       PRON      0.973     0.948     0.960     11977\n",
      "        PRT      0.907     0.888     0.897      8349\n",
      "        NUM      0.987     0.994     0.990      5755\n",
      "\n",
      "avg / total      0.973     0.973     0.973    306848\n",
      "\n"
     ]
    }
   ],
   "source": [
    "# class-wise scores on validation data\n",
    "sorted_labels = sorted(\n",
    "    labels,\n",
    "    key=lambda name: (name[1:], name[0])\n",
    ")\n",
    "print(metrics.flat_classification_report(\n",
    "    y_valid, y_pred, labels=sorted_labels, digits=3\n",
    "))"
   ]
  },
  {
   "cell_type": "markdown",
   "metadata": {},
   "source": [
    "# Making predictions - Test Data Set"
   ]
  },
  {
   "cell_type": "code",
   "execution_count": 50,
   "metadata": {},
   "outputs": [],
   "source": [
    "# We noticed that while using Viterbi algorithm, a number of words got tagged incorrectly and accuracy was relatively \n",
    "# low. CRF has done a much better job at predicting the POS tags of words such as Show, Android that turned out to be\n",
    "# unknown for the Viterbi algorithm\n",
    "\n",
    "Test_sentences= []\n",
    "Test_sentences.append('Show me flights from Denver to Nebraska departing after 8 p.m.')\n",
    "Test_sentences.append('Android is a mobile operating system developed by Google based on a modified version of the Linux kernel.')"
   ]
  },
  {
   "cell_type": "code",
   "execution_count": 51,
   "metadata": {},
   "outputs": [],
   "source": [
    "# Below lines of code modify the above sentences in a format that the CRF algorithm can easily work with.\n",
    "# POS tag is hardcoded, which will be replaced by the actual POS tag following the prediction\n",
    "\n",
    "Test_sentences_mod = []\n",
    "for sent in Test_sentences:\n",
    "    new_list = []\n",
    "    for word in word_tokenize(sent):\n",
    "        tup = tuple()\n",
    "        tup = (word, 'POS')\n",
    "        new_list.append(tup)\n",
    "    Test_sentences_mod.append(new_list) \n"
   ]
  },
  {
   "cell_type": "code",
   "execution_count": 52,
   "metadata": {},
   "outputs": [],
   "source": [
    "# Invoke the word features function to generate the input test dataset\n",
    "\n",
    "X_test = [sent2features(sent) for sent in Test_sentences_mod]"
   ]
  },
  {
   "cell_type": "code",
   "execution_count": 53,
   "metadata": {},
   "outputs": [
    {
     "data": {
      "text/plain": [
       "[[{'word': 'Show',\n",
       "   'prevword': '<START>',\n",
       "   'nextword': 'me',\n",
       "   'word_is_digit': False,\n",
       "   'wordlen': 4,\n",
       "   'suff_1': 'w',\n",
       "   'suff_2': 'ow',\n",
       "   'suff_3': 'how',\n",
       "   'suff_4': 'Show',\n",
       "   'pref_1': 'S',\n",
       "   'pref_2': 'Sh',\n",
       "   'pref_3': 'Sho',\n",
       "   'pref_4': 'Show',\n",
       "   'initcap': True,\n",
       "   'prev_word_initcap': False,\n",
       "   'word_is_all_upper': False,\n",
       "   'word_is_city': False,\n",
       "   'word_is_state': False,\n",
       "   'word_is_county': False,\n",
       "   'word_is_an_adverb': False,\n",
       "   'word_is_a_verb': False},\n",
       "  {'word': 'me',\n",
       "   'prevword': 'Show',\n",
       "   'nextword': 'flights',\n",
       "   'word_is_digit': False,\n",
       "   'wordlen': 2,\n",
       "   'suff_1': 'e',\n",
       "   'suff_2': 'me',\n",
       "   'suff_3': 'me',\n",
       "   'suff_4': 'me',\n",
       "   'pref_1': 'm',\n",
       "   'pref_2': 'me',\n",
       "   'pref_3': 'me',\n",
       "   'pref_4': 'me',\n",
       "   'initcap': False,\n",
       "   'prev_word_initcap': True,\n",
       "   'word_is_all_upper': False,\n",
       "   'word_is_city': False,\n",
       "   'word_is_state': False,\n",
       "   'word_is_county': False,\n",
       "   'word_is_an_adverb': False,\n",
       "   'word_is_a_verb': False},\n",
       "  {'word': 'flights',\n",
       "   'prevword': 'me',\n",
       "   'nextword': 'from',\n",
       "   'word_is_digit': False,\n",
       "   'wordlen': 7,\n",
       "   'suff_1': 's',\n",
       "   'suff_2': 'ts',\n",
       "   'suff_3': 'hts',\n",
       "   'suff_4': 'ghts',\n",
       "   'pref_1': 'f',\n",
       "   'pref_2': 'fl',\n",
       "   'pref_3': 'fli',\n",
       "   'pref_4': 'flig',\n",
       "   'initcap': False,\n",
       "   'prev_word_initcap': False,\n",
       "   'word_is_all_upper': False,\n",
       "   'word_is_city': False,\n",
       "   'word_is_state': False,\n",
       "   'word_is_county': False,\n",
       "   'word_is_an_adverb': False,\n",
       "   'word_is_a_verb': False},\n",
       "  {'word': 'from',\n",
       "   'prevword': 'flights',\n",
       "   'nextword': 'Denver',\n",
       "   'word_is_digit': False,\n",
       "   'wordlen': 4,\n",
       "   'suff_1': 'm',\n",
       "   'suff_2': 'om',\n",
       "   'suff_3': 'rom',\n",
       "   'suff_4': 'from',\n",
       "   'pref_1': 'f',\n",
       "   'pref_2': 'fr',\n",
       "   'pref_3': 'fro',\n",
       "   'pref_4': 'from',\n",
       "   'initcap': False,\n",
       "   'prev_word_initcap': False,\n",
       "   'word_is_all_upper': False,\n",
       "   'word_is_city': False,\n",
       "   'word_is_state': False,\n",
       "   'word_is_county': False,\n",
       "   'word_is_an_adverb': False,\n",
       "   'word_is_a_verb': False},\n",
       "  {'word': 'Denver',\n",
       "   'prevword': 'from',\n",
       "   'nextword': 'to',\n",
       "   'word_is_digit': False,\n",
       "   'wordlen': 6,\n",
       "   'suff_1': 'r',\n",
       "   'suff_2': 'er',\n",
       "   'suff_3': 'ver',\n",
       "   'suff_4': 'nver',\n",
       "   'pref_1': 'D',\n",
       "   'pref_2': 'De',\n",
       "   'pref_3': 'Den',\n",
       "   'pref_4': 'Denv',\n",
       "   'initcap': True,\n",
       "   'prev_word_initcap': False,\n",
       "   'word_is_all_upper': False,\n",
       "   'word_is_city': False,\n",
       "   'word_is_state': False,\n",
       "   'word_is_county': False,\n",
       "   'word_is_an_adverb': False,\n",
       "   'word_is_a_verb': False},\n",
       "  {'word': 'to',\n",
       "   'prevword': 'Denver',\n",
       "   'nextword': 'Nebraska',\n",
       "   'word_is_digit': False,\n",
       "   'wordlen': 2,\n",
       "   'suff_1': 'o',\n",
       "   'suff_2': 'to',\n",
       "   'suff_3': 'to',\n",
       "   'suff_4': 'to',\n",
       "   'pref_1': 't',\n",
       "   'pref_2': 'to',\n",
       "   'pref_3': 'to',\n",
       "   'pref_4': 'to',\n",
       "   'initcap': False,\n",
       "   'prev_word_initcap': True,\n",
       "   'word_is_all_upper': False,\n",
       "   'word_is_city': False,\n",
       "   'word_is_state': False,\n",
       "   'word_is_county': False,\n",
       "   'word_is_an_adverb': False,\n",
       "   'word_is_a_verb': False},\n",
       "  {'word': 'Nebraska',\n",
       "   'prevword': 'to',\n",
       "   'nextword': 'departing',\n",
       "   'word_is_digit': False,\n",
       "   'wordlen': 8,\n",
       "   'suff_1': 'a',\n",
       "   'suff_2': 'ka',\n",
       "   'suff_3': 'ska',\n",
       "   'suff_4': 'aska',\n",
       "   'pref_1': 'N',\n",
       "   'pref_2': 'Ne',\n",
       "   'pref_3': 'Neb',\n",
       "   'pref_4': 'Nebr',\n",
       "   'initcap': True,\n",
       "   'prev_word_initcap': False,\n",
       "   'word_is_all_upper': False,\n",
       "   'word_is_city': False,\n",
       "   'word_is_state': False,\n",
       "   'word_is_county': False,\n",
       "   'word_is_an_adverb': False,\n",
       "   'word_is_a_verb': False},\n",
       "  {'word': 'departing',\n",
       "   'prevword': 'Nebraska',\n",
       "   'nextword': 'after',\n",
       "   'word_is_digit': False,\n",
       "   'wordlen': 9,\n",
       "   'suff_1': 'g',\n",
       "   'suff_2': 'ng',\n",
       "   'suff_3': 'ing',\n",
       "   'suff_4': 'ting',\n",
       "   'pref_1': 'd',\n",
       "   'pref_2': 'de',\n",
       "   'pref_3': 'dep',\n",
       "   'pref_4': 'depa',\n",
       "   'initcap': False,\n",
       "   'prev_word_initcap': True,\n",
       "   'word_is_all_upper': False,\n",
       "   'word_is_city': False,\n",
       "   'word_is_state': False,\n",
       "   'word_is_county': False,\n",
       "   'word_is_an_adverb': False,\n",
       "   'word_is_a_verb': True},\n",
       "  {'word': 'after',\n",
       "   'prevword': 'departing',\n",
       "   'nextword': '8',\n",
       "   'word_is_digit': False,\n",
       "   'wordlen': 5,\n",
       "   'suff_1': 'r',\n",
       "   'suff_2': 'er',\n",
       "   'suff_3': 'ter',\n",
       "   'suff_4': 'fter',\n",
       "   'pref_1': 'a',\n",
       "   'pref_2': 'af',\n",
       "   'pref_3': 'aft',\n",
       "   'pref_4': 'afte',\n",
       "   'initcap': False,\n",
       "   'prev_word_initcap': False,\n",
       "   'word_is_all_upper': False,\n",
       "   'word_is_city': False,\n",
       "   'word_is_state': False,\n",
       "   'word_is_county': False,\n",
       "   'word_is_an_adverb': False,\n",
       "   'word_is_a_verb': False},\n",
       "  {'word': '8',\n",
       "   'prevword': 'after',\n",
       "   'nextword': 'p.m',\n",
       "   'word_is_digit': True,\n",
       "   'wordlen': 1,\n",
       "   'suff_1': '8',\n",
       "   'suff_2': '8',\n",
       "   'suff_3': '8',\n",
       "   'suff_4': '8',\n",
       "   'pref_1': '8',\n",
       "   'pref_2': '8',\n",
       "   'pref_3': '8',\n",
       "   'pref_4': '8',\n",
       "   'initcap': False,\n",
       "   'prev_word_initcap': False,\n",
       "   'word_is_all_upper': False,\n",
       "   'word_is_city': False,\n",
       "   'word_is_state': False,\n",
       "   'word_is_county': False,\n",
       "   'word_is_an_adverb': False,\n",
       "   'word_is_a_verb': False},\n",
       "  {'word': 'p.m',\n",
       "   'prevword': '8',\n",
       "   'nextword': '.',\n",
       "   'word_is_digit': False,\n",
       "   'wordlen': 3,\n",
       "   'suff_1': 'm',\n",
       "   'suff_2': '.m',\n",
       "   'suff_3': 'p.m',\n",
       "   'suff_4': 'p.m',\n",
       "   'pref_1': 'p',\n",
       "   'pref_2': 'p.',\n",
       "   'pref_3': 'p.m',\n",
       "   'pref_4': 'p.m',\n",
       "   'initcap': False,\n",
       "   'prev_word_initcap': False,\n",
       "   'word_is_all_upper': False,\n",
       "   'word_is_city': False,\n",
       "   'word_is_state': False,\n",
       "   'word_is_county': False,\n",
       "   'word_is_an_adverb': False,\n",
       "   'word_is_a_verb': False},\n",
       "  {'word': '.',\n",
       "   'prevword': 'p.m',\n",
       "   'nextword': '<END>',\n",
       "   'word_is_digit': False,\n",
       "   'wordlen': 1,\n",
       "   'suff_1': '.',\n",
       "   'suff_2': '.',\n",
       "   'suff_3': '.',\n",
       "   'suff_4': '.',\n",
       "   'pref_1': '.',\n",
       "   'pref_2': '.',\n",
       "   'pref_3': '.',\n",
       "   'pref_4': '.',\n",
       "   'initcap': False,\n",
       "   'prev_word_initcap': False,\n",
       "   'word_is_all_upper': False,\n",
       "   'word_is_city': False,\n",
       "   'word_is_state': False,\n",
       "   'word_is_county': False,\n",
       "   'word_is_an_adverb': False,\n",
       "   'word_is_a_verb': False}],\n",
       " [{'word': 'Android',\n",
       "   'prevword': '<START>',\n",
       "   'nextword': 'is',\n",
       "   'word_is_digit': False,\n",
       "   'wordlen': 7,\n",
       "   'suff_1': 'd',\n",
       "   'suff_2': 'id',\n",
       "   'suff_3': 'oid',\n",
       "   'suff_4': 'roid',\n",
       "   'pref_1': 'A',\n",
       "   'pref_2': 'An',\n",
       "   'pref_3': 'And',\n",
       "   'pref_4': 'Andr',\n",
       "   'initcap': True,\n",
       "   'prev_word_initcap': False,\n",
       "   'word_is_all_upper': False,\n",
       "   'word_is_city': False,\n",
       "   'word_is_state': False,\n",
       "   'word_is_county': False,\n",
       "   'word_is_an_adverb': False,\n",
       "   'word_is_a_verb': False},\n",
       "  {'word': 'is',\n",
       "   'prevword': 'Android',\n",
       "   'nextword': 'a',\n",
       "   'word_is_digit': False,\n",
       "   'wordlen': 2,\n",
       "   'suff_1': 's',\n",
       "   'suff_2': 'is',\n",
       "   'suff_3': 'is',\n",
       "   'suff_4': 'is',\n",
       "   'pref_1': 'i',\n",
       "   'pref_2': 'is',\n",
       "   'pref_3': 'is',\n",
       "   'pref_4': 'is',\n",
       "   'initcap': False,\n",
       "   'prev_word_initcap': True,\n",
       "   'word_is_all_upper': False,\n",
       "   'word_is_city': False,\n",
       "   'word_is_state': False,\n",
       "   'word_is_county': False,\n",
       "   'word_is_an_adverb': False,\n",
       "   'word_is_a_verb': False},\n",
       "  {'word': 'a',\n",
       "   'prevword': 'is',\n",
       "   'nextword': 'mobile',\n",
       "   'word_is_digit': False,\n",
       "   'wordlen': 1,\n",
       "   'suff_1': 'a',\n",
       "   'suff_2': 'a',\n",
       "   'suff_3': 'a',\n",
       "   'suff_4': 'a',\n",
       "   'pref_1': 'a',\n",
       "   'pref_2': 'a',\n",
       "   'pref_3': 'a',\n",
       "   'pref_4': 'a',\n",
       "   'initcap': False,\n",
       "   'prev_word_initcap': False,\n",
       "   'word_is_all_upper': False,\n",
       "   'word_is_city': False,\n",
       "   'word_is_state': False,\n",
       "   'word_is_county': False,\n",
       "   'word_is_an_adverb': False,\n",
       "   'word_is_a_verb': False},\n",
       "  {'word': 'mobile',\n",
       "   'prevword': 'a',\n",
       "   'nextword': 'operating',\n",
       "   'word_is_digit': False,\n",
       "   'wordlen': 6,\n",
       "   'suff_1': 'e',\n",
       "   'suff_2': 'le',\n",
       "   'suff_3': 'ile',\n",
       "   'suff_4': 'bile',\n",
       "   'pref_1': 'm',\n",
       "   'pref_2': 'mo',\n",
       "   'pref_3': 'mob',\n",
       "   'pref_4': 'mobi',\n",
       "   'initcap': False,\n",
       "   'prev_word_initcap': False,\n",
       "   'word_is_all_upper': False,\n",
       "   'word_is_city': True,\n",
       "   'word_is_state': False,\n",
       "   'word_is_county': True,\n",
       "   'word_is_an_adverb': False,\n",
       "   'word_is_a_verb': False},\n",
       "  {'word': 'operating',\n",
       "   'prevword': 'mobile',\n",
       "   'nextword': 'system',\n",
       "   'word_is_digit': False,\n",
       "   'wordlen': 9,\n",
       "   'suff_1': 'g',\n",
       "   'suff_2': 'ng',\n",
       "   'suff_3': 'ing',\n",
       "   'suff_4': 'ting',\n",
       "   'pref_1': 'o',\n",
       "   'pref_2': 'op',\n",
       "   'pref_3': 'ope',\n",
       "   'pref_4': 'oper',\n",
       "   'initcap': False,\n",
       "   'prev_word_initcap': False,\n",
       "   'word_is_all_upper': False,\n",
       "   'word_is_city': False,\n",
       "   'word_is_state': False,\n",
       "   'word_is_county': False,\n",
       "   'word_is_an_adverb': False,\n",
       "   'word_is_a_verb': True},\n",
       "  {'word': 'system',\n",
       "   'prevword': 'operating',\n",
       "   'nextword': 'developed',\n",
       "   'word_is_digit': False,\n",
       "   'wordlen': 6,\n",
       "   'suff_1': 'm',\n",
       "   'suff_2': 'em',\n",
       "   'suff_3': 'tem',\n",
       "   'suff_4': 'stem',\n",
       "   'pref_1': 's',\n",
       "   'pref_2': 'sy',\n",
       "   'pref_3': 'sys',\n",
       "   'pref_4': 'syst',\n",
       "   'initcap': False,\n",
       "   'prev_word_initcap': False,\n",
       "   'word_is_all_upper': False,\n",
       "   'word_is_city': False,\n",
       "   'word_is_state': False,\n",
       "   'word_is_county': False,\n",
       "   'word_is_an_adverb': False,\n",
       "   'word_is_a_verb': False},\n",
       "  {'word': 'developed',\n",
       "   'prevword': 'system',\n",
       "   'nextword': 'by',\n",
       "   'word_is_digit': False,\n",
       "   'wordlen': 9,\n",
       "   'suff_1': 'd',\n",
       "   'suff_2': 'ed',\n",
       "   'suff_3': 'ped',\n",
       "   'suff_4': 'oped',\n",
       "   'pref_1': 'd',\n",
       "   'pref_2': 'de',\n",
       "   'pref_3': 'dev',\n",
       "   'pref_4': 'deve',\n",
       "   'initcap': False,\n",
       "   'prev_word_initcap': False,\n",
       "   'word_is_all_upper': False,\n",
       "   'word_is_city': False,\n",
       "   'word_is_state': False,\n",
       "   'word_is_county': False,\n",
       "   'word_is_an_adverb': False,\n",
       "   'word_is_a_verb': False},\n",
       "  {'word': 'by',\n",
       "   'prevword': 'developed',\n",
       "   'nextword': 'Google',\n",
       "   'word_is_digit': False,\n",
       "   'wordlen': 2,\n",
       "   'suff_1': 'y',\n",
       "   'suff_2': 'by',\n",
       "   'suff_3': 'by',\n",
       "   'suff_4': 'by',\n",
       "   'pref_1': 'b',\n",
       "   'pref_2': 'by',\n",
       "   'pref_3': 'by',\n",
       "   'pref_4': 'by',\n",
       "   'initcap': False,\n",
       "   'prev_word_initcap': False,\n",
       "   'word_is_all_upper': False,\n",
       "   'word_is_city': False,\n",
       "   'word_is_state': False,\n",
       "   'word_is_county': False,\n",
       "   'word_is_an_adverb': False,\n",
       "   'word_is_a_verb': False},\n",
       "  {'word': 'Google',\n",
       "   'prevword': 'by',\n",
       "   'nextword': 'based',\n",
       "   'word_is_digit': False,\n",
       "   'wordlen': 6,\n",
       "   'suff_1': 'e',\n",
       "   'suff_2': 'le',\n",
       "   'suff_3': 'gle',\n",
       "   'suff_4': 'ogle',\n",
       "   'pref_1': 'G',\n",
       "   'pref_2': 'Go',\n",
       "   'pref_3': 'Goo',\n",
       "   'pref_4': 'Goog',\n",
       "   'initcap': True,\n",
       "   'prev_word_initcap': False,\n",
       "   'word_is_all_upper': False,\n",
       "   'word_is_city': False,\n",
       "   'word_is_state': False,\n",
       "   'word_is_county': False,\n",
       "   'word_is_an_adverb': False,\n",
       "   'word_is_a_verb': False},\n",
       "  {'word': 'based',\n",
       "   'prevword': 'Google',\n",
       "   'nextword': 'on',\n",
       "   'word_is_digit': False,\n",
       "   'wordlen': 5,\n",
       "   'suff_1': 'd',\n",
       "   'suff_2': 'ed',\n",
       "   'suff_3': 'sed',\n",
       "   'suff_4': 'ased',\n",
       "   'pref_1': 'b',\n",
       "   'pref_2': 'ba',\n",
       "   'pref_3': 'bas',\n",
       "   'pref_4': 'base',\n",
       "   'initcap': False,\n",
       "   'prev_word_initcap': True,\n",
       "   'word_is_all_upper': False,\n",
       "   'word_is_city': False,\n",
       "   'word_is_state': False,\n",
       "   'word_is_county': False,\n",
       "   'word_is_an_adverb': False,\n",
       "   'word_is_a_verb': False},\n",
       "  {'word': 'on',\n",
       "   'prevword': 'based',\n",
       "   'nextword': 'a',\n",
       "   'word_is_digit': False,\n",
       "   'wordlen': 2,\n",
       "   'suff_1': 'n',\n",
       "   'suff_2': 'on',\n",
       "   'suff_3': 'on',\n",
       "   'suff_4': 'on',\n",
       "   'pref_1': 'o',\n",
       "   'pref_2': 'on',\n",
       "   'pref_3': 'on',\n",
       "   'pref_4': 'on',\n",
       "   'initcap': False,\n",
       "   'prev_word_initcap': False,\n",
       "   'word_is_all_upper': False,\n",
       "   'word_is_city': False,\n",
       "   'word_is_state': False,\n",
       "   'word_is_county': False,\n",
       "   'word_is_an_adverb': False,\n",
       "   'word_is_a_verb': False},\n",
       "  {'word': 'a',\n",
       "   'prevword': 'on',\n",
       "   'nextword': 'modified',\n",
       "   'word_is_digit': False,\n",
       "   'wordlen': 1,\n",
       "   'suff_1': 'a',\n",
       "   'suff_2': 'a',\n",
       "   'suff_3': 'a',\n",
       "   'suff_4': 'a',\n",
       "   'pref_1': 'a',\n",
       "   'pref_2': 'a',\n",
       "   'pref_3': 'a',\n",
       "   'pref_4': 'a',\n",
       "   'initcap': False,\n",
       "   'prev_word_initcap': False,\n",
       "   'word_is_all_upper': False,\n",
       "   'word_is_city': False,\n",
       "   'word_is_state': False,\n",
       "   'word_is_county': False,\n",
       "   'word_is_an_adverb': False,\n",
       "   'word_is_a_verb': False},\n",
       "  {'word': 'modified',\n",
       "   'prevword': 'a',\n",
       "   'nextword': 'version',\n",
       "   'word_is_digit': False,\n",
       "   'wordlen': 8,\n",
       "   'suff_1': 'd',\n",
       "   'suff_2': 'ed',\n",
       "   'suff_3': 'ied',\n",
       "   'suff_4': 'fied',\n",
       "   'pref_1': 'm',\n",
       "   'pref_2': 'mo',\n",
       "   'pref_3': 'mod',\n",
       "   'pref_4': 'modi',\n",
       "   'initcap': False,\n",
       "   'prev_word_initcap': False,\n",
       "   'word_is_all_upper': False,\n",
       "   'word_is_city': False,\n",
       "   'word_is_state': False,\n",
       "   'word_is_county': False,\n",
       "   'word_is_an_adverb': False,\n",
       "   'word_is_a_verb': False},\n",
       "  {'word': 'version',\n",
       "   'prevword': 'modified',\n",
       "   'nextword': 'of',\n",
       "   'word_is_digit': False,\n",
       "   'wordlen': 7,\n",
       "   'suff_1': 'n',\n",
       "   'suff_2': 'on',\n",
       "   'suff_3': 'ion',\n",
       "   'suff_4': 'sion',\n",
       "   'pref_1': 'v',\n",
       "   'pref_2': 've',\n",
       "   'pref_3': 'ver',\n",
       "   'pref_4': 'vers',\n",
       "   'initcap': False,\n",
       "   'prev_word_initcap': False,\n",
       "   'word_is_all_upper': False,\n",
       "   'word_is_city': False,\n",
       "   'word_is_state': False,\n",
       "   'word_is_county': False,\n",
       "   'word_is_an_adverb': False,\n",
       "   'word_is_a_verb': False},\n",
       "  {'word': 'of',\n",
       "   'prevword': 'version',\n",
       "   'nextword': 'the',\n",
       "   'word_is_digit': False,\n",
       "   'wordlen': 2,\n",
       "   'suff_1': 'f',\n",
       "   'suff_2': 'of',\n",
       "   'suff_3': 'of',\n",
       "   'suff_4': 'of',\n",
       "   'pref_1': 'o',\n",
       "   'pref_2': 'of',\n",
       "   'pref_3': 'of',\n",
       "   'pref_4': 'of',\n",
       "   'initcap': False,\n",
       "   'prev_word_initcap': False,\n",
       "   'word_is_all_upper': False,\n",
       "   'word_is_city': False,\n",
       "   'word_is_state': False,\n",
       "   'word_is_county': False,\n",
       "   'word_is_an_adverb': False,\n",
       "   'word_is_a_verb': False},\n",
       "  {'word': 'the',\n",
       "   'prevword': 'of',\n",
       "   'nextword': 'Linux',\n",
       "   'word_is_digit': False,\n",
       "   'wordlen': 3,\n",
       "   'suff_1': 'e',\n",
       "   'suff_2': 'he',\n",
       "   'suff_3': 'the',\n",
       "   'suff_4': 'the',\n",
       "   'pref_1': 't',\n",
       "   'pref_2': 'th',\n",
       "   'pref_3': 'the',\n",
       "   'pref_4': 'the',\n",
       "   'initcap': False,\n",
       "   'prev_word_initcap': False,\n",
       "   'word_is_all_upper': False,\n",
       "   'word_is_city': False,\n",
       "   'word_is_state': False,\n",
       "   'word_is_county': False,\n",
       "   'word_is_an_adverb': False,\n",
       "   'word_is_a_verb': False},\n",
       "  {'word': 'Linux',\n",
       "   'prevword': 'the',\n",
       "   'nextword': 'kernel',\n",
       "   'word_is_digit': False,\n",
       "   'wordlen': 5,\n",
       "   'suff_1': 'x',\n",
       "   'suff_2': 'ux',\n",
       "   'suff_3': 'nux',\n",
       "   'suff_4': 'inux',\n",
       "   'pref_1': 'L',\n",
       "   'pref_2': 'Li',\n",
       "   'pref_3': 'Lin',\n",
       "   'pref_4': 'Linu',\n",
       "   'initcap': True,\n",
       "   'prev_word_initcap': False,\n",
       "   'word_is_all_upper': False,\n",
       "   'word_is_city': False,\n",
       "   'word_is_state': False,\n",
       "   'word_is_county': False,\n",
       "   'word_is_an_adverb': False,\n",
       "   'word_is_a_verb': False},\n",
       "  {'word': 'kernel',\n",
       "   'prevword': 'Linux',\n",
       "   'nextword': '.',\n",
       "   'word_is_digit': False,\n",
       "   'wordlen': 6,\n",
       "   'suff_1': 'l',\n",
       "   'suff_2': 'el',\n",
       "   'suff_3': 'nel',\n",
       "   'suff_4': 'rnel',\n",
       "   'pref_1': 'k',\n",
       "   'pref_2': 'ke',\n",
       "   'pref_3': 'ker',\n",
       "   'pref_4': 'kern',\n",
       "   'initcap': False,\n",
       "   'prev_word_initcap': True,\n",
       "   'word_is_all_upper': False,\n",
       "   'word_is_city': False,\n",
       "   'word_is_state': False,\n",
       "   'word_is_county': False,\n",
       "   'word_is_an_adverb': False,\n",
       "   'word_is_a_verb': False},\n",
       "  {'word': '.',\n",
       "   'prevword': 'kernel',\n",
       "   'nextword': '<END>',\n",
       "   'word_is_digit': False,\n",
       "   'wordlen': 1,\n",
       "   'suff_1': '.',\n",
       "   'suff_2': '.',\n",
       "   'suff_3': '.',\n",
       "   'suff_4': '.',\n",
       "   'pref_1': '.',\n",
       "   'pref_2': '.',\n",
       "   'pref_3': '.',\n",
       "   'pref_4': '.',\n",
       "   'initcap': False,\n",
       "   'prev_word_initcap': False,\n",
       "   'word_is_all_upper': False,\n",
       "   'word_is_city': False,\n",
       "   'word_is_state': False,\n",
       "   'word_is_county': False,\n",
       "   'word_is_an_adverb': False,\n",
       "   'word_is_a_verb': False}]]"
      ]
     },
     "execution_count": 53,
     "metadata": {},
     "output_type": "execute_result"
    }
   ],
   "source": [
    "X_test"
   ]
  },
  {
   "cell_type": "code",
   "execution_count": 54,
   "metadata": {},
   "outputs": [],
   "source": [
    "# Carry out the prediction to determine the POS tags\n",
    "y_pred_test = crf.predict(X_test)"
   ]
  },
  {
   "cell_type": "code",
   "execution_count": 55,
   "metadata": {},
   "outputs": [
    {
     "name": "stdout",
     "output_type": "stream",
     "text": [
      "[[('Show', 'VERB'), ('me', 'PRON'), ('flights', 'NOUN'), ('from', 'ADP'), ('Denver', 'NOUN'), ('to', 'ADP'), ('Nebraska', 'NOUN'), ('departing', 'VERB'), ('after', 'ADP'), ('8', 'NUM'), ('p.m', 'ADV'), ('.', '.')], [('Android', 'NOUN'), ('is', 'VERB'), ('a', 'DET'), ('mobile', 'ADJ'), ('operating', 'VERB'), ('system', 'NOUN'), ('developed', 'VERB'), ('by', 'ADP'), ('Google', 'NOUN'), ('based', 'VERB'), ('on', 'ADP'), ('a', 'DET'), ('modified', 'VERB'), ('version', 'NOUN'), ('of', 'ADP'), ('the', 'DET'), ('Linux', 'NOUN'), ('kernel', 'NOUN'), ('.', '.')]]\n"
     ]
    }
   ],
   "source": [
    "# Following lines of code show the data in a user friendly manner as a list of tuples containing pairs of word and POS tag\n",
    "\n",
    "y_result = []\n",
    "for i, sent in enumerate(Test_sentences_mod):\n",
    "    y_sent = []\n",
    "    for j, tup in enumerate(sent):\n",
    "        y_sent.append((tup[0], y_pred_test[i][j]))\n",
    "    y_result.append(y_sent)\n",
    "    \n",
    "print(y_result)"
   ]
  },
  {
   "cell_type": "code",
   "execution_count": 56,
   "metadata": {},
   "outputs": [],
   "source": [
    "# Few more sentences for testing\n",
    "\n",
    "Test_sentences = []\n",
    "Test_sentences.append('Android is a mobile operating system developed by Google.')\n",
    "Test_sentences.append('Android has been the best-selling OS worldwide on smartphones since 2011 and on tablets since 2013.')\n",
    "Test_sentences.append(\"Google and Twitter made a deal in 2015 that gave Google access to Twitter's firehose.\")\n",
    "Test_sentences.append('Twitter is an online news and social networking service on which users post and interact with messages known as tweets.')\n",
    "Test_sentences.append('Before entering politics, Donald Trump was a domineering businessman and a television personality.')\n",
    "Test_sentences.append('The 2018 FIFA World Cup is the 21st FIFA World Cup, an international football tournament contested once every four years.')\n",
    "Test_sentences.append('This is the first World Cup to be held in Eastern Europe and the 11th time that it has been held in Europe.')\n",
    "Test_sentences.append('Show me the cheapest round trips from Dallas to Atlanta')\n",
    "Test_sentences.append('I would like to see flights from Denver to Philadelphia.')\n",
    "Test_sentences.append('Show me the price of the flights leaving Atlanta at about 3 in the afternoon and arriving in San Francisco.')\n",
    "Test_sentences.append('NASA invited social media users to experience the launch of ICESAT-2 Satellite.')"
   ]
  },
  {
   "cell_type": "code",
   "execution_count": 57,
   "metadata": {},
   "outputs": [
    {
     "name": "stdout",
     "output_type": "stream",
     "text": [
      "[[('Android', 'POS'), ('is', 'POS'), ('a', 'POS'), ('mobile', 'POS'), ('operating', 'POS'), ('system', 'POS'), ('developed', 'POS'), ('by', 'POS'), ('Google', 'POS'), ('.', 'POS')], [('Android', 'POS'), ('has', 'POS'), ('been', 'POS'), ('the', 'POS'), ('best-selling', 'POS'), ('OS', 'POS'), ('worldwide', 'POS'), ('on', 'POS'), ('smartphones', 'POS'), ('since', 'POS'), ('2011', 'POS'), ('and', 'POS'), ('on', 'POS'), ('tablets', 'POS'), ('since', 'POS'), ('2013', 'POS'), ('.', 'POS')], [('Google', 'POS'), ('and', 'POS'), ('Twitter', 'POS'), ('made', 'POS'), ('a', 'POS'), ('deal', 'POS'), ('in', 'POS'), ('2015', 'POS'), ('that', 'POS'), ('gave', 'POS'), ('Google', 'POS'), ('access', 'POS'), ('to', 'POS'), ('Twitter', 'POS'), (\"'s\", 'POS'), ('firehose', 'POS'), ('.', 'POS')], [('Twitter', 'POS'), ('is', 'POS'), ('an', 'POS'), ('online', 'POS'), ('news', 'POS'), ('and', 'POS'), ('social', 'POS'), ('networking', 'POS'), ('service', 'POS'), ('on', 'POS'), ('which', 'POS'), ('users', 'POS'), ('post', 'POS'), ('and', 'POS'), ('interact', 'POS'), ('with', 'POS'), ('messages', 'POS'), ('known', 'POS'), ('as', 'POS'), ('tweets', 'POS'), ('.', 'POS')], [('Before', 'POS'), ('entering', 'POS'), ('politics', 'POS'), (',', 'POS'), ('Donald', 'POS'), ('Trump', 'POS'), ('was', 'POS'), ('a', 'POS'), ('domineering', 'POS'), ('businessman', 'POS'), ('and', 'POS'), ('a', 'POS'), ('television', 'POS'), ('personality', 'POS'), ('.', 'POS')], [('The', 'POS'), ('2018', 'POS'), ('FIFA', 'POS'), ('World', 'POS'), ('Cup', 'POS'), ('is', 'POS'), ('the', 'POS'), ('21st', 'POS'), ('FIFA', 'POS'), ('World', 'POS'), ('Cup', 'POS'), (',', 'POS'), ('an', 'POS'), ('international', 'POS'), ('football', 'POS'), ('tournament', 'POS'), ('contested', 'POS'), ('once', 'POS'), ('every', 'POS'), ('four', 'POS'), ('years', 'POS'), ('.', 'POS')], [('This', 'POS'), ('is', 'POS'), ('the', 'POS'), ('first', 'POS'), ('World', 'POS'), ('Cup', 'POS'), ('to', 'POS'), ('be', 'POS'), ('held', 'POS'), ('in', 'POS'), ('Eastern', 'POS'), ('Europe', 'POS'), ('and', 'POS'), ('the', 'POS'), ('11th', 'POS'), ('time', 'POS'), ('that', 'POS'), ('it', 'POS'), ('has', 'POS'), ('been', 'POS'), ('held', 'POS'), ('in', 'POS'), ('Europe', 'POS'), ('.', 'POS')], [('Show', 'POS'), ('me', 'POS'), ('the', 'POS'), ('cheapest', 'POS'), ('round', 'POS'), ('trips', 'POS'), ('from', 'POS'), ('Dallas', 'POS'), ('to', 'POS'), ('Atlanta', 'POS')], [('I', 'POS'), ('would', 'POS'), ('like', 'POS'), ('to', 'POS'), ('see', 'POS'), ('flights', 'POS'), ('from', 'POS'), ('Denver', 'POS'), ('to', 'POS'), ('Philadelphia', 'POS'), ('.', 'POS')], [('Show', 'POS'), ('me', 'POS'), ('the', 'POS'), ('price', 'POS'), ('of', 'POS'), ('the', 'POS'), ('flights', 'POS'), ('leaving', 'POS'), ('Atlanta', 'POS'), ('at', 'POS'), ('about', 'POS'), ('3', 'POS'), ('in', 'POS'), ('the', 'POS'), ('afternoon', 'POS'), ('and', 'POS'), ('arriving', 'POS'), ('in', 'POS'), ('San', 'POS'), ('Francisco', 'POS'), ('.', 'POS')], [('NASA', 'POS'), ('invited', 'POS'), ('social', 'POS'), ('media', 'POS'), ('users', 'POS'), ('to', 'POS'), ('experience', 'POS'), ('the', 'POS'), ('launch', 'POS'), ('of', 'POS'), ('ICESAT-2', 'POS'), ('Satellite', 'POS'), ('.', 'POS')]]\n"
     ]
    }
   ],
   "source": [
    "# Convert the sentences in a format that the algorithm can easily work with\n",
    "# \"POS\" is hardcoded, which we expect to be replaced the accurate POS tag following the prediction\n",
    "\n",
    "Test_sentences_mod = []\n",
    "for sent in Test_sentences:\n",
    "    new_list = []\n",
    "    for word in word_tokenize(sent):\n",
    "        tup = tuple()\n",
    "        tup = (word, 'POS')\n",
    "        new_list.append(tup)\n",
    "    Test_sentences_mod.append(new_list) \n",
    "print(Test_sentences_mod)"
   ]
  },
  {
   "cell_type": "code",
   "execution_count": 58,
   "metadata": {},
   "outputs": [],
   "source": [
    "# Generate the X_test using the word features function\n",
    "\n",
    "X_test = [sent2features(sent) for sent in Test_sentences_mod]"
   ]
  },
  {
   "cell_type": "code",
   "execution_count": 59,
   "metadata": {},
   "outputs": [],
   "source": [
    "# Carry out the prediction\n",
    "y_pred_test = crf.predict(X_test)\n"
   ]
  },
  {
   "cell_type": "code",
   "execution_count": 60,
   "metadata": {},
   "outputs": [
    {
     "name": "stdout",
     "output_type": "stream",
     "text": [
      "[[('Android', 'NOUN'), ('is', 'VERB'), ('a', 'DET'), ('mobile', 'ADJ'), ('operating', 'VERB'), ('system', 'NOUN'), ('developed', 'VERB'), ('by', 'ADP'), ('Google', 'NOUN'), ('.', '.')], [('Android', 'NOUN'), ('has', 'VERB'), ('been', 'VERB'), ('the', 'DET'), ('best-selling', 'ADJ'), ('OS', 'NOUN'), ('worldwide', 'ADJ'), ('on', 'ADP'), ('smartphones', 'NOUN'), ('since', 'ADP'), ('2011', 'NUM'), ('and', 'CONJ'), ('on', 'ADP'), ('tablets', 'NOUN'), ('since', 'ADP'), ('2013', 'NUM'), ('.', '.')], [('Google', 'NOUN'), ('and', 'CONJ'), ('Twitter', 'NOUN'), ('made', 'VERB'), ('a', 'DET'), ('deal', 'NOUN'), ('in', 'ADP'), ('2015', 'NUM'), ('that', 'DET'), ('gave', 'VERB'), ('Google', 'NOUN'), ('access', 'NOUN'), ('to', 'PRT'), ('Twitter', 'NOUN'), (\"'s\", 'PRT'), ('firehose', 'NOUN'), ('.', '.')], [('Twitter', 'NOUN'), ('is', 'VERB'), ('an', 'DET'), ('online', 'ADJ'), ('news', 'NOUN'), ('and', 'CONJ'), ('social', 'ADJ'), ('networking', 'NOUN'), ('service', 'NOUN'), ('on', 'ADP'), ('which', 'DET'), ('users', 'VERB'), ('post', 'NOUN'), ('and', 'CONJ'), ('interact', 'VERB'), ('with', 'ADP'), ('messages', 'NOUN'), ('known', 'VERB'), ('as', 'ADP'), ('tweets', 'NOUN'), ('.', '.')], [('Before', 'ADP'), ('entering', 'VERB'), ('politics', 'NOUN'), (',', '.'), ('Donald', 'NOUN'), ('Trump', 'NOUN'), ('was', 'VERB'), ('a', 'DET'), ('domineering', 'VERB'), ('businessman', 'NOUN'), ('and', 'CONJ'), ('a', 'DET'), ('television', 'NOUN'), ('personality', 'NOUN'), ('.', '.')], [('The', 'DET'), ('2018', 'NUM'), ('FIFA', 'NOUN'), ('World', 'NOUN'), ('Cup', 'NOUN'), ('is', 'VERB'), ('the', 'DET'), ('21st', 'ADJ'), ('FIFA', 'NOUN'), ('World', 'NOUN'), ('Cup', 'NOUN'), (',', '.'), ('an', 'DET'), ('international', 'ADJ'), ('football', 'NOUN'), ('tournament', 'NOUN'), ('contested', 'VERB'), ('once', 'ADV'), ('every', 'DET'), ('four', 'NUM'), ('years', 'NOUN'), ('.', '.')], [('This', 'DET'), ('is', 'VERB'), ('the', 'DET'), ('first', 'ADJ'), ('World', 'NOUN'), ('Cup', 'NOUN'), ('to', 'PRT'), ('be', 'VERB'), ('held', 'VERB'), ('in', 'ADP'), ('Eastern', 'NOUN'), ('Europe', 'NOUN'), ('and', 'CONJ'), ('the', 'DET'), ('11th', 'ADJ'), ('time', 'NOUN'), ('that', 'ADP'), ('it', 'PRON'), ('has', 'VERB'), ('been', 'VERB'), ('held', 'VERB'), ('in', 'ADP'), ('Europe', 'NOUN'), ('.', '.')], [('Show', 'VERB'), ('me', 'PRON'), ('the', 'DET'), ('cheapest', 'ADJ'), ('round', 'ADJ'), ('trips', 'NOUN'), ('from', 'ADP'), ('Dallas', 'NOUN'), ('to', 'ADP'), ('Atlanta', 'NOUN')], [('I', 'PRON'), ('would', 'VERB'), ('like', 'VERB'), ('to', 'PRT'), ('see', 'VERB'), ('flights', 'NOUN'), ('from', 'ADP'), ('Denver', 'NOUN'), ('to', 'ADP'), ('Philadelphia', 'NOUN'), ('.', '.')], [('Show', 'VERB'), ('me', 'PRON'), ('the', 'DET'), ('price', 'NOUN'), ('of', 'ADP'), ('the', 'DET'), ('flights', 'NOUN'), ('leaving', 'VERB'), ('Atlanta', 'NOUN'), ('at', 'ADP'), ('about', 'ADP'), ('3', 'NUM'), ('in', 'ADP'), ('the', 'DET'), ('afternoon', 'NOUN'), ('and', 'CONJ'), ('arriving', 'VERB'), ('in', 'ADP'), ('San', 'NOUN'), ('Francisco', 'NOUN'), ('.', '.')], [('NASA', 'NOUN'), ('invited', 'VERB'), ('social', 'ADJ'), ('media', 'NOUN'), ('users', 'NOUN'), ('to', 'PRT'), ('experience', 'VERB'), ('the', 'DET'), ('launch', 'NOUN'), ('of', 'ADP'), ('ICESAT-2', 'NOUN'), ('Satellite', 'NOUN'), ('.', '.')]]\n"
     ]
    }
   ],
   "source": [
    "# Presenting the prediction results in tuple containing pairs of word and actual POS tag assigned through prediction\n",
    "\n",
    "y_result = []\n",
    "for i, sent in enumerate(Test_sentences_mod):\n",
    "    y_sent = []\n",
    "    for j, tup in enumerate(sent):\n",
    "        y_sent.append((tup[0], y_pred_test[i][j]))\n",
    "    y_result.append(y_sent)\n",
    "    \n",
    "print(y_result)"
   ]
  },
  {
   "cell_type": "markdown",
   "metadata": {},
   "source": [
    "#### Understanding the CRF Classifier"
   ]
  },
  {
   "cell_type": "raw",
   "metadata": {},
   "source": [
    "The method crf.transition_features_ returns a dict of key:value = (label-1, label-2):coef pairs - each key-val pair \n",
    "representing the transition coefficient from label-1 to label-2"
   ]
  },
  {
   "cell_type": "code",
   "execution_count": 61,
   "metadata": {},
   "outputs": [
    {
     "name": "stdout",
     "output_type": "stream",
     "text": [
      "Top likely transitions:\n",
      "X      -> X       5.005582\n",
      ".      -> .       2.063977\n",
      "PRT    -> VERB    1.680046\n",
      "PRON   -> VERB    1.615458\n",
      "ADP    -> DET     1.294666\n",
      "DET    -> NOUN    1.284739\n",
      "NOUN   -> .       1.238129\n",
      "NOUN   -> PRON    1.119275\n",
      "VERB   -> PRT     1.054905\n",
      "ADJ    -> NOUN    1.016501\n",
      "DET    -> VERB    0.993141\n",
      "DET    -> ADJ     0.832283\n",
      "NOUN   -> ADP     0.772690\n",
      "DET    -> X       0.698540\n",
      "VERB   -> ADP     0.679546\n",
      "PRT    -> ADP     0.663284\n",
      "VERB   -> DET     0.630733\n",
      "PRT    -> .       0.600684\n",
      "ADV    -> ADJ     0.568077\n",
      "NOUN   -> VERB    0.553172\n",
      "\n",
      "Top unlikely transitions:\n",
      "ADP    -> VERB    -1.358400\n",
      "NOUN   -> ADJ     -1.387804\n",
      "ADJ    -> ADV     -1.455003\n",
      "DET    -> PRT     -1.603118\n",
      "NUM    -> X       -1.616887\n",
      "NUM    -> ADV     -1.631685\n",
      "NUM    -> PRON    -1.642219\n",
      "X      -> ADV     -1.777474\n",
      "ADJ    -> PRON    -1.809385\n",
      "CONJ   -> CONJ    -1.823770\n",
      "ADV    -> X       -1.845694\n",
      "X      -> NOUN    -1.910355\n",
      "CONJ   -> .       -1.944773\n",
      "ADJ    -> VERB    -2.048171\n",
      "X      -> NUM     -2.091276\n",
      "ADJ    -> DET     -2.142884\n",
      "X      -> ADJ     -2.143734\n",
      "NUM    -> VERB    -2.265300\n",
      "ADV    -> NOUN    -2.321925\n",
      "ADP    -> X       -2.378677\n"
     ]
    }
   ],
   "source": [
    "def print_transitions(trans_features):\n",
    "    for (label_from, label_to), weight in trans_features:\n",
    "        print(\"%-6s -> %-7s %0.6f\" % (label_from, label_to, weight))\n",
    "\n",
    "print(\"Top likely transitions:\")\n",
    "print_transitions(Counter(crf.transition_features_).most_common(20))\n",
    "\n",
    "print(\"\\nTop unlikely transitions:\")\n",
    "print_transitions(Counter(crf.transition_features_).most_common()[-20:])"
   ]
  },
  {
   "cell_type": "raw",
   "metadata": {},
   "source": [
    "The most likely transitions here indicate that \n",
    "1. a pronoun is most likely to follow a noun\n",
    "2. a verb is most likely to follow a particle\n",
    "3. a verb is most likely to follow a pronoun\n",
    "\n",
    "The most unlikely transitions are as follows:\n",
    "1. An adposition following a determine\n",
    "2. An adjective following a noun\n",
    "3. A conjunction following a particle"
   ]
  },
  {
   "cell_type": "code",
   "execution_count": 62,
   "metadata": {},
   "outputs": [
    {
     "name": "stdout",
     "output_type": "stream",
     "text": [
      "Top positive:\n",
      "9.457535 ADJ      word:willing\n",
      "8.524048 NOUN     word:something\n",
      "8.286730 PRT      suff_2:'d\n",
      "7.963383 NOUN     suff_1:%\n",
      "7.674522 ADJ      word:interesting\n",
      "7.659134 NOUN     word:thing\n",
      "7.626072 .        suff_1:$\n",
      "7.175610 ADJ      word:lovely\n",
      "7.049217 VERB     suff_4:tood\n",
      "6.966675 VERB     word:consists\n",
      "6.955069 ADV      suff_4:wise\n",
      "6.903264 ADJ      word:other\n",
      "6.877046 VERB     prevword:may\n",
      "6.853703 X        pref_1:*\n",
      "6.851860 NOUN     pref_1:$\n",
      "6.810270 DET      pref_4:whic\n",
      "6.783043 VERB     prevword:didn't\n",
      "6.770811 ADJ      word:charming\n",
      "6.615900 VERB     prevword:could\n",
      "6.541142 NOUN     word:ally\n",
      "6.541142 NOUN     pref_4:ally\n",
      "6.451589 ADJ      word:aware\n",
      "6.430631 VERB     prevword:won't\n",
      "6.348302 PRON     nextword:'s\n",
      "6.345271 PRT      suff_2:'s\n",
      "6.319232 VERB     prevword:wouldn't\n",
      "6.272716 ADJ      word:certain\n",
      "6.238290 DET      word:every\n",
      "6.219733 DET      nextword:'s\n",
      "6.129581 NOUN     word:year\n",
      "\n",
      "Top negative:\n",
      "-3.686241 VERB     pref_2:it\n",
      "-3.695251 .        prevword:Criticality\n",
      "-3.714504 VERB     suff_3:uch\n",
      "-3.720169 NOUN     suff_3:led\n",
      "-3.782703 NOUN     pref_3:eno\n",
      "-3.786898 VERB     suff_3:hat\n",
      "-3.813574 ADJ      suff_3:use\n",
      "-3.827347 NUM      suff_1:t\n",
      "-3.873876 ADP      pref_3:the\n",
      "-3.890497 VERB     pref_3:the\n",
      "-3.896765 VERB     suff_4:less\n",
      "-3.942722 NOUN     suff_4:long\n",
      "-3.946512 NOUN     word:least\n",
      "-3.977973 CONJ     prevword:help\n",
      "-3.980117 .        prevword:1\n",
      "-4.030892 NOUN     suff_4:fore\n",
      "-4.034023 CONJ     prevword:anything\n",
      "-4.037983 NOUN     pref_4:litt\n",
      "-4.086329 ADJ      pref_4:thro\n",
      "-4.090333 ADP      nextword:Engine\n",
      "-4.139367 NOUN     pref_3:bec\n",
      "-4.260972 X        nextword:0\n",
      "-4.394935 VERB     suff_2:is\n",
      "-4.422028 ADV      suff_2:ir\n",
      "-4.473755 VERB     suff_2:us\n",
      "-4.591061 X        nextword:*-1\n",
      "-4.683689 ADJ      pref_3:tha\n",
      "-4.793997 NOUN     pref_4:more\n",
      "-4.853876 ADP      prevword:a\n",
      "-5.430871 NOUN     suff_4:less\n"
     ]
    }
   ],
   "source": [
    "# important features\n",
    "\n",
    "def print_state_features(state_features):\n",
    "    for (attr, label), weight in state_features:\n",
    "        print(\"%0.6f %-8s %s\" % (weight, label, attr))\n",
    "\n",
    "print(\"Top positive:\")\n",
    "print_state_features(Counter(crf.state_features_).most_common(30))\n",
    "\n",
    "print(\"\\nTop negative:\")\n",
    "print_state_features(Counter(crf.state_features_).most_common()[-30:])"
   ]
  },
  {
   "cell_type": "raw",
   "metadata": {},
   "source": [
    "Top positive features\n",
    "1. If the word is \"willing\", it will be highly likely that it is an adjective\n",
    "2. If the word is \"something\", it will be highly likely that it is a noun\n",
    "2. If the word is \"thing\", it will be highly likely that it is a noun\n",
    "\n",
    "Top negative features\n",
    "1. If the word is \"nothing\", it will be highly unlikely a conjunction\n",
    "2. If the word is \"engine\", it will be highly unlikely a adposition\n",
    "3. If the word is \"would\", it will be highly unlikely a noun"
   ]
  }
 ],
 "metadata": {
  "kernelspec": {
   "display_name": "Python 3",
   "language": "python",
   "name": "python3"
  },
  "language_info": {
   "codemirror_mode": {
    "name": "ipython",
    "version": 3
   },
   "file_extension": ".py",
   "mimetype": "text/x-python",
   "name": "python",
   "nbconvert_exporter": "python",
   "pygments_lexer": "ipython3",
   "version": "3.6.5"
  }
 },
 "nbformat": 4,
 "nbformat_minor": 2
}
