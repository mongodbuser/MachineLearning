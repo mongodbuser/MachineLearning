{
 "cells": [
  {
   "cell_type": "markdown",
   "metadata": {},
   "source": [
    "##### Title: Linear Regression Assignment\n",
    " - Name : Sushma KR\n",
    " - Date : 15-Mar-2018\n",
    " - Description : Model price of cars and identify independent variables that drive the price. "
   ]
  },
  {
   "cell_type": "markdown",
   "metadata": {},
   "source": [
    "### Importing and Understanding Data"
   ]
  },
  {
   "cell_type": "code",
   "execution_count": 224,
   "metadata": {},
   "outputs": [],
   "source": [
    "# Import the required libraries\n",
    "\n",
    "import numpy as np\n",
    "import pandas as pd\n",
    "\n",
    "import matplotlib.pyplot as plt\n",
    "import seaborn as sns\n",
    "\n",
    "import statsmodels.api as sm  \n",
    "from sklearn.feature_selection import RFE\n",
    "from sklearn.linear_model import LinearRegression\n",
    "from sklearn.cross_validation import train_test_split\n",
    "from sklearn.metrics import mean_squared_error, r2_score"
   ]
  },
  {
   "cell_type": "code",
   "execution_count": 2,
   "metadata": {
    "collapsed": true
   },
   "outputs": [],
   "source": [
    "# Import the file\n",
    "\n",
    "cars = pd.read_csv(\"CarPrice_Assignment.csv\")"
   ]
  },
  {
   "cell_type": "code",
   "execution_count": 3,
   "metadata": {},
   "outputs": [
    {
     "data": {
      "text/html": [
       "<div>\n",
       "<style>\n",
       "    .dataframe thead tr:only-child th {\n",
       "        text-align: right;\n",
       "    }\n",
       "\n",
       "    .dataframe thead th {\n",
       "        text-align: left;\n",
       "    }\n",
       "\n",
       "    .dataframe tbody tr th {\n",
       "        vertical-align: top;\n",
       "    }\n",
       "</style>\n",
       "<table border=\"1\" class=\"dataframe\">\n",
       "  <thead>\n",
       "    <tr style=\"text-align: right;\">\n",
       "      <th></th>\n",
       "      <th>car_ID</th>\n",
       "      <th>symboling</th>\n",
       "      <th>CarName</th>\n",
       "      <th>fueltype</th>\n",
       "      <th>aspiration</th>\n",
       "      <th>doornumber</th>\n",
       "      <th>carbody</th>\n",
       "      <th>drivewheel</th>\n",
       "      <th>enginelocation</th>\n",
       "      <th>wheelbase</th>\n",
       "      <th>...</th>\n",
       "      <th>enginesize</th>\n",
       "      <th>fuelsystem</th>\n",
       "      <th>boreratio</th>\n",
       "      <th>stroke</th>\n",
       "      <th>compressionratio</th>\n",
       "      <th>horsepower</th>\n",
       "      <th>peakrpm</th>\n",
       "      <th>citympg</th>\n",
       "      <th>highwaympg</th>\n",
       "      <th>price</th>\n",
       "    </tr>\n",
       "  </thead>\n",
       "  <tbody>\n",
       "    <tr>\n",
       "      <th>0</th>\n",
       "      <td>1</td>\n",
       "      <td>3</td>\n",
       "      <td>alfa-romero giulia</td>\n",
       "      <td>gas</td>\n",
       "      <td>std</td>\n",
       "      <td>two</td>\n",
       "      <td>convertible</td>\n",
       "      <td>rwd</td>\n",
       "      <td>front</td>\n",
       "      <td>88.6</td>\n",
       "      <td>...</td>\n",
       "      <td>130</td>\n",
       "      <td>mpfi</td>\n",
       "      <td>3.47</td>\n",
       "      <td>2.68</td>\n",
       "      <td>9.0</td>\n",
       "      <td>111</td>\n",
       "      <td>5000</td>\n",
       "      <td>21</td>\n",
       "      <td>27</td>\n",
       "      <td>13495.0</td>\n",
       "    </tr>\n",
       "    <tr>\n",
       "      <th>1</th>\n",
       "      <td>2</td>\n",
       "      <td>3</td>\n",
       "      <td>alfa-romero stelvio</td>\n",
       "      <td>gas</td>\n",
       "      <td>std</td>\n",
       "      <td>two</td>\n",
       "      <td>convertible</td>\n",
       "      <td>rwd</td>\n",
       "      <td>front</td>\n",
       "      <td>88.6</td>\n",
       "      <td>...</td>\n",
       "      <td>130</td>\n",
       "      <td>mpfi</td>\n",
       "      <td>3.47</td>\n",
       "      <td>2.68</td>\n",
       "      <td>9.0</td>\n",
       "      <td>111</td>\n",
       "      <td>5000</td>\n",
       "      <td>21</td>\n",
       "      <td>27</td>\n",
       "      <td>16500.0</td>\n",
       "    </tr>\n",
       "    <tr>\n",
       "      <th>2</th>\n",
       "      <td>3</td>\n",
       "      <td>1</td>\n",
       "      <td>alfa-romero Quadrifoglio</td>\n",
       "      <td>gas</td>\n",
       "      <td>std</td>\n",
       "      <td>two</td>\n",
       "      <td>hatchback</td>\n",
       "      <td>rwd</td>\n",
       "      <td>front</td>\n",
       "      <td>94.5</td>\n",
       "      <td>...</td>\n",
       "      <td>152</td>\n",
       "      <td>mpfi</td>\n",
       "      <td>2.68</td>\n",
       "      <td>3.47</td>\n",
       "      <td>9.0</td>\n",
       "      <td>154</td>\n",
       "      <td>5000</td>\n",
       "      <td>19</td>\n",
       "      <td>26</td>\n",
       "      <td>16500.0</td>\n",
       "    </tr>\n",
       "    <tr>\n",
       "      <th>3</th>\n",
       "      <td>4</td>\n",
       "      <td>2</td>\n",
       "      <td>audi 100 ls</td>\n",
       "      <td>gas</td>\n",
       "      <td>std</td>\n",
       "      <td>four</td>\n",
       "      <td>sedan</td>\n",
       "      <td>fwd</td>\n",
       "      <td>front</td>\n",
       "      <td>99.8</td>\n",
       "      <td>...</td>\n",
       "      <td>109</td>\n",
       "      <td>mpfi</td>\n",
       "      <td>3.19</td>\n",
       "      <td>3.40</td>\n",
       "      <td>10.0</td>\n",
       "      <td>102</td>\n",
       "      <td>5500</td>\n",
       "      <td>24</td>\n",
       "      <td>30</td>\n",
       "      <td>13950.0</td>\n",
       "    </tr>\n",
       "    <tr>\n",
       "      <th>4</th>\n",
       "      <td>5</td>\n",
       "      <td>2</td>\n",
       "      <td>audi 100ls</td>\n",
       "      <td>gas</td>\n",
       "      <td>std</td>\n",
       "      <td>four</td>\n",
       "      <td>sedan</td>\n",
       "      <td>4wd</td>\n",
       "      <td>front</td>\n",
       "      <td>99.4</td>\n",
       "      <td>...</td>\n",
       "      <td>136</td>\n",
       "      <td>mpfi</td>\n",
       "      <td>3.19</td>\n",
       "      <td>3.40</td>\n",
       "      <td>8.0</td>\n",
       "      <td>115</td>\n",
       "      <td>5500</td>\n",
       "      <td>18</td>\n",
       "      <td>22</td>\n",
       "      <td>17450.0</td>\n",
       "    </tr>\n",
       "  </tbody>\n",
       "</table>\n",
       "<p>5 rows × 26 columns</p>\n",
       "</div>"
      ],
      "text/plain": [
       "   car_ID  symboling                   CarName fueltype aspiration doornumber  \\\n",
       "0       1          3        alfa-romero giulia      gas        std        two   \n",
       "1       2          3       alfa-romero stelvio      gas        std        two   \n",
       "2       3          1  alfa-romero Quadrifoglio      gas        std        two   \n",
       "3       4          2               audi 100 ls      gas        std       four   \n",
       "4       5          2                audi 100ls      gas        std       four   \n",
       "\n",
       "       carbody drivewheel enginelocation  wheelbase   ...     enginesize  \\\n",
       "0  convertible        rwd          front       88.6   ...            130   \n",
       "1  convertible        rwd          front       88.6   ...            130   \n",
       "2    hatchback        rwd          front       94.5   ...            152   \n",
       "3        sedan        fwd          front       99.8   ...            109   \n",
       "4        sedan        4wd          front       99.4   ...            136   \n",
       "\n",
       "   fuelsystem  boreratio  stroke compressionratio horsepower  peakrpm citympg  \\\n",
       "0        mpfi       3.47    2.68              9.0        111     5000      21   \n",
       "1        mpfi       3.47    2.68              9.0        111     5000      21   \n",
       "2        mpfi       2.68    3.47              9.0        154     5000      19   \n",
       "3        mpfi       3.19    3.40             10.0        102     5500      24   \n",
       "4        mpfi       3.19    3.40              8.0        115     5500      18   \n",
       "\n",
       "   highwaympg    price  \n",
       "0          27  13495.0  \n",
       "1          27  16500.0  \n",
       "2          26  16500.0  \n",
       "3          30  13950.0  \n",
       "4          22  17450.0  \n",
       "\n",
       "[5 rows x 26 columns]"
      ]
     },
     "execution_count": 3,
     "metadata": {},
     "output_type": "execute_result"
    }
   ],
   "source": [
    "# Look at the first 5 rows\n",
    "cars.head()"
   ]
  },
  {
   "cell_type": "code",
   "execution_count": 4,
   "metadata": {},
   "outputs": [
    {
     "data": {
      "text/html": [
       "<div>\n",
       "<style>\n",
       "    .dataframe thead tr:only-child th {\n",
       "        text-align: right;\n",
       "    }\n",
       "\n",
       "    .dataframe thead th {\n",
       "        text-align: left;\n",
       "    }\n",
       "\n",
       "    .dataframe tbody tr th {\n",
       "        vertical-align: top;\n",
       "    }\n",
       "</style>\n",
       "<table border=\"1\" class=\"dataframe\">\n",
       "  <thead>\n",
       "    <tr style=\"text-align: right;\">\n",
       "      <th></th>\n",
       "      <th>car_ID</th>\n",
       "      <th>symboling</th>\n",
       "      <th>CarName</th>\n",
       "      <th>fueltype</th>\n",
       "      <th>aspiration</th>\n",
       "      <th>doornumber</th>\n",
       "      <th>carbody</th>\n",
       "      <th>drivewheel</th>\n",
       "      <th>enginelocation</th>\n",
       "      <th>wheelbase</th>\n",
       "      <th>...</th>\n",
       "      <th>enginesize</th>\n",
       "      <th>fuelsystem</th>\n",
       "      <th>boreratio</th>\n",
       "      <th>stroke</th>\n",
       "      <th>compressionratio</th>\n",
       "      <th>horsepower</th>\n",
       "      <th>peakrpm</th>\n",
       "      <th>citympg</th>\n",
       "      <th>highwaympg</th>\n",
       "      <th>price</th>\n",
       "    </tr>\n",
       "  </thead>\n",
       "  <tbody>\n",
       "    <tr>\n",
       "      <th>200</th>\n",
       "      <td>201</td>\n",
       "      <td>-1</td>\n",
       "      <td>volvo 145e (sw)</td>\n",
       "      <td>gas</td>\n",
       "      <td>std</td>\n",
       "      <td>four</td>\n",
       "      <td>sedan</td>\n",
       "      <td>rwd</td>\n",
       "      <td>front</td>\n",
       "      <td>109.1</td>\n",
       "      <td>...</td>\n",
       "      <td>141</td>\n",
       "      <td>mpfi</td>\n",
       "      <td>3.78</td>\n",
       "      <td>3.15</td>\n",
       "      <td>9.5</td>\n",
       "      <td>114</td>\n",
       "      <td>5400</td>\n",
       "      <td>23</td>\n",
       "      <td>28</td>\n",
       "      <td>16845.0</td>\n",
       "    </tr>\n",
       "    <tr>\n",
       "      <th>201</th>\n",
       "      <td>202</td>\n",
       "      <td>-1</td>\n",
       "      <td>volvo 144ea</td>\n",
       "      <td>gas</td>\n",
       "      <td>turbo</td>\n",
       "      <td>four</td>\n",
       "      <td>sedan</td>\n",
       "      <td>rwd</td>\n",
       "      <td>front</td>\n",
       "      <td>109.1</td>\n",
       "      <td>...</td>\n",
       "      <td>141</td>\n",
       "      <td>mpfi</td>\n",
       "      <td>3.78</td>\n",
       "      <td>3.15</td>\n",
       "      <td>8.7</td>\n",
       "      <td>160</td>\n",
       "      <td>5300</td>\n",
       "      <td>19</td>\n",
       "      <td>25</td>\n",
       "      <td>19045.0</td>\n",
       "    </tr>\n",
       "    <tr>\n",
       "      <th>202</th>\n",
       "      <td>203</td>\n",
       "      <td>-1</td>\n",
       "      <td>volvo 244dl</td>\n",
       "      <td>gas</td>\n",
       "      <td>std</td>\n",
       "      <td>four</td>\n",
       "      <td>sedan</td>\n",
       "      <td>rwd</td>\n",
       "      <td>front</td>\n",
       "      <td>109.1</td>\n",
       "      <td>...</td>\n",
       "      <td>173</td>\n",
       "      <td>mpfi</td>\n",
       "      <td>3.58</td>\n",
       "      <td>2.87</td>\n",
       "      <td>8.8</td>\n",
       "      <td>134</td>\n",
       "      <td>5500</td>\n",
       "      <td>18</td>\n",
       "      <td>23</td>\n",
       "      <td>21485.0</td>\n",
       "    </tr>\n",
       "    <tr>\n",
       "      <th>203</th>\n",
       "      <td>204</td>\n",
       "      <td>-1</td>\n",
       "      <td>volvo 246</td>\n",
       "      <td>diesel</td>\n",
       "      <td>turbo</td>\n",
       "      <td>four</td>\n",
       "      <td>sedan</td>\n",
       "      <td>rwd</td>\n",
       "      <td>front</td>\n",
       "      <td>109.1</td>\n",
       "      <td>...</td>\n",
       "      <td>145</td>\n",
       "      <td>idi</td>\n",
       "      <td>3.01</td>\n",
       "      <td>3.40</td>\n",
       "      <td>23.0</td>\n",
       "      <td>106</td>\n",
       "      <td>4800</td>\n",
       "      <td>26</td>\n",
       "      <td>27</td>\n",
       "      <td>22470.0</td>\n",
       "    </tr>\n",
       "    <tr>\n",
       "      <th>204</th>\n",
       "      <td>205</td>\n",
       "      <td>-1</td>\n",
       "      <td>volvo 264gl</td>\n",
       "      <td>gas</td>\n",
       "      <td>turbo</td>\n",
       "      <td>four</td>\n",
       "      <td>sedan</td>\n",
       "      <td>rwd</td>\n",
       "      <td>front</td>\n",
       "      <td>109.1</td>\n",
       "      <td>...</td>\n",
       "      <td>141</td>\n",
       "      <td>mpfi</td>\n",
       "      <td>3.78</td>\n",
       "      <td>3.15</td>\n",
       "      <td>9.5</td>\n",
       "      <td>114</td>\n",
       "      <td>5400</td>\n",
       "      <td>19</td>\n",
       "      <td>25</td>\n",
       "      <td>22625.0</td>\n",
       "    </tr>\n",
       "  </tbody>\n",
       "</table>\n",
       "<p>5 rows × 26 columns</p>\n",
       "</div>"
      ],
      "text/plain": [
       "     car_ID  symboling          CarName fueltype aspiration doornumber  \\\n",
       "200     201         -1  volvo 145e (sw)      gas        std       four   \n",
       "201     202         -1      volvo 144ea      gas      turbo       four   \n",
       "202     203         -1      volvo 244dl      gas        std       four   \n",
       "203     204         -1        volvo 246   diesel      turbo       four   \n",
       "204     205         -1      volvo 264gl      gas      turbo       four   \n",
       "\n",
       "    carbody drivewheel enginelocation  wheelbase   ...     enginesize  \\\n",
       "200   sedan        rwd          front      109.1   ...            141   \n",
       "201   sedan        rwd          front      109.1   ...            141   \n",
       "202   sedan        rwd          front      109.1   ...            173   \n",
       "203   sedan        rwd          front      109.1   ...            145   \n",
       "204   sedan        rwd          front      109.1   ...            141   \n",
       "\n",
       "     fuelsystem  boreratio  stroke compressionratio horsepower  peakrpm  \\\n",
       "200        mpfi       3.78    3.15              9.5        114     5400   \n",
       "201        mpfi       3.78    3.15              8.7        160     5300   \n",
       "202        mpfi       3.58    2.87              8.8        134     5500   \n",
       "203         idi       3.01    3.40             23.0        106     4800   \n",
       "204        mpfi       3.78    3.15              9.5        114     5400   \n",
       "\n",
       "    citympg  highwaympg    price  \n",
       "200      23          28  16845.0  \n",
       "201      19          25  19045.0  \n",
       "202      18          23  21485.0  \n",
       "203      26          27  22470.0  \n",
       "204      19          25  22625.0  \n",
       "\n",
       "[5 rows x 26 columns]"
      ]
     },
     "execution_count": 4,
     "metadata": {},
     "output_type": "execute_result"
    }
   ],
   "source": [
    "# Look at the last 5 rows\n",
    "cars.tail()"
   ]
  },
  {
   "cell_type": "code",
   "execution_count": 5,
   "metadata": {},
   "outputs": [
    {
     "data": {
      "text/plain": [
       "(205, 26)"
      ]
     },
     "execution_count": 5,
     "metadata": {},
     "output_type": "execute_result"
    }
   ],
   "source": [
    "# Check the dimension of the dataframe\n",
    "cars.shape"
   ]
  },
  {
   "cell_type": "code",
   "execution_count": 6,
   "metadata": {},
   "outputs": [
    {
     "name": "stdout",
     "output_type": "stream",
     "text": [
      "<class 'pandas.core.frame.DataFrame'>\n",
      "RangeIndex: 205 entries, 0 to 204\n",
      "Data columns (total 26 columns):\n",
      "car_ID              205 non-null int64\n",
      "symboling           205 non-null int64\n",
      "CarName             205 non-null object\n",
      "fueltype            205 non-null object\n",
      "aspiration          205 non-null object\n",
      "doornumber          205 non-null object\n",
      "carbody             205 non-null object\n",
      "drivewheel          205 non-null object\n",
      "enginelocation      205 non-null object\n",
      "wheelbase           205 non-null float64\n",
      "carlength           205 non-null float64\n",
      "carwidth            205 non-null float64\n",
      "carheight           205 non-null float64\n",
      "curbweight          205 non-null int64\n",
      "enginetype          205 non-null object\n",
      "cylindernumber      205 non-null object\n",
      "enginesize          205 non-null int64\n",
      "fuelsystem          205 non-null object\n",
      "boreratio           205 non-null float64\n",
      "stroke              205 non-null float64\n",
      "compressionratio    205 non-null float64\n",
      "horsepower          205 non-null int64\n",
      "peakrpm             205 non-null int64\n",
      "citympg             205 non-null int64\n",
      "highwaympg          205 non-null int64\n",
      "price               205 non-null float64\n",
      "dtypes: float64(8), int64(8), object(10)\n",
      "memory usage: 41.7+ KB\n"
     ]
    }
   ],
   "source": [
    "# Understand the data structure\n",
    "cars.info()"
   ]
  },
  {
   "cell_type": "markdown",
   "metadata": {},
   "source": [
    "### Preparing data for analysis"
   ]
  },
  {
   "cell_type": "markdown",
   "metadata": {},
   "source": [
    "#### Creating a new derived variable"
   ]
  },
  {
   "cell_type": "code",
   "execution_count": 7,
   "metadata": {
    "collapsed": true
   },
   "outputs": [],
   "source": [
    "# Extract car manufacturer name into a different column\n",
    "cars[\"CarMake\"] = cars[\"CarName\"].apply(lambda x: x.lower().split(\" \")[0])"
   ]
  },
  {
   "cell_type": "code",
   "execution_count": 8,
   "metadata": {},
   "outputs": [
    {
     "data": {
      "text/plain": [
       "array(['alfa-romero', 'audi', 'bmw', 'chevrolet', 'dodge', 'honda',\n",
       "       'isuzu', 'jaguar', 'maxda', 'mazda', 'buick', 'mercury',\n",
       "       'mitsubishi', 'nissan', 'peugeot', 'plymouth', 'porsche',\n",
       "       'porcshce', 'renault', 'saab', 'subaru', 'toyota', 'toyouta',\n",
       "       'vokswagen', 'volkswagen', 'vw', 'volvo'], dtype=object)"
      ]
     },
     "execution_count": 8,
     "metadata": {},
     "output_type": "execute_result"
    }
   ],
   "source": [
    "# Check all the unique values in the column\n",
    "cars[\"CarMake\"].unique()"
   ]
  },
  {
   "cell_type": "code",
   "execution_count": 9,
   "metadata": {
    "collapsed": true
   },
   "outputs": [],
   "source": [
    "# In some of the places, the manufacturer name is misspelt which will be fixed through the following commands"
   ]
  },
  {
   "cell_type": "code",
   "execution_count": 10,
   "metadata": {
    "collapsed": true
   },
   "outputs": [],
   "source": [
    "cars.loc[cars[\"CarMake\"] == \"maxda\", \"CarMake\"] = \"mazda\""
   ]
  },
  {
   "cell_type": "code",
   "execution_count": 11,
   "metadata": {
    "collapsed": true
   },
   "outputs": [],
   "source": [
    "cars.loc[cars[\"CarMake\"] == \"porcshce\", \"CarMake\"] = \"porsche\""
   ]
  },
  {
   "cell_type": "code",
   "execution_count": 12,
   "metadata": {
    "collapsed": true
   },
   "outputs": [],
   "source": [
    "cars.loc[cars[\"CarMake\"] == \"toyouta\", \"CarMake\"] = \"toyota\""
   ]
  },
  {
   "cell_type": "code",
   "execution_count": 13,
   "metadata": {
    "collapsed": true
   },
   "outputs": [],
   "source": [
    "cars.loc[cars[\"CarMake\"] == \"vw\", \"CarMake\"] = \"volkswagen\""
   ]
  },
  {
   "cell_type": "code",
   "execution_count": 14,
   "metadata": {
    "collapsed": true
   },
   "outputs": [],
   "source": [
    "cars.loc[cars[\"CarMake\"] == \"vokswagen\", \"CarMake\"] = \"volkswagen\""
   ]
  },
  {
   "cell_type": "code",
   "execution_count": 15,
   "metadata": {
    "collapsed": true
   },
   "outputs": [],
   "source": [
    "cars.loc[cars[\"CarMake\"] == 'alfa-romero', \"CarMake\"] = \"alfa-romeo\""
   ]
  },
  {
   "cell_type": "code",
   "execution_count": 16,
   "metadata": {
    "collapsed": true
   },
   "outputs": [],
   "source": [
    "# This column will serve no purpose, its just a runnng sequence, so we will drop it\n",
    "cars.drop(\"car_ID\", inplace = True, axis=1)"
   ]
  },
  {
   "cell_type": "code",
   "execution_count": 17,
   "metadata": {
    "collapsed": true
   },
   "outputs": [],
   "source": [
    "# Car Name will not be useful for analysis either, can be dropped\n",
    "cars.drop(\"CarName\", inplace = True, axis=1)"
   ]
  },
  {
   "cell_type": "code",
   "execution_count": 18,
   "metadata": {},
   "outputs": [
    {
     "data": {
      "text/plain": [
       "array(['alfa-romeo', 'audi', 'bmw', 'chevrolet', 'dodge', 'honda', 'isuzu',\n",
       "       'jaguar', 'mazda', 'buick', 'mercury', 'mitsubishi', 'nissan',\n",
       "       'peugeot', 'plymouth', 'porsche', 'renault', 'saab', 'subaru',\n",
       "       'toyota', 'volkswagen', 'volvo'], dtype=object)"
      ]
     },
     "execution_count": 18,
     "metadata": {},
     "output_type": "execute_result"
    }
   ],
   "source": [
    "# Check the values after clean up\n",
    "cars[\"CarMake\"].unique()"
   ]
  },
  {
   "cell_type": "markdown",
   "metadata": {},
   "source": [
    "#### Check the unique values for all categorical variables"
   ]
  },
  {
   "cell_type": "code",
   "execution_count": 19,
   "metadata": {},
   "outputs": [
    {
     "data": {
      "text/plain": [
       "array(['std', 'turbo'], dtype=object)"
      ]
     },
     "execution_count": 19,
     "metadata": {},
     "output_type": "execute_result"
    }
   ],
   "source": [
    "cars[\"aspiration\"].unique()"
   ]
  },
  {
   "cell_type": "code",
   "execution_count": 20,
   "metadata": {},
   "outputs": [
    {
     "data": {
      "text/plain": [
       "array(['convertible', 'hatchback', 'sedan', 'wagon', 'hardtop'], dtype=object)"
      ]
     },
     "execution_count": 20,
     "metadata": {},
     "output_type": "execute_result"
    }
   ],
   "source": [
    "cars[\"carbody\"].unique()    "
   ]
  },
  {
   "cell_type": "code",
   "execution_count": 21,
   "metadata": {},
   "outputs": [
    {
     "data": {
      "text/plain": [
       "array(['rwd', 'fwd', '4wd'], dtype=object)"
      ]
     },
     "execution_count": 21,
     "metadata": {},
     "output_type": "execute_result"
    }
   ],
   "source": [
    "cars[\"drivewheel\"].unique()    "
   ]
  },
  {
   "cell_type": "code",
   "execution_count": 22,
   "metadata": {},
   "outputs": [
    {
     "data": {
      "text/plain": [
       "array(['front', 'rear'], dtype=object)"
      ]
     },
     "execution_count": 22,
     "metadata": {},
     "output_type": "execute_result"
    }
   ],
   "source": [
    "cars[\"enginelocation\"].unique()  "
   ]
  },
  {
   "cell_type": "code",
   "execution_count": 23,
   "metadata": {},
   "outputs": [
    {
     "data": {
      "text/plain": [
       "array(['dohc', 'ohcv', 'ohc', 'l', 'rotor', 'ohcf', 'dohcv'], dtype=object)"
      ]
     },
     "execution_count": 23,
     "metadata": {},
     "output_type": "execute_result"
    }
   ],
   "source": [
    "cars[\"enginetype\"].unique()  "
   ]
  },
  {
   "cell_type": "code",
   "execution_count": 24,
   "metadata": {},
   "outputs": [
    {
     "data": {
      "text/plain": [
       "array(['four', 'six', 'five', 'three', 'twelve', 'two', 'eight'], dtype=object)"
      ]
     },
     "execution_count": 24,
     "metadata": {},
     "output_type": "execute_result"
    }
   ],
   "source": [
    "cars[\"cylindernumber\"].unique()  "
   ]
  },
  {
   "cell_type": "code",
   "execution_count": 25,
   "metadata": {},
   "outputs": [
    {
     "data": {
      "text/plain": [
       "array(['mpfi', '2bbl', 'mfi', '1bbl', 'spfi', '4bbl', 'idi', 'spdi'], dtype=object)"
      ]
     },
     "execution_count": 25,
     "metadata": {},
     "output_type": "execute_result"
    }
   ],
   "source": [
    "cars[\"fuelsystem\"].unique()  "
   ]
  },
  {
   "cell_type": "code",
   "execution_count": 26,
   "metadata": {},
   "outputs": [
    {
     "data": {
      "text/plain": [
       "array(['gas', 'diesel'], dtype=object)"
      ]
     },
     "execution_count": 26,
     "metadata": {},
     "output_type": "execute_result"
    }
   ],
   "source": [
    "cars[\"fueltype\"].unique()  "
   ]
  },
  {
   "cell_type": "code",
   "execution_count": 27,
   "metadata": {},
   "outputs": [
    {
     "data": {
      "text/plain": [
       "array(['two', 'four'], dtype=object)"
      ]
     },
     "execution_count": 27,
     "metadata": {},
     "output_type": "execute_result"
    }
   ],
   "source": [
    "cars[\"doornumber\"].unique()  "
   ]
  },
  {
   "cell_type": "markdown",
   "metadata": {},
   "source": [
    "### Visualizing data"
   ]
  },
  {
   "cell_type": "code",
   "execution_count": 28,
   "metadata": {},
   "outputs": [
    {
     "data": {
      "image/png": "[encoded data removed]",
      "text/plain": [
       "<matplotlib.figure.Figure at 0x1c10df6630>"
      ]
     },
     "metadata": {},
     "output_type": "display_data"
    }
   ],
   "source": [
    "# Understand the pricing of cars\n",
    "\n",
    "plt.figure(figsize = (16, 12))\n",
    "sns.distplot(cars['price'])\n",
    "plt.title('Distribution Plot - Car Prices', fontsize = 20)\n",
    "plt.xlabel('Car Price', fontsize = 15)\n",
    "plt.show()"
   ]
  },
  {
   "cell_type": "code",
   "execution_count": 29,
   "metadata": {},
   "outputs": [
    {
     "data": {
      "image/png": "[encoded data removed]",
      "text/plain": [
       "<matplotlib.figure.Figure at 0x1c192ead30>"
      ]
     },
     "metadata": {},
     "output_type": "display_data"
    }
   ],
   "source": [
    "# Check the price of cars by each Car Manufacturer\n",
    "\n",
    "plt.figure(figsize = (20,16))\n",
    "sns.stripplot(x=\"CarMake\", y=\"price\", data=cars);\n",
    "plt.title('Car Make vs Price', fontsize = 20)\n",
    "plt.xlabel('Car Make', fontsize = 15)\n",
    "plt.ylabel('Price', fontsize = 15)\n",
    "plt.show()"
   ]
  },
  {
   "cell_type": "code",
   "execution_count": 30,
   "metadata": {},
   "outputs": [
    {
     "data": {
      "image/png": "[encoded data removed]",
      "text/plain": [
       "<matplotlib.figure.Figure at 0x1c19ac10b8>"
      ]
     },
     "metadata": {},
     "output_type": "display_data"
    }
   ],
   "source": [
    "# Check the number of cars by each manufacturer\n",
    "\n",
    "plt.figure(figsize = (16,14))\n",
    "sns.countplot(cars[\"CarMake\"])\n",
    "plt.title('Histogram - Car Make', fontsize = 20)\n",
    "plt.xlabel('Car Make', fontsize = 15)\n",
    "plt.ylabel('Frequency', fontsize = 15)\n",
    "plt.show()"
   ]
  },
  {
   "cell_type": "code",
   "execution_count": 31,
   "metadata": {},
   "outputs": [
    {
     "data": {
      "image/png": "[encoded data removed]",
      "text/plain": [
       "<matplotlib.figure.Figure at 0x1c19a6e390>"
      ]
     },
     "metadata": {},
     "output_type": "display_data"
    }
   ],
   "source": [
    "# See how car prices are influenced by each of the continous variables\n",
    "\n",
    "sns.pairplot(cars, x_vars=[\"wheelbase\",\n",
    "\"carlength\",\n",
    "\"carwidth\"], y_vars='price', kind='scatter')\n",
    "plt.show()"
   ]
  },
  {
   "cell_type": "raw",
   "metadata": {},
   "source": [
    "There seems to be a linear relationship between carlength/ carwidth and price"
   ]
  },
  {
   "cell_type": "code",
   "execution_count": 32,
   "metadata": {},
   "outputs": [
    {
     "data": {
      "image/png": "[encoded data removed]",
      "text/plain": [
       "<matplotlib.figure.Figure at 0x1c10df63c8>"
      ]
     },
     "metadata": {},
     "output_type": "display_data"
    }
   ],
   "source": [
    "sns.pairplot(cars, x_vars=[\n",
    "\"carheight\",\n",
    "\"curbweight\",\n",
    "\"enginesize\",\n",
    "], y_vars='price', kind='scatter')\n",
    "plt.show()"
   ]
  },
  {
   "cell_type": "raw",
   "metadata": {},
   "source": [
    "Curbweight/ enginesize also seem to have a linear relationship"
   ]
  },
  {
   "cell_type": "code",
   "execution_count": 33,
   "metadata": {},
   "outputs": [
    {
     "data": {
      "image/png": "[encoded data removed]",
      "text/plain": [
       "<matplotlib.figure.Figure at 0x1c1aa12898>"
      ]
     },
     "metadata": {},
     "output_type": "display_data"
    }
   ],
   "source": [
    "sns.pairplot(cars, x_vars=[\n",
    "\"boreratio\",\n",
    "\"stroke\",\n",
    "\"horsepower\",\n",
    "\"peakrpm\",\n",
    "\"citympg\",\n",
    "\"highwaympg\"], y_vars='price', kind='scatter')\n",
    "plt.show()"
   ]
  },
  {
   "cell_type": "raw",
   "metadata": {},
   "source": [
    "Horsepower seems to have a linear relationship"
   ]
  },
  {
   "cell_type": "markdown",
   "metadata": {},
   "source": [
    "### Preparing data for analysis continued.."
   ]
  },
  {
   "cell_type": "code",
   "execution_count": 34,
   "metadata": {
    "collapsed": true
   },
   "outputs": [],
   "source": [
    "# Create a new column for converting categorical variables with 2 values to binary and drop the corresponding \n",
    "# categorical column\n",
    "cars['std_aspiration'] = cars['aspiration'].map({'std': 1, 'turbo': 0})\n",
    "cars.drop(\"aspiration\", inplace = True, axis=1)\n",
    "\n",
    "cars['front_enginelocation'] = cars['enginelocation'].map({'front': 1, 'rear': 0})\n",
    "cars.drop(\"enginelocation\", inplace = True, axis=1)\n",
    "\n",
    "cars['gas_fueltype'] = cars['fueltype'].map({'gas': 1, 'diesel': 0})\n",
    "cars.drop(\"fueltype\", inplace = True, axis=1)\n",
    "\n",
    "cars['two_doornumber'] = cars['doornumber'].map({'two': 1, 'four': 0})\n",
    "cars.drop(\"doornumber\", inplace = True, axis=1)\n",
    "\n",
    "# Create a new column to convert cylindercount represented in text to numeric\n",
    "cars['cylindercount'] = cars['cylindernumber'].map({'four': 4, 'six': 6, 'five': 6, 'three': 3, 'twelve': 12, 'two': 2, 'eight': 8})\n",
    "cars.drop(\"cylindernumber\", inplace = True, axis=1)"
   ]
  },
  {
   "cell_type": "code",
   "execution_count": 35,
   "metadata": {},
   "outputs": [
    {
     "data": {
      "image/png": "[encoded data removed]",
      "text/plain": [
       "<matplotlib.figure.Figure at 0x1c19aacda0>"
      ]
     },
     "metadata": {},
     "output_type": "display_data"
    }
   ],
   "source": [
    "sns.pairplot(cars, x_vars=[\n",
    "\"std_aspiration\",\n",
    "\"front_enginelocation\",\n",
    "\"gas_fueltype\",\n",
    "\"two_doornumber\"], y_vars='price', kind='scatter')\n",
    "plt.show()"
   ]
  },
  {
   "cell_type": "code",
   "execution_count": 36,
   "metadata": {},
   "outputs": [
    {
     "name": "stdout",
     "output_type": "stream",
     "text": [
      "<class 'pandas.core.frame.DataFrame'>\n",
      "RangeIndex: 205 entries, 0 to 204\n",
      "Data columns (total 25 columns):\n",
      "symboling               205 non-null int64\n",
      "carbody                 205 non-null object\n",
      "drivewheel              205 non-null object\n",
      "wheelbase               205 non-null float64\n",
      "carlength               205 non-null float64\n",
      "carwidth                205 non-null float64\n",
      "carheight               205 non-null float64\n",
      "curbweight              205 non-null int64\n",
      "enginetype              205 non-null object\n",
      "enginesize              205 non-null int64\n",
      "fuelsystem              205 non-null object\n",
      "boreratio               205 non-null float64\n",
      "stroke                  205 non-null float64\n",
      "compressionratio        205 non-null float64\n",
      "horsepower              205 non-null int64\n",
      "peakrpm                 205 non-null int64\n",
      "citympg                 205 non-null int64\n",
      "highwaympg              205 non-null int64\n",
      "price                   205 non-null float64\n",
      "CarMake                 205 non-null object\n",
      "std_aspiration          205 non-null int64\n",
      "front_enginelocation    205 non-null int64\n",
      "gas_fueltype            205 non-null int64\n",
      "two_doornumber          205 non-null int64\n",
      "cylindercount           205 non-null int64\n",
      "dtypes: float64(8), int64(12), object(5)\n",
      "memory usage: 40.1+ KB\n"
     ]
    }
   ],
   "source": [
    "# Check the dataframe structure\n",
    "cars.info()"
   ]
  },
  {
   "cell_type": "code",
   "execution_count": 37,
   "metadata": {},
   "outputs": [
    {
     "data": {
      "text/html": [
       "<div>\n",
       "<style>\n",
       "    .dataframe thead tr:only-child th {\n",
       "        text-align: right;\n",
       "    }\n",
       "\n",
       "    .dataframe thead th {\n",
       "        text-align: left;\n",
       "    }\n",
       "\n",
       "    .dataframe tbody tr th {\n",
       "        vertical-align: top;\n",
       "    }\n",
       "</style>\n",
       "<table border=\"1\" class=\"dataframe\">\n",
       "  <thead>\n",
       "    <tr style=\"text-align: right;\">\n",
       "      <th></th>\n",
       "      <th>symboling</th>\n",
       "      <th>carbody</th>\n",
       "      <th>drivewheel</th>\n",
       "      <th>wheelbase</th>\n",
       "      <th>carlength</th>\n",
       "      <th>carwidth</th>\n",
       "      <th>carheight</th>\n",
       "      <th>curbweight</th>\n",
       "      <th>enginetype</th>\n",
       "      <th>enginesize</th>\n",
       "      <th>...</th>\n",
       "      <th>peakrpm</th>\n",
       "      <th>citympg</th>\n",
       "      <th>highwaympg</th>\n",
       "      <th>price</th>\n",
       "      <th>CarMake</th>\n",
       "      <th>std_aspiration</th>\n",
       "      <th>front_enginelocation</th>\n",
       "      <th>gas_fueltype</th>\n",
       "      <th>two_doornumber</th>\n",
       "      <th>cylindercount</th>\n",
       "    </tr>\n",
       "  </thead>\n",
       "  <tbody>\n",
       "    <tr>\n",
       "      <th>0</th>\n",
       "      <td>3</td>\n",
       "      <td>convertible</td>\n",
       "      <td>rwd</td>\n",
       "      <td>88.6</td>\n",
       "      <td>168.8</td>\n",
       "      <td>64.1</td>\n",
       "      <td>48.8</td>\n",
       "      <td>2548</td>\n",
       "      <td>dohc</td>\n",
       "      <td>130</td>\n",
       "      <td>...</td>\n",
       "      <td>5000</td>\n",
       "      <td>21</td>\n",
       "      <td>27</td>\n",
       "      <td>13495.0</td>\n",
       "      <td>alfa-romeo</td>\n",
       "      <td>1</td>\n",
       "      <td>1</td>\n",
       "      <td>1</td>\n",
       "      <td>1</td>\n",
       "      <td>4</td>\n",
       "    </tr>\n",
       "    <tr>\n",
       "      <th>1</th>\n",
       "      <td>3</td>\n",
       "      <td>convertible</td>\n",
       "      <td>rwd</td>\n",
       "      <td>88.6</td>\n",
       "      <td>168.8</td>\n",
       "      <td>64.1</td>\n",
       "      <td>48.8</td>\n",
       "      <td>2548</td>\n",
       "      <td>dohc</td>\n",
       "      <td>130</td>\n",
       "      <td>...</td>\n",
       "      <td>5000</td>\n",
       "      <td>21</td>\n",
       "      <td>27</td>\n",
       "      <td>16500.0</td>\n",
       "      <td>alfa-romeo</td>\n",
       "      <td>1</td>\n",
       "      <td>1</td>\n",
       "      <td>1</td>\n",
       "      <td>1</td>\n",
       "      <td>4</td>\n",
       "    </tr>\n",
       "    <tr>\n",
       "      <th>2</th>\n",
       "      <td>1</td>\n",
       "      <td>hatchback</td>\n",
       "      <td>rwd</td>\n",
       "      <td>94.5</td>\n",
       "      <td>171.2</td>\n",
       "      <td>65.5</td>\n",
       "      <td>52.4</td>\n",
       "      <td>2823</td>\n",
       "      <td>ohcv</td>\n",
       "      <td>152</td>\n",
       "      <td>...</td>\n",
       "      <td>5000</td>\n",
       "      <td>19</td>\n",
       "      <td>26</td>\n",
       "      <td>16500.0</td>\n",
       "      <td>alfa-romeo</td>\n",
       "      <td>1</td>\n",
       "      <td>1</td>\n",
       "      <td>1</td>\n",
       "      <td>1</td>\n",
       "      <td>6</td>\n",
       "    </tr>\n",
       "    <tr>\n",
       "      <th>3</th>\n",
       "      <td>2</td>\n",
       "      <td>sedan</td>\n",
       "      <td>fwd</td>\n",
       "      <td>99.8</td>\n",
       "      <td>176.6</td>\n",
       "      <td>66.2</td>\n",
       "      <td>54.3</td>\n",
       "      <td>2337</td>\n",
       "      <td>ohc</td>\n",
       "      <td>109</td>\n",
       "      <td>...</td>\n",
       "      <td>5500</td>\n",
       "      <td>24</td>\n",
       "      <td>30</td>\n",
       "      <td>13950.0</td>\n",
       "      <td>audi</td>\n",
       "      <td>1</td>\n",
       "      <td>1</td>\n",
       "      <td>1</td>\n",
       "      <td>0</td>\n",
       "      <td>4</td>\n",
       "    </tr>\n",
       "    <tr>\n",
       "      <th>4</th>\n",
       "      <td>2</td>\n",
       "      <td>sedan</td>\n",
       "      <td>4wd</td>\n",
       "      <td>99.4</td>\n",
       "      <td>176.6</td>\n",
       "      <td>66.4</td>\n",
       "      <td>54.3</td>\n",
       "      <td>2824</td>\n",
       "      <td>ohc</td>\n",
       "      <td>136</td>\n",
       "      <td>...</td>\n",
       "      <td>5500</td>\n",
       "      <td>18</td>\n",
       "      <td>22</td>\n",
       "      <td>17450.0</td>\n",
       "      <td>audi</td>\n",
       "      <td>1</td>\n",
       "      <td>1</td>\n",
       "      <td>1</td>\n",
       "      <td>0</td>\n",
       "      <td>6</td>\n",
       "    </tr>\n",
       "  </tbody>\n",
       "</table>\n",
       "<p>5 rows × 25 columns</p>\n",
       "</div>"
      ],
      "text/plain": [
       "   symboling      carbody drivewheel  wheelbase  carlength  carwidth  \\\n",
       "0          3  convertible        rwd       88.6      168.8      64.1   \n",
       "1          3  convertible        rwd       88.6      168.8      64.1   \n",
       "2          1    hatchback        rwd       94.5      171.2      65.5   \n",
       "3          2        sedan        fwd       99.8      176.6      66.2   \n",
       "4          2        sedan        4wd       99.4      176.6      66.4   \n",
       "\n",
       "   carheight  curbweight enginetype  enginesize      ...      peakrpm  \\\n",
       "0       48.8        2548       dohc         130      ...         5000   \n",
       "1       48.8        2548       dohc         130      ...         5000   \n",
       "2       52.4        2823       ohcv         152      ...         5000   \n",
       "3       54.3        2337        ohc         109      ...         5500   \n",
       "4       54.3        2824        ohc         136      ...         5500   \n",
       "\n",
       "   citympg  highwaympg    price     CarMake  std_aspiration  \\\n",
       "0       21          27  13495.0  alfa-romeo               1   \n",
       "1       21          27  16500.0  alfa-romeo               1   \n",
       "2       19          26  16500.0  alfa-romeo               1   \n",
       "3       24          30  13950.0        audi               1   \n",
       "4       18          22  17450.0        audi               1   \n",
       "\n",
       "   front_enginelocation  gas_fueltype  two_doornumber cylindercount  \n",
       "0                     1             1               1             4  \n",
       "1                     1             1               1             4  \n",
       "2                     1             1               1             6  \n",
       "3                     1             1               0             4  \n",
       "4                     1             1               0             6  \n",
       "\n",
       "[5 rows x 25 columns]"
      ]
     },
     "execution_count": 37,
     "metadata": {},
     "output_type": "execute_result"
    }
   ],
   "source": [
    "cars.head()"
   ]
  },
  {
   "cell_type": "markdown",
   "metadata": {},
   "source": [
    "Check the remaining categorical variables that are multivalued before creating dummies"
   ]
  },
  {
   "cell_type": "code",
   "execution_count": 38,
   "metadata": {},
   "outputs": [
    {
     "data": {
      "text/plain": [
       "array(['convertible', 'hatchback', 'sedan', 'wagon', 'hardtop'], dtype=object)"
      ]
     },
     "execution_count": 38,
     "metadata": {},
     "output_type": "execute_result"
    }
   ],
   "source": [
    "cars[\"carbody\"].unique()"
   ]
  },
  {
   "cell_type": "code",
   "execution_count": 39,
   "metadata": {},
   "outputs": [
    {
     "data": {
      "text/plain": [
       "array(['rwd', 'fwd', '4wd'], dtype=object)"
      ]
     },
     "execution_count": 39,
     "metadata": {},
     "output_type": "execute_result"
    }
   ],
   "source": [
    "cars[\"drivewheel\"].unique()"
   ]
  },
  {
   "cell_type": "code",
   "execution_count": 40,
   "metadata": {},
   "outputs": [
    {
     "data": {
      "text/plain": [
       "array(['dohc', 'ohcv', 'ohc', 'l', 'rotor', 'ohcf', 'dohcv'], dtype=object)"
      ]
     },
     "execution_count": 40,
     "metadata": {},
     "output_type": "execute_result"
    }
   ],
   "source": [
    "cars[\"enginetype\"].unique()"
   ]
  },
  {
   "cell_type": "code",
   "execution_count": 41,
   "metadata": {},
   "outputs": [
    {
     "data": {
      "text/plain": [
       "array(['mpfi', '2bbl', 'mfi', '1bbl', 'spfi', '4bbl', 'idi', 'spdi'], dtype=object)"
      ]
     },
     "execution_count": 41,
     "metadata": {},
     "output_type": "execute_result"
    }
   ],
   "source": [
    "cars[\"fuelsystem\"].unique()"
   ]
  },
  {
   "cell_type": "code",
   "execution_count": 42,
   "metadata": {},
   "outputs": [
    {
     "data": {
      "text/plain": [
       "array(['alfa-romeo', 'audi', 'bmw', 'chevrolet', 'dodge', 'honda', 'isuzu',\n",
       "       'jaguar', 'mazda', 'buick', 'mercury', 'mitsubishi', 'nissan',\n",
       "       'peugeot', 'plymouth', 'porsche', 'renault', 'saab', 'subaru',\n",
       "       'toyota', 'volkswagen', 'volvo'], dtype=object)"
      ]
     },
     "execution_count": 42,
     "metadata": {},
     "output_type": "execute_result"
    }
   ],
   "source": [
    "cars[\"CarMake\"].unique()"
   ]
  },
  {
   "cell_type": "code",
   "execution_count": 43,
   "metadata": {},
   "outputs": [
    {
     "data": {
      "image/png": "[encoded data removed]",
      "text/plain": [
       "<matplotlib.figure.Figure at 0x1c1aa74da0>"
      ]
     },
     "metadata": {},
     "output_type": "display_data"
    }
   ],
   "source": [
    "# Let's see the correlation matrix \n",
    "plt.figure(figsize = (20,18))     # Size of the figure\n",
    "sns.heatmap(cars.corr(),annot = True)\n",
    "plt.show()"
   ]
  },
  {
   "cell_type": "markdown",
   "metadata": {},
   "source": [
    "Price seems to be influenced by Car Width, Curb Weight, Engine Size, Horsepower, Cylinder count\n",
    "We can expect to see at least a couple of these attributes in the final data model"
   ]
  },
  {
   "cell_type": "markdown",
   "metadata": {},
   "source": [
    "# Dummy variable creation"
   ]
  },
  {
   "cell_type": "code",
   "execution_count": 44,
   "metadata": {
    "collapsed": true
   },
   "outputs": [],
   "source": [
    "# Lets create dummies for these variables that are categorical: \n",
    "# carbody\n",
    "# drivewheel\n",
    "# enginetype\n",
    "# cylindernumber\n",
    "# fuelsystem\n",
    "# CarMake\n",
    "\n",
    "# Create the dummy variables and drop the original categorical variable"
   ]
  },
  {
   "cell_type": "code",
   "execution_count": 45,
   "metadata": {
    "collapsed": true
   },
   "outputs": [],
   "source": [
    "cars = pd.concat([cars, pd.get_dummies(cars['carbody'],drop_first=True)], axis=1)\n",
    "cars.drop(\"carbody\", inplace = True, axis=1)"
   ]
  },
  {
   "cell_type": "code",
   "execution_count": 46,
   "metadata": {
    "collapsed": true
   },
   "outputs": [],
   "source": [
    "cars = pd.concat([cars, pd.get_dummies(cars['drivewheel'],drop_first=True)], axis=1)\n",
    "cars.drop(\"drivewheel\", inplace = True, axis=1)"
   ]
  },
  {
   "cell_type": "code",
   "execution_count": 47,
   "metadata": {
    "collapsed": true
   },
   "outputs": [],
   "source": [
    "cars = pd.concat([cars, pd.get_dummies(cars['enginetype'],drop_first=True)], axis=1)\n",
    "cars.drop(\"enginetype\", inplace = True, axis=1)"
   ]
  },
  {
   "cell_type": "code",
   "execution_count": 48,
   "metadata": {
    "collapsed": true
   },
   "outputs": [],
   "source": [
    "cars = pd.concat([cars, pd.get_dummies(cars['fuelsystem'],drop_first=True)], axis=1)\n",
    "cars.drop(\"fuelsystem\", inplace = True, axis=1)"
   ]
  },
  {
   "cell_type": "code",
   "execution_count": 49,
   "metadata": {
    "collapsed": true
   },
   "outputs": [],
   "source": [
    "cars = pd.concat([cars, pd.get_dummies(cars['CarMake'],drop_first=True)], axis=1)\n",
    "cars.drop(\"CarMake\", inplace = True, axis=1)"
   ]
  },
  {
   "cell_type": "code",
   "execution_count": 50,
   "metadata": {},
   "outputs": [
    {
     "name": "stdout",
     "output_type": "stream",
     "text": [
      "<class 'pandas.core.frame.DataFrame'>\n",
      "RangeIndex: 205 entries, 0 to 204\n",
      "Data columns (total 60 columns):\n",
      "symboling               205 non-null int64\n",
      "wheelbase               205 non-null float64\n",
      "carlength               205 non-null float64\n",
      "carwidth                205 non-null float64\n",
      "carheight               205 non-null float64\n",
      "curbweight              205 non-null int64\n",
      "enginesize              205 non-null int64\n",
      "boreratio               205 non-null float64\n",
      "stroke                  205 non-null float64\n",
      "compressionratio        205 non-null float64\n",
      "horsepower              205 non-null int64\n",
      "peakrpm                 205 non-null int64\n",
      "citympg                 205 non-null int64\n",
      "highwaympg              205 non-null int64\n",
      "price                   205 non-null float64\n",
      "std_aspiration          205 non-null int64\n",
      "front_enginelocation    205 non-null int64\n",
      "gas_fueltype            205 non-null int64\n",
      "two_doornumber          205 non-null int64\n",
      "cylindercount           205 non-null int64\n",
      "hardtop                 205 non-null uint8\n",
      "hatchback               205 non-null uint8\n",
      "sedan                   205 non-null uint8\n",
      "wagon                   205 non-null uint8\n",
      "fwd                     205 non-null uint8\n",
      "rwd                     205 non-null uint8\n",
      "dohcv                   205 non-null uint8\n",
      "l                       205 non-null uint8\n",
      "ohc                     205 non-null uint8\n",
      "ohcf                    205 non-null uint8\n",
      "ohcv                    205 non-null uint8\n",
      "rotor                   205 non-null uint8\n",
      "2bbl                    205 non-null uint8\n",
      "4bbl                    205 non-null uint8\n",
      "idi                     205 non-null uint8\n",
      "mfi                     205 non-null uint8\n",
      "mpfi                    205 non-null uint8\n",
      "spdi                    205 non-null uint8\n",
      "spfi                    205 non-null uint8\n",
      "audi                    205 non-null uint8\n",
      "bmw                     205 non-null uint8\n",
      "buick                   205 non-null uint8\n",
      "chevrolet               205 non-null uint8\n",
      "dodge                   205 non-null uint8\n",
      "honda                   205 non-null uint8\n",
      "isuzu                   205 non-null uint8\n",
      "jaguar                  205 non-null uint8\n",
      "mazda                   205 non-null uint8\n",
      "mercury                 205 non-null uint8\n",
      "mitsubishi              205 non-null uint8\n",
      "nissan                  205 non-null uint8\n",
      "peugeot                 205 non-null uint8\n",
      "plymouth                205 non-null uint8\n",
      "porsche                 205 non-null uint8\n",
      "renault                 205 non-null uint8\n",
      "saab                    205 non-null uint8\n",
      "subaru                  205 non-null uint8\n",
      "toyota                  205 non-null uint8\n",
      "volkswagen              205 non-null uint8\n",
      "volvo                   205 non-null uint8\n",
      "dtypes: float64(8), int64(12), uint8(40)\n",
      "memory usage: 40.1 KB\n"
     ]
    }
   ],
   "source": [
    "# Check the dataframe structure now containing dummy variables\n",
    "cars.info()"
   ]
  },
  {
   "cell_type": "code",
   "execution_count": 51,
   "metadata": {},
   "outputs": [
    {
     "data": {
      "text/html": [
       "<div>\n",
       "<style>\n",
       "    .dataframe thead tr:only-child th {\n",
       "        text-align: right;\n",
       "    }\n",
       "\n",
       "    .dataframe thead th {\n",
       "        text-align: left;\n",
       "    }\n",
       "\n",
       "    .dataframe tbody tr th {\n",
       "        vertical-align: top;\n",
       "    }\n",
       "</style>\n",
       "<table border=\"1\" class=\"dataframe\">\n",
       "  <thead>\n",
       "    <tr style=\"text-align: right;\">\n",
       "      <th></th>\n",
       "      <th>symboling</th>\n",
       "      <th>wheelbase</th>\n",
       "      <th>carlength</th>\n",
       "      <th>carwidth</th>\n",
       "      <th>carheight</th>\n",
       "      <th>curbweight</th>\n",
       "      <th>enginesize</th>\n",
       "      <th>boreratio</th>\n",
       "      <th>stroke</th>\n",
       "      <th>compressionratio</th>\n",
       "      <th>...</th>\n",
       "      <th>nissan</th>\n",
       "      <th>peugeot</th>\n",
       "      <th>plymouth</th>\n",
       "      <th>porsche</th>\n",
       "      <th>renault</th>\n",
       "      <th>saab</th>\n",
       "      <th>subaru</th>\n",
       "      <th>toyota</th>\n",
       "      <th>volkswagen</th>\n",
       "      <th>volvo</th>\n",
       "    </tr>\n",
       "  </thead>\n",
       "  <tbody>\n",
       "    <tr>\n",
       "      <th>0</th>\n",
       "      <td>3</td>\n",
       "      <td>88.6</td>\n",
       "      <td>168.8</td>\n",
       "      <td>64.1</td>\n",
       "      <td>48.8</td>\n",
       "      <td>2548</td>\n",
       "      <td>130</td>\n",
       "      <td>3.47</td>\n",
       "      <td>2.68</td>\n",
       "      <td>9.0</td>\n",
       "      <td>...</td>\n",
       "      <td>0</td>\n",
       "      <td>0</td>\n",
       "      <td>0</td>\n",
       "      <td>0</td>\n",
       "      <td>0</td>\n",
       "      <td>0</td>\n",
       "      <td>0</td>\n",
       "      <td>0</td>\n",
       "      <td>0</td>\n",
       "      <td>0</td>\n",
       "    </tr>\n",
       "    <tr>\n",
       "      <th>1</th>\n",
       "      <td>3</td>\n",
       "      <td>88.6</td>\n",
       "      <td>168.8</td>\n",
       "      <td>64.1</td>\n",
       "      <td>48.8</td>\n",
       "      <td>2548</td>\n",
       "      <td>130</td>\n",
       "      <td>3.47</td>\n",
       "      <td>2.68</td>\n",
       "      <td>9.0</td>\n",
       "      <td>...</td>\n",
       "      <td>0</td>\n",
       "      <td>0</td>\n",
       "      <td>0</td>\n",
       "      <td>0</td>\n",
       "      <td>0</td>\n",
       "      <td>0</td>\n",
       "      <td>0</td>\n",
       "      <td>0</td>\n",
       "      <td>0</td>\n",
       "      <td>0</td>\n",
       "    </tr>\n",
       "    <tr>\n",
       "      <th>2</th>\n",
       "      <td>1</td>\n",
       "      <td>94.5</td>\n",
       "      <td>171.2</td>\n",
       "      <td>65.5</td>\n",
       "      <td>52.4</td>\n",
       "      <td>2823</td>\n",
       "      <td>152</td>\n",
       "      <td>2.68</td>\n",
       "      <td>3.47</td>\n",
       "      <td>9.0</td>\n",
       "      <td>...</td>\n",
       "      <td>0</td>\n",
       "      <td>0</td>\n",
       "      <td>0</td>\n",
       "      <td>0</td>\n",
       "      <td>0</td>\n",
       "      <td>0</td>\n",
       "      <td>0</td>\n",
       "      <td>0</td>\n",
       "      <td>0</td>\n",
       "      <td>0</td>\n",
       "    </tr>\n",
       "    <tr>\n",
       "      <th>3</th>\n",
       "      <td>2</td>\n",
       "      <td>99.8</td>\n",
       "      <td>176.6</td>\n",
       "      <td>66.2</td>\n",
       "      <td>54.3</td>\n",
       "      <td>2337</td>\n",
       "      <td>109</td>\n",
       "      <td>3.19</td>\n",
       "      <td>3.40</td>\n",
       "      <td>10.0</td>\n",
       "      <td>...</td>\n",
       "      <td>0</td>\n",
       "      <td>0</td>\n",
       "      <td>0</td>\n",
       "      <td>0</td>\n",
       "      <td>0</td>\n",
       "      <td>0</td>\n",
       "      <td>0</td>\n",
       "      <td>0</td>\n",
       "      <td>0</td>\n",
       "      <td>0</td>\n",
       "    </tr>\n",
       "    <tr>\n",
       "      <th>4</th>\n",
       "      <td>2</td>\n",
       "      <td>99.4</td>\n",
       "      <td>176.6</td>\n",
       "      <td>66.4</td>\n",
       "      <td>54.3</td>\n",
       "      <td>2824</td>\n",
       "      <td>136</td>\n",
       "      <td>3.19</td>\n",
       "      <td>3.40</td>\n",
       "      <td>8.0</td>\n",
       "      <td>...</td>\n",
       "      <td>0</td>\n",
       "      <td>0</td>\n",
       "      <td>0</td>\n",
       "      <td>0</td>\n",
       "      <td>0</td>\n",
       "      <td>0</td>\n",
       "      <td>0</td>\n",
       "      <td>0</td>\n",
       "      <td>0</td>\n",
       "      <td>0</td>\n",
       "    </tr>\n",
       "  </tbody>\n",
       "</table>\n",
       "<p>5 rows × 60 columns</p>\n",
       "</div>"
      ],
      "text/plain": [
       "   symboling  wheelbase  carlength  carwidth  carheight  curbweight  \\\n",
       "0          3       88.6      168.8      64.1       48.8        2548   \n",
       "1          3       88.6      168.8      64.1       48.8        2548   \n",
       "2          1       94.5      171.2      65.5       52.4        2823   \n",
       "3          2       99.8      176.6      66.2       54.3        2337   \n",
       "4          2       99.4      176.6      66.4       54.3        2824   \n",
       "\n",
       "   enginesize  boreratio  stroke  compressionratio  ...    nissan  peugeot  \\\n",
       "0         130       3.47    2.68               9.0  ...         0        0   \n",
       "1         130       3.47    2.68               9.0  ...         0        0   \n",
       "2         152       2.68    3.47               9.0  ...         0        0   \n",
       "3         109       3.19    3.40              10.0  ...         0        0   \n",
       "4         136       3.19    3.40               8.0  ...         0        0   \n",
       "\n",
       "   plymouth  porsche  renault  saab  subaru  toyota  volkswagen  volvo  \n",
       "0         0        0        0     0       0       0           0      0  \n",
       "1         0        0        0     0       0       0           0      0  \n",
       "2         0        0        0     0       0       0           0      0  \n",
       "3         0        0        0     0       0       0           0      0  \n",
       "4         0        0        0     0       0       0           0      0  \n",
       "\n",
       "[5 rows x 60 columns]"
      ]
     },
     "execution_count": 51,
     "metadata": {},
     "output_type": "execute_result"
    }
   ],
   "source": [
    "cars.head()"
   ]
  },
  {
   "cell_type": "code",
   "execution_count": 52,
   "metadata": {},
   "outputs": [
    {
     "data": {
      "text/html": [
       "<div>\n",
       "<style>\n",
       "    .dataframe thead tr:only-child th {\n",
       "        text-align: right;\n",
       "    }\n",
       "\n",
       "    .dataframe thead th {\n",
       "        text-align: left;\n",
       "    }\n",
       "\n",
       "    .dataframe tbody tr th {\n",
       "        vertical-align: top;\n",
       "    }\n",
       "</style>\n",
       "<table border=\"1\" class=\"dataframe\">\n",
       "  <thead>\n",
       "    <tr style=\"text-align: right;\">\n",
       "      <th></th>\n",
       "      <th>symboling</th>\n",
       "      <th>wheelbase</th>\n",
       "      <th>carlength</th>\n",
       "      <th>carwidth</th>\n",
       "      <th>carheight</th>\n",
       "      <th>curbweight</th>\n",
       "      <th>enginesize</th>\n",
       "      <th>boreratio</th>\n",
       "      <th>stroke</th>\n",
       "      <th>compressionratio</th>\n",
       "      <th>horsepower</th>\n",
       "      <th>peakrpm</th>\n",
       "      <th>citympg</th>\n",
       "      <th>highwaympg</th>\n",
       "    </tr>\n",
       "  </thead>\n",
       "  <tbody>\n",
       "    <tr>\n",
       "      <th>0</th>\n",
       "      <td>3</td>\n",
       "      <td>88.6</td>\n",
       "      <td>168.8</td>\n",
       "      <td>64.1</td>\n",
       "      <td>48.8</td>\n",
       "      <td>2548</td>\n",
       "      <td>130</td>\n",
       "      <td>3.47</td>\n",
       "      <td>2.68</td>\n",
       "      <td>9.0</td>\n",
       "      <td>111</td>\n",
       "      <td>5000</td>\n",
       "      <td>21</td>\n",
       "      <td>27</td>\n",
       "    </tr>\n",
       "    <tr>\n",
       "      <th>1</th>\n",
       "      <td>3</td>\n",
       "      <td>88.6</td>\n",
       "      <td>168.8</td>\n",
       "      <td>64.1</td>\n",
       "      <td>48.8</td>\n",
       "      <td>2548</td>\n",
       "      <td>130</td>\n",
       "      <td>3.47</td>\n",
       "      <td>2.68</td>\n",
       "      <td>9.0</td>\n",
       "      <td>111</td>\n",
       "      <td>5000</td>\n",
       "      <td>21</td>\n",
       "      <td>27</td>\n",
       "    </tr>\n",
       "    <tr>\n",
       "      <th>2</th>\n",
       "      <td>1</td>\n",
       "      <td>94.5</td>\n",
       "      <td>171.2</td>\n",
       "      <td>65.5</td>\n",
       "      <td>52.4</td>\n",
       "      <td>2823</td>\n",
       "      <td>152</td>\n",
       "      <td>2.68</td>\n",
       "      <td>3.47</td>\n",
       "      <td>9.0</td>\n",
       "      <td>154</td>\n",
       "      <td>5000</td>\n",
       "      <td>19</td>\n",
       "      <td>26</td>\n",
       "    </tr>\n",
       "    <tr>\n",
       "      <th>3</th>\n",
       "      <td>2</td>\n",
       "      <td>99.8</td>\n",
       "      <td>176.6</td>\n",
       "      <td>66.2</td>\n",
       "      <td>54.3</td>\n",
       "      <td>2337</td>\n",
       "      <td>109</td>\n",
       "      <td>3.19</td>\n",
       "      <td>3.40</td>\n",
       "      <td>10.0</td>\n",
       "      <td>102</td>\n",
       "      <td>5500</td>\n",
       "      <td>24</td>\n",
       "      <td>30</td>\n",
       "    </tr>\n",
       "    <tr>\n",
       "      <th>4</th>\n",
       "      <td>2</td>\n",
       "      <td>99.4</td>\n",
       "      <td>176.6</td>\n",
       "      <td>66.4</td>\n",
       "      <td>54.3</td>\n",
       "      <td>2824</td>\n",
       "      <td>136</td>\n",
       "      <td>3.19</td>\n",
       "      <td>3.40</td>\n",
       "      <td>8.0</td>\n",
       "      <td>115</td>\n",
       "      <td>5500</td>\n",
       "      <td>18</td>\n",
       "      <td>22</td>\n",
       "    </tr>\n",
       "  </tbody>\n",
       "</table>\n",
       "</div>"
      ],
      "text/plain": [
       "   symboling  wheelbase  carlength  carwidth  carheight  curbweight  \\\n",
       "0          3       88.6      168.8      64.1       48.8        2548   \n",
       "1          3       88.6      168.8      64.1       48.8        2548   \n",
       "2          1       94.5      171.2      65.5       52.4        2823   \n",
       "3          2       99.8      176.6      66.2       54.3        2337   \n",
       "4          2       99.4      176.6      66.4       54.3        2824   \n",
       "\n",
       "   enginesize  boreratio  stroke  compressionratio  horsepower  peakrpm  \\\n",
       "0         130       3.47    2.68               9.0         111     5000   \n",
       "1         130       3.47    2.68               9.0         111     5000   \n",
       "2         152       2.68    3.47               9.0         154     5000   \n",
       "3         109       3.19    3.40              10.0         102     5500   \n",
       "4         136       3.19    3.40               8.0         115     5500   \n",
       "\n",
       "   citympg  highwaympg  \n",
       "0       21          27  \n",
       "1       21          27  \n",
       "2       19          26  \n",
       "3       24          30  \n",
       "4       18          22  "
      ]
     },
     "execution_count": 52,
     "metadata": {},
     "output_type": "execute_result"
    }
   ],
   "source": [
    "# These are all the continous variables\n",
    "cars[[\"symboling\",\n",
    "\"wheelbase\",\n",
    "\"carlength\",\n",
    "\"carwidth\",\n",
    "\"carheight\",\n",
    "\"curbweight\",\n",
    "\"enginesize\",\n",
    "\"boreratio\",\n",
    "\"stroke\",\n",
    "\"compressionratio\",\n",
    "\"horsepower\",\n",
    "\"peakrpm\",\n",
    "\"citympg\",\n",
    "\"highwaympg\"]].head()"
   ]
  },
  {
   "cell_type": "markdown",
   "metadata": {},
   "source": [
    "#### Rescaling the features"
   ]
  },
  {
   "cell_type": "code",
   "execution_count": 53,
   "metadata": {
    "collapsed": true
   },
   "outputs": [],
   "source": [
    "# defining a normalisation function \n",
    "def normalize (x): \n",
    "    return ( (x-np.mean(x))/ (max(x) - min(x)))\n",
    "                                            \n",
    "                                              \n",
    "# applying normalize ( ) to all columns \n",
    "cars = cars.apply(normalize) "
   ]
  },
  {
   "cell_type": "markdown",
   "metadata": {},
   "source": [
    "### Splitting Data into Training and Testing Sets"
   ]
  },
  {
   "cell_type": "code",
   "execution_count": 54,
   "metadata": {},
   "outputs": [
    {
     "data": {
      "text/plain": [
       "Index(['symboling', 'wheelbase', 'carlength', 'carwidth', 'carheight',\n",
       "       'curbweight', 'enginesize', 'boreratio', 'stroke', 'compressionratio',\n",
       "       'horsepower', 'peakrpm', 'citympg', 'highwaympg', 'price',\n",
       "       'std_aspiration', 'front_enginelocation', 'gas_fueltype',\n",
       "       'two_doornumber', 'cylindercount', 'hardtop', 'hatchback', 'sedan',\n",
       "       'wagon', 'fwd', 'rwd', 'dohcv', 'l', 'ohc', 'ohcf', 'ohcv', 'rotor',\n",
       "       '2bbl', '4bbl', 'idi', 'mfi', 'mpfi', 'spdi', 'spfi', 'audi', 'bmw',\n",
       "       'buick', 'chevrolet', 'dodge', 'honda', 'isuzu', 'jaguar', 'mazda',\n",
       "       'mercury', 'mitsubishi', 'nissan', 'peugeot', 'plymouth', 'porsche',\n",
       "       'renault', 'saab', 'subaru', 'toyota', 'volkswagen', 'volvo'],\n",
       "      dtype='object')"
      ]
     },
     "execution_count": 54,
     "metadata": {},
     "output_type": "execute_result"
    }
   ],
   "source": [
    "cars.columns"
   ]
  },
  {
   "cell_type": "code",
   "execution_count": 55,
   "metadata": {
    "collapsed": true
   },
   "outputs": [],
   "source": [
    "# putting feature variables into X\n",
    "\n",
    "X = cars[['symboling', 'wheelbase', 'carlength', 'carwidth', 'carheight',\n",
    "       'curbweight', 'enginesize', 'boreratio', 'stroke', 'compressionratio',\n",
    "       'horsepower', 'peakrpm', 'citympg', 'highwaympg', \n",
    "       'std_aspiration', 'front_enginelocation', 'gas_fueltype',\n",
    "       'two_doornumber', 'cylindercount', 'hardtop', 'hatchback', 'sedan',\n",
    "       'wagon', 'fwd', 'rwd', 'dohcv', 'l', 'ohc', 'ohcf', 'ohcv', 'rotor',\n",
    "       '2bbl', '4bbl', 'idi', 'mfi', 'mpfi', 'spdi', 'spfi', 'audi', 'bmw',\n",
    "       'buick', 'chevrolet', 'dodge', 'honda', 'isuzu', 'jaguar', 'mazda',\n",
    "       'mercury', 'mitsubishi', 'nissan', 'peugeot', 'plymouth', 'porsche',\n",
    "       'renault', 'saab', 'subaru', 'toyota', 'volkswagen', 'volvo']]"
   ]
  },
  {
   "cell_type": "code",
   "execution_count": 56,
   "metadata": {
    "collapsed": true
   },
   "outputs": [],
   "source": [
    "# putting response variable to y\n",
    "\n",
    "y = cars[\"price\"]"
   ]
  },
  {
   "cell_type": "code",
   "execution_count": 57,
   "metadata": {
    "collapsed": true
   },
   "outputs": [],
   "source": [
    "# Split into training and test sets\n",
    "\n",
    "X_train, X_test, y_train, y_test = train_test_split(X, y, train_size=0.7 ,test_size = 0.3, random_state=100)"
   ]
  },
  {
   "cell_type": "code",
   "execution_count": 58,
   "metadata": {},
   "outputs": [
    {
     "data": {
      "text/plain": [
       "(143, 59)"
      ]
     },
     "execution_count": 58,
     "metadata": {},
     "output_type": "execute_result"
    }
   ],
   "source": [
    "# Dimension of X_train dataframe\n",
    "\n",
    "X_train.shape"
   ]
  },
  {
   "cell_type": "code",
   "execution_count": 59,
   "metadata": {},
   "outputs": [
    {
     "data": {
      "text/plain": [
       "(143,)"
      ]
     },
     "execution_count": 59,
     "metadata": {},
     "output_type": "execute_result"
    }
   ],
   "source": [
    "# Dimension of y_train dataframe\n",
    "\n",
    "y_train.shape"
   ]
  },
  {
   "cell_type": "code",
   "execution_count": 60,
   "metadata": {},
   "outputs": [
    {
     "data": {
      "text/plain": [
       "(62, 59)"
      ]
     },
     "execution_count": 60,
     "metadata": {},
     "output_type": "execute_result"
    }
   ],
   "source": [
    "# Dimension of X_test dataframe\n",
    "\n",
    "X_test.shape"
   ]
  },
  {
   "cell_type": "code",
   "execution_count": 61,
   "metadata": {},
   "outputs": [
    {
     "data": {
      "text/plain": [
       "(62,)"
      ]
     },
     "execution_count": 61,
     "metadata": {},
     "output_type": "execute_result"
    }
   ],
   "source": [
    "# Dimension of y_test dataframe\n",
    "\n",
    "y_test.shape"
   ]
  },
  {
   "cell_type": "markdown",
   "metadata": {},
   "source": [
    "### Building a linear model"
   ]
  },
  {
   "cell_type": "code",
   "execution_count": 62,
   "metadata": {
    "collapsed": true
   },
   "outputs": [],
   "source": [
    "# Importing statsmodel\n",
    "X_train = sm.add_constant(X_train) \n",
    "\n",
    "# Adding constant term to the dataframe\n",
    "lm_1 = sm.OLS(y_train, X_train).fit() "
   ]
  },
  {
   "cell_type": "code",
   "execution_count": 63,
   "metadata": {},
   "outputs": [
    {
     "name": "stdout",
     "output_type": "stream",
     "text": [
      "                            OLS Regression Results                            \n",
      "==============================================================================\n",
      "Dep. Variable:                  price   R-squared:                       0.973\n",
      "Model:                            OLS   Adj. R-squared:                  0.956\n",
      "Method:                 Least Squares   F-statistic:                     57.91\n",
      "Date:                Thu, 15 Mar 2018   Prob (F-statistic):           9.63e-51\n",
      "Time:                        03:51:59   Log-Likelihood:                 289.51\n",
      "No. Observations:                 143   AIC:                            -469.0\n",
      "Df Residuals:                      88   BIC:                            -306.1\n",
      "Df Model:                          54                                         \n",
      "Covariance Type:            nonrobust                                         \n",
      "========================================================================================\n",
      "                           coef    std err          t      P>|t|      [0.025      0.975]\n",
      "----------------------------------------------------------------------------------------\n",
      "symboling               -0.0169      0.034     -0.496      0.621      -0.085       0.051\n",
      "wheelbase                0.2240      0.100      2.233      0.028       0.025       0.423\n",
      "carlength               -0.1543      0.096     -1.600      0.113      -0.346       0.037\n",
      "carwidth                 0.2388      0.092      2.608      0.011       0.057       0.421\n",
      "carheight               -0.1574      0.051     -3.115      0.002      -0.258      -0.057\n",
      "curbweight               0.2374      0.112      2.114      0.037       0.014       0.461\n",
      "enginesize               1.3776      0.294      4.681      0.000       0.793       1.963\n",
      "boreratio               -0.3736      0.096     -3.904      0.000      -0.564      -0.183\n",
      "stroke                  -0.1859      0.078     -2.385      0.019      -0.341      -0.031\n",
      "compressionratio        -0.2945      0.209     -1.408      0.163      -0.710       0.121\n",
      "horsepower              -0.1065      0.158     -0.674      0.502      -0.420       0.207\n",
      "peakrpm                  0.1832      0.046      4.023      0.000       0.093       0.274\n",
      "citympg                  0.0383      0.137      0.280      0.780      -0.234       0.310\n",
      "highwaympg               0.0665      0.129      0.515      0.608      -0.190       0.323\n",
      "std_aspiration          -0.0725      0.026     -2.760      0.007      -0.125      -0.020\n",
      "front_enginelocation    -0.1863      0.059     -3.153      0.002      -0.304      -0.069\n",
      "gas_fueltype            -0.1158      0.091     -1.267      0.208      -0.297       0.066\n",
      "two_doornumber          -0.0086      0.014     -0.626      0.533      -0.036       0.019\n",
      "cylindercount           -0.6433      0.236     -2.730      0.008      -1.112      -0.175\n",
      "hardtop                 -0.0912      0.051     -1.797      0.076      -0.192       0.010\n",
      "hatchback               -0.1027      0.038     -2.670      0.009      -0.179      -0.026\n",
      "sedan                   -0.0829      0.041     -2.019      0.047      -0.164      -0.001\n",
      "wagon                   -0.0664      0.044     -1.497      0.138      -0.154       0.022\n",
      "fwd                     -0.0100      0.022     -0.451      0.653      -0.054       0.034\n",
      "rwd                      0.0102      0.031      0.329      0.743      -0.051       0.072\n",
      "dohcv                    0.1886      0.095      1.980      0.051      -0.001       0.378\n",
      "l                        0.1993      0.061      3.265      0.002       0.078       0.321\n",
      "ohc                      0.0598      0.028      2.164      0.033       0.005       0.115\n",
      "ohcf                     0.1161      0.033      3.499      0.001       0.050       0.182\n",
      "ohcv                    -0.0136      0.034     -0.399      0.691      -0.081       0.054\n",
      "rotor                    0.1903      0.073      2.621      0.010       0.046       0.335\n",
      "2bbl                     0.0203      0.051      0.400      0.690      -0.081       0.121\n",
      "4bbl                    -0.0517      0.072     -0.715      0.477      -0.196       0.092\n",
      "idi                      0.1158      0.091      1.267      0.208      -0.066       0.297\n",
      "mfi                     -0.1023      0.262     -0.391      0.697      -0.623       0.418\n",
      "mpfi                    -0.0116      0.056     -0.207      0.836      -0.123       0.099\n",
      "spdi                    -0.0153      0.060     -0.256      0.798      -0.134       0.103\n",
      "spfi                    -0.1023      0.262     -0.391      0.697      -0.623       0.418\n",
      "audi                     0.0370      0.068      0.545      0.587      -0.098       0.172\n",
      "bmw                      0.1901      0.053      3.606      0.001       0.085       0.295\n",
      "buick                    0.0614      0.068      0.909      0.366      -0.073       0.196\n",
      "chevrolet               -0.1126      0.058     -1.938      0.056      -0.228       0.003\n",
      "dodge                   -0.1403      0.050     -2.792      0.006      -0.240      -0.040\n",
      "honda                   -0.1022      0.066     -1.558      0.123      -0.233       0.028\n",
      "isuzu                   -0.0594      0.053     -1.112      0.269      -0.166       0.047\n",
      "jaguar                  -0.0559      0.071     -0.788      0.433      -0.197       0.085\n",
      "mazda                   -0.0327      0.044     -0.742      0.460      -0.120       0.055\n",
      "mercury                 -0.1023      0.262     -0.391      0.697      -0.623       0.418\n",
      "mitsubishi              -0.1559      0.051     -3.034      0.003      -0.258      -0.054\n",
      "nissan                  -0.0439      0.045     -0.976      0.332      -0.133       0.045\n",
      "peugeot                 -0.2617      0.084     -3.133      0.002      -0.428      -0.096\n",
      "plymouth                -0.1389      0.051     -2.732      0.008      -0.240      -0.038\n",
      "porsche                  0.1335      0.069      1.928      0.057      -0.004       0.271\n",
      "renault                 -0.0564      0.062     -0.915      0.362      -0.179       0.066\n",
      "saab                     0.1317      0.056      2.340      0.022       0.020       0.244\n",
      "subaru                  -0.0702      0.050     -1.409      0.162      -0.169       0.029\n",
      "toyota                  -0.0364      0.041     -0.883      0.380      -0.118       0.046\n",
      "volkswagen              -0.0243      0.048     -0.510      0.611      -0.119       0.070\n",
      "volvo                   -0.0009      0.056     -0.017      0.986      -0.112       0.110\n",
      "==============================================================================\n",
      "Omnibus:                       37.032   Durbin-Watson:                   1.904\n",
      "Prob(Omnibus):                  0.000   Jarque-Bera (JB):              144.069\n",
      "Skew:                           0.854   Prob(JB):                     5.20e-32\n",
      "Kurtosis:                       7.611   Cond. No.                     1.61e+16\n",
      "==============================================================================\n",
      "\n",
      "Warnings:\n",
      "[1] Standard Errors assume that the covariance matrix of the errors is correctly specified.\n",
      "[2] The smallest eigenvalue is 5.11e-31. This might indicate that there are\n",
      "strong multicollinearity problems or that the design matrix is singular.\n"
     ]
    }
   ],
   "source": [
    "# Summary of the first version of the linear model\n",
    "\n",
    "print(lm_1.summary())"
   ]
  },
  {
   "cell_type": "markdown",
   "metadata": {},
   "source": [
    "#### We have total of 59 variables, So let's start using RFE to get 50 of them"
   ]
  },
  {
   "cell_type": "code",
   "execution_count": 64,
   "metadata": {},
   "outputs": [
    {
     "name": "stdout",
     "output_type": "stream",
     "text": [
      "[ True  True  True  True  True  True  True  True  True  True  True  True\n",
      "  True  True  True  True  True False  True  True  True  True  True False\n",
      " False  True  True  True  True False  True False  True  True False  True\n",
      "  True False  True  True  True  True  True  True  True  True  True False\n",
      "  True  True  True  True  True  True  True  True  True  True False]\n",
      "[ 1  1  1  1  1  1  1  1  1  1  1  1  1  1  1  1  1  6  1  1  1  1  1  2  5\n",
      "  1  1  1  1  3  1  4  1  1  8  1  1  9  1  1  1  1  1  1  1  1  1 10  1  1\n",
      "  1  1  1  1  1  1  1  1  7]\n"
     ]
    }
   ],
   "source": [
    "# Linear regression object\n",
    "lm = LinearRegression()       \n",
    "\n",
    "# Running RFE with output number of variable equal to 50\n",
    "rfe = RFE(lm, 50)\n",
    "\n",
    "# Fitting X_train and y_train\n",
    "rfe = rfe.fit(X_train, y_train)\n",
    "\n",
    "# Printing the boolean results\n",
    "print(rfe.support_)           \n",
    "print(rfe.ranking_)"
   ]
  },
  {
   "cell_type": "code",
   "execution_count": 65,
   "metadata": {},
   "outputs": [
    {
     "data": {
      "text/plain": [
       "Index(['symboling', 'wheelbase', 'carlength', 'carwidth', 'carheight',\n",
       "       'curbweight', 'enginesize', 'boreratio', 'stroke', 'compressionratio',\n",
       "       'horsepower', 'peakrpm', 'citympg', 'highwaympg', 'std_aspiration',\n",
       "       'front_enginelocation', 'gas_fueltype', 'two_doornumber',\n",
       "       'cylindercount', 'hardtop', 'hatchback', 'sedan', 'wagon', 'fwd', 'rwd',\n",
       "       'dohcv', 'l', 'ohc', 'ohcf', 'ohcv', 'rotor', '2bbl', '4bbl', 'idi',\n",
       "       'mfi', 'mpfi', 'spdi', 'spfi', 'audi', 'bmw', 'buick', 'chevrolet',\n",
       "       'dodge', 'honda', 'isuzu', 'jaguar', 'mazda', 'mercury', 'mitsubishi',\n",
       "       'nissan', 'peugeot', 'plymouth', 'porsche', 'renault', 'saab', 'subaru',\n",
       "       'toyota', 'volkswagen', 'volvo'],\n",
       "      dtype='object')"
      ]
     },
     "execution_count": 65,
     "metadata": {},
     "output_type": "execute_result"
    }
   ],
   "source": [
    "X_train.columns"
   ]
  },
  {
   "cell_type": "code",
   "execution_count": 66,
   "metadata": {},
   "outputs": [
    {
     "data": {
      "text/plain": [
       "Index(['two_doornumber', 'fwd', 'rwd', 'ohcv', '2bbl', 'mfi', 'spfi',\n",
       "       'mercury', 'volvo'],\n",
       "      dtype='object')"
      ]
     },
     "execution_count": 66,
     "metadata": {},
     "output_type": "execute_result"
    }
   ],
   "source": [
    "# These are the variables that can be potentially dropped from the model\n",
    "X_train.columns[~rfe.support_]"
   ]
  },
  {
   "cell_type": "code",
   "execution_count": 67,
   "metadata": {
    "collapsed": true
   },
   "outputs": [],
   "source": [
    "# Initialize a list to capture all columns that could be dropped\n",
    "drop_list = ['mercury', 'spfi', 'mfi', 'volvo', 'two_doornumber', 'rwd', '2bbl', 'ohcv', 'fwd']"
   ]
  },
  {
   "cell_type": "code",
   "execution_count": 68,
   "metadata": {
    "collapsed": true
   },
   "outputs": [],
   "source": [
    "# Drop those columns from the X dataframe used for training\n",
    "X_train.drop(drop_list, inplace = True, axis=1)"
   ]
  },
  {
   "cell_type": "code",
   "execution_count": 69,
   "metadata": {
    "collapsed": true
   },
   "outputs": [],
   "source": [
    "# Run the linear model after dropping the columns that are not important\n",
    "X_train = sm.add_constant(X_train)\n",
    "lm_1 = sm.OLS(y_train, X_train).fit() "
   ]
  },
  {
   "cell_type": "code",
   "execution_count": 70,
   "metadata": {},
   "outputs": [
    {
     "name": "stdout",
     "output_type": "stream",
     "text": [
      "                            OLS Regression Results                            \n",
      "==============================================================================\n",
      "Dep. Variable:                  price   R-squared:                       0.972\n",
      "Model:                            OLS   Adj. R-squared:                  0.958\n",
      "Method:                 Least Squares   F-statistic:                     68.47\n",
      "Date:                Thu, 15 Mar 2018   Prob (F-statistic):           7.09e-56\n",
      "Time:                        03:51:59   Log-Likelihood:                 288.39\n",
      "No. Observations:                 143   AIC:                            -478.8\n",
      "Df Residuals:                      94   BIC:                            -333.6\n",
      "Df Model:                          48                                         \n",
      "Covariance Type:            nonrobust                                         \n",
      "========================================================================================\n",
      "                           coef    std err          t      P>|t|      [0.025      0.975]\n",
      "----------------------------------------------------------------------------------------\n",
      "const                    0.0013      0.004      0.361      0.719      -0.006       0.009\n",
      "symboling               -0.0138      0.030     -0.466      0.642      -0.072       0.045\n",
      "wheelbase                0.2406      0.084      2.851      0.005       0.073       0.408\n",
      "carlength               -0.1514      0.090     -1.684      0.096      -0.330       0.027\n",
      "carwidth                 0.2197      0.081      2.701      0.008       0.058       0.381\n",
      "carheight               -0.1710      0.046     -3.741      0.000      -0.262      -0.080\n",
      "curbweight               0.2788      0.097      2.868      0.005       0.086       0.472\n",
      "enginesize               1.2762      0.264      4.827      0.000       0.751       1.801\n",
      "boreratio               -0.3534      0.081     -4.344      0.000      -0.515      -0.192\n",
      "stroke                  -0.1665      0.070     -2.384      0.019      -0.305      -0.028\n",
      "compressionratio        -0.2747      0.197     -1.394      0.167      -0.666       0.117\n",
      "horsepower              -0.0743      0.141     -0.528      0.599      -0.353       0.205\n",
      "peakrpm                  0.1789      0.040      4.428      0.000       0.099       0.259\n",
      "citympg                  0.0464      0.122      0.381      0.704      -0.195       0.288\n",
      "highwaympg               0.0523      0.121      0.432      0.667      -0.188       0.293\n",
      "std_aspiration          -0.0688      0.024     -2.858      0.005      -0.117      -0.021\n",
      "front_enginelocation    -0.1931      0.052     -3.728      0.000      -0.296      -0.090\n",
      "gas_fueltype            -0.0991      0.083     -1.188      0.238      -0.265       0.067\n",
      "cylindercount           -0.6259      0.213     -2.939      0.004      -1.049      -0.203\n",
      "hardtop                 -0.0913      0.046     -1.998      0.049      -0.182      -0.001\n",
      "hatchback               -0.1056      0.034     -3.135      0.002      -0.173      -0.039\n",
      "sedan                   -0.0788      0.036     -2.174      0.032      -0.151      -0.007\n",
      "wagon                   -0.0627      0.040     -1.573      0.119      -0.142       0.016\n",
      "dohcv                    0.1780      0.091      1.966      0.052      -0.002       0.358\n",
      "l                        0.2002      0.058      3.474      0.001       0.086       0.315\n",
      "ohc                      0.0588      0.023      2.567      0.012       0.013       0.104\n",
      "ohcf                     0.1143      0.029      3.984      0.000       0.057       0.171\n",
      "rotor                    0.1819      0.064      2.837      0.006       0.055       0.309\n",
      "4bbl                    -0.0721      0.050     -1.432      0.156      -0.172       0.028\n",
      "idi                      0.0991      0.083      1.188      0.238      -0.067       0.265\n",
      "mpfi                    -0.0344      0.016     -2.129      0.036      -0.066      -0.002\n",
      "spdi                    -0.0416      0.029     -1.434      0.155      -0.099       0.016\n",
      "audi                     0.0243      0.045      0.535      0.594      -0.066       0.114\n",
      "bmw                      0.1948      0.030      6.502      0.000       0.135       0.254\n",
      "buick                    0.0621      0.038      1.616      0.109      -0.014       0.138\n",
      "chevrolet               -0.1219      0.040     -3.040      0.003      -0.202      -0.042\n",
      "dodge                   -0.1517      0.034     -4.505      0.000      -0.219      -0.085\n",
      "honda                   -0.1316      0.033     -4.002      0.000      -0.197      -0.066\n",
      "isuzu                   -0.0668      0.036     -1.862      0.066      -0.138       0.004\n",
      "jaguar                  -0.0542      0.051     -1.054      0.295      -0.156       0.048\n",
      "mazda                   -0.0405      0.027     -1.520      0.132      -0.093       0.012\n",
      "mitsubishi              -0.1688      0.034     -4.946      0.000      -0.237      -0.101\n",
      "nissan                  -0.0585      0.026     -2.278      0.025      -0.110      -0.008\n",
      "peugeot                 -0.2637      0.060     -4.389      0.000      -0.383      -0.144\n",
      "plymouth                -0.1476      0.036     -4.107      0.000      -0.219      -0.076\n",
      "porsche                  0.1341      0.055      2.418      0.018       0.024       0.244\n",
      "renault                 -0.0701      0.048     -1.463      0.147      -0.165       0.025\n",
      "saab                     0.1125      0.038      2.933      0.004       0.036       0.189\n",
      "subaru                  -0.0789      0.037     -2.111      0.037      -0.153      -0.005\n",
      "toyota                  -0.0403      0.022     -1.860      0.066      -0.083       0.003\n",
      "volkswagen              -0.0373      0.029     -1.280      0.204      -0.095       0.021\n",
      "==============================================================================\n",
      "Omnibus:                       34.291   Durbin-Watson:                   1.889\n",
      "Prob(Omnibus):                  0.000   Jarque-Bera (JB):              122.562\n",
      "Skew:                           0.809   Prob(JB):                     2.43e-27\n",
      "Kurtosis:                       7.237   Cond. No.                     1.00e+16\n",
      "==============================================================================\n",
      "\n",
      "Warnings:\n",
      "[1] Standard Errors assume that the covariance matrix of the errors is correctly specified.\n",
      "[2] The smallest eigenvalue is 1.43e-30. This might indicate that there are\n",
      "strong multicollinearity problems or that the design matrix is singular.\n"
     ]
    }
   ],
   "source": [
    "# Summary of the linear model\n",
    "print(lm_1.summary())"
   ]
  },
  {
   "cell_type": "code",
   "execution_count": 71,
   "metadata": {},
   "outputs": [
    {
     "name": "stdout",
     "output_type": "stream",
     "text": [
      "[False False  True  True  True  True  True  True  True  True  True  True\n",
      "  True  True  True  True  True  True  True  True  True  True  True  True\n",
      "  True  True  True  True  True  True False False False  True  True  True\n",
      "  True  True  True False  True  True  True  True  True  True  True  True\n",
      "  True  True  True]\n",
      "[6 5 1 1 1 1 1 1 1 1 1 1 1 1 1 1 1 1 1 1 1 1 1 1 1 1 1 1 1 1 4 3 7 1 1 1 1\n",
      " 1 1 2 1 1 1 1 1 1 1 1 1 1 1]\n"
     ]
    }
   ],
   "source": [
    "# Create linear regression object\n",
    "lm = LinearRegression()       \n",
    "\n",
    "# Running RFE with output number of variable equal to 45\n",
    "rfe = RFE(lm, 45)\n",
    "\n",
    "rfe = rfe.fit(X_train, y_train)\n",
    "\n",
    "print(rfe.support_)           # Printing the boolean results\n",
    "print(rfe.ranking_)"
   ]
  },
  {
   "cell_type": "code",
   "execution_count": 72,
   "metadata": {},
   "outputs": [
    {
     "data": {
      "text/plain": [
       "Index(['const', 'symboling', 'mpfi', 'spdi', 'audi', 'jaguar'], dtype='object')"
      ]
     },
     "execution_count": 72,
     "metadata": {},
     "output_type": "execute_result"
    }
   ],
   "source": [
    "# Columns that can be potentially dropped\n",
    "X_train.columns[~rfe.support_]"
   ]
  },
  {
   "cell_type": "code",
   "execution_count": 73,
   "metadata": {},
   "outputs": [
    {
     "data": {
      "text/plain": [
       "Index(['const', 'symboling', 'wheelbase', 'carlength', 'carwidth', 'carheight',\n",
       "       'curbweight', 'enginesize', 'boreratio', 'stroke', 'compressionratio',\n",
       "       'horsepower', 'peakrpm', 'citympg', 'highwaympg', 'std_aspiration',\n",
       "       'front_enginelocation', 'gas_fueltype', 'cylindercount', 'hardtop',\n",
       "       'hatchback', 'sedan', 'wagon', 'dohcv', 'l', 'ohc', 'ohcf', 'rotor',\n",
       "       '4bbl', 'idi', 'mpfi', 'spdi', 'audi', 'bmw', 'buick', 'chevrolet',\n",
       "       'dodge', 'honda', 'isuzu', 'jaguar', 'mazda', 'mitsubishi', 'nissan',\n",
       "       'peugeot', 'plymouth', 'porsche', 'renault', 'saab', 'subaru', 'toyota',\n",
       "       'volkswagen'],\n",
       "      dtype='object')"
      ]
     },
     "execution_count": 73,
     "metadata": {},
     "output_type": "execute_result"
    }
   ],
   "source": [
    "X_train.columns"
   ]
  },
  {
   "cell_type": "code",
   "execution_count": 74,
   "metadata": {
    "collapsed": true
   },
   "outputs": [],
   "source": [
    "# Append the columns to be dropped into the list\n",
    "drop_list.extend(['audi', 'symboling', 'mpfi', 'spdi', 'jaguar'])"
   ]
  },
  {
   "cell_type": "code",
   "execution_count": 75,
   "metadata": {
    "collapsed": true
   },
   "outputs": [],
   "source": [
    "# Drop the columns from X_train\n",
    "X_train.drop(['audi', 'symboling', 'mpfi', 'spdi', 'jaguar'], inplace = True, axis=1)"
   ]
  },
  {
   "cell_type": "code",
   "execution_count": 76,
   "metadata": {
    "collapsed": true
   },
   "outputs": [],
   "source": [
    "# Run linear regression\n",
    "X_train = sm.add_constant(X_train)\n",
    "lm_2 = sm.OLS(y_train, X_train).fit() "
   ]
  },
  {
   "cell_type": "code",
   "execution_count": 77,
   "metadata": {},
   "outputs": [
    {
     "name": "stdout",
     "output_type": "stream",
     "text": [
      "                            OLS Regression Results                            \n",
      "==============================================================================\n",
      "Dep. Variable:                  price   R-squared:                       0.970\n",
      "Model:                            OLS   Adj. R-squared:                  0.957\n",
      "Method:                 Least Squares   F-statistic:                     75.20\n",
      "Date:                Thu, 15 Mar 2018   Prob (F-statistic):           3.50e-59\n",
      "Time:                        03:51:59   Log-Likelihood:                 283.66\n",
      "No. Observations:                 143   AIC:                            -479.3\n",
      "Df Residuals:                      99   BIC:                            -349.0\n",
      "Df Model:                          43                                         \n",
      "Covariance Type:            nonrobust                                         \n",
      "========================================================================================\n",
      "                           coef    std err          t      P>|t|      [0.025      0.975]\n",
      "----------------------------------------------------------------------------------------\n",
      "const                    0.0009      0.004      0.260      0.795      -0.006       0.008\n",
      "wheelbase                0.1844      0.077      2.383      0.019       0.031       0.338\n",
      "carlength               -0.1369      0.089     -1.546      0.125      -0.313       0.039\n",
      "carwidth                 0.2627      0.074      3.548      0.001       0.116       0.410\n",
      "carheight               -0.1433      0.042     -3.430      0.001      -0.226      -0.060\n",
      "curbweight               0.2797      0.096      2.927      0.004       0.090       0.469\n",
      "enginesize               1.1411      0.185      6.174      0.000       0.774       1.508\n",
      "boreratio               -0.3288      0.071     -4.658      0.000      -0.469      -0.189\n",
      "stroke                  -0.1562      0.061     -2.561      0.012      -0.277      -0.035\n",
      "compressionratio        -0.2382      0.164     -1.457      0.148      -0.563       0.086\n",
      "horsepower              -0.1251      0.124     -1.006      0.317      -0.372       0.122\n",
      "peakrpm                  0.1673      0.038      4.446      0.000       0.093       0.242\n",
      "citympg                  0.0406      0.122      0.333      0.740      -0.201       0.283\n",
      "highwaympg               0.0442      0.121      0.365      0.716      -0.196       0.284\n",
      "std_aspiration          -0.0610      0.021     -2.889      0.005      -0.103      -0.019\n",
      "front_enginelocation    -0.2116      0.051     -4.173      0.000      -0.312      -0.111\n",
      "gas_fueltype            -0.0958      0.070     -1.364      0.176      -0.235       0.044\n",
      "cylindercount           -0.5388      0.155     -3.471      0.001      -0.847      -0.231\n",
      "hardtop                 -0.0830      0.046     -1.811      0.073      -0.174       0.008\n",
      "hatchback               -0.0939      0.033     -2.821      0.006      -0.160      -0.028\n",
      "sedan                   -0.0671      0.035     -1.901      0.060      -0.137       0.003\n",
      "wagon                   -0.0545      0.039     -1.400      0.165      -0.132       0.023\n",
      "dohcv                    0.1956      0.082      2.391      0.019       0.033       0.358\n",
      "l                        0.1930      0.057      3.394      0.001       0.080       0.306\n",
      "ohc                      0.0590      0.022      2.679      0.009       0.015       0.103\n",
      "ohcf                     0.1234      0.028      4.371      0.000       0.067       0.179\n",
      "rotor                    0.1679      0.060      2.791      0.006       0.049       0.287\n",
      "4bbl                    -0.0498      0.049     -1.021      0.310      -0.147       0.047\n",
      "idi                      0.0958      0.070      1.364      0.176      -0.044       0.235\n",
      "bmw                      0.1959      0.025      7.883      0.000       0.147       0.245\n",
      "buick                    0.0726      0.029      2.466      0.015       0.014       0.131\n",
      "chevrolet               -0.1031      0.037     -2.792      0.006      -0.176      -0.030\n",
      "dodge                   -0.1395      0.028     -4.927      0.000      -0.196      -0.083\n",
      "honda                   -0.1142      0.027     -4.264      0.000      -0.167      -0.061\n",
      "isuzu                   -0.0470      0.032     -1.462      0.147      -0.111       0.017\n",
      "mazda                   -0.0366      0.022     -1.638      0.105      -0.081       0.008\n",
      "mitsubishi              -0.1626      0.024     -6.644      0.000      -0.211      -0.114\n",
      "nissan                  -0.0506      0.021     -2.418      0.017      -0.092      -0.009\n",
      "peugeot                 -0.2549      0.057     -4.463      0.000      -0.368      -0.142\n",
      "plymouth                -0.1364      0.030     -4.507      0.000      -0.196      -0.076\n",
      "porsche                  0.1211      0.054      2.229      0.028       0.013       0.229\n",
      "renault                 -0.0902      0.041     -2.214      0.029      -0.171      -0.009\n",
      "saab                     0.0891      0.033      2.728      0.008       0.024       0.154\n",
      "subaru                  -0.0881      0.035     -2.484      0.015      -0.159      -0.018\n",
      "toyota                  -0.0391      0.019     -2.076      0.041      -0.076      -0.002\n",
      "volkswagen              -0.0578      0.021     -2.696      0.008      -0.100      -0.015\n",
      "==============================================================================\n",
      "Omnibus:                       49.485   Durbin-Watson:                   1.790\n",
      "Prob(Omnibus):                  0.000   Jarque-Bera (JB):              248.827\n",
      "Skew:                           1.103   Prob(JB):                     9.29e-55\n",
      "Kurtosis:                       9.074   Cond. No.                     1.00e+16\n",
      "==============================================================================\n",
      "\n",
      "Warnings:\n",
      "[1] Standard Errors assume that the covariance matrix of the errors is correctly specified.\n",
      "[2] The smallest eigenvalue is 1.43e-30. This might indicate that there are\n",
      "strong multicollinearity problems or that the design matrix is singular.\n"
     ]
    }
   ],
   "source": [
    "# Print summary\n",
    "print(lm_2.summary())"
   ]
  },
  {
   "cell_type": "code",
   "execution_count": 78,
   "metadata": {},
   "outputs": [
    {
     "name": "stdout",
     "output_type": "stream",
     "text": [
      "[False  True  True  True  True  True  True  True  True  True  True  True\n",
      " False  True  True  True  True  True  True  True  True  True  True  True\n",
      "  True  True  True  True  True  True  True  True  True  True False False\n",
      "  True False  True  True  True  True  True  True False  True]\n",
      "[7 1 1 1 1 1 1 1 1 1 1 1 3 1 1 1 1 1 1 1 1 1 1 1 1 1 1 1 1 1 1 1 1 1 4 6 1\n",
      " 2 1 1 1 1 1 1 5 1]\n"
     ]
    }
   ],
   "source": [
    "# Create linear regression object\n",
    "lm = LinearRegression()       \n",
    "\n",
    "# Run RFE with output variables = 40\n",
    "rfe = RFE(lm, 40)\n",
    "\n",
    "rfe = rfe.fit(X_train, y_train)\n",
    "\n",
    "print(rfe.support_)           # Printing the boolean results\n",
    "print(rfe.ranking_)"
   ]
  },
  {
   "cell_type": "code",
   "execution_count": 79,
   "metadata": {},
   "outputs": [
    {
     "data": {
      "text/plain": [
       "Index(['const', 'citympg', 'isuzu', 'mazda', 'nissan', 'toyota'], dtype='object')"
      ]
     },
     "execution_count": 79,
     "metadata": {},
     "output_type": "execute_result"
    }
   ],
   "source": [
    "# Columns that can be dropped\n",
    "X_train.columns[~rfe.support_]"
   ]
  },
  {
   "cell_type": "code",
   "execution_count": 80,
   "metadata": {},
   "outputs": [
    {
     "data": {
      "text/plain": [
       "Index(['const', 'wheelbase', 'carlength', 'carwidth', 'carheight',\n",
       "       'curbweight', 'enginesize', 'boreratio', 'stroke', 'compressionratio',\n",
       "       'horsepower', 'peakrpm', 'citympg', 'highwaympg', 'std_aspiration',\n",
       "       'front_enginelocation', 'gas_fueltype', 'cylindercount', 'hardtop',\n",
       "       'hatchback', 'sedan', 'wagon', 'dohcv', 'l', 'ohc', 'ohcf', 'rotor',\n",
       "       '4bbl', 'idi', 'bmw', 'buick', 'chevrolet', 'dodge', 'honda', 'isuzu',\n",
       "       'mazda', 'mitsubishi', 'nissan', 'peugeot', 'plymouth', 'porsche',\n",
       "       'renault', 'saab', 'subaru', 'toyota', 'volkswagen'],\n",
       "      dtype='object')"
      ]
     },
     "execution_count": 80,
     "metadata": {},
     "output_type": "execute_result"
    }
   ],
   "source": [
    "X_train.columns"
   ]
  },
  {
   "cell_type": "code",
   "execution_count": 81,
   "metadata": {
    "collapsed": true
   },
   "outputs": [],
   "source": [
    "# Add the column to droplist\n",
    "drop_list.extend(['mazda', 'toyota', 'isuzu', 'citympg', 'nissan'])"
   ]
  },
  {
   "cell_type": "code",
   "execution_count": 82,
   "metadata": {
    "collapsed": true
   },
   "outputs": [],
   "source": [
    "# Drop the columns\n",
    "X_train.drop(['mazda', 'toyota', 'isuzu', 'citympg', 'nissan'], inplace = True, axis=1)"
   ]
  },
  {
   "cell_type": "code",
   "execution_count": 83,
   "metadata": {
    "collapsed": true
   },
   "outputs": [],
   "source": [
    "# Run linear regression\n",
    "X_train = sm.add_constant(X_train)\n",
    "lm_3 = sm.OLS(y_train, X_train).fit() "
   ]
  },
  {
   "cell_type": "code",
   "execution_count": 84,
   "metadata": {},
   "outputs": [
    {
     "name": "stdout",
     "output_type": "stream",
     "text": [
      "                            OLS Regression Results                            \n",
      "==============================================================================\n",
      "Dep. Variable:                  price   R-squared:                       0.968\n",
      "Model:                            OLS   Adj. R-squared:                  0.957\n",
      "Method:                 Least Squares   F-statistic:                     83.75\n",
      "Date:                Thu, 15 Mar 2018   Prob (F-statistic):           1.36e-62\n",
      "Time:                        03:51:59   Log-Likelihood:                 279.14\n",
      "No. Observations:                 143   AIC:                            -480.3\n",
      "Df Residuals:                     104   BIC:                            -364.7\n",
      "Df Model:                          38                                         \n",
      "Covariance Type:            nonrobust                                         \n",
      "========================================================================================\n",
      "                           coef    std err          t      P>|t|      [0.025      0.975]\n",
      "----------------------------------------------------------------------------------------\n",
      "const                    0.0008      0.004      0.233      0.816      -0.006       0.008\n",
      "wheelbase                0.2171      0.071      3.043      0.003       0.076       0.359\n",
      "carlength               -0.1413      0.087     -1.623      0.108      -0.314       0.031\n",
      "carwidth                 0.2800      0.069      4.045      0.000       0.143       0.417\n",
      "carheight               -0.1468      0.040     -3.695      0.000      -0.226      -0.068\n",
      "curbweight               0.3234      0.088      3.678      0.000       0.149       0.498\n",
      "enginesize               1.1582      0.173      6.702      0.000       0.816       1.501\n",
      "boreratio               -0.3439      0.069     -4.961      0.000      -0.481      -0.206\n",
      "stroke                  -0.1833      0.059     -3.088      0.003      -0.301      -0.066\n",
      "compressionratio        -0.2273      0.160     -1.425      0.157      -0.544       0.089\n",
      "horsepower              -0.1641      0.119     -1.375      0.172      -0.401       0.073\n",
      "peakrpm                  0.1790      0.034      5.261      0.000       0.112       0.247\n",
      "highwaympg               0.0664      0.065      1.025      0.308      -0.062       0.195\n",
      "std_aspiration          -0.0678      0.020     -3.425      0.001      -0.107      -0.029\n",
      "front_enginelocation    -0.2149      0.051     -4.250      0.000      -0.315      -0.115\n",
      "gas_fueltype            -0.0917      0.069     -1.338      0.184      -0.228       0.044\n",
      "cylindercount           -0.5291      0.152     -3.482      0.001      -0.830      -0.228\n",
      "hardtop                 -0.1203      0.043     -2.772      0.007      -0.206      -0.034\n",
      "hatchback               -0.1239      0.031     -4.008      0.000      -0.185      -0.063\n",
      "sedan                   -0.0974      0.033     -2.950      0.004      -0.163      -0.032\n",
      "wagon                   -0.0916      0.036     -2.544      0.012      -0.163      -0.020\n",
      "dohcv                    0.2011      0.081      2.477      0.015       0.040       0.362\n",
      "l                        0.2248      0.056      4.040      0.000       0.114       0.335\n",
      "ohc                      0.0714      0.021      3.352      0.001       0.029       0.114\n",
      "ohcf                     0.1481      0.027      5.587      0.000       0.096       0.201\n",
      "rotor                    0.1751      0.058      3.001      0.003       0.059       0.291\n",
      "4bbl                    -0.0516      0.049     -1.052      0.295      -0.149       0.046\n",
      "idi                      0.0917      0.069      1.338      0.184      -0.044       0.228\n",
      "bmw                      0.2128      0.024      9.041      0.000       0.166       0.259\n",
      "buick                    0.0663      0.029      2.289      0.024       0.009       0.124\n",
      "chevrolet               -0.0599      0.032     -1.868      0.065      -0.124       0.004\n",
      "dodge                   -0.1025      0.023     -4.383      0.000      -0.149      -0.056\n",
      "honda                   -0.0744      0.021     -3.479      0.001      -0.117      -0.032\n",
      "mitsubishi              -0.1293      0.020     -6.423      0.000      -0.169      -0.089\n",
      "peugeot                 -0.2674      0.057     -4.689      0.000      -0.381      -0.154\n",
      "plymouth                -0.1010      0.026     -3.892      0.000      -0.152      -0.050\n",
      "porsche                  0.1477      0.053      2.806      0.006       0.043       0.252\n",
      "renault                 -0.0510      0.036     -1.415      0.160      -0.122       0.020\n",
      "saab                     0.1160      0.030      3.860      0.000       0.056       0.176\n",
      "subaru                  -0.0668      0.034     -1.967      0.052      -0.134       0.001\n",
      "volkswagen              -0.0315      0.018     -1.726      0.087      -0.068       0.005\n",
      "==============================================================================\n",
      "Omnibus:                       42.182   Durbin-Watson:                   1.734\n",
      "Prob(Omnibus):                  0.000   Jarque-Bera (JB):              146.069\n",
      "Skew:                           1.047   Prob(JB):                     1.91e-32\n",
      "Kurtosis:                       7.487   Cond. No.                     1.00e+16\n",
      "==============================================================================\n",
      "\n",
      "Warnings:\n",
      "[1] Standard Errors assume that the covariance matrix of the errors is correctly specified.\n",
      "[2] The smallest eigenvalue is 1.43e-30. This might indicate that there are\n",
      "strong multicollinearity problems or that the design matrix is singular.\n"
     ]
    }
   ],
   "source": [
    "# Print summary\n",
    "print(lm_3.summary())"
   ]
  },
  {
   "cell_type": "code",
   "execution_count": 85,
   "metadata": {},
   "outputs": [
    {
     "name": "stdout",
     "output_type": "stream",
     "text": [
      "[False  True  True  True  True  True  True  True  True  True  True  True\n",
      "  True False  True  True  True  True  True  True  True False  True  True\n",
      "  True  True False  True  True False False False False  True  True False\n",
      "  True False  True  True False]\n",
      "[12  1  1  1  1  1  1  1  1  1  1  1  1  6  1  1  1  1  1  1  1  3  1  1  1\n",
      "  1  9  1  1  2  8  4  7  1  1  5  1 10  1  1 11]\n"
     ]
    }
   ],
   "source": [
    "# Create linear regression object\n",
    "lm = LinearRegression()       \n",
    "\n",
    "# Run RFE with output variables = 30\n",
    "rfe = RFE(lm, 30)\n",
    "\n",
    "rfe = rfe.fit(X_train, y_train)\n",
    "\n",
    "print(rfe.support_)           # Printing the boolean results\n",
    "print(rfe.ranking_)"
   ]
  },
  {
   "cell_type": "code",
   "execution_count": 86,
   "metadata": {},
   "outputs": [
    {
     "data": {
      "text/plain": [
       "Index(['const', 'std_aspiration', 'dohcv', '4bbl', 'buick', 'chevrolet',\n",
       "       'dodge', 'honda', 'plymouth', 'renault', 'volkswagen'],\n",
       "      dtype='object')"
      ]
     },
     "execution_count": 86,
     "metadata": {},
     "output_type": "execute_result"
    }
   ],
   "source": [
    "# Columns that can be dropped\n",
    "X_train.columns[~rfe.support_]"
   ]
  },
  {
   "cell_type": "code",
   "execution_count": 87,
   "metadata": {},
   "outputs": [
    {
     "data": {
      "text/plain": [
       "Index(['const', 'wheelbase', 'carlength', 'carwidth', 'carheight',\n",
       "       'curbweight', 'enginesize', 'boreratio', 'stroke', 'compressionratio',\n",
       "       'horsepower', 'peakrpm', 'highwaympg', 'std_aspiration',\n",
       "       'front_enginelocation', 'gas_fueltype', 'cylindercount', 'hardtop',\n",
       "       'hatchback', 'sedan', 'wagon', 'dohcv', 'l', 'ohc', 'ohcf', 'rotor',\n",
       "       '4bbl', 'idi', 'bmw', 'buick', 'chevrolet', 'dodge', 'honda',\n",
       "       'mitsubishi', 'peugeot', 'plymouth', 'porsche', 'renault', 'saab',\n",
       "       'subaru', 'volkswagen'],\n",
       "      dtype='object')"
      ]
     },
     "execution_count": 87,
     "metadata": {},
     "output_type": "execute_result"
    }
   ],
   "source": [
    "X_train.columns"
   ]
  },
  {
   "cell_type": "code",
   "execution_count": 88,
   "metadata": {
    "collapsed": true
   },
   "outputs": [],
   "source": [
    "# Add to drop list\n",
    "drop_list.extend(['volkswagen', 'renault', '4bbl', 'chevrolet', 'honda', 'std_aspiration', 'plymouth', 'dodge', 'dohcv', 'buick'])"
   ]
  },
  {
   "cell_type": "code",
   "execution_count": 89,
   "metadata": {
    "collapsed": true
   },
   "outputs": [],
   "source": [
    "# Drop columns from X_train\n",
    "X_train.drop(['volkswagen', 'renault', '4bbl', 'chevrolet', 'honda', 'std_aspiration', 'plymouth', 'dodge', 'dohcv', 'buick'], inplace = True, axis=1)"
   ]
  },
  {
   "cell_type": "code",
   "execution_count": 90,
   "metadata": {
    "collapsed": true
   },
   "outputs": [],
   "source": [
    "# Run linear regression\n",
    "X_train = sm.add_constant(X_train)\n",
    "lm_4 = sm.OLS(y_train, X_train).fit() "
   ]
  },
  {
   "cell_type": "code",
   "execution_count": 91,
   "metadata": {},
   "outputs": [
    {
     "name": "stdout",
     "output_type": "stream",
     "text": [
      "                            OLS Regression Results                            \n",
      "==============================================================================\n",
      "Dep. Variable:                  price   R-squared:                       0.957\n",
      "Model:                            OLS   Adj. R-squared:                  0.946\n",
      "Method:                 Least Squares   F-statistic:                     90.34\n",
      "Date:                Thu, 15 Mar 2018   Prob (F-statistic):           4.07e-65\n",
      "Time:                        03:52:00   Log-Likelihood:                 257.01\n",
      "No. Observations:                 143   AIC:                            -456.0\n",
      "Df Residuals:                     114   BIC:                            -370.1\n",
      "Df Model:                          28                                         \n",
      "Covariance Type:            nonrobust                                         \n",
      "========================================================================================\n",
      "                           coef    std err          t      P>|t|      [0.025      0.975]\n",
      "----------------------------------------------------------------------------------------\n",
      "const                    0.0034      0.004      0.845      0.400      -0.005       0.011\n",
      "wheelbase                0.2359      0.072      3.263      0.001       0.093       0.379\n",
      "carlength               -0.1735      0.084     -2.075      0.040      -0.339      -0.008\n",
      "carwidth                 0.3103      0.072      4.320      0.000       0.168       0.453\n",
      "carheight               -0.0727      0.037     -1.971      0.051      -0.146       0.000\n",
      "curbweight               0.3481      0.095      3.649      0.000       0.159       0.537\n",
      "enginesize               0.7780      0.157      4.968      0.000       0.468       1.088\n",
      "boreratio               -0.2175      0.066     -3.275      0.001      -0.349      -0.086\n",
      "stroke                  -0.2294      0.056     -4.081      0.000      -0.341      -0.118\n",
      "compressionratio        -0.5021      0.157     -3.207      0.002      -0.812      -0.192\n",
      "horsepower               0.0711      0.086      0.822      0.413      -0.100       0.242\n",
      "peakrpm                  0.0834      0.032      2.640      0.009       0.021       0.146\n",
      "highwaympg               0.0922      0.064      1.443      0.152      -0.034       0.219\n",
      "front_enginelocation    -0.1834      0.052     -3.555      0.001      -0.286      -0.081\n",
      "gas_fueltype            -0.2286      0.065     -3.521      0.001      -0.357      -0.100\n",
      "cylindercount           -0.2992      0.142     -2.105      0.038      -0.581      -0.018\n",
      "hardtop                 -0.1071      0.046     -2.324      0.022      -0.198      -0.016\n",
      "hatchback               -0.1386      0.032     -4.397      0.000      -0.201      -0.076\n",
      "sedan                   -0.1104      0.033     -3.295      0.001      -0.177      -0.044\n",
      "wagon                   -0.1144      0.037     -3.126      0.002      -0.187      -0.042\n",
      "l                        0.1948      0.054      3.638      0.000       0.089       0.301\n",
      "ohc                      0.0585      0.022      2.690      0.008       0.015       0.102\n",
      "ohcf                     0.1098      0.026      4.158      0.000       0.057       0.162\n",
      "rotor                    0.1758      0.045      3.933      0.000       0.087       0.264\n",
      "idi                      0.2286      0.065      3.521      0.001       0.100       0.357\n",
      "bmw                      0.1842      0.025      7.420      0.000       0.135       0.233\n",
      "mitsubishi              -0.0662      0.019     -3.573      0.001      -0.103      -0.029\n",
      "peugeot                 -0.2860      0.054     -5.272      0.000      -0.393      -0.179\n",
      "porsche                  0.1566      0.050      3.149      0.002       0.058       0.255\n",
      "saab                     0.0977      0.032      3.047      0.003       0.034       0.161\n",
      "subaru                  -0.0736      0.035     -2.094      0.038      -0.143      -0.004\n",
      "==============================================================================\n",
      "Omnibus:                       24.023   Durbin-Watson:                   1.835\n",
      "Prob(Omnibus):                  0.000   Jarque-Bera (JB):               45.305\n",
      "Skew:                           0.760   Prob(JB):                     1.45e-10\n",
      "Kurtosis:                       5.301   Cond. No.                     1.00e+16\n",
      "==============================================================================\n",
      "\n",
      "Warnings:\n",
      "[1] Standard Errors assume that the covariance matrix of the errors is correctly specified.\n",
      "[2] The smallest eigenvalue is 1.43e-30. This might indicate that there are\n",
      "strong multicollinearity problems or that the design matrix is singular.\n"
     ]
    }
   ],
   "source": [
    "# Print summary\n",
    "print(lm_4.summary())"
   ]
  },
  {
   "cell_type": "code",
   "execution_count": 92,
   "metadata": {},
   "outputs": [
    {
     "name": "stdout",
     "output_type": "stream",
     "text": [
      "[False  True  True  True False  True  True  True  True  True False False\n",
      "  True  True  True  True  True  True  True  True  True False  True  True\n",
      "  True  True False  True  True  True  True]\n",
      "[7 1 1 1 3 1 1 1 1 1 5 2 1 1 1 1 1 1 1 1 1 6 1 1 1 1 4 1 1 1 1]\n"
     ]
    }
   ],
   "source": [
    "# Create linear regression object\n",
    "lm = LinearRegression()       \n",
    "\n",
    "# Run RFE with output number of columns = 25\n",
    "rfe = RFE(lm, 25)\n",
    "\n",
    "rfe = rfe.fit(X_train, y_train)\n",
    "\n",
    "print(rfe.support_)           # Printing the boolean results\n",
    "print(rfe.ranking_)"
   ]
  },
  {
   "cell_type": "code",
   "execution_count": 93,
   "metadata": {},
   "outputs": [
    {
     "data": {
      "text/plain": [
       "Index(['const', 'carheight', 'horsepower', 'peakrpm', 'ohc', 'mitsubishi'], dtype='object')"
      ]
     },
     "execution_count": 93,
     "metadata": {},
     "output_type": "execute_result"
    }
   ],
   "source": [
    "# Columns that can be dropped\n",
    "X_train.columns[~rfe.support_]"
   ]
  },
  {
   "cell_type": "code",
   "execution_count": 94,
   "metadata": {},
   "outputs": [
    {
     "data": {
      "text/plain": [
       "Index(['const', 'wheelbase', 'carlength', 'carwidth', 'carheight',\n",
       "       'curbweight', 'enginesize', 'boreratio', 'stroke', 'compressionratio',\n",
       "       'horsepower', 'peakrpm', 'highwaympg', 'front_enginelocation',\n",
       "       'gas_fueltype', 'cylindercount', 'hardtop', 'hatchback', 'sedan',\n",
       "       'wagon', 'l', 'ohc', 'ohcf', 'rotor', 'idi', 'bmw', 'mitsubishi',\n",
       "       'peugeot', 'porsche', 'saab', 'subaru'],\n",
       "      dtype='object')"
      ]
     },
     "execution_count": 94,
     "metadata": {},
     "output_type": "execute_result"
    }
   ],
   "source": [
    "X_train.columns"
   ]
  },
  {
   "cell_type": "code",
   "execution_count": 95,
   "metadata": {
    "collapsed": true
   },
   "outputs": [],
   "source": [
    "# Add to drop list\n",
    "drop_list.extend(['ohc', 'horsepower', 'mitsubishi', 'carheight', 'peakrpm'])"
   ]
  },
  {
   "cell_type": "code",
   "execution_count": 96,
   "metadata": {
    "collapsed": true
   },
   "outputs": [],
   "source": [
    "# Drop the columns from X_train\n",
    "X_train.drop(['ohc', 'horsepower', 'mitsubishi', 'carheight', 'peakrpm'], inplace = True, axis=1)"
   ]
  },
  {
   "cell_type": "code",
   "execution_count": 97,
   "metadata": {
    "collapsed": true
   },
   "outputs": [],
   "source": [
    "# Run linear regression\n",
    "X_train = sm.add_constant(X_train)\n",
    "lm_5 = sm.OLS(y_train, X_train).fit() "
   ]
  },
  {
   "cell_type": "code",
   "execution_count": 98,
   "metadata": {},
   "outputs": [
    {
     "name": "stdout",
     "output_type": "stream",
     "text": [
      "                            OLS Regression Results                            \n",
      "==============================================================================\n",
      "Dep. Variable:                  price   R-squared:                       0.946\n",
      "Model:                            OLS   Adj. R-squared:                  0.936\n",
      "Method:                 Least Squares   F-statistic:                     91.07\n",
      "Date:                Thu, 15 Mar 2018   Prob (F-statistic):           1.53e-64\n",
      "Time:                        03:52:00   Log-Likelihood:                 241.26\n",
      "No. Observations:                 143   AIC:                            -434.5\n",
      "Df Residuals:                     119   BIC:                            -363.4\n",
      "Df Model:                          23                                         \n",
      "Covariance Type:            nonrobust                                         \n",
      "========================================================================================\n",
      "                           coef    std err          t      P>|t|      [0.025      0.975]\n",
      "----------------------------------------------------------------------------------------\n",
      "const                    0.0025      0.004      0.596      0.552      -0.006       0.011\n",
      "wheelbase                0.1998      0.071      2.825      0.006       0.060       0.340\n",
      "carlength               -0.2557      0.087     -2.933      0.004      -0.428      -0.083\n",
      "carwidth                 0.3905      0.074      5.272      0.000       0.244       0.537\n",
      "curbweight               0.3340      0.100      3.349      0.001       0.137       0.532\n",
      "enginesize               0.6392      0.151      4.239      0.000       0.341       0.938\n",
      "boreratio               -0.1798      0.067     -2.695      0.008      -0.312      -0.048\n",
      "stroke                  -0.1827      0.059     -3.119      0.002      -0.299      -0.067\n",
      "compressionratio        -0.3524      0.156     -2.258      0.026      -0.661      -0.043\n",
      "highwaympg               0.0297      0.066      0.448      0.655      -0.102       0.161\n",
      "front_enginelocation    -0.2045      0.054     -3.812      0.000      -0.311      -0.098\n",
      "gas_fueltype            -0.1580      0.065     -2.440      0.016      -0.286      -0.030\n",
      "cylindercount           -0.2236      0.145     -1.545      0.125      -0.510       0.063\n",
      "hardtop                 -0.0825      0.048     -1.719      0.088      -0.178       0.013\n",
      "hatchback               -0.1227      0.032     -3.831      0.000      -0.186      -0.059\n",
      "sedan                   -0.0903      0.034     -2.672      0.009      -0.157      -0.023\n",
      "wagon                   -0.1032      0.036     -2.830      0.005      -0.175      -0.031\n",
      "l                        0.1405      0.054      2.619      0.010       0.034       0.247\n",
      "ohcf                     0.0894      0.027      3.279      0.001       0.035       0.143\n",
      "rotor                    0.1515      0.042      3.609      0.000       0.068       0.235\n",
      "idi                      0.1580      0.065      2.440      0.016       0.030       0.286\n",
      "bmw                      0.2110      0.024      8.967      0.000       0.164       0.258\n",
      "peugeot                 -0.2787      0.059     -4.755      0.000      -0.395      -0.163\n",
      "porsche                  0.1692      0.052      3.278      0.001       0.067       0.271\n",
      "saab                     0.0927      0.033      2.789      0.006       0.027       0.158\n",
      "subaru                  -0.1151      0.033     -3.528      0.001      -0.180      -0.051\n",
      "==============================================================================\n",
      "Omnibus:                       39.559   Durbin-Watson:                   1.910\n",
      "Prob(Omnibus):                  0.000   Jarque-Bera (JB):              155.967\n",
      "Skew:                           0.920   Prob(JB):                     1.36e-34\n",
      "Kurtosis:                       7.774   Cond. No.                     1.00e+16\n",
      "==============================================================================\n",
      "\n",
      "Warnings:\n",
      "[1] Standard Errors assume that the covariance matrix of the errors is correctly specified.\n",
      "[2] The smallest eigenvalue is 1.43e-30. This might indicate that there are\n",
      "strong multicollinearity problems or that the design matrix is singular.\n"
     ]
    }
   ],
   "source": [
    "# Print summary\n",
    "print(lm_5.summary())"
   ]
  },
  {
   "cell_type": "code",
   "execution_count": 99,
   "metadata": {
    "collapsed": true
   },
   "outputs": [],
   "source": [
    "# UDF for calculating vif value\n",
    "def vif_cal(input_data, dependent_col):\n",
    "    vif_df = pd.DataFrame( columns = ['Var', 'Vif'])\n",
    "    x_vars=input_data.drop([dependent_col], axis=1)\n",
    "    xvar_names=x_vars.columns\n",
    "    for i in range(0,xvar_names.shape[0]):\n",
    "        y=x_vars[xvar_names[i]] \n",
    "        x=x_vars[xvar_names.drop(xvar_names[i])]\n",
    "        rsq=sm.OLS(y,x).fit().rsquared  \n",
    "        vif=round(1/(1-rsq),2)\n",
    "        vif_df.loc[i] = [xvar_names[i], vif]\n",
    "    return vif_df.sort_values(by = 'Vif', axis=0, ascending=False, inplace=False)"
   ]
  },
  {
   "cell_type": "code",
   "execution_count": 100,
   "metadata": {},
   "outputs": [
    {
     "name": "stderr",
     "output_type": "stream",
     "text": [
      "/Users/raagzcd/anaconda3/lib/python3.6/site-packages/ipykernel_launcher.py:10: RuntimeWarning: divide by zero encountered in double_scalars\n",
      "  # Remove the CWD from sys.path while we load stuff.\n"
     ]
    },
    {
     "data": {
      "text/html": [
       "<div>\n",
       "<style>\n",
       "    .dataframe thead tr:only-child th {\n",
       "        text-align: right;\n",
       "    }\n",
       "\n",
       "    .dataframe thead th {\n",
       "        text-align: left;\n",
       "    }\n",
       "\n",
       "    .dataframe tbody tr th {\n",
       "        vertical-align: top;\n",
       "    }\n",
       "</style>\n",
       "<table border=\"1\" class=\"dataframe\">\n",
       "  <thead>\n",
       "    <tr style=\"text-align: right;\">\n",
       "      <th></th>\n",
       "      <th>Var</th>\n",
       "      <th>Vif</th>\n",
       "    </tr>\n",
       "  </thead>\n",
       "  <tbody>\n",
       "    <tr>\n",
       "      <th>24</th>\n",
       "      <td>subaru</td>\n",
       "      <td>inf</td>\n",
       "    </tr>\n",
       "    <tr>\n",
       "      <th>19</th>\n",
       "      <td>idi</td>\n",
       "      <td>inf</td>\n",
       "    </tr>\n",
       "    <tr>\n",
       "      <th>9</th>\n",
       "      <td>front_enginelocation</td>\n",
       "      <td>inf</td>\n",
       "    </tr>\n",
       "    <tr>\n",
       "      <th>10</th>\n",
       "      <td>gas_fueltype</td>\n",
       "      <td>inf</td>\n",
       "    </tr>\n",
       "    <tr>\n",
       "      <th>17</th>\n",
       "      <td>ohcf</td>\n",
       "      <td>inf</td>\n",
       "    </tr>\n",
       "    <tr>\n",
       "      <th>7</th>\n",
       "      <td>compressionratio</td>\n",
       "      <td>71.790000</td>\n",
       "    </tr>\n",
       "    <tr>\n",
       "      <th>3</th>\n",
       "      <td>curbweight</td>\n",
       "      <td>20.150000</td>\n",
       "    </tr>\n",
       "    <tr>\n",
       "      <th>4</th>\n",
       "      <td>enginesize</td>\n",
       "      <td>18.500000</td>\n",
       "    </tr>\n",
       "    <tr>\n",
       "      <th>1</th>\n",
       "      <td>carlength</td>\n",
       "      <td>13.850000</td>\n",
       "    </tr>\n",
       "    <tr>\n",
       "      <th>21</th>\n",
       "      <td>peugeot</td>\n",
       "      <td>13.540000</td>\n",
       "    </tr>\n",
       "    <tr>\n",
       "      <th>14</th>\n",
       "      <td>sedan</td>\n",
       "      <td>13.440000</td>\n",
       "    </tr>\n",
       "    <tr>\n",
       "      <th>16</th>\n",
       "      <td>l</td>\n",
       "      <td>12.860000</td>\n",
       "    </tr>\n",
       "    <tr>\n",
       "      <th>11</th>\n",
       "      <td>cylindercount</td>\n",
       "      <td>11.720000</td>\n",
       "    </tr>\n",
       "    <tr>\n",
       "      <th>13</th>\n",
       "      <td>hatchback</td>\n",
       "      <td>11.130000</td>\n",
       "    </tr>\n",
       "    <tr>\n",
       "      <th>2</th>\n",
       "      <td>carwidth</td>\n",
       "      <td>8.700000</td>\n",
       "    </tr>\n",
       "    <tr>\n",
       "      <th>8</th>\n",
       "      <td>highwaympg</td>\n",
       "      <td>7.710000</td>\n",
       "    </tr>\n",
       "    <tr>\n",
       "      <th>0</th>\n",
       "      <td>wheelbase</td>\n",
       "      <td>7.690000</td>\n",
       "    </tr>\n",
       "    <tr>\n",
       "      <th>15</th>\n",
       "      <td>wagon</td>\n",
       "      <td>6.950000</td>\n",
       "    </tr>\n",
       "    <tr>\n",
       "      <th>5</th>\n",
       "      <td>boreratio</td>\n",
       "      <td>5.430000</td>\n",
       "    </tr>\n",
       "    <tr>\n",
       "      <th>22</th>\n",
       "      <td>porsche</td>\n",
       "      <td>3.940000</td>\n",
       "    </tr>\n",
       "    <tr>\n",
       "      <th>6</th>\n",
       "      <td>stroke</td>\n",
       "      <td>2.680000</td>\n",
       "    </tr>\n",
       "    <tr>\n",
       "      <th>12</th>\n",
       "      <td>hardtop</td>\n",
       "      <td>2.600000</td>\n",
       "    </tr>\n",
       "    <tr>\n",
       "      <th>18</th>\n",
       "      <td>rotor</td>\n",
       "      <td>1.990000</td>\n",
       "    </tr>\n",
       "    <tr>\n",
       "      <th>23</th>\n",
       "      <td>saab</td>\n",
       "      <td>1.520000</td>\n",
       "    </tr>\n",
       "    <tr>\n",
       "      <th>20</th>\n",
       "      <td>bmw</td>\n",
       "      <td>1.270000</td>\n",
       "    </tr>\n",
       "  </tbody>\n",
       "</table>\n",
       "</div>"
      ],
      "text/plain": [
       "                     Var        Vif\n",
       "24                subaru        inf\n",
       "19                   idi        inf\n",
       "9   front_enginelocation        inf\n",
       "10          gas_fueltype        inf\n",
       "17                  ohcf        inf\n",
       "7       compressionratio  71.790000\n",
       "3             curbweight  20.150000\n",
       "4             enginesize  18.500000\n",
       "1              carlength  13.850000\n",
       "21               peugeot  13.540000\n",
       "14                 sedan  13.440000\n",
       "16                     l  12.860000\n",
       "11         cylindercount  11.720000\n",
       "13             hatchback  11.130000\n",
       "2               carwidth   8.700000\n",
       "8             highwaympg   7.710000\n",
       "0              wheelbase   7.690000\n",
       "15                 wagon   6.950000\n",
       "5              boreratio   5.430000\n",
       "22               porsche   3.940000\n",
       "6                 stroke   2.680000\n",
       "12               hardtop   2.600000\n",
       "18                 rotor   1.990000\n",
       "23                  saab   1.520000\n",
       "20                   bmw   1.270000"
      ]
     },
     "execution_count": 100,
     "metadata": {},
     "output_type": "execute_result"
    }
   ],
   "source": [
    "# Calculate VIF\n",
    "vif_cal(input_data=cars.drop(drop_list, axis=1), dependent_col=\"price\")"
   ]
  },
  {
   "cell_type": "code",
   "execution_count": 101,
   "metadata": {
    "collapsed": true
   },
   "outputs": [],
   "source": [
    "# Highway mpg has high p-value as well as high VIF, so drop it\n",
    "drop_list.append('highwaympg')"
   ]
  },
  {
   "cell_type": "code",
   "execution_count": 102,
   "metadata": {
    "collapsed": true
   },
   "outputs": [],
   "source": [
    "# Drop the column\n",
    "X_train.drop('highwaympg', inplace = True, axis=1)"
   ]
  },
  {
   "cell_type": "code",
   "execution_count": 103,
   "metadata": {
    "collapsed": true
   },
   "outputs": [],
   "source": [
    "# Run linear regression\n",
    "X_train = sm.add_constant(X_train)\n",
    "lm_6 = sm.OLS(y_train, X_train).fit() "
   ]
  },
  {
   "cell_type": "code",
   "execution_count": 104,
   "metadata": {},
   "outputs": [
    {
     "name": "stdout",
     "output_type": "stream",
     "text": [
      "                            OLS Regression Results                            \n",
      "==============================================================================\n",
      "Dep. Variable:                  price   R-squared:                       0.946\n",
      "Model:                            OLS   Adj. R-squared:                  0.936\n",
      "Method:                 Least Squares   F-statistic:                     95.84\n",
      "Date:                Thu, 15 Mar 2018   Prob (F-statistic):           1.70e-65\n",
      "Time:                        03:52:00   Log-Likelihood:                 241.13\n",
      "No. Observations:                 143   AIC:                            -436.3\n",
      "Df Residuals:                     120   BIC:                            -368.1\n",
      "Df Model:                          22                                         \n",
      "Covariance Type:            nonrobust                                         \n",
      "========================================================================================\n",
      "                           coef    std err          t      P>|t|      [0.025      0.975]\n",
      "----------------------------------------------------------------------------------------\n",
      "const                    0.0027      0.004      0.629      0.531      -0.006       0.011\n",
      "wheelbase                0.1970      0.070      2.806      0.006       0.058       0.336\n",
      "carlength               -0.2652      0.084     -3.148      0.002      -0.432      -0.098\n",
      "carwidth                 0.3972      0.072      5.493      0.000       0.254       0.540\n",
      "curbweight               0.3155      0.090      3.488      0.001       0.136       0.495\n",
      "enginesize               0.6575      0.145      4.547      0.000       0.371       0.944\n",
      "boreratio               -0.1840      0.066     -2.797      0.006      -0.314      -0.054\n",
      "stroke                  -0.1858      0.058     -3.207      0.002      -0.301      -0.071\n",
      "compressionratio        -0.3238      0.142     -2.281      0.024      -0.605      -0.043\n",
      "front_enginelocation    -0.2024      0.053     -3.800      0.000      -0.308      -0.097\n",
      "gas_fueltype            -0.1496      0.062     -2.422      0.017      -0.272      -0.027\n",
      "cylindercount           -0.2455      0.136     -1.807      0.073      -0.514       0.023\n",
      "hardtop                 -0.0788      0.047     -1.673      0.097      -0.172       0.014\n",
      "hatchback               -0.1191      0.031     -3.852      0.000      -0.180      -0.058\n",
      "sedan                   -0.0859      0.032     -2.667      0.009      -0.150      -0.022\n",
      "wagon                   -0.0981      0.035     -2.840      0.005      -0.166      -0.030\n",
      "l                        0.1473      0.051      2.870      0.005       0.046       0.249\n",
      "ohcf                     0.0875      0.027      3.260      0.001       0.034       0.141\n",
      "rotor                    0.1418      0.036      3.963      0.000       0.071       0.213\n",
      "idi                      0.1496      0.062      2.422      0.017       0.027       0.272\n",
      "bmw                      0.2115      0.023      9.028      0.000       0.165       0.258\n",
      "peugeot                 -0.2842      0.057     -4.972      0.000      -0.397      -0.171\n",
      "porsche                  0.1683      0.051      3.273      0.001       0.066       0.270\n",
      "saab                     0.0923      0.033      2.788      0.006       0.027       0.158\n",
      "subaru                  -0.1149      0.033     -3.534      0.001      -0.179      -0.051\n",
      "==============================================================================\n",
      "Omnibus:                       40.089   Durbin-Watson:                   1.921\n",
      "Prob(Omnibus):                  0.000   Jarque-Bera (JB):              159.464\n",
      "Skew:                           0.932   Prob(JB):                     2.36e-35\n",
      "Kurtosis:                       7.826   Cond. No.                     5.11e+16\n",
      "==============================================================================\n",
      "\n",
      "Warnings:\n",
      "[1] Standard Errors assume that the covariance matrix of the errors is correctly specified.\n",
      "[2] The smallest eigenvalue is 5.48e-32. This might indicate that there are\n",
      "strong multicollinearity problems or that the design matrix is singular.\n"
     ]
    }
   ],
   "source": [
    "# Print results\n",
    "print(lm_6.summary())"
   ]
  },
  {
   "cell_type": "code",
   "execution_count": 105,
   "metadata": {},
   "outputs": [
    {
     "name": "stderr",
     "output_type": "stream",
     "text": [
      "/Users/raagzcd/anaconda3/lib/python3.6/site-packages/ipykernel_launcher.py:10: RuntimeWarning: divide by zero encountered in double_scalars\n",
      "  # Remove the CWD from sys.path while we load stuff.\n"
     ]
    },
    {
     "data": {
      "text/html": [
       "<div>\n",
       "<style>\n",
       "    .dataframe thead tr:only-child th {\n",
       "        text-align: right;\n",
       "    }\n",
       "\n",
       "    .dataframe thead th {\n",
       "        text-align: left;\n",
       "    }\n",
       "\n",
       "    .dataframe tbody tr th {\n",
       "        vertical-align: top;\n",
       "    }\n",
       "</style>\n",
       "<table border=\"1\" class=\"dataframe\">\n",
       "  <thead>\n",
       "    <tr style=\"text-align: right;\">\n",
       "      <th></th>\n",
       "      <th>Var</th>\n",
       "      <th>Vif</th>\n",
       "    </tr>\n",
       "  </thead>\n",
       "  <tbody>\n",
       "    <tr>\n",
       "      <th>23</th>\n",
       "      <td>subaru</td>\n",
       "      <td>inf</td>\n",
       "    </tr>\n",
       "    <tr>\n",
       "      <th>18</th>\n",
       "      <td>idi</td>\n",
       "      <td>inf</td>\n",
       "    </tr>\n",
       "    <tr>\n",
       "      <th>16</th>\n",
       "      <td>ohcf</td>\n",
       "      <td>inf</td>\n",
       "    </tr>\n",
       "    <tr>\n",
       "      <th>8</th>\n",
       "      <td>front_enginelocation</td>\n",
       "      <td>inf</td>\n",
       "    </tr>\n",
       "    <tr>\n",
       "      <th>9</th>\n",
       "      <td>gas_fueltype</td>\n",
       "      <td>inf</td>\n",
       "    </tr>\n",
       "    <tr>\n",
       "      <th>7</th>\n",
       "      <td>compressionratio</td>\n",
       "      <td>59.440000</td>\n",
       "    </tr>\n",
       "    <tr>\n",
       "      <th>4</th>\n",
       "      <td>enginesize</td>\n",
       "      <td>17.460000</td>\n",
       "    </tr>\n",
       "    <tr>\n",
       "      <th>3</th>\n",
       "      <td>curbweight</td>\n",
       "      <td>15.820000</td>\n",
       "    </tr>\n",
       "    <tr>\n",
       "      <th>1</th>\n",
       "      <td>carlength</td>\n",
       "      <td>13.360000</td>\n",
       "    </tr>\n",
       "    <tr>\n",
       "      <th>13</th>\n",
       "      <td>sedan</td>\n",
       "      <td>13.150000</td>\n",
       "    </tr>\n",
       "    <tr>\n",
       "      <th>20</th>\n",
       "      <td>peugeot</td>\n",
       "      <td>13.070000</td>\n",
       "    </tr>\n",
       "    <tr>\n",
       "      <th>15</th>\n",
       "      <td>l</td>\n",
       "      <td>12.150000</td>\n",
       "    </tr>\n",
       "    <tr>\n",
       "      <th>12</th>\n",
       "      <td>hatchback</td>\n",
       "      <td>10.990000</td>\n",
       "    </tr>\n",
       "    <tr>\n",
       "      <th>10</th>\n",
       "      <td>cylindercount</td>\n",
       "      <td>10.970000</td>\n",
       "    </tr>\n",
       "    <tr>\n",
       "      <th>2</th>\n",
       "      <td>carwidth</td>\n",
       "      <td>8.580000</td>\n",
       "    </tr>\n",
       "    <tr>\n",
       "      <th>0</th>\n",
       "      <td>wheelbase</td>\n",
       "      <td>7.690000</td>\n",
       "    </tr>\n",
       "    <tr>\n",
       "      <th>14</th>\n",
       "      <td>wagon</td>\n",
       "      <td>6.740000</td>\n",
       "    </tr>\n",
       "    <tr>\n",
       "      <th>5</th>\n",
       "      <td>boreratio</td>\n",
       "      <td>5.370000</td>\n",
       "    </tr>\n",
       "    <tr>\n",
       "      <th>21</th>\n",
       "      <td>porsche</td>\n",
       "      <td>3.940000</td>\n",
       "    </tr>\n",
       "    <tr>\n",
       "      <th>6</th>\n",
       "      <td>stroke</td>\n",
       "      <td>2.670000</td>\n",
       "    </tr>\n",
       "    <tr>\n",
       "      <th>11</th>\n",
       "      <td>hardtop</td>\n",
       "      <td>2.600000</td>\n",
       "    </tr>\n",
       "    <tr>\n",
       "      <th>17</th>\n",
       "      <td>rotor</td>\n",
       "      <td>1.580000</td>\n",
       "    </tr>\n",
       "    <tr>\n",
       "      <th>22</th>\n",
       "      <td>saab</td>\n",
       "      <td>1.520000</td>\n",
       "    </tr>\n",
       "    <tr>\n",
       "      <th>19</th>\n",
       "      <td>bmw</td>\n",
       "      <td>1.270000</td>\n",
       "    </tr>\n",
       "  </tbody>\n",
       "</table>\n",
       "</div>"
      ],
      "text/plain": [
       "                     Var        Vif\n",
       "23                subaru        inf\n",
       "18                   idi        inf\n",
       "16                  ohcf        inf\n",
       "8   front_enginelocation        inf\n",
       "9           gas_fueltype        inf\n",
       "7       compressionratio  59.440000\n",
       "4             enginesize  17.460000\n",
       "3             curbweight  15.820000\n",
       "1              carlength  13.360000\n",
       "13                 sedan  13.150000\n",
       "20               peugeot  13.070000\n",
       "15                     l  12.150000\n",
       "12             hatchback  10.990000\n",
       "10         cylindercount  10.970000\n",
       "2               carwidth   8.580000\n",
       "0              wheelbase   7.690000\n",
       "14                 wagon   6.740000\n",
       "5              boreratio   5.370000\n",
       "21               porsche   3.940000\n",
       "6                 stroke   2.670000\n",
       "11               hardtop   2.600000\n",
       "17                 rotor   1.580000\n",
       "22                  saab   1.520000\n",
       "19                   bmw   1.270000"
      ]
     },
     "execution_count": 105,
     "metadata": {},
     "output_type": "execute_result"
    }
   ],
   "source": [
    "# Calculate VIF\n",
    "vif_cal(input_data=cars.drop(drop_list, axis=1), dependent_col=\"price\")"
   ]
  },
  {
   "cell_type": "code",
   "execution_count": 106,
   "metadata": {
    "collapsed": true
   },
   "outputs": [],
   "source": [
    "# Cylindercount has high p-value as well as high VIF, so drop it\n",
    "drop_list.append('cylindercount')"
   ]
  },
  {
   "cell_type": "code",
   "execution_count": 107,
   "metadata": {
    "collapsed": true
   },
   "outputs": [],
   "source": [
    "# Drop cylindercount\n",
    "X_train.drop('cylindercount', inplace = True, axis=1)"
   ]
  },
  {
   "cell_type": "code",
   "execution_count": 108,
   "metadata": {
    "collapsed": true
   },
   "outputs": [],
   "source": [
    "# Run linear regression\n",
    "X_train = sm.add_constant(X_train)\n",
    "lm_7 = sm.OLS(y_train, X_train).fit() "
   ]
  },
  {
   "cell_type": "code",
   "execution_count": 109,
   "metadata": {},
   "outputs": [
    {
     "name": "stdout",
     "output_type": "stream",
     "text": [
      "                            OLS Regression Results                            \n",
      "==============================================================================\n",
      "Dep. Variable:                  price   R-squared:                       0.945\n",
      "Model:                            OLS   Adj. R-squared:                  0.935\n",
      "Method:                 Least Squares   F-statistic:                     98.41\n",
      "Date:                Thu, 15 Mar 2018   Prob (F-statistic):           8.36e-66\n",
      "Time:                        03:52:00   Log-Likelihood:                 239.21\n",
      "No. Observations:                 143   AIC:                            -434.4\n",
      "Df Residuals:                     121   BIC:                            -369.2\n",
      "Df Model:                          21                                         \n",
      "Covariance Type:            nonrobust                                         \n",
      "========================================================================================\n",
      "                           coef    std err          t      P>|t|      [0.025      0.975]\n",
      "----------------------------------------------------------------------------------------\n",
      "const                    0.0017      0.004      0.400      0.690      -0.007       0.010\n",
      "wheelbase                0.2215      0.070      3.187      0.002       0.084       0.359\n",
      "carlength               -0.2625      0.085     -3.088      0.003      -0.431      -0.094\n",
      "carwidth                 0.3376      0.065      5.198      0.000       0.209       0.466\n",
      "curbweight               0.3255      0.091      3.571      0.001       0.145       0.506\n",
      "enginesize               0.4539      0.091      4.961      0.000       0.273       0.635\n",
      "boreratio               -0.0981      0.046     -2.136      0.035      -0.189      -0.007\n",
      "stroke                  -0.1234      0.047     -2.627      0.010      -0.216      -0.030\n",
      "compressionratio        -0.3205      0.143     -2.238      0.027      -0.604      -0.037\n",
      "front_enginelocation    -0.2143      0.053     -4.018      0.000      -0.320      -0.109\n",
      "gas_fueltype            -0.1465      0.062     -2.352      0.020      -0.270      -0.023\n",
      "hardtop                 -0.0957      0.047     -2.054      0.042      -0.188      -0.003\n",
      "hatchback               -0.1311      0.030     -4.302      0.000      -0.191      -0.071\n",
      "sedan                   -0.1005      0.031     -3.191      0.002      -0.163      -0.038\n",
      "wagon                   -0.1138      0.034     -3.371      0.001      -0.181      -0.047\n",
      "l                        0.1490      0.052      2.877      0.005       0.046       0.252\n",
      "ohcf                     0.0921      0.027      3.417      0.001       0.039       0.145\n",
      "rotor                    0.1616      0.034      4.702      0.000       0.094       0.230\n",
      "idi                      0.1465      0.062      2.352      0.020       0.023       0.270\n",
      "bmw                      0.2098      0.024      8.879      0.000       0.163       0.257\n",
      "peugeot                 -0.2773      0.058     -4.818      0.000      -0.391      -0.163\n",
      "porsche                  0.1563      0.051      3.038      0.003       0.054       0.258\n",
      "saab                     0.0938      0.033      2.810      0.006       0.028       0.160\n",
      "subaru                  -0.1222      0.033     -3.753      0.000      -0.187      -0.058\n",
      "==============================================================================\n",
      "Omnibus:                       43.855   Durbin-Watson:                   1.967\n",
      "Prob(Omnibus):                  0.000   Jarque-Bera (JB):              201.202\n",
      "Skew:                           0.982   Prob(JB):                     2.04e-44\n",
      "Kurtosis:                       8.469   Cond. No.                     4.93e+16\n",
      "==============================================================================\n",
      "\n",
      "Warnings:\n",
      "[1] Standard Errors assume that the covariance matrix of the errors is correctly specified.\n",
      "[2] The smallest eigenvalue is 5.9e-32. This might indicate that there are\n",
      "strong multicollinearity problems or that the design matrix is singular.\n"
     ]
    }
   ],
   "source": [
    "# Print summary\n",
    "print(lm_7.summary())"
   ]
  },
  {
   "cell_type": "code",
   "execution_count": 110,
   "metadata": {},
   "outputs": [
    {
     "name": "stderr",
     "output_type": "stream",
     "text": [
      "/Users/raagzcd/anaconda3/lib/python3.6/site-packages/ipykernel_launcher.py:10: RuntimeWarning: divide by zero encountered in double_scalars\n",
      "  # Remove the CWD from sys.path while we load stuff.\n"
     ]
    },
    {
     "data": {
      "text/html": [
       "<div>\n",
       "<style>\n",
       "    .dataframe thead tr:only-child th {\n",
       "        text-align: right;\n",
       "    }\n",
       "\n",
       "    .dataframe thead th {\n",
       "        text-align: left;\n",
       "    }\n",
       "\n",
       "    .dataframe tbody tr th {\n",
       "        vertical-align: top;\n",
       "    }\n",
       "</style>\n",
       "<table border=\"1\" class=\"dataframe\">\n",
       "  <thead>\n",
       "    <tr style=\"text-align: right;\">\n",
       "      <th></th>\n",
       "      <th>Var</th>\n",
       "      <th>Vif</th>\n",
       "    </tr>\n",
       "  </thead>\n",
       "  <tbody>\n",
       "    <tr>\n",
       "      <th>22</th>\n",
       "      <td>subaru</td>\n",
       "      <td>inf</td>\n",
       "    </tr>\n",
       "    <tr>\n",
       "      <th>17</th>\n",
       "      <td>idi</td>\n",
       "      <td>inf</td>\n",
       "    </tr>\n",
       "    <tr>\n",
       "      <th>15</th>\n",
       "      <td>ohcf</td>\n",
       "      <td>inf</td>\n",
       "    </tr>\n",
       "    <tr>\n",
       "      <th>8</th>\n",
       "      <td>front_enginelocation</td>\n",
       "      <td>inf</td>\n",
       "    </tr>\n",
       "    <tr>\n",
       "      <th>9</th>\n",
       "      <td>gas_fueltype</td>\n",
       "      <td>inf</td>\n",
       "    </tr>\n",
       "    <tr>\n",
       "      <th>7</th>\n",
       "      <td>compressionratio</td>\n",
       "      <td>57.500000</td>\n",
       "    </tr>\n",
       "    <tr>\n",
       "      <th>3</th>\n",
       "      <td>curbweight</td>\n",
       "      <td>15.640000</td>\n",
       "    </tr>\n",
       "    <tr>\n",
       "      <th>1</th>\n",
       "      <td>carlength</td>\n",
       "      <td>13.150000</td>\n",
       "    </tr>\n",
       "    <tr>\n",
       "      <th>19</th>\n",
       "      <td>peugeot</td>\n",
       "      <td>13.040000</td>\n",
       "    </tr>\n",
       "    <tr>\n",
       "      <th>12</th>\n",
       "      <td>sedan</td>\n",
       "      <td>12.750000</td>\n",
       "    </tr>\n",
       "    <tr>\n",
       "      <th>14</th>\n",
       "      <td>l</td>\n",
       "      <td>12.140000</td>\n",
       "    </tr>\n",
       "    <tr>\n",
       "      <th>11</th>\n",
       "      <td>hatchback</td>\n",
       "      <td>10.860000</td>\n",
       "    </tr>\n",
       "    <tr>\n",
       "      <th>4</th>\n",
       "      <td>enginesize</td>\n",
       "      <td>7.920000</td>\n",
       "    </tr>\n",
       "    <tr>\n",
       "      <th>0</th>\n",
       "      <td>wheelbase</td>\n",
       "      <td>7.400000</td>\n",
       "    </tr>\n",
       "    <tr>\n",
       "      <th>2</th>\n",
       "      <td>carwidth</td>\n",
       "      <td>7.180000</td>\n",
       "    </tr>\n",
       "    <tr>\n",
       "      <th>13</th>\n",
       "      <td>wagon</td>\n",
       "      <td>6.510000</td>\n",
       "    </tr>\n",
       "    <tr>\n",
       "      <th>20</th>\n",
       "      <td>porsche</td>\n",
       "      <td>3.930000</td>\n",
       "    </tr>\n",
       "    <tr>\n",
       "      <th>5</th>\n",
       "      <td>boreratio</td>\n",
       "      <td>3.160000</td>\n",
       "    </tr>\n",
       "    <tr>\n",
       "      <th>10</th>\n",
       "      <td>hardtop</td>\n",
       "      <td>2.590000</td>\n",
       "    </tr>\n",
       "    <tr>\n",
       "      <th>6</th>\n",
       "      <td>stroke</td>\n",
       "      <td>2.330000</td>\n",
       "    </tr>\n",
       "    <tr>\n",
       "      <th>21</th>\n",
       "      <td>saab</td>\n",
       "      <td>1.470000</td>\n",
       "    </tr>\n",
       "    <tr>\n",
       "      <th>16</th>\n",
       "      <td>rotor</td>\n",
       "      <td>1.370000</td>\n",
       "    </tr>\n",
       "    <tr>\n",
       "      <th>18</th>\n",
       "      <td>bmw</td>\n",
       "      <td>1.250000</td>\n",
       "    </tr>\n",
       "  </tbody>\n",
       "</table>\n",
       "</div>"
      ],
      "text/plain": [
       "                     Var        Vif\n",
       "22                subaru        inf\n",
       "17                   idi        inf\n",
       "15                  ohcf        inf\n",
       "8   front_enginelocation        inf\n",
       "9           gas_fueltype        inf\n",
       "7       compressionratio  57.500000\n",
       "3             curbweight  15.640000\n",
       "1              carlength  13.150000\n",
       "19               peugeot  13.040000\n",
       "12                 sedan  12.750000\n",
       "14                     l  12.140000\n",
       "11             hatchback  10.860000\n",
       "4             enginesize   7.920000\n",
       "0              wheelbase   7.400000\n",
       "2               carwidth   7.180000\n",
       "13                 wagon   6.510000\n",
       "20               porsche   3.930000\n",
       "5              boreratio   3.160000\n",
       "10               hardtop   2.590000\n",
       "6                 stroke   2.330000\n",
       "21                  saab   1.470000\n",
       "16                 rotor   1.370000\n",
       "18                   bmw   1.250000"
      ]
     },
     "execution_count": 110,
     "metadata": {},
     "output_type": "execute_result"
    }
   ],
   "source": [
    "# Print VIF\n",
    "vif_cal(input_data=cars.drop(drop_list, axis=1), dependent_col=\"price\")"
   ]
  },
  {
   "cell_type": "code",
   "execution_count": 111,
   "metadata": {
    "collapsed": true
   },
   "outputs": [],
   "source": [
    "# Boreration has a high p-value as well as VIF\n",
    "drop_list.append('boreratio')"
   ]
  },
  {
   "cell_type": "code",
   "execution_count": 112,
   "metadata": {
    "collapsed": true
   },
   "outputs": [],
   "source": [
    "# Drop bore ratio\n",
    "X_train.drop('boreratio', inplace = True, axis=1)"
   ]
  },
  {
   "cell_type": "code",
   "execution_count": 113,
   "metadata": {
    "collapsed": true
   },
   "outputs": [],
   "source": [
    "# Run linear regression\n",
    "X_train = sm.add_constant(X_train)\n",
    "lm_8 = sm.OLS(y_train, X_train).fit() "
   ]
  },
  {
   "cell_type": "code",
   "execution_count": 114,
   "metadata": {},
   "outputs": [
    {
     "name": "stdout",
     "output_type": "stream",
     "text": [
      "                            OLS Regression Results                            \n",
      "==============================================================================\n",
      "Dep. Variable:                  price   R-squared:                       0.943\n",
      "Model:                            OLS   Adj. R-squared:                  0.933\n",
      "Method:                 Least Squares   F-statistic:                     100.2\n",
      "Date:                Thu, 15 Mar 2018   Prob (F-statistic):           7.57e-66\n",
      "Time:                        03:52:01   Log-Likelihood:                 236.57\n",
      "No. Observations:                 143   AIC:                            -431.1\n",
      "Df Residuals:                     122   BIC:                            -368.9\n",
      "Df Model:                          20                                         \n",
      "Covariance Type:            nonrobust                                         \n",
      "========================================================================================\n",
      "                           coef    std err          t      P>|t|      [0.025      0.975]\n",
      "----------------------------------------------------------------------------------------\n",
      "const                    0.0030      0.004      0.695      0.489      -0.005       0.011\n",
      "wheelbase                0.2226      0.071      3.155      0.002       0.083       0.362\n",
      "carlength               -0.3391      0.078     -4.335      0.000      -0.494      -0.184\n",
      "carwidth                 0.3651      0.065      5.654      0.000       0.237       0.493\n",
      "curbweight               0.3459      0.092      3.762      0.000       0.164       0.528\n",
      "enginesize               0.4062      0.090      4.513      0.000       0.228       0.584\n",
      "stroke                  -0.1223      0.048     -2.567      0.011      -0.217      -0.028\n",
      "compressionratio        -0.2600      0.142     -1.826      0.070      -0.542       0.022\n",
      "front_enginelocation    -0.2526      0.051     -4.956      0.000      -0.353      -0.152\n",
      "gas_fueltype            -0.1194      0.062     -1.930      0.056      -0.242       0.003\n",
      "hardtop                 -0.0973      0.047     -2.058      0.042      -0.191      -0.004\n",
      "hatchback               -0.1205      0.031     -3.949      0.000      -0.181      -0.060\n",
      "sedan                   -0.0870      0.031     -2.781      0.006      -0.149      -0.025\n",
      "wagon                   -0.0972      0.033     -2.918      0.004      -0.163      -0.031\n",
      "l                        0.1437      0.052      2.738      0.007       0.040       0.248\n",
      "ohcf                     0.0951      0.027      3.484      0.001       0.041       0.149\n",
      "rotor                    0.1412      0.033      4.215      0.000       0.075       0.207\n",
      "idi                      0.1194      0.062      1.930      0.056      -0.003       0.242\n",
      "bmw                      0.2104      0.024      8.776      0.000       0.163       0.258\n",
      "peugeot                 -0.2833      0.058     -4.858      0.000      -0.399      -0.168\n",
      "porsche                  0.0987      0.044      2.220      0.028       0.011       0.187\n",
      "saab                     0.0819      0.033      2.451      0.016       0.016       0.148\n",
      "subaru                  -0.1575      0.028     -5.530      0.000      -0.214      -0.101\n",
      "==============================================================================\n",
      "Omnibus:                       39.659   Durbin-Watson:                   1.894\n",
      "Prob(Omnibus):                  0.000   Jarque-Bera (JB):              172.209\n",
      "Skew:                           0.885   Prob(JB):                     4.03e-38\n",
      "Kurtosis:                       8.076   Cond. No.                     4.08e+16\n",
      "==============================================================================\n",
      "\n",
      "Warnings:\n",
      "[1] Standard Errors assume that the covariance matrix of the errors is correctly specified.\n",
      "[2] The smallest eigenvalue is 8.62e-32. This might indicate that there are\n",
      "strong multicollinearity problems or that the design matrix is singular.\n"
     ]
    }
   ],
   "source": [
    "# Print summary\n",
    "print(lm_8.summary())"
   ]
  },
  {
   "cell_type": "code",
   "execution_count": 115,
   "metadata": {},
   "outputs": [
    {
     "name": "stderr",
     "output_type": "stream",
     "text": [
      "/Users/raagzcd/anaconda3/lib/python3.6/site-packages/ipykernel_launcher.py:10: RuntimeWarning: divide by zero encountered in double_scalars\n",
      "  # Remove the CWD from sys.path while we load stuff.\n"
     ]
    },
    {
     "data": {
      "text/html": [
       "<div>\n",
       "<style>\n",
       "    .dataframe thead tr:only-child th {\n",
       "        text-align: right;\n",
       "    }\n",
       "\n",
       "    .dataframe thead th {\n",
       "        text-align: left;\n",
       "    }\n",
       "\n",
       "    .dataframe tbody tr th {\n",
       "        vertical-align: top;\n",
       "    }\n",
       "</style>\n",
       "<table border=\"1\" class=\"dataframe\">\n",
       "  <thead>\n",
       "    <tr style=\"text-align: right;\">\n",
       "      <th></th>\n",
       "      <th>Var</th>\n",
       "      <th>Vif</th>\n",
       "    </tr>\n",
       "  </thead>\n",
       "  <tbody>\n",
       "    <tr>\n",
       "      <th>21</th>\n",
       "      <td>subaru</td>\n",
       "      <td>inf</td>\n",
       "    </tr>\n",
       "    <tr>\n",
       "      <th>8</th>\n",
       "      <td>gas_fueltype</td>\n",
       "      <td>inf</td>\n",
       "    </tr>\n",
       "    <tr>\n",
       "      <th>16</th>\n",
       "      <td>idi</td>\n",
       "      <td>inf</td>\n",
       "    </tr>\n",
       "    <tr>\n",
       "      <th>14</th>\n",
       "      <td>ohcf</td>\n",
       "      <td>inf</td>\n",
       "    </tr>\n",
       "    <tr>\n",
       "      <th>7</th>\n",
       "      <td>front_enginelocation</td>\n",
       "      <td>inf</td>\n",
       "    </tr>\n",
       "    <tr>\n",
       "      <th>6</th>\n",
       "      <td>compressionratio</td>\n",
       "      <td>56.690000</td>\n",
       "    </tr>\n",
       "    <tr>\n",
       "      <th>3</th>\n",
       "      <td>curbweight</td>\n",
       "      <td>15.580000</td>\n",
       "    </tr>\n",
       "    <tr>\n",
       "      <th>18</th>\n",
       "      <td>peugeot</td>\n",
       "      <td>13.040000</td>\n",
       "    </tr>\n",
       "    <tr>\n",
       "      <th>11</th>\n",
       "      <td>sedan</td>\n",
       "      <td>12.260000</td>\n",
       "    </tr>\n",
       "    <tr>\n",
       "      <th>13</th>\n",
       "      <td>l</td>\n",
       "      <td>12.130000</td>\n",
       "    </tr>\n",
       "    <tr>\n",
       "      <th>1</th>\n",
       "      <td>carlength</td>\n",
       "      <td>11.960000</td>\n",
       "    </tr>\n",
       "    <tr>\n",
       "      <th>10</th>\n",
       "      <td>hatchback</td>\n",
       "      <td>10.580000</td>\n",
       "    </tr>\n",
       "    <tr>\n",
       "      <th>4</th>\n",
       "      <td>enginesize</td>\n",
       "      <td>7.860000</td>\n",
       "    </tr>\n",
       "    <tr>\n",
       "      <th>0</th>\n",
       "      <td>wheelbase</td>\n",
       "      <td>7.380000</td>\n",
       "    </tr>\n",
       "    <tr>\n",
       "      <th>2</th>\n",
       "      <td>carwidth</td>\n",
       "      <td>6.930000</td>\n",
       "    </tr>\n",
       "    <tr>\n",
       "      <th>12</th>\n",
       "      <td>wagon</td>\n",
       "      <td>6.180000</td>\n",
       "    </tr>\n",
       "    <tr>\n",
       "      <th>19</th>\n",
       "      <td>porsche</td>\n",
       "      <td>3.290000</td>\n",
       "    </tr>\n",
       "    <tr>\n",
       "      <th>9</th>\n",
       "      <td>hardtop</td>\n",
       "      <td>2.590000</td>\n",
       "    </tr>\n",
       "    <tr>\n",
       "      <th>5</th>\n",
       "      <td>stroke</td>\n",
       "      <td>2.310000</td>\n",
       "    </tr>\n",
       "    <tr>\n",
       "      <th>20</th>\n",
       "      <td>saab</td>\n",
       "      <td>1.460000</td>\n",
       "    </tr>\n",
       "    <tr>\n",
       "      <th>15</th>\n",
       "      <td>rotor</td>\n",
       "      <td>1.340000</td>\n",
       "    </tr>\n",
       "    <tr>\n",
       "      <th>17</th>\n",
       "      <td>bmw</td>\n",
       "      <td>1.250000</td>\n",
       "    </tr>\n",
       "  </tbody>\n",
       "</table>\n",
       "</div>"
      ],
      "text/plain": [
       "                     Var        Vif\n",
       "21                subaru        inf\n",
       "8           gas_fueltype        inf\n",
       "16                   idi        inf\n",
       "14                  ohcf        inf\n",
       "7   front_enginelocation        inf\n",
       "6       compressionratio  56.690000\n",
       "3             curbweight  15.580000\n",
       "18               peugeot  13.040000\n",
       "11                 sedan  12.260000\n",
       "13                     l  12.130000\n",
       "1              carlength  11.960000\n",
       "10             hatchback  10.580000\n",
       "4             enginesize   7.860000\n",
       "0              wheelbase   7.380000\n",
       "2               carwidth   6.930000\n",
       "12                 wagon   6.180000\n",
       "19               porsche   3.290000\n",
       "9                hardtop   2.590000\n",
       "5                 stroke   2.310000\n",
       "20                  saab   1.460000\n",
       "15                 rotor   1.340000\n",
       "17                   bmw   1.250000"
      ]
     },
     "execution_count": 115,
     "metadata": {},
     "output_type": "execute_result"
    }
   ],
   "source": [
    "# Print VIF\n",
    "vif_cal(input_data=cars.drop(drop_list, axis=1), dependent_col=\"price\")"
   ]
  },
  {
   "cell_type": "code",
   "execution_count": 116,
   "metadata": {
    "collapsed": true
   },
   "outputs": [],
   "source": [
    "# Compression Ratio has a high p-value as well as VIF\n",
    "drop_list.append('compressionratio')"
   ]
  },
  {
   "cell_type": "code",
   "execution_count": 117,
   "metadata": {
    "collapsed": true
   },
   "outputs": [],
   "source": [
    "# Drop compression ratio\n",
    "X_train.drop('compressionratio', inplace = True, axis=1)"
   ]
  },
  {
   "cell_type": "code",
   "execution_count": 118,
   "metadata": {
    "collapsed": true
   },
   "outputs": [],
   "source": [
    "# Run linear regression\n",
    "X_train = sm.add_constant(X_train)\n",
    "lm_9 = sm.OLS(y_train, X_train).fit() "
   ]
  },
  {
   "cell_type": "code",
   "execution_count": 119,
   "metadata": {},
   "outputs": [
    {
     "name": "stdout",
     "output_type": "stream",
     "text": [
      "                            OLS Regression Results                            \n",
      "==============================================================================\n",
      "Dep. Variable:                  price   R-squared:                       0.941\n",
      "Model:                            OLS   Adj. R-squared:                  0.932\n",
      "Method:                 Least Squares   F-statistic:                     103.3\n",
      "Date:                Thu, 15 Mar 2018   Prob (F-statistic):           3.74e-66\n",
      "Time:                        03:52:01   Log-Likelihood:                 234.64\n",
      "No. Observations:                 143   AIC:                            -429.3\n",
      "Df Residuals:                     123   BIC:                            -370.0\n",
      "Df Model:                          19                                         \n",
      "Covariance Type:            nonrobust                                         \n",
      "========================================================================================\n",
      "                           coef    std err          t      P>|t|      [0.025      0.975]\n",
      "----------------------------------------------------------------------------------------\n",
      "const                    0.0027      0.004      0.620      0.536      -0.006       0.011\n",
      "wheelbase                0.2036      0.070      2.891      0.005       0.064       0.343\n",
      "carlength               -0.3503      0.079     -4.450      0.000      -0.506      -0.194\n",
      "carwidth                 0.3709      0.065      5.697      0.000       0.242       0.500\n",
      "curbweight               0.4236      0.082      5.148      0.000       0.261       0.587\n",
      "enginesize               0.3295      0.080      4.100      0.000       0.170       0.489\n",
      "stroke                  -0.0794      0.042     -1.898      0.060      -0.162       0.003\n",
      "front_enginelocation    -0.2671      0.051     -5.256      0.000      -0.368      -0.167\n",
      "gas_fueltype            -0.0076      0.009     -0.858      0.393      -0.025       0.010\n",
      "hardtop                 -0.1095      0.047     -2.318      0.022      -0.203      -0.016\n",
      "hatchback               -0.1243      0.031     -4.046      0.000      -0.185      -0.063\n",
      "sedan                   -0.0924      0.031     -2.937      0.004      -0.155      -0.030\n",
      "wagon                   -0.1070      0.033     -3.224      0.002      -0.173      -0.041\n",
      "l                        0.1414      0.053      2.670      0.009       0.037       0.246\n",
      "ohcf                     0.1099      0.026      4.177      0.000       0.058       0.162\n",
      "rotor                    0.1173      0.031      3.768      0.000       0.056       0.179\n",
      "idi                      0.0076      0.009      0.858      0.393      -0.010       0.025\n",
      "bmw                      0.2198      0.024      9.301      0.000       0.173       0.267\n",
      "peugeot                 -0.2679      0.058     -4.599      0.000      -0.383      -0.153\n",
      "porsche                  0.0813      0.044      1.856      0.066      -0.005       0.168\n",
      "saab                     0.0743      0.033      2.221      0.028       0.008       0.141\n",
      "subaru                  -0.1572      0.029     -5.468      0.000      -0.214      -0.100\n",
      "==============================================================================\n",
      "Omnibus:                       40.480   Durbin-Watson:                   1.886\n",
      "Prob(Omnibus):                  0.000   Jarque-Bera (JB):              182.891\n",
      "Skew:                           0.893   Prob(JB):                     1.93e-40\n",
      "Kurtosis:                       8.245   Cond. No.                     3.24e+16\n",
      "==============================================================================\n",
      "\n",
      "Warnings:\n",
      "[1] Standard Errors assume that the covariance matrix of the errors is correctly specified.\n",
      "[2] The smallest eigenvalue is 1.37e-31. This might indicate that there are\n",
      "strong multicollinearity problems or that the design matrix is singular.\n"
     ]
    }
   ],
   "source": [
    "# Print summary\n",
    "print(lm_9.summary())"
   ]
  },
  {
   "cell_type": "code",
   "execution_count": 120,
   "metadata": {},
   "outputs": [
    {
     "name": "stderr",
     "output_type": "stream",
     "text": [
      "/Users/raagzcd/anaconda3/lib/python3.6/site-packages/ipykernel_launcher.py:10: RuntimeWarning: divide by zero encountered in double_scalars\n",
      "  # Remove the CWD from sys.path while we load stuff.\n"
     ]
    },
    {
     "data": {
      "text/html": [
       "<div>\n",
       "<style>\n",
       "    .dataframe thead tr:only-child th {\n",
       "        text-align: right;\n",
       "    }\n",
       "\n",
       "    .dataframe thead th {\n",
       "        text-align: left;\n",
       "    }\n",
       "\n",
       "    .dataframe tbody tr th {\n",
       "        vertical-align: top;\n",
       "    }\n",
       "</style>\n",
       "<table border=\"1\" class=\"dataframe\">\n",
       "  <thead>\n",
       "    <tr style=\"text-align: right;\">\n",
       "      <th></th>\n",
       "      <th>Var</th>\n",
       "      <th>Vif</th>\n",
       "    </tr>\n",
       "  </thead>\n",
       "  <tbody>\n",
       "    <tr>\n",
       "      <th>20</th>\n",
       "      <td>subaru</td>\n",
       "      <td>inf</td>\n",
       "    </tr>\n",
       "    <tr>\n",
       "      <th>7</th>\n",
       "      <td>gas_fueltype</td>\n",
       "      <td>inf</td>\n",
       "    </tr>\n",
       "    <tr>\n",
       "      <th>15</th>\n",
       "      <td>idi</td>\n",
       "      <td>inf</td>\n",
       "    </tr>\n",
       "    <tr>\n",
       "      <th>13</th>\n",
       "      <td>ohcf</td>\n",
       "      <td>inf</td>\n",
       "    </tr>\n",
       "    <tr>\n",
       "      <th>6</th>\n",
       "      <td>front_enginelocation</td>\n",
       "      <td>inf</td>\n",
       "    </tr>\n",
       "    <tr>\n",
       "      <th>3</th>\n",
       "      <td>curbweight</td>\n",
       "      <td>14.070000</td>\n",
       "    </tr>\n",
       "    <tr>\n",
       "      <th>17</th>\n",
       "      <td>peugeot</td>\n",
       "      <td>12.900000</td>\n",
       "    </tr>\n",
       "    <tr>\n",
       "      <th>10</th>\n",
       "      <td>sedan</td>\n",
       "      <td>12.240000</td>\n",
       "    </tr>\n",
       "    <tr>\n",
       "      <th>12</th>\n",
       "      <td>l</td>\n",
       "      <td>12.130000</td>\n",
       "    </tr>\n",
       "    <tr>\n",
       "      <th>1</th>\n",
       "      <td>carlength</td>\n",
       "      <td>11.910000</td>\n",
       "    </tr>\n",
       "    <tr>\n",
       "      <th>9</th>\n",
       "      <td>hatchback</td>\n",
       "      <td>10.570000</td>\n",
       "    </tr>\n",
       "    <tr>\n",
       "      <th>4</th>\n",
       "      <td>enginesize</td>\n",
       "      <td>7.370000</td>\n",
       "    </tr>\n",
       "    <tr>\n",
       "      <th>0</th>\n",
       "      <td>wheelbase</td>\n",
       "      <td>7.370000</td>\n",
       "    </tr>\n",
       "    <tr>\n",
       "      <th>2</th>\n",
       "      <td>carwidth</td>\n",
       "      <td>6.930000</td>\n",
       "    </tr>\n",
       "    <tr>\n",
       "      <th>11</th>\n",
       "      <td>wagon</td>\n",
       "      <td>6.150000</td>\n",
       "    </tr>\n",
       "    <tr>\n",
       "      <th>18</th>\n",
       "      <td>porsche</td>\n",
       "      <td>3.180000</td>\n",
       "    </tr>\n",
       "    <tr>\n",
       "      <th>8</th>\n",
       "      <td>hardtop</td>\n",
       "      <td>2.580000</td>\n",
       "    </tr>\n",
       "    <tr>\n",
       "      <th>5</th>\n",
       "      <td>stroke</td>\n",
       "      <td>1.900000</td>\n",
       "    </tr>\n",
       "    <tr>\n",
       "      <th>19</th>\n",
       "      <td>saab</td>\n",
       "      <td>1.460000</td>\n",
       "    </tr>\n",
       "    <tr>\n",
       "      <th>14</th>\n",
       "      <td>rotor</td>\n",
       "      <td>1.270000</td>\n",
       "    </tr>\n",
       "    <tr>\n",
       "      <th>16</th>\n",
       "      <td>bmw</td>\n",
       "      <td>1.230000</td>\n",
       "    </tr>\n",
       "  </tbody>\n",
       "</table>\n",
       "</div>"
      ],
      "text/plain": [
       "                     Var        Vif\n",
       "20                subaru        inf\n",
       "7           gas_fueltype        inf\n",
       "15                   idi        inf\n",
       "13                  ohcf        inf\n",
       "6   front_enginelocation        inf\n",
       "3             curbweight  14.070000\n",
       "17               peugeot  12.900000\n",
       "10                 sedan  12.240000\n",
       "12                     l  12.130000\n",
       "1              carlength  11.910000\n",
       "9              hatchback  10.570000\n",
       "4             enginesize   7.370000\n",
       "0              wheelbase   7.370000\n",
       "2               carwidth   6.930000\n",
       "11                 wagon   6.150000\n",
       "18               porsche   3.180000\n",
       "8                hardtop   2.580000\n",
       "5                 stroke   1.900000\n",
       "19                  saab   1.460000\n",
       "14                 rotor   1.270000\n",
       "16                   bmw   1.230000"
      ]
     },
     "execution_count": 120,
     "metadata": {},
     "output_type": "execute_result"
    }
   ],
   "source": [
    "vif_cal(input_data=cars.drop(drop_list, axis=1), dependent_col=\"price\")"
   ]
  },
  {
   "cell_type": "code",
   "execution_count": 121,
   "metadata": {
    "collapsed": true
   },
   "outputs": [],
   "source": [
    "# IDI has a high p-value as well as VIF\n",
    "drop_list.append('idi')"
   ]
  },
  {
   "cell_type": "code",
   "execution_count": 122,
   "metadata": {
    "collapsed": true
   },
   "outputs": [],
   "source": [
    "# Drop IDI\n",
    "X_train.drop('idi', inplace = True, axis=1)"
   ]
  },
  {
   "cell_type": "code",
   "execution_count": 123,
   "metadata": {
    "collapsed": true
   },
   "outputs": [],
   "source": [
    "# Run linear regression\n",
    "X_train = sm.add_constant(X_train)\n",
    "lm_10 = sm.OLS(y_train, X_train).fit() "
   ]
  },
  {
   "cell_type": "code",
   "execution_count": 124,
   "metadata": {},
   "outputs": [
    {
     "name": "stdout",
     "output_type": "stream",
     "text": [
      "                            OLS Regression Results                            \n",
      "==============================================================================\n",
      "Dep. Variable:                  price   R-squared:                       0.941\n",
      "Model:                            OLS   Adj. R-squared:                  0.932\n",
      "Method:                 Least Squares   F-statistic:                     103.3\n",
      "Date:                Thu, 15 Mar 2018   Prob (F-statistic):           3.74e-66\n",
      "Time:                        03:52:01   Log-Likelihood:                 234.64\n",
      "No. Observations:                 143   AIC:                            -429.3\n",
      "Df Residuals:                     123   BIC:                            -370.0\n",
      "Df Model:                          19                                         \n",
      "Covariance Type:            nonrobust                                         \n",
      "========================================================================================\n",
      "                           coef    std err          t      P>|t|      [0.025      0.975]\n",
      "----------------------------------------------------------------------------------------\n",
      "const                    0.0027      0.004      0.620      0.536      -0.006       0.011\n",
      "wheelbase                0.2036      0.070      2.891      0.005       0.064       0.343\n",
      "carlength               -0.3503      0.079     -4.450      0.000      -0.506      -0.194\n",
      "carwidth                 0.3709      0.065      5.697      0.000       0.242       0.500\n",
      "curbweight               0.4236      0.082      5.148      0.000       0.261       0.587\n",
      "enginesize               0.3295      0.080      4.100      0.000       0.170       0.489\n",
      "stroke                  -0.0794      0.042     -1.898      0.060      -0.162       0.003\n",
      "front_enginelocation    -0.2671      0.051     -5.256      0.000      -0.368      -0.167\n",
      "gas_fueltype            -0.0151      0.018     -0.858      0.393      -0.050       0.020\n",
      "hardtop                 -0.1095      0.047     -2.318      0.022      -0.203      -0.016\n",
      "hatchback               -0.1243      0.031     -4.046      0.000      -0.185      -0.063\n",
      "sedan                   -0.0924      0.031     -2.937      0.004      -0.155      -0.030\n",
      "wagon                   -0.1070      0.033     -3.224      0.002      -0.173      -0.041\n",
      "l                        0.1414      0.053      2.670      0.009       0.037       0.246\n",
      "ohcf                     0.1099      0.026      4.177      0.000       0.058       0.162\n",
      "rotor                    0.1173      0.031      3.768      0.000       0.056       0.179\n",
      "bmw                      0.2198      0.024      9.301      0.000       0.173       0.267\n",
      "peugeot                 -0.2679      0.058     -4.599      0.000      -0.383      -0.153\n",
      "porsche                  0.0813      0.044      1.856      0.066      -0.005       0.168\n",
      "saab                     0.0743      0.033      2.221      0.028       0.008       0.141\n",
      "subaru                  -0.1572      0.029     -5.468      0.000      -0.214      -0.100\n",
      "==============================================================================\n",
      "Omnibus:                       40.480   Durbin-Watson:                   1.886\n",
      "Prob(Omnibus):                  0.000   Jarque-Bera (JB):              182.891\n",
      "Skew:                           0.893   Prob(JB):                     1.93e-40\n",
      "Kurtosis:                       8.245   Cond. No.                     2.30e+16\n",
      "==============================================================================\n",
      "\n",
      "Warnings:\n",
      "[1] Standard Errors assume that the covariance matrix of the errors is correctly specified.\n",
      "[2] The smallest eigenvalue is 2.71e-31. This might indicate that there are\n",
      "strong multicollinearity problems or that the design matrix is singular.\n"
     ]
    }
   ],
   "source": [
    "# Print summary\n",
    "print(lm_10.summary())"
   ]
  },
  {
   "cell_type": "code",
   "execution_count": 125,
   "metadata": {},
   "outputs": [
    {
     "name": "stderr",
     "output_type": "stream",
     "text": [
      "/Users/raagzcd/anaconda3/lib/python3.6/site-packages/ipykernel_launcher.py:10: RuntimeWarning: divide by zero encountered in double_scalars\n",
      "  # Remove the CWD from sys.path while we load stuff.\n"
     ]
    },
    {
     "data": {
      "text/html": [
       "<div>\n",
       "<style>\n",
       "    .dataframe thead tr:only-child th {\n",
       "        text-align: right;\n",
       "    }\n",
       "\n",
       "    .dataframe thead th {\n",
       "        text-align: left;\n",
       "    }\n",
       "\n",
       "    .dataframe tbody tr th {\n",
       "        vertical-align: top;\n",
       "    }\n",
       "</style>\n",
       "<table border=\"1\" class=\"dataframe\">\n",
       "  <thead>\n",
       "    <tr style=\"text-align: right;\">\n",
       "      <th></th>\n",
       "      <th>Var</th>\n",
       "      <th>Vif</th>\n",
       "    </tr>\n",
       "  </thead>\n",
       "  <tbody>\n",
       "    <tr>\n",
       "      <th>19</th>\n",
       "      <td>subaru</td>\n",
       "      <td>inf</td>\n",
       "    </tr>\n",
       "    <tr>\n",
       "      <th>6</th>\n",
       "      <td>front_enginelocation</td>\n",
       "      <td>inf</td>\n",
       "    </tr>\n",
       "    <tr>\n",
       "      <th>13</th>\n",
       "      <td>ohcf</td>\n",
       "      <td>inf</td>\n",
       "    </tr>\n",
       "    <tr>\n",
       "      <th>3</th>\n",
       "      <td>curbweight</td>\n",
       "      <td>14.070000</td>\n",
       "    </tr>\n",
       "    <tr>\n",
       "      <th>16</th>\n",
       "      <td>peugeot</td>\n",
       "      <td>12.900000</td>\n",
       "    </tr>\n",
       "    <tr>\n",
       "      <th>10</th>\n",
       "      <td>sedan</td>\n",
       "      <td>12.240000</td>\n",
       "    </tr>\n",
       "    <tr>\n",
       "      <th>12</th>\n",
       "      <td>l</td>\n",
       "      <td>12.130000</td>\n",
       "    </tr>\n",
       "    <tr>\n",
       "      <th>1</th>\n",
       "      <td>carlength</td>\n",
       "      <td>11.910000</td>\n",
       "    </tr>\n",
       "    <tr>\n",
       "      <th>9</th>\n",
       "      <td>hatchback</td>\n",
       "      <td>10.570000</td>\n",
       "    </tr>\n",
       "    <tr>\n",
       "      <th>4</th>\n",
       "      <td>enginesize</td>\n",
       "      <td>7.370000</td>\n",
       "    </tr>\n",
       "    <tr>\n",
       "      <th>0</th>\n",
       "      <td>wheelbase</td>\n",
       "      <td>7.370000</td>\n",
       "    </tr>\n",
       "    <tr>\n",
       "      <th>2</th>\n",
       "      <td>carwidth</td>\n",
       "      <td>6.930000</td>\n",
       "    </tr>\n",
       "    <tr>\n",
       "      <th>11</th>\n",
       "      <td>wagon</td>\n",
       "      <td>6.150000</td>\n",
       "    </tr>\n",
       "    <tr>\n",
       "      <th>17</th>\n",
       "      <td>porsche</td>\n",
       "      <td>3.180000</td>\n",
       "    </tr>\n",
       "    <tr>\n",
       "      <th>8</th>\n",
       "      <td>hardtop</td>\n",
       "      <td>2.580000</td>\n",
       "    </tr>\n",
       "    <tr>\n",
       "      <th>5</th>\n",
       "      <td>stroke</td>\n",
       "      <td>1.900000</td>\n",
       "    </tr>\n",
       "    <tr>\n",
       "      <th>18</th>\n",
       "      <td>saab</td>\n",
       "      <td>1.460000</td>\n",
       "    </tr>\n",
       "    <tr>\n",
       "      <th>7</th>\n",
       "      <td>gas_fueltype</td>\n",
       "      <td>1.360000</td>\n",
       "    </tr>\n",
       "    <tr>\n",
       "      <th>14</th>\n",
       "      <td>rotor</td>\n",
       "      <td>1.270000</td>\n",
       "    </tr>\n",
       "    <tr>\n",
       "      <th>15</th>\n",
       "      <td>bmw</td>\n",
       "      <td>1.230000</td>\n",
       "    </tr>\n",
       "  </tbody>\n",
       "</table>\n",
       "</div>"
      ],
      "text/plain": [
       "                     Var        Vif\n",
       "19                subaru        inf\n",
       "6   front_enginelocation        inf\n",
       "13                  ohcf        inf\n",
       "3             curbweight  14.070000\n",
       "16               peugeot  12.900000\n",
       "10                 sedan  12.240000\n",
       "12                     l  12.130000\n",
       "1              carlength  11.910000\n",
       "9              hatchback  10.570000\n",
       "4             enginesize   7.370000\n",
       "0              wheelbase   7.370000\n",
       "2               carwidth   6.930000\n",
       "11                 wagon   6.150000\n",
       "17               porsche   3.180000\n",
       "8                hardtop   2.580000\n",
       "5                 stroke   1.900000\n",
       "18                  saab   1.460000\n",
       "7           gas_fueltype   1.360000\n",
       "14                 rotor   1.270000\n",
       "15                   bmw   1.230000"
      ]
     },
     "execution_count": 125,
     "metadata": {},
     "output_type": "execute_result"
    }
   ],
   "source": [
    "# Print VIF\n",
    "vif_cal(input_data=cars.drop(drop_list, axis=1), dependent_col=\"price\")"
   ]
  },
  {
   "cell_type": "code",
   "execution_count": 126,
   "metadata": {
    "collapsed": true
   },
   "outputs": [],
   "source": [
    "# Gas fueltype has a high p-value but an acceptable VIF\n",
    "drop_list.append('gas_fueltype')"
   ]
  },
  {
   "cell_type": "code",
   "execution_count": 127,
   "metadata": {
    "collapsed": true
   },
   "outputs": [],
   "source": [
    "# Drop gas fueltype\n",
    "X_train.drop('gas_fueltype', inplace = True, axis=1)"
   ]
  },
  {
   "cell_type": "code",
   "execution_count": 128,
   "metadata": {
    "collapsed": true
   },
   "outputs": [],
   "source": [
    "# Run linear regression\n",
    "X_train = sm.add_constant(X_train)\n",
    "lm_11 = sm.OLS(y_train, X_train).fit() "
   ]
  },
  {
   "cell_type": "code",
   "execution_count": 129,
   "metadata": {},
   "outputs": [
    {
     "name": "stdout",
     "output_type": "stream",
     "text": [
      "                            OLS Regression Results                            \n",
      "==============================================================================\n",
      "Dep. Variable:                  price   R-squared:                       0.941\n",
      "Model:                            OLS   Adj. R-squared:                  0.932\n",
      "Method:                 Least Squares   F-statistic:                     109.2\n",
      "Date:                Thu, 15 Mar 2018   Prob (F-statistic):           5.06e-67\n",
      "Time:                        03:52:01   Log-Likelihood:                 234.21\n",
      "No. Observations:                 143   AIC:                            -430.4\n",
      "Df Residuals:                     124   BIC:                            -374.1\n",
      "Df Model:                          18                                         \n",
      "Covariance Type:            nonrobust                                         \n",
      "========================================================================================\n",
      "                           coef    std err          t      P>|t|      [0.025      0.975]\n",
      "----------------------------------------------------------------------------------------\n",
      "const                    0.0026      0.004      0.594      0.554      -0.006       0.011\n",
      "wheelbase                0.2135      0.069      3.076      0.003       0.076       0.351\n",
      "carlength               -0.3620      0.077     -4.675      0.000      -0.515      -0.209\n",
      "carwidth                 0.3729      0.065      5.738      0.000       0.244       0.502\n",
      "curbweight               0.4358      0.081      5.383      0.000       0.276       0.596\n",
      "enginesize               0.3173      0.079      4.016      0.000       0.161       0.474\n",
      "stroke                  -0.0704      0.040     -1.741      0.084      -0.151       0.010\n",
      "front_enginelocation    -0.2702      0.051     -5.336      0.000      -0.370      -0.170\n",
      "hardtop                 -0.1119      0.047     -2.375      0.019      -0.205      -0.019\n",
      "hatchback               -0.1266      0.031     -4.140      0.000      -0.187      -0.066\n",
      "sedan                   -0.0930      0.031     -2.962      0.004      -0.155      -0.031\n",
      "wagon                   -0.1091      0.033     -3.298      0.001      -0.175      -0.044\n",
      "l                        0.1423      0.053      2.691      0.008       0.038       0.247\n",
      "ohcf                     0.1124      0.026      4.304      0.000       0.061       0.164\n",
      "rotor                    0.1154      0.031      3.720      0.000       0.054       0.177\n",
      "bmw                      0.2186      0.024      9.277      0.000       0.172       0.265\n",
      "peugeot                 -0.2658      0.058     -4.573      0.000      -0.381      -0.151\n",
      "porsche                  0.0812      0.044      1.855      0.066      -0.005       0.168\n",
      "saab                     0.0746      0.033      2.231      0.027       0.008       0.141\n",
      "subaru                  -0.1577      0.029     -5.495      0.000      -0.215      -0.101\n",
      "==============================================================================\n",
      "Omnibus:                       39.142   Durbin-Watson:                   1.915\n",
      "Prob(Omnibus):                  0.000   Jarque-Bera (JB):              176.271\n",
      "Skew:                           0.856   Prob(JB):                     5.29e-39\n",
      "Kurtosis:                       8.163   Cond. No.                     2.48e+16\n",
      "==============================================================================\n",
      "\n",
      "Warnings:\n",
      "[1] Standard Errors assume that the covariance matrix of the errors is correctly specified.\n",
      "[2] The smallest eigenvalue is 2.33e-31. This might indicate that there are\n",
      "strong multicollinearity problems or that the design matrix is singular.\n"
     ]
    }
   ],
   "source": [
    "# Print summary\n",
    "print(lm_11.summary())"
   ]
  },
  {
   "cell_type": "code",
   "execution_count": 130,
   "metadata": {},
   "outputs": [
    {
     "name": "stderr",
     "output_type": "stream",
     "text": [
      "/Users/raagzcd/anaconda3/lib/python3.6/site-packages/ipykernel_launcher.py:10: RuntimeWarning: divide by zero encountered in double_scalars\n",
      "  # Remove the CWD from sys.path while we load stuff.\n"
     ]
    },
    {
     "data": {
      "text/html": [
       "<div>\n",
       "<style>\n",
       "    .dataframe thead tr:only-child th {\n",
       "        text-align: right;\n",
       "    }\n",
       "\n",
       "    .dataframe thead th {\n",
       "        text-align: left;\n",
       "    }\n",
       "\n",
       "    .dataframe tbody tr th {\n",
       "        vertical-align: top;\n",
       "    }\n",
       "</style>\n",
       "<table border=\"1\" class=\"dataframe\">\n",
       "  <thead>\n",
       "    <tr style=\"text-align: right;\">\n",
       "      <th></th>\n",
       "      <th>Var</th>\n",
       "      <th>Vif</th>\n",
       "    </tr>\n",
       "  </thead>\n",
       "  <tbody>\n",
       "    <tr>\n",
       "      <th>18</th>\n",
       "      <td>subaru</td>\n",
       "      <td>inf</td>\n",
       "    </tr>\n",
       "    <tr>\n",
       "      <th>6</th>\n",
       "      <td>front_enginelocation</td>\n",
       "      <td>inf</td>\n",
       "    </tr>\n",
       "    <tr>\n",
       "      <th>12</th>\n",
       "      <td>ohcf</td>\n",
       "      <td>inf</td>\n",
       "    </tr>\n",
       "    <tr>\n",
       "      <th>3</th>\n",
       "      <td>curbweight</td>\n",
       "      <td>13.610000</td>\n",
       "    </tr>\n",
       "    <tr>\n",
       "      <th>15</th>\n",
       "      <td>peugeot</td>\n",
       "      <td>12.890000</td>\n",
       "    </tr>\n",
       "    <tr>\n",
       "      <th>9</th>\n",
       "      <td>sedan</td>\n",
       "      <td>12.240000</td>\n",
       "    </tr>\n",
       "    <tr>\n",
       "      <th>11</th>\n",
       "      <td>l</td>\n",
       "      <td>12.130000</td>\n",
       "    </tr>\n",
       "    <tr>\n",
       "      <th>1</th>\n",
       "      <td>carlength</td>\n",
       "      <td>11.560000</td>\n",
       "    </tr>\n",
       "    <tr>\n",
       "      <th>8</th>\n",
       "      <td>hatchback</td>\n",
       "      <td>10.530000</td>\n",
       "    </tr>\n",
       "    <tr>\n",
       "      <th>0</th>\n",
       "      <td>wheelbase</td>\n",
       "      <td>7.230000</td>\n",
       "    </tr>\n",
       "    <tr>\n",
       "      <th>4</th>\n",
       "      <td>enginesize</td>\n",
       "      <td>7.000000</td>\n",
       "    </tr>\n",
       "    <tr>\n",
       "      <th>2</th>\n",
       "      <td>carwidth</td>\n",
       "      <td>6.890000</td>\n",
       "    </tr>\n",
       "    <tr>\n",
       "      <th>10</th>\n",
       "      <td>wagon</td>\n",
       "      <td>6.140000</td>\n",
       "    </tr>\n",
       "    <tr>\n",
       "      <th>16</th>\n",
       "      <td>porsche</td>\n",
       "      <td>3.180000</td>\n",
       "    </tr>\n",
       "    <tr>\n",
       "      <th>7</th>\n",
       "      <td>hardtop</td>\n",
       "      <td>2.580000</td>\n",
       "    </tr>\n",
       "    <tr>\n",
       "      <th>5</th>\n",
       "      <td>stroke</td>\n",
       "      <td>1.770000</td>\n",
       "    </tr>\n",
       "    <tr>\n",
       "      <th>17</th>\n",
       "      <td>saab</td>\n",
       "      <td>1.460000</td>\n",
       "    </tr>\n",
       "    <tr>\n",
       "      <th>13</th>\n",
       "      <td>rotor</td>\n",
       "      <td>1.260000</td>\n",
       "    </tr>\n",
       "    <tr>\n",
       "      <th>14</th>\n",
       "      <td>bmw</td>\n",
       "      <td>1.220000</td>\n",
       "    </tr>\n",
       "  </tbody>\n",
       "</table>\n",
       "</div>"
      ],
      "text/plain": [
       "                     Var        Vif\n",
       "18                subaru        inf\n",
       "6   front_enginelocation        inf\n",
       "12                  ohcf        inf\n",
       "3             curbweight  13.610000\n",
       "15               peugeot  12.890000\n",
       "9                  sedan  12.240000\n",
       "11                     l  12.130000\n",
       "1              carlength  11.560000\n",
       "8              hatchback  10.530000\n",
       "0              wheelbase   7.230000\n",
       "4             enginesize   7.000000\n",
       "2               carwidth   6.890000\n",
       "10                 wagon   6.140000\n",
       "16               porsche   3.180000\n",
       "7                hardtop   2.580000\n",
       "5                 stroke   1.770000\n",
       "17                  saab   1.460000\n",
       "13                 rotor   1.260000\n",
       "14                   bmw   1.220000"
      ]
     },
     "execution_count": 130,
     "metadata": {},
     "output_type": "execute_result"
    }
   ],
   "source": [
    "# Print VIF\n",
    "vif_cal(input_data=cars.drop(drop_list, axis=1), dependent_col=\"price\")"
   ]
  },
  {
   "cell_type": "code",
   "execution_count": 131,
   "metadata": {
    "collapsed": true
   },
   "outputs": [],
   "source": [
    "# Porsche has a high p-value as well as high VIF\n",
    "drop_list.append('porsche')"
   ]
  },
  {
   "cell_type": "code",
   "execution_count": 132,
   "metadata": {
    "collapsed": true
   },
   "outputs": [],
   "source": [
    "# Drop porsche\n",
    "X_train.drop('porsche', inplace = True, axis=1)"
   ]
  },
  {
   "cell_type": "code",
   "execution_count": 133,
   "metadata": {
    "collapsed": true
   },
   "outputs": [],
   "source": [
    "# Run linear regression\n",
    "X_train = sm.add_constant(X_train)\n",
    "lm_12 = sm.OLS(y_train, X_train).fit() "
   ]
  },
  {
   "cell_type": "code",
   "execution_count": 134,
   "metadata": {},
   "outputs": [
    {
     "name": "stdout",
     "output_type": "stream",
     "text": [
      "                            OLS Regression Results                            \n",
      "==============================================================================\n",
      "Dep. Variable:                  price   R-squared:                       0.939\n",
      "Model:                            OLS   Adj. R-squared:                  0.931\n",
      "Method:                 Least Squares   F-statistic:                     113.3\n",
      "Date:                Thu, 15 Mar 2018   Prob (F-statistic):           2.52e-67\n",
      "Time:                        03:52:01   Log-Likelihood:                 232.26\n",
      "No. Observations:                 143   AIC:                            -428.5\n",
      "Df Residuals:                     125   BIC:                            -375.2\n",
      "Df Model:                          17                                         \n",
      "Covariance Type:            nonrobust                                         \n",
      "========================================================================================\n",
      "                           coef    std err          t      P>|t|      [0.025      0.975]\n",
      "----------------------------------------------------------------------------------------\n",
      "const                    0.0028      0.004      0.634      0.527      -0.006       0.011\n",
      "wheelbase                0.1804      0.068      2.664      0.009       0.046       0.314\n",
      "carlength               -0.3916      0.077     -5.118      0.000      -0.543      -0.240\n",
      "carwidth                 0.4284      0.058      7.351      0.000       0.313       0.544\n",
      "curbweight               0.4470      0.082      5.483      0.000       0.286       0.608\n",
      "enginesize               0.3125      0.080      3.919      0.000       0.155       0.470\n",
      "stroke                  -0.0849      0.040     -2.117      0.036      -0.164      -0.006\n",
      "front_enginelocation    -0.3181      0.044     -7.232      0.000      -0.405      -0.231\n",
      "hardtop                 -0.0984      0.047     -2.094      0.038      -0.191      -0.005\n",
      "hatchback               -0.1149      0.030     -3.803      0.000      -0.175      -0.055\n",
      "sedan                   -0.0816      0.031     -2.623      0.010      -0.143      -0.020\n",
      "wagon                   -0.0955      0.033     -2.931      0.004      -0.160      -0.031\n",
      "l                        0.1440      0.053      2.697      0.008       0.038       0.250\n",
      "ohcf                     0.1334      0.024      5.605      0.000       0.086       0.180\n",
      "rotor                    0.1088      0.031      3.499      0.001       0.047       0.170\n",
      "bmw                      0.2216      0.024      9.335      0.000       0.175       0.269\n",
      "peugeot                 -0.2654      0.059     -4.521      0.000      -0.382      -0.149\n",
      "saab                     0.0740      0.034      2.194      0.030       0.007       0.141\n",
      "subaru                  -0.1847      0.025     -7.391      0.000      -0.234      -0.135\n",
      "==============================================================================\n",
      "Omnibus:                       37.445   Durbin-Watson:                   1.877\n",
      "Prob(Omnibus):                  0.000   Jarque-Bera (JB):              150.956\n",
      "Skew:                           0.852   Prob(JB):                     1.66e-33\n",
      "Kurtosis:                       7.737   Cond. No.                     2.47e+16\n",
      "==============================================================================\n",
      "\n",
      "Warnings:\n",
      "[1] Standard Errors assume that the covariance matrix of the errors is correctly specified.\n",
      "[2] The smallest eigenvalue is 2.34e-31. This might indicate that there are\n",
      "strong multicollinearity problems or that the design matrix is singular.\n"
     ]
    }
   ],
   "source": [
    "# Print summary\n",
    "print(lm_12.summary())"
   ]
  },
  {
   "cell_type": "code",
   "execution_count": 135,
   "metadata": {},
   "outputs": [
    {
     "name": "stderr",
     "output_type": "stream",
     "text": [
      "/Users/raagzcd/anaconda3/lib/python3.6/site-packages/ipykernel_launcher.py:10: RuntimeWarning: divide by zero encountered in double_scalars\n",
      "  # Remove the CWD from sys.path while we load stuff.\n"
     ]
    },
    {
     "data": {
      "text/html": [
       "<div>\n",
       "<style>\n",
       "    .dataframe thead tr:only-child th {\n",
       "        text-align: right;\n",
       "    }\n",
       "\n",
       "    .dataframe thead th {\n",
       "        text-align: left;\n",
       "    }\n",
       "\n",
       "    .dataframe tbody tr th {\n",
       "        vertical-align: top;\n",
       "    }\n",
       "</style>\n",
       "<table border=\"1\" class=\"dataframe\">\n",
       "  <thead>\n",
       "    <tr style=\"text-align: right;\">\n",
       "      <th></th>\n",
       "      <th>Var</th>\n",
       "      <th>Vif</th>\n",
       "    </tr>\n",
       "  </thead>\n",
       "  <tbody>\n",
       "    <tr>\n",
       "      <th>17</th>\n",
       "      <td>subaru</td>\n",
       "      <td>inf</td>\n",
       "    </tr>\n",
       "    <tr>\n",
       "      <th>6</th>\n",
       "      <td>front_enginelocation</td>\n",
       "      <td>inf</td>\n",
       "    </tr>\n",
       "    <tr>\n",
       "      <th>12</th>\n",
       "      <td>ohcf</td>\n",
       "      <td>inf</td>\n",
       "    </tr>\n",
       "    <tr>\n",
       "      <th>3</th>\n",
       "      <td>curbweight</td>\n",
       "      <td>13.570000</td>\n",
       "    </tr>\n",
       "    <tr>\n",
       "      <th>15</th>\n",
       "      <td>peugeot</td>\n",
       "      <td>12.890000</td>\n",
       "    </tr>\n",
       "    <tr>\n",
       "      <th>11</th>\n",
       "      <td>l</td>\n",
       "      <td>12.130000</td>\n",
       "    </tr>\n",
       "    <tr>\n",
       "      <th>9</th>\n",
       "      <td>sedan</td>\n",
       "      <td>12.070000</td>\n",
       "    </tr>\n",
       "    <tr>\n",
       "      <th>1</th>\n",
       "      <td>carlength</td>\n",
       "      <td>11.230000</td>\n",
       "    </tr>\n",
       "    <tr>\n",
       "      <th>8</th>\n",
       "      <td>hatchback</td>\n",
       "      <td>10.390000</td>\n",
       "    </tr>\n",
       "    <tr>\n",
       "      <th>4</th>\n",
       "      <td>enginesize</td>\n",
       "      <td>7.000000</td>\n",
       "    </tr>\n",
       "    <tr>\n",
       "      <th>0</th>\n",
       "      <td>wheelbase</td>\n",
       "      <td>6.940000</td>\n",
       "    </tr>\n",
       "    <tr>\n",
       "      <th>10</th>\n",
       "      <td>wagon</td>\n",
       "      <td>6.020000</td>\n",
       "    </tr>\n",
       "    <tr>\n",
       "      <th>2</th>\n",
       "      <td>carwidth</td>\n",
       "      <td>5.950000</td>\n",
       "    </tr>\n",
       "    <tr>\n",
       "      <th>7</th>\n",
       "      <td>hardtop</td>\n",
       "      <td>2.570000</td>\n",
       "    </tr>\n",
       "    <tr>\n",
       "      <th>5</th>\n",
       "      <td>stroke</td>\n",
       "      <td>1.740000</td>\n",
       "    </tr>\n",
       "    <tr>\n",
       "      <th>16</th>\n",
       "      <td>saab</td>\n",
       "      <td>1.460000</td>\n",
       "    </tr>\n",
       "    <tr>\n",
       "      <th>13</th>\n",
       "      <td>rotor</td>\n",
       "      <td>1.250000</td>\n",
       "    </tr>\n",
       "    <tr>\n",
       "      <th>14</th>\n",
       "      <td>bmw</td>\n",
       "      <td>1.220000</td>\n",
       "    </tr>\n",
       "  </tbody>\n",
       "</table>\n",
       "</div>"
      ],
      "text/plain": [
       "                     Var        Vif\n",
       "17                subaru        inf\n",
       "6   front_enginelocation        inf\n",
       "12                  ohcf        inf\n",
       "3             curbweight  13.570000\n",
       "15               peugeot  12.890000\n",
       "11                     l  12.130000\n",
       "9                  sedan  12.070000\n",
       "1              carlength  11.230000\n",
       "8              hatchback  10.390000\n",
       "4             enginesize   7.000000\n",
       "0              wheelbase   6.940000\n",
       "10                 wagon   6.020000\n",
       "2               carwidth   5.950000\n",
       "7                hardtop   2.570000\n",
       "5                 stroke   1.740000\n",
       "16                  saab   1.460000\n",
       "13                 rotor   1.250000\n",
       "14                   bmw   1.220000"
      ]
     },
     "execution_count": 135,
     "metadata": {},
     "output_type": "execute_result"
    }
   ],
   "source": [
    "# Print VIF\n",
    "vif_cal(input_data=cars.drop(drop_list, axis=1), dependent_col=\"price\")"
   ]
  },
  {
   "cell_type": "code",
   "execution_count": 136,
   "metadata": {
    "collapsed": true
   },
   "outputs": [],
   "source": [
    "# Subaru has a high VIF\n",
    "drop_list.append('subaru')"
   ]
  },
  {
   "cell_type": "code",
   "execution_count": 137,
   "metadata": {
    "collapsed": true
   },
   "outputs": [],
   "source": [
    "# Drop subaru\n",
    "X_train.drop('subaru', inplace = True, axis=1)"
   ]
  },
  {
   "cell_type": "code",
   "execution_count": 138,
   "metadata": {
    "collapsed": true
   },
   "outputs": [],
   "source": [
    "# Run linear regression\n",
    "X_train = sm.add_constant(X_train)\n",
    "lm_14 = sm.OLS(y_train, X_train).fit() "
   ]
  },
  {
   "cell_type": "code",
   "execution_count": 139,
   "metadata": {},
   "outputs": [
    {
     "name": "stdout",
     "output_type": "stream",
     "text": [
      "                            OLS Regression Results                            \n",
      "==============================================================================\n",
      "Dep. Variable:                  price   R-squared:                       0.939\n",
      "Model:                            OLS   Adj. R-squared:                  0.931\n",
      "Method:                 Least Squares   F-statistic:                     113.3\n",
      "Date:                Thu, 15 Mar 2018   Prob (F-statistic):           2.52e-67\n",
      "Time:                        03:52:02   Log-Likelihood:                 232.26\n",
      "No. Observations:                 143   AIC:                            -428.5\n",
      "Df Residuals:                     125   BIC:                            -375.2\n",
      "Df Model:                          17                                         \n",
      "Covariance Type:            nonrobust                                         \n",
      "========================================================================================\n",
      "                           coef    std err          t      P>|t|      [0.025      0.975]\n",
      "----------------------------------------------------------------------------------------\n",
      "const                    0.0028      0.004      0.634      0.527      -0.006       0.011\n",
      "wheelbase                0.1804      0.068      2.664      0.009       0.046       0.314\n",
      "carlength               -0.3916      0.077     -5.118      0.000      -0.543      -0.240\n",
      "carwidth                 0.4284      0.058      7.351      0.000       0.313       0.544\n",
      "curbweight               0.4470      0.082      5.483      0.000       0.286       0.608\n",
      "enginesize               0.3125      0.080      3.919      0.000       0.155       0.470\n",
      "stroke                  -0.0849      0.040     -2.117      0.036      -0.164      -0.006\n",
      "front_enginelocation    -0.5028      0.067     -7.453      0.000      -0.636      -0.369\n",
      "hardtop                 -0.0984      0.047     -2.094      0.038      -0.191      -0.005\n",
      "hatchback               -0.1149      0.030     -3.803      0.000      -0.175      -0.055\n",
      "sedan                   -0.0816      0.031     -2.623      0.010      -0.143      -0.020\n",
      "wagon                   -0.0955      0.033     -2.931      0.004      -0.160      -0.031\n",
      "l                        0.1440      0.053      2.697      0.008       0.038       0.250\n",
      "ohcf                    -0.0514      0.021     -2.429      0.017      -0.093      -0.010\n",
      "rotor                    0.1088      0.031      3.499      0.001       0.047       0.170\n",
      "bmw                      0.2216      0.024      9.335      0.000       0.175       0.269\n",
      "peugeot                 -0.2654      0.059     -4.521      0.000      -0.382      -0.149\n",
      "saab                     0.0740      0.034      2.194      0.030       0.007       0.141\n",
      "==============================================================================\n",
      "Omnibus:                       37.445   Durbin-Watson:                   1.877\n",
      "Prob(Omnibus):                  0.000   Jarque-Bera (JB):              150.956\n",
      "Skew:                           0.852   Prob(JB):                     1.66e-33\n",
      "Kurtosis:                       7.737   Cond. No.                         26.0\n",
      "==============================================================================\n",
      "\n",
      "Warnings:\n",
      "[1] Standard Errors assume that the covariance matrix of the errors is correctly specified.\n"
     ]
    }
   ],
   "source": [
    "# Print summary\n",
    "print(lm_14.summary())"
   ]
  },
  {
   "cell_type": "code",
   "execution_count": 140,
   "metadata": {},
   "outputs": [
    {
     "data": {
      "text/html": [
       "<div>\n",
       "<style>\n",
       "    .dataframe thead tr:only-child th {\n",
       "        text-align: right;\n",
       "    }\n",
       "\n",
       "    .dataframe thead th {\n",
       "        text-align: left;\n",
       "    }\n",
       "\n",
       "    .dataframe tbody tr th {\n",
       "        vertical-align: top;\n",
       "    }\n",
       "</style>\n",
       "<table border=\"1\" class=\"dataframe\">\n",
       "  <thead>\n",
       "    <tr style=\"text-align: right;\">\n",
       "      <th></th>\n",
       "      <th>Var</th>\n",
       "      <th>Vif</th>\n",
       "    </tr>\n",
       "  </thead>\n",
       "  <tbody>\n",
       "    <tr>\n",
       "      <th>3</th>\n",
       "      <td>curbweight</td>\n",
       "      <td>13.57</td>\n",
       "    </tr>\n",
       "    <tr>\n",
       "      <th>15</th>\n",
       "      <td>peugeot</td>\n",
       "      <td>12.89</td>\n",
       "    </tr>\n",
       "    <tr>\n",
       "      <th>11</th>\n",
       "      <td>l</td>\n",
       "      <td>12.13</td>\n",
       "    </tr>\n",
       "    <tr>\n",
       "      <th>9</th>\n",
       "      <td>sedan</td>\n",
       "      <td>12.07</td>\n",
       "    </tr>\n",
       "    <tr>\n",
       "      <th>1</th>\n",
       "      <td>carlength</td>\n",
       "      <td>11.23</td>\n",
       "    </tr>\n",
       "    <tr>\n",
       "      <th>8</th>\n",
       "      <td>hatchback</td>\n",
       "      <td>10.39</td>\n",
       "    </tr>\n",
       "    <tr>\n",
       "      <th>4</th>\n",
       "      <td>enginesize</td>\n",
       "      <td>7.00</td>\n",
       "    </tr>\n",
       "    <tr>\n",
       "      <th>0</th>\n",
       "      <td>wheelbase</td>\n",
       "      <td>6.94</td>\n",
       "    </tr>\n",
       "    <tr>\n",
       "      <th>10</th>\n",
       "      <td>wagon</td>\n",
       "      <td>6.02</td>\n",
       "    </tr>\n",
       "    <tr>\n",
       "      <th>2</th>\n",
       "      <td>carwidth</td>\n",
       "      <td>5.95</td>\n",
       "    </tr>\n",
       "    <tr>\n",
       "      <th>7</th>\n",
       "      <td>hardtop</td>\n",
       "      <td>2.57</td>\n",
       "    </tr>\n",
       "    <tr>\n",
       "      <th>12</th>\n",
       "      <td>ohcf</td>\n",
       "      <td>1.88</td>\n",
       "    </tr>\n",
       "    <tr>\n",
       "      <th>5</th>\n",
       "      <td>stroke</td>\n",
       "      <td>1.74</td>\n",
       "    </tr>\n",
       "    <tr>\n",
       "      <th>6</th>\n",
       "      <td>front_enginelocation</td>\n",
       "      <td>1.73</td>\n",
       "    </tr>\n",
       "    <tr>\n",
       "      <th>16</th>\n",
       "      <td>saab</td>\n",
       "      <td>1.46</td>\n",
       "    </tr>\n",
       "    <tr>\n",
       "      <th>13</th>\n",
       "      <td>rotor</td>\n",
       "      <td>1.25</td>\n",
       "    </tr>\n",
       "    <tr>\n",
       "      <th>14</th>\n",
       "      <td>bmw</td>\n",
       "      <td>1.22</td>\n",
       "    </tr>\n",
       "  </tbody>\n",
       "</table>\n",
       "</div>"
      ],
      "text/plain": [
       "                     Var    Vif\n",
       "3             curbweight  13.57\n",
       "15               peugeot  12.89\n",
       "11                     l  12.13\n",
       "9                  sedan  12.07\n",
       "1              carlength  11.23\n",
       "8              hatchback  10.39\n",
       "4             enginesize   7.00\n",
       "0              wheelbase   6.94\n",
       "10                 wagon   6.02\n",
       "2               carwidth   5.95\n",
       "7                hardtop   2.57\n",
       "12                  ohcf   1.88\n",
       "5                 stroke   1.74\n",
       "6   front_enginelocation   1.73\n",
       "16                  saab   1.46\n",
       "13                 rotor   1.25\n",
       "14                   bmw   1.22"
      ]
     },
     "execution_count": 140,
     "metadata": {},
     "output_type": "execute_result"
    }
   ],
   "source": [
    "# Print VIF\n",
    "vif_cal(input_data=cars.drop(drop_list, axis=1), dependent_col=\"price\")"
   ]
  },
  {
   "cell_type": "code",
   "execution_count": 141,
   "metadata": {
    "collapsed": true
   },
   "outputs": [],
   "source": [
    "# Peugeot has a high VIF\n",
    "drop_list.append('peugeot')"
   ]
  },
  {
   "cell_type": "code",
   "execution_count": 142,
   "metadata": {
    "collapsed": true
   },
   "outputs": [],
   "source": [
    "# Drop peugeot\n",
    "X_train.drop('peugeot', inplace = True, axis=1)"
   ]
  },
  {
   "cell_type": "code",
   "execution_count": 143,
   "metadata": {
    "collapsed": true
   },
   "outputs": [],
   "source": [
    "# Run linear regression\n",
    "X_train = sm.add_constant(X_train)\n",
    "lm_15 = sm.OLS(y_train, X_train).fit() "
   ]
  },
  {
   "cell_type": "code",
   "execution_count": 144,
   "metadata": {},
   "outputs": [
    {
     "name": "stdout",
     "output_type": "stream",
     "text": [
      "                            OLS Regression Results                            \n",
      "==============================================================================\n",
      "Dep. Variable:                  price   R-squared:                       0.929\n",
      "Model:                            OLS   Adj. R-squared:                  0.920\n",
      "Method:                 Least Squares   F-statistic:                     103.1\n",
      "Date:                Thu, 15 Mar 2018   Prob (F-statistic):           2.90e-64\n",
      "Time:                        03:52:02   Log-Likelihood:                 221.43\n",
      "No. Observations:                 143   AIC:                            -408.9\n",
      "Df Residuals:                     126   BIC:                            -358.5\n",
      "Df Model:                          16                                         \n",
      "Covariance Type:            nonrobust                                         \n",
      "========================================================================================\n",
      "                           coef    std err          t      P>|t|      [0.025      0.975]\n",
      "----------------------------------------------------------------------------------------\n",
      "const                    0.0028      0.005      0.589      0.557      -0.006       0.012\n",
      "wheelbase                0.1657      0.073      2.280      0.024       0.022       0.309\n",
      "carlength               -0.4210      0.082     -5.140      0.000      -0.583      -0.259\n",
      "carwidth                 0.4097      0.062      6.561      0.000       0.286       0.533\n",
      "curbweight               0.4300      0.087      4.915      0.000       0.257       0.603\n",
      "enginesize               0.3666      0.085      4.329      0.000       0.199       0.534\n",
      "stroke                  -0.0842      0.043     -1.956      0.053      -0.169       0.001\n",
      "front_enginelocation    -0.4881      0.072     -6.742      0.000      -0.631      -0.345\n",
      "hardtop                 -0.0949      0.050     -1.879      0.062      -0.195       0.005\n",
      "hatchback               -0.1073      0.032     -3.312      0.001      -0.171      -0.043\n",
      "sedan                   -0.0745      0.033     -2.232      0.027      -0.141      -0.008\n",
      "wagon                   -0.0877      0.035     -2.510      0.013      -0.157      -0.019\n",
      "l                       -0.0763      0.023     -3.254      0.001      -0.123      -0.030\n",
      "ohcf                    -0.0515      0.023     -2.267      0.025      -0.096      -0.007\n",
      "rotor                    0.1161      0.033      3.479      0.001       0.050       0.182\n",
      "bmw                      0.2253      0.025      8.837      0.000       0.175       0.276\n",
      "saab                     0.0846      0.036      2.341      0.021       0.013       0.156\n",
      "==============================================================================\n",
      "Omnibus:                       44.015   Durbin-Watson:                   1.843\n",
      "Prob(Omnibus):                  0.000   Jarque-Bera (JB):              151.113\n",
      "Skew:                           1.102   Prob(JB):                     1.54e-33\n",
      "Kurtosis:                       7.528   Cond. No.                         25.9\n",
      "==============================================================================\n",
      "\n",
      "Warnings:\n",
      "[1] Standard Errors assume that the covariance matrix of the errors is correctly specified.\n"
     ]
    }
   ],
   "source": [
    "# Print summary\n",
    "print(lm_15.summary())"
   ]
  },
  {
   "cell_type": "code",
   "execution_count": 145,
   "metadata": {},
   "outputs": [
    {
     "data": {
      "text/html": [
       "<div>\n",
       "<style>\n",
       "    .dataframe thead tr:only-child th {\n",
       "        text-align: right;\n",
       "    }\n",
       "\n",
       "    .dataframe thead th {\n",
       "        text-align: left;\n",
       "    }\n",
       "\n",
       "    .dataframe tbody tr th {\n",
       "        vertical-align: top;\n",
       "    }\n",
       "</style>\n",
       "<table border=\"1\" class=\"dataframe\">\n",
       "  <thead>\n",
       "    <tr style=\"text-align: right;\">\n",
       "      <th></th>\n",
       "      <th>Var</th>\n",
       "      <th>Vif</th>\n",
       "    </tr>\n",
       "  </thead>\n",
       "  <tbody>\n",
       "    <tr>\n",
       "      <th>3</th>\n",
       "      <td>curbweight</td>\n",
       "      <td>13.51</td>\n",
       "    </tr>\n",
       "    <tr>\n",
       "      <th>9</th>\n",
       "      <td>sedan</td>\n",
       "      <td>12.07</td>\n",
       "    </tr>\n",
       "    <tr>\n",
       "      <th>1</th>\n",
       "      <td>carlength</td>\n",
       "      <td>11.17</td>\n",
       "    </tr>\n",
       "    <tr>\n",
       "      <th>8</th>\n",
       "      <td>hatchback</td>\n",
       "      <td>10.38</td>\n",
       "    </tr>\n",
       "    <tr>\n",
       "      <th>0</th>\n",
       "      <td>wheelbase</td>\n",
       "      <td>6.94</td>\n",
       "    </tr>\n",
       "    <tr>\n",
       "      <th>4</th>\n",
       "      <td>enginesize</td>\n",
       "      <td>6.81</td>\n",
       "    </tr>\n",
       "    <tr>\n",
       "      <th>10</th>\n",
       "      <td>wagon</td>\n",
       "      <td>6.01</td>\n",
       "    </tr>\n",
       "    <tr>\n",
       "      <th>2</th>\n",
       "      <td>carwidth</td>\n",
       "      <td>5.92</td>\n",
       "    </tr>\n",
       "    <tr>\n",
       "      <th>7</th>\n",
       "      <td>hardtop</td>\n",
       "      <td>2.57</td>\n",
       "    </tr>\n",
       "    <tr>\n",
       "      <th>12</th>\n",
       "      <td>ohcf</td>\n",
       "      <td>1.88</td>\n",
       "    </tr>\n",
       "    <tr>\n",
       "      <th>5</th>\n",
       "      <td>stroke</td>\n",
       "      <td>1.74</td>\n",
       "    </tr>\n",
       "    <tr>\n",
       "      <th>6</th>\n",
       "      <td>front_enginelocation</td>\n",
       "      <td>1.73</td>\n",
       "    </tr>\n",
       "    <tr>\n",
       "      <th>11</th>\n",
       "      <td>l</td>\n",
       "      <td>1.57</td>\n",
       "    </tr>\n",
       "    <tr>\n",
       "      <th>15</th>\n",
       "      <td>saab</td>\n",
       "      <td>1.45</td>\n",
       "    </tr>\n",
       "    <tr>\n",
       "      <th>13</th>\n",
       "      <td>rotor</td>\n",
       "      <td>1.25</td>\n",
       "    </tr>\n",
       "    <tr>\n",
       "      <th>14</th>\n",
       "      <td>bmw</td>\n",
       "      <td>1.22</td>\n",
       "    </tr>\n",
       "  </tbody>\n",
       "</table>\n",
       "</div>"
      ],
      "text/plain": [
       "                     Var    Vif\n",
       "3             curbweight  13.51\n",
       "9                  sedan  12.07\n",
       "1              carlength  11.17\n",
       "8              hatchback  10.38\n",
       "0              wheelbase   6.94\n",
       "4             enginesize   6.81\n",
       "10                 wagon   6.01\n",
       "2               carwidth   5.92\n",
       "7                hardtop   2.57\n",
       "12                  ohcf   1.88\n",
       "5                 stroke   1.74\n",
       "6   front_enginelocation   1.73\n",
       "11                     l   1.57\n",
       "15                  saab   1.45\n",
       "13                 rotor   1.25\n",
       "14                   bmw   1.22"
      ]
     },
     "execution_count": 145,
     "metadata": {},
     "output_type": "execute_result"
    }
   ],
   "source": [
    "# Print VIF\n",
    "vif_cal(input_data=cars.drop(drop_list, axis=1), dependent_col=\"price\")"
   ]
  },
  {
   "cell_type": "code",
   "execution_count": 146,
   "metadata": {
    "collapsed": true
   },
   "outputs": [],
   "source": [
    "# Sedan has a high P-value and high VIF\n",
    "drop_list.append('sedan')"
   ]
  },
  {
   "cell_type": "code",
   "execution_count": 147,
   "metadata": {
    "collapsed": true
   },
   "outputs": [],
   "source": [
    "# Drop Sedan\n",
    "X_train.drop('sedan', inplace = True, axis=1)"
   ]
  },
  {
   "cell_type": "code",
   "execution_count": 148,
   "metadata": {
    "collapsed": true
   },
   "outputs": [],
   "source": [
    "# Run linear regression\n",
    "X_train = sm.add_constant(X_train)\n",
    "lm_16 = sm.OLS(y_train, X_train).fit() "
   ]
  },
  {
   "cell_type": "code",
   "execution_count": 149,
   "metadata": {},
   "outputs": [
    {
     "name": "stdout",
     "output_type": "stream",
     "text": [
      "                            OLS Regression Results                            \n",
      "==============================================================================\n",
      "Dep. Variable:                  price   R-squared:                       0.926\n",
      "Model:                            OLS   Adj. R-squared:                  0.918\n",
      "Method:                 Least Squares   F-statistic:                     106.4\n",
      "Date:                Thu, 15 Mar 2018   Prob (F-statistic):           3.11e-64\n",
      "Time:                        03:52:02   Log-Likelihood:                 218.65\n",
      "No. Observations:                 143   AIC:                            -405.3\n",
      "Df Residuals:                     127   BIC:                            -357.9\n",
      "Df Model:                          15                                         \n",
      "Covariance Type:            nonrobust                                         \n",
      "========================================================================================\n",
      "                           coef    std err          t      P>|t|      [0.025      0.975]\n",
      "----------------------------------------------------------------------------------------\n",
      "const                    0.0024      0.005      0.499      0.619      -0.007       0.012\n",
      "wheelbase                0.1102      0.069      1.589      0.115      -0.027       0.247\n",
      "carlength               -0.4315      0.083     -5.196      0.000      -0.596      -0.267\n",
      "carwidth                 0.4141      0.063      6.532      0.000       0.289       0.540\n",
      "curbweight               0.4798      0.086      5.584      0.000       0.310       0.650\n",
      "enginesize               0.3569      0.086      4.156      0.000       0.187       0.527\n",
      "stroke                  -0.1069      0.043     -2.513      0.013      -0.191      -0.023\n",
      "front_enginelocation    -0.4760      0.073     -6.492      0.000      -0.621      -0.331\n",
      "hardtop                 -0.0252      0.040     -0.625      0.533      -0.105       0.055\n",
      "hatchback               -0.0406      0.013     -3.201      0.002      -0.066      -0.015\n",
      "wagon                   -0.0188      0.017     -1.130      0.261      -0.052       0.014\n",
      "l                       -0.0739      0.024     -3.107      0.002      -0.121      -0.027\n",
      "ohcf                    -0.0619      0.023     -2.740      0.007      -0.107      -0.017\n",
      "rotor                    0.1117      0.034      3.302      0.001       0.045       0.179\n",
      "bmw                      0.2206      0.026      8.550      0.000       0.170       0.272\n",
      "saab                     0.0769      0.037      2.103      0.037       0.005       0.149\n",
      "==============================================================================\n",
      "Omnibus:                       36.768   Durbin-Watson:                   1.806\n",
      "Prob(Omnibus):                  0.000   Jarque-Bera (JB):              115.614\n",
      "Skew:                           0.931   Prob(JB):                     7.85e-26\n",
      "Kurtosis:                       6.992   Cond. No.                         25.4\n",
      "==============================================================================\n",
      "\n",
      "Warnings:\n",
      "[1] Standard Errors assume that the covariance matrix of the errors is correctly specified.\n"
     ]
    }
   ],
   "source": [
    "# Print summary\n",
    "print(lm_16.summary())"
   ]
  },
  {
   "cell_type": "code",
   "execution_count": 150,
   "metadata": {},
   "outputs": [
    {
     "data": {
      "text/html": [
       "<div>\n",
       "<style>\n",
       "    .dataframe thead tr:only-child th {\n",
       "        text-align: right;\n",
       "    }\n",
       "\n",
       "    .dataframe thead th {\n",
       "        text-align: left;\n",
       "    }\n",
       "\n",
       "    .dataframe tbody tr th {\n",
       "        vertical-align: top;\n",
       "    }\n",
       "</style>\n",
       "<table border=\"1\" class=\"dataframe\">\n",
       "  <thead>\n",
       "    <tr style=\"text-align: right;\">\n",
       "      <th></th>\n",
       "      <th>Var</th>\n",
       "      <th>Vif</th>\n",
       "    </tr>\n",
       "  </thead>\n",
       "  <tbody>\n",
       "    <tr>\n",
       "      <th>3</th>\n",
       "      <td>curbweight</td>\n",
       "      <td>12.85</td>\n",
       "    </tr>\n",
       "    <tr>\n",
       "      <th>1</th>\n",
       "      <td>carlength</td>\n",
       "      <td>11.12</td>\n",
       "    </tr>\n",
       "    <tr>\n",
       "      <th>4</th>\n",
       "      <td>enginesize</td>\n",
       "      <td>6.81</td>\n",
       "    </tr>\n",
       "    <tr>\n",
       "      <th>0</th>\n",
       "      <td>wheelbase</td>\n",
       "      <td>6.46</td>\n",
       "    </tr>\n",
       "    <tr>\n",
       "      <th>2</th>\n",
       "      <td>carwidth</td>\n",
       "      <td>5.92</td>\n",
       "    </tr>\n",
       "    <tr>\n",
       "      <th>11</th>\n",
       "      <td>ohcf</td>\n",
       "      <td>1.84</td>\n",
       "    </tr>\n",
       "    <tr>\n",
       "      <th>6</th>\n",
       "      <td>front_enginelocation</td>\n",
       "      <td>1.70</td>\n",
       "    </tr>\n",
       "    <tr>\n",
       "      <th>5</th>\n",
       "      <td>stroke</td>\n",
       "      <td>1.69</td>\n",
       "    </tr>\n",
       "    <tr>\n",
       "      <th>8</th>\n",
       "      <td>hatchback</td>\n",
       "      <td>1.61</td>\n",
       "    </tr>\n",
       "    <tr>\n",
       "      <th>10</th>\n",
       "      <td>l</td>\n",
       "      <td>1.57</td>\n",
       "    </tr>\n",
       "    <tr>\n",
       "      <th>14</th>\n",
       "      <td>saab</td>\n",
       "      <td>1.44</td>\n",
       "    </tr>\n",
       "    <tr>\n",
       "      <th>9</th>\n",
       "      <td>wagon</td>\n",
       "      <td>1.37</td>\n",
       "    </tr>\n",
       "    <tr>\n",
       "      <th>7</th>\n",
       "      <td>hardtop</td>\n",
       "      <td>1.29</td>\n",
       "    </tr>\n",
       "    <tr>\n",
       "      <th>12</th>\n",
       "      <td>rotor</td>\n",
       "      <td>1.25</td>\n",
       "    </tr>\n",
       "    <tr>\n",
       "      <th>13</th>\n",
       "      <td>bmw</td>\n",
       "      <td>1.21</td>\n",
       "    </tr>\n",
       "  </tbody>\n",
       "</table>\n",
       "</div>"
      ],
      "text/plain": [
       "                     Var    Vif\n",
       "3             curbweight  12.85\n",
       "1              carlength  11.12\n",
       "4             enginesize   6.81\n",
       "0              wheelbase   6.46\n",
       "2               carwidth   5.92\n",
       "11                  ohcf   1.84\n",
       "6   front_enginelocation   1.70\n",
       "5                 stroke   1.69\n",
       "8              hatchback   1.61\n",
       "10                     l   1.57\n",
       "14                  saab   1.44\n",
       "9                  wagon   1.37\n",
       "7                hardtop   1.29\n",
       "12                 rotor   1.25\n",
       "13                   bmw   1.21"
      ]
     },
     "execution_count": 150,
     "metadata": {},
     "output_type": "execute_result"
    }
   ],
   "source": [
    "# Print VIF\n",
    "vif_cal(input_data=cars.drop(drop_list, axis=1), dependent_col=\"price\")"
   ]
  },
  {
   "cell_type": "code",
   "execution_count": 151,
   "metadata": {
    "collapsed": true
   },
   "outputs": [],
   "source": [
    "# Wheelbase has a high P-value as well as high VIF\n",
    "drop_list.append('wheelbase')"
   ]
  },
  {
   "cell_type": "code",
   "execution_count": 152,
   "metadata": {
    "collapsed": true
   },
   "outputs": [],
   "source": [
    "# Drop wheelbase\n",
    "X_train.drop('wheelbase', inplace = True, axis=1)"
   ]
  },
  {
   "cell_type": "code",
   "execution_count": 153,
   "metadata": {
    "collapsed": true
   },
   "outputs": [],
   "source": [
    "# Run linear regression\n",
    "X_train = sm.add_constant(X_train)\n",
    "lm_17 = sm.OLS(y_train, X_train).fit() "
   ]
  },
  {
   "cell_type": "code",
   "execution_count": 154,
   "metadata": {},
   "outputs": [
    {
     "name": "stdout",
     "output_type": "stream",
     "text": [
      "                            OLS Regression Results                            \n",
      "==============================================================================\n",
      "Dep. Variable:                  price   R-squared:                       0.925\n",
      "Model:                            OLS   Adj. R-squared:                  0.917\n",
      "Method:                 Least Squares   F-statistic:                     112.4\n",
      "Date:                Thu, 15 Mar 2018   Prob (F-statistic):           9.94e-65\n",
      "Time:                        03:52:02   Log-Likelihood:                 217.25\n",
      "No. Observations:                 143   AIC:                            -404.5\n",
      "Df Residuals:                     128   BIC:                            -360.1\n",
      "Df Model:                          14                                         \n",
      "Covariance Type:            nonrobust                                         \n",
      "========================================================================================\n",
      "                           coef    std err          t      P>|t|      [0.025      0.975]\n",
      "----------------------------------------------------------------------------------------\n",
      "const                    0.0021      0.005      0.437      0.663      -0.007       0.012\n",
      "carlength               -0.3640      0.072     -5.071      0.000      -0.506      -0.222\n",
      "carwidth                 0.4360      0.062      7.005      0.000       0.313       0.559\n",
      "curbweight               0.4949      0.086      5.761      0.000       0.325       0.665\n",
      "enginesize               0.3293      0.085      3.892      0.000       0.162       0.497\n",
      "stroke                  -0.0973      0.042     -2.297      0.023      -0.181      -0.013\n",
      "front_enginelocation    -0.4584      0.073     -6.287      0.000      -0.603      -0.314\n",
      "hardtop                 -0.0241      0.041     -0.594      0.554      -0.104       0.056\n",
      "hatchback               -0.0402      0.013     -3.152      0.002      -0.065      -0.015\n",
      "wagon                   -0.0205      0.017     -1.226      0.223      -0.054       0.013\n",
      "l                       -0.0607      0.022     -2.708      0.008      -0.105      -0.016\n",
      "ohcf                    -0.0603      0.023     -2.659      0.009      -0.105      -0.015\n",
      "rotor                    0.1014      0.033      3.035      0.003       0.035       0.167\n",
      "bmw                      0.2260      0.026      8.783      0.000       0.175       0.277\n",
      "saab                     0.0637      0.036      1.779      0.078      -0.007       0.135\n",
      "==============================================================================\n",
      "Omnibus:                       30.367   Durbin-Watson:                   1.790\n",
      "Prob(Omnibus):                  0.000   Jarque-Bera (JB):               84.889\n",
      "Skew:                           0.792   Prob(JB):                     3.69e-19\n",
      "Kurtosis:                       6.426   Cond. No.                         25.3\n",
      "==============================================================================\n",
      "\n",
      "Warnings:\n",
      "[1] Standard Errors assume that the covariance matrix of the errors is correctly specified.\n"
     ]
    }
   ],
   "source": [
    "# Print summary\n",
    "print(lm_17.summary())"
   ]
  },
  {
   "cell_type": "code",
   "execution_count": 155,
   "metadata": {},
   "outputs": [
    {
     "data": {
      "text/html": [
       "<div>\n",
       "<style>\n",
       "    .dataframe thead tr:only-child th {\n",
       "        text-align: right;\n",
       "    }\n",
       "\n",
       "    .dataframe thead th {\n",
       "        text-align: left;\n",
       "    }\n",
       "\n",
       "    .dataframe tbody tr th {\n",
       "        vertical-align: top;\n",
       "    }\n",
       "</style>\n",
       "<table border=\"1\" class=\"dataframe\">\n",
       "  <thead>\n",
       "    <tr style=\"text-align: right;\">\n",
       "      <th></th>\n",
       "      <th>Var</th>\n",
       "      <th>Vif</th>\n",
       "    </tr>\n",
       "  </thead>\n",
       "  <tbody>\n",
       "    <tr>\n",
       "      <th>2</th>\n",
       "      <td>curbweight</td>\n",
       "      <td>12.84</td>\n",
       "    </tr>\n",
       "    <tr>\n",
       "      <th>0</th>\n",
       "      <td>carlength</td>\n",
       "      <td>7.97</td>\n",
       "    </tr>\n",
       "    <tr>\n",
       "      <th>3</th>\n",
       "      <td>enginesize</td>\n",
       "      <td>6.80</td>\n",
       "    </tr>\n",
       "    <tr>\n",
       "      <th>1</th>\n",
       "      <td>carwidth</td>\n",
       "      <td>5.57</td>\n",
       "    </tr>\n",
       "    <tr>\n",
       "      <th>10</th>\n",
       "      <td>ohcf</td>\n",
       "      <td>1.84</td>\n",
       "    </tr>\n",
       "    <tr>\n",
       "      <th>4</th>\n",
       "      <td>stroke</td>\n",
       "      <td>1.69</td>\n",
       "    </tr>\n",
       "    <tr>\n",
       "      <th>7</th>\n",
       "      <td>hatchback</td>\n",
       "      <td>1.61</td>\n",
       "    </tr>\n",
       "    <tr>\n",
       "      <th>5</th>\n",
       "      <td>front_enginelocation</td>\n",
       "      <td>1.60</td>\n",
       "    </tr>\n",
       "    <tr>\n",
       "      <th>9</th>\n",
       "      <td>l</td>\n",
       "      <td>1.38</td>\n",
       "    </tr>\n",
       "    <tr>\n",
       "      <th>8</th>\n",
       "      <td>wagon</td>\n",
       "      <td>1.37</td>\n",
       "    </tr>\n",
       "    <tr>\n",
       "      <th>13</th>\n",
       "      <td>saab</td>\n",
       "      <td>1.36</td>\n",
       "    </tr>\n",
       "    <tr>\n",
       "      <th>6</th>\n",
       "      <td>hardtop</td>\n",
       "      <td>1.29</td>\n",
       "    </tr>\n",
       "    <tr>\n",
       "      <th>11</th>\n",
       "      <td>rotor</td>\n",
       "      <td>1.24</td>\n",
       "    </tr>\n",
       "    <tr>\n",
       "      <th>12</th>\n",
       "      <td>bmw</td>\n",
       "      <td>1.20</td>\n",
       "    </tr>\n",
       "  </tbody>\n",
       "</table>\n",
       "</div>"
      ],
      "text/plain": [
       "                     Var    Vif\n",
       "2             curbweight  12.84\n",
       "0              carlength   7.97\n",
       "3             enginesize   6.80\n",
       "1               carwidth   5.57\n",
       "10                  ohcf   1.84\n",
       "4                 stroke   1.69\n",
       "7              hatchback   1.61\n",
       "5   front_enginelocation   1.60\n",
       "9                      l   1.38\n",
       "8                  wagon   1.37\n",
       "13                  saab   1.36\n",
       "6                hardtop   1.29\n",
       "11                 rotor   1.24\n",
       "12                   bmw   1.20"
      ]
     },
     "execution_count": 155,
     "metadata": {},
     "output_type": "execute_result"
    }
   ],
   "source": [
    "# Print VIF\n",
    "vif_cal(input_data=cars.drop(drop_list, axis=1), dependent_col=\"price\")"
   ]
  },
  {
   "cell_type": "code",
   "execution_count": 156,
   "metadata": {
    "collapsed": true
   },
   "outputs": [],
   "source": [
    "# Car length has a high VIF\n",
    "drop_list.append('carlength')"
   ]
  },
  {
   "cell_type": "code",
   "execution_count": 157,
   "metadata": {
    "collapsed": true
   },
   "outputs": [],
   "source": [
    "# Drop car length\n",
    "X_train.drop('carlength', inplace = True, axis=1)"
   ]
  },
  {
   "cell_type": "code",
   "execution_count": 158,
   "metadata": {
    "collapsed": true
   },
   "outputs": [],
   "source": [
    "# Run linear regression\n",
    "X_train = sm.add_constant(X_train)\n",
    "lm_18 = sm.OLS(y_train, X_train).fit() "
   ]
  },
  {
   "cell_type": "code",
   "execution_count": 159,
   "metadata": {},
   "outputs": [
    {
     "name": "stdout",
     "output_type": "stream",
     "text": [
      "                            OLS Regression Results                            \n",
      "==============================================================================\n",
      "Dep. Variable:                  price   R-squared:                       0.910\n",
      "Model:                            OLS   Adj. R-squared:                  0.901\n",
      "Method:                 Least Squares   F-statistic:                     99.95\n",
      "Date:                Thu, 15 Mar 2018   Prob (F-statistic):           1.08e-60\n",
      "Time:                        03:52:03   Log-Likelihood:                 204.16\n",
      "No. Observations:                 143   AIC:                            -380.3\n",
      "Df Residuals:                     129   BIC:                            -338.8\n",
      "Df Model:                          13                                         \n",
      "Covariance Type:            nonrobust                                         \n",
      "========================================================================================\n",
      "                           coef    std err          t      P>|t|      [0.025      0.975]\n",
      "----------------------------------------------------------------------------------------\n",
      "const                    0.0039      0.005      0.757      0.450      -0.006       0.014\n",
      "carwidth                 0.2932      0.061      4.838      0.000       0.173       0.413\n",
      "curbweight               0.2998      0.084      3.575      0.000       0.134       0.466\n",
      "enginesize               0.4105      0.091      4.526      0.000       0.231       0.590\n",
      "stroke                  -0.1197      0.046     -2.605      0.010      -0.211      -0.029\n",
      "front_enginelocation    -0.4714      0.080     -5.926      0.000      -0.629      -0.314\n",
      "hardtop                 -0.0211      0.044     -0.476      0.635      -0.109       0.066\n",
      "hatchback               -0.0102      0.012     -0.825      0.411      -0.035       0.014\n",
      "wagon                   -0.0301      0.018     -1.659      0.100      -0.066       0.006\n",
      "l                       -0.0656      0.024     -2.681      0.008      -0.114      -0.017\n",
      "ohcf                    -0.0639      0.025     -2.579      0.011      -0.113      -0.015\n",
      "rotor                    0.1065      0.036      2.924      0.004       0.034       0.179\n",
      "bmw                      0.1975      0.027      7.204      0.000       0.143       0.252\n",
      "saab                     0.0119      0.037      0.318      0.751      -0.062       0.086\n",
      "==============================================================================\n",
      "Omnibus:                       20.519   Durbin-Watson:                   2.026\n",
      "Prob(Omnibus):                  0.000   Jarque-Bera (JB):               37.749\n",
      "Skew:                           0.658   Prob(JB):                     6.35e-09\n",
      "Kurtosis:                       5.146   Cond. No.                         23.6\n",
      "==============================================================================\n",
      "\n",
      "Warnings:\n",
      "[1] Standard Errors assume that the covariance matrix of the errors is correctly specified.\n"
     ]
    }
   ],
   "source": [
    "# Print summary\n",
    "print(lm_18.summary())"
   ]
  },
  {
   "cell_type": "code",
   "execution_count": 160,
   "metadata": {},
   "outputs": [
    {
     "data": {
      "text/html": [
       "<div>\n",
       "<style>\n",
       "    .dataframe thead tr:only-child th {\n",
       "        text-align: right;\n",
       "    }\n",
       "\n",
       "    .dataframe thead th {\n",
       "        text-align: left;\n",
       "    }\n",
       "\n",
       "    .dataframe tbody tr th {\n",
       "        vertical-align: top;\n",
       "    }\n",
       "</style>\n",
       "<table border=\"1\" class=\"dataframe\">\n",
       "  <thead>\n",
       "    <tr style=\"text-align: right;\">\n",
       "      <th></th>\n",
       "      <th>Var</th>\n",
       "      <th>Vif</th>\n",
       "    </tr>\n",
       "  </thead>\n",
       "  <tbody>\n",
       "    <tr>\n",
       "      <th>1</th>\n",
       "      <td>curbweight</td>\n",
       "      <td>10.34</td>\n",
       "    </tr>\n",
       "    <tr>\n",
       "      <th>2</th>\n",
       "      <td>enginesize</td>\n",
       "      <td>6.69</td>\n",
       "    </tr>\n",
       "    <tr>\n",
       "      <th>0</th>\n",
       "      <td>carwidth</td>\n",
       "      <td>4.48</td>\n",
       "    </tr>\n",
       "    <tr>\n",
       "      <th>9</th>\n",
       "      <td>ohcf</td>\n",
       "      <td>1.84</td>\n",
       "    </tr>\n",
       "    <tr>\n",
       "      <th>3</th>\n",
       "      <td>stroke</td>\n",
       "      <td>1.68</td>\n",
       "    </tr>\n",
       "    <tr>\n",
       "      <th>4</th>\n",
       "      <td>front_enginelocation</td>\n",
       "      <td>1.59</td>\n",
       "    </tr>\n",
       "    <tr>\n",
       "      <th>8</th>\n",
       "      <td>l</td>\n",
       "      <td>1.38</td>\n",
       "    </tr>\n",
       "    <tr>\n",
       "      <th>7</th>\n",
       "      <td>wagon</td>\n",
       "      <td>1.34</td>\n",
       "    </tr>\n",
       "    <tr>\n",
       "      <th>5</th>\n",
       "      <td>hardtop</td>\n",
       "      <td>1.29</td>\n",
       "    </tr>\n",
       "    <tr>\n",
       "      <th>6</th>\n",
       "      <td>hatchback</td>\n",
       "      <td>1.28</td>\n",
       "    </tr>\n",
       "    <tr>\n",
       "      <th>10</th>\n",
       "      <td>rotor</td>\n",
       "      <td>1.24</td>\n",
       "    </tr>\n",
       "    <tr>\n",
       "      <th>12</th>\n",
       "      <td>saab</td>\n",
       "      <td>1.19</td>\n",
       "    </tr>\n",
       "    <tr>\n",
       "      <th>11</th>\n",
       "      <td>bmw</td>\n",
       "      <td>1.16</td>\n",
       "    </tr>\n",
       "  </tbody>\n",
       "</table>\n",
       "</div>"
      ],
      "text/plain": [
       "                     Var    Vif\n",
       "1             curbweight  10.34\n",
       "2             enginesize   6.69\n",
       "0               carwidth   4.48\n",
       "9                   ohcf   1.84\n",
       "3                 stroke   1.68\n",
       "4   front_enginelocation   1.59\n",
       "8                      l   1.38\n",
       "7                  wagon   1.34\n",
       "5                hardtop   1.29\n",
       "6              hatchback   1.28\n",
       "10                 rotor   1.24\n",
       "12                  saab   1.19\n",
       "11                   bmw   1.16"
      ]
     },
     "execution_count": 160,
     "metadata": {},
     "output_type": "execute_result"
    }
   ],
   "source": [
    "# Print VIF\n",
    "vif_cal(input_data=cars.drop(drop_list, axis=1), dependent_col=\"price\")"
   ]
  },
  {
   "cell_type": "code",
   "execution_count": 161,
   "metadata": {
    "collapsed": true
   },
   "outputs": [],
   "source": [
    "# Curbweight has a high VIF\n",
    "drop_list.append('curbweight')"
   ]
  },
  {
   "cell_type": "code",
   "execution_count": 162,
   "metadata": {
    "collapsed": true
   },
   "outputs": [],
   "source": [
    "# Drop curbweight\n",
    "X_train.drop('curbweight', inplace = True, axis=1)"
   ]
  },
  {
   "cell_type": "code",
   "execution_count": 163,
   "metadata": {
    "collapsed": true
   },
   "outputs": [],
   "source": [
    "# Run linear regression\n",
    "X_train = sm.add_constant(X_train)\n",
    "lm_19 = sm.OLS(y_train, X_train).fit() "
   ]
  },
  {
   "cell_type": "code",
   "execution_count": 164,
   "metadata": {},
   "outputs": [
    {
     "name": "stdout",
     "output_type": "stream",
     "text": [
      "                            OLS Regression Results                            \n",
      "==============================================================================\n",
      "Dep. Variable:                  price   R-squared:                       0.901\n",
      "Model:                            OLS   Adj. R-squared:                  0.892\n",
      "Method:                 Least Squares   F-statistic:                     98.30\n",
      "Date:                Thu, 15 Mar 2018   Prob (F-statistic):           4.48e-59\n",
      "Time:                        03:52:03   Log-Likelihood:                 197.40\n",
      "No. Observations:                 143   AIC:                            -368.8\n",
      "Df Residuals:                     130   BIC:                            -330.3\n",
      "Df Model:                          12                                         \n",
      "Covariance Type:            nonrobust                                         \n",
      "========================================================================================\n",
      "                           coef    std err          t      P>|t|      [0.025      0.975]\n",
      "----------------------------------------------------------------------------------------\n",
      "const                    0.0038      0.005      0.708      0.480      -0.007       0.015\n",
      "carwidth                 0.4226      0.051      8.330      0.000       0.322       0.523\n",
      "enginesize               0.6550      0.062     10.528      0.000       0.532       0.778\n",
      "stroke                  -0.1120      0.048     -2.337      0.021      -0.207      -0.017\n",
      "front_enginelocation    -0.4522      0.083     -5.456      0.000      -0.616      -0.288\n",
      "hardtop                 -0.0231      0.046     -0.500      0.618      -0.114       0.068\n",
      "hatchback               -0.0157      0.013     -1.229      0.221      -0.041       0.010\n",
      "wagon                   -0.0021      0.017     -0.123      0.903      -0.036       0.032\n",
      "l                       -0.0321      0.024     -1.362      0.176      -0.079       0.015\n",
      "ohcf                    -0.0650      0.026     -2.514      0.013      -0.116      -0.014\n",
      "rotor                    0.1529      0.036      4.297      0.000       0.082       0.223\n",
      "bmw                      0.2030      0.029      7.103      0.000       0.146       0.260\n",
      "saab                     0.0417      0.038      1.094      0.276      -0.034       0.117\n",
      "==============================================================================\n",
      "Omnibus:                       12.437   Durbin-Watson:                   2.010\n",
      "Prob(Omnibus):                  0.002   Jarque-Bera (JB):               15.488\n",
      "Skew:                           0.543   Prob(JB):                     0.000433\n",
      "Kurtosis:                       4.192   Cond. No.                         17.0\n",
      "==============================================================================\n",
      "\n",
      "Warnings:\n",
      "[1] Standard Errors assume that the covariance matrix of the errors is correctly specified.\n"
     ]
    }
   ],
   "source": [
    "# Print summary\n",
    "print(lm_19.summary())"
   ]
  },
  {
   "cell_type": "code",
   "execution_count": 165,
   "metadata": {},
   "outputs": [
    {
     "data": {
      "text/html": [
       "<div>\n",
       "<style>\n",
       "    .dataframe thead tr:only-child th {\n",
       "        text-align: right;\n",
       "    }\n",
       "\n",
       "    .dataframe thead th {\n",
       "        text-align: left;\n",
       "    }\n",
       "\n",
       "    .dataframe tbody tr th {\n",
       "        vertical-align: top;\n",
       "    }\n",
       "</style>\n",
       "<table border=\"1\" class=\"dataframe\">\n",
       "  <thead>\n",
       "    <tr style=\"text-align: right;\">\n",
       "      <th></th>\n",
       "      <th>Var</th>\n",
       "      <th>Vif</th>\n",
       "    </tr>\n",
       "  </thead>\n",
       "  <tbody>\n",
       "    <tr>\n",
       "      <th>1</th>\n",
       "      <td>enginesize</td>\n",
       "      <td>3.20</td>\n",
       "    </tr>\n",
       "    <tr>\n",
       "      <th>0</th>\n",
       "      <td>carwidth</td>\n",
       "      <td>2.95</td>\n",
       "    </tr>\n",
       "    <tr>\n",
       "      <th>8</th>\n",
       "      <td>ohcf</td>\n",
       "      <td>1.84</td>\n",
       "    </tr>\n",
       "    <tr>\n",
       "      <th>2</th>\n",
       "      <td>stroke</td>\n",
       "      <td>1.67</td>\n",
       "    </tr>\n",
       "    <tr>\n",
       "      <th>3</th>\n",
       "      <td>front_enginelocation</td>\n",
       "      <td>1.58</td>\n",
       "    </tr>\n",
       "    <tr>\n",
       "      <th>4</th>\n",
       "      <td>hardtop</td>\n",
       "      <td>1.27</td>\n",
       "    </tr>\n",
       "    <tr>\n",
       "      <th>5</th>\n",
       "      <td>hatchback</td>\n",
       "      <td>1.26</td>\n",
       "    </tr>\n",
       "    <tr>\n",
       "      <th>7</th>\n",
       "      <td>l</td>\n",
       "      <td>1.18</td>\n",
       "    </tr>\n",
       "    <tr>\n",
       "      <th>6</th>\n",
       "      <td>wagon</td>\n",
       "      <td>1.16</td>\n",
       "    </tr>\n",
       "    <tr>\n",
       "      <th>10</th>\n",
       "      <td>bmw</td>\n",
       "      <td>1.15</td>\n",
       "    </tr>\n",
       "    <tr>\n",
       "      <th>9</th>\n",
       "      <td>rotor</td>\n",
       "      <td>1.14</td>\n",
       "    </tr>\n",
       "    <tr>\n",
       "      <th>11</th>\n",
       "      <td>saab</td>\n",
       "      <td>1.12</td>\n",
       "    </tr>\n",
       "  </tbody>\n",
       "</table>\n",
       "</div>"
      ],
      "text/plain": [
       "                     Var   Vif\n",
       "1             enginesize  3.20\n",
       "0               carwidth  2.95\n",
       "8                   ohcf  1.84\n",
       "2                 stroke  1.67\n",
       "3   front_enginelocation  1.58\n",
       "4                hardtop  1.27\n",
       "5              hatchback  1.26\n",
       "7                      l  1.18\n",
       "6                  wagon  1.16\n",
       "10                   bmw  1.15\n",
       "9                  rotor  1.14\n",
       "11                  saab  1.12"
      ]
     },
     "execution_count": 165,
     "metadata": {},
     "output_type": "execute_result"
    }
   ],
   "source": [
    "# Print VIF\n",
    "vif_cal(input_data=cars.drop(drop_list, axis=1), dependent_col=\"price\")"
   ]
  },
  {
   "cell_type": "code",
   "execution_count": 166,
   "metadata": {
    "collapsed": true
   },
   "outputs": [],
   "source": [
    "# Wagon has a high p-value and negative co-efficient\n",
    "drop_list.append('wagon')"
   ]
  },
  {
   "cell_type": "code",
   "execution_count": 167,
   "metadata": {
    "collapsed": true
   },
   "outputs": [],
   "source": [
    "# Drop wagon\n",
    "X_train.drop('wagon', inplace = True, axis=1)"
   ]
  },
  {
   "cell_type": "code",
   "execution_count": 168,
   "metadata": {
    "collapsed": true
   },
   "outputs": [],
   "source": [
    "# Run linear regression\n",
    "X_train = sm.add_constant(X_train)\n",
    "lm_20 = sm.OLS(y_train, X_train).fit() "
   ]
  },
  {
   "cell_type": "code",
   "execution_count": 169,
   "metadata": {},
   "outputs": [
    {
     "name": "stdout",
     "output_type": "stream",
     "text": [
      "                            OLS Regression Results                            \n",
      "==============================================================================\n",
      "Dep. Variable:                  price   R-squared:                       0.901\n",
      "Model:                            OLS   Adj. R-squared:                  0.892\n",
      "Method:                 Least Squares   F-statistic:                     108.0\n",
      "Date:                Thu, 15 Mar 2018   Prob (F-statistic):           4.23e-60\n",
      "Time:                        03:52:03   Log-Likelihood:                 197.39\n",
      "No. Observations:                 143   AIC:                            -370.8\n",
      "Df Residuals:                     131   BIC:                            -335.2\n",
      "Df Model:                          11                                         \n",
      "Covariance Type:            nonrobust                                         \n",
      "========================================================================================\n",
      "                           coef    std err          t      P>|t|      [0.025      0.975]\n",
      "----------------------------------------------------------------------------------------\n",
      "const                    0.0038      0.005      0.709      0.479      -0.007       0.014\n",
      "carwidth                 0.4225      0.051      8.361      0.000       0.323       0.522\n",
      "enginesize               0.6554      0.062     10.588      0.000       0.533       0.778\n",
      "stroke                  -0.1117      0.048     -2.342      0.021      -0.206      -0.017\n",
      "front_enginelocation    -0.4525      0.083     -5.482      0.000      -0.616      -0.289\n",
      "hardtop                 -0.0227      0.046     -0.495      0.622      -0.113       0.068\n",
      "hatchback               -0.0153      0.012     -1.247      0.214      -0.039       0.009\n",
      "l                       -0.0324      0.023     -1.389      0.167      -0.079       0.014\n",
      "ohcf                    -0.0653      0.026     -2.548      0.012      -0.116      -0.015\n",
      "rotor                    0.1529      0.035      4.315      0.000       0.083       0.223\n",
      "bmw                      0.2034      0.028      7.182      0.000       0.147       0.259\n",
      "saab                     0.0420      0.038      1.109      0.270      -0.033       0.117\n",
      "==============================================================================\n",
      "Omnibus:                       12.504   Durbin-Watson:                   2.010\n",
      "Prob(Omnibus):                  0.002   Jarque-Bera (JB):               15.605\n",
      "Skew:                           0.545   Prob(JB):                     0.000409\n",
      "Kurtosis:                       4.197   Cond. No.                         17.0\n",
      "==============================================================================\n",
      "\n",
      "Warnings:\n",
      "[1] Standard Errors assume that the covariance matrix of the errors is correctly specified.\n"
     ]
    }
   ],
   "source": [
    "# Print summary\n",
    "print(lm_20.summary())"
   ]
  },
  {
   "cell_type": "code",
   "execution_count": 170,
   "metadata": {},
   "outputs": [
    {
     "data": {
      "text/html": [
       "<div>\n",
       "<style>\n",
       "    .dataframe thead tr:only-child th {\n",
       "        text-align: right;\n",
       "    }\n",
       "\n",
       "    .dataframe thead th {\n",
       "        text-align: left;\n",
       "    }\n",
       "\n",
       "    .dataframe tbody tr th {\n",
       "        vertical-align: top;\n",
       "    }\n",
       "</style>\n",
       "<table border=\"1\" class=\"dataframe\">\n",
       "  <thead>\n",
       "    <tr style=\"text-align: right;\">\n",
       "      <th></th>\n",
       "      <th>Var</th>\n",
       "      <th>Vif</th>\n",
       "    </tr>\n",
       "  </thead>\n",
       "  <tbody>\n",
       "    <tr>\n",
       "      <th>1</th>\n",
       "      <td>enginesize</td>\n",
       "      <td>3.19</td>\n",
       "    </tr>\n",
       "    <tr>\n",
       "      <th>0</th>\n",
       "      <td>carwidth</td>\n",
       "      <td>2.95</td>\n",
       "    </tr>\n",
       "    <tr>\n",
       "      <th>7</th>\n",
       "      <td>ohcf</td>\n",
       "      <td>1.81</td>\n",
       "    </tr>\n",
       "    <tr>\n",
       "      <th>2</th>\n",
       "      <td>stroke</td>\n",
       "      <td>1.67</td>\n",
       "    </tr>\n",
       "    <tr>\n",
       "      <th>3</th>\n",
       "      <td>front_enginelocation</td>\n",
       "      <td>1.58</td>\n",
       "    </tr>\n",
       "    <tr>\n",
       "      <th>4</th>\n",
       "      <td>hardtop</td>\n",
       "      <td>1.26</td>\n",
       "    </tr>\n",
       "    <tr>\n",
       "      <th>5</th>\n",
       "      <td>hatchback</td>\n",
       "      <td>1.17</td>\n",
       "    </tr>\n",
       "    <tr>\n",
       "      <th>6</th>\n",
       "      <td>l</td>\n",
       "      <td>1.17</td>\n",
       "    </tr>\n",
       "    <tr>\n",
       "      <th>8</th>\n",
       "      <td>rotor</td>\n",
       "      <td>1.14</td>\n",
       "    </tr>\n",
       "    <tr>\n",
       "      <th>9</th>\n",
       "      <td>bmw</td>\n",
       "      <td>1.14</td>\n",
       "    </tr>\n",
       "    <tr>\n",
       "      <th>10</th>\n",
       "      <td>saab</td>\n",
       "      <td>1.12</td>\n",
       "    </tr>\n",
       "  </tbody>\n",
       "</table>\n",
       "</div>"
      ],
      "text/plain": [
       "                     Var   Vif\n",
       "1             enginesize  3.19\n",
       "0               carwidth  2.95\n",
       "7                   ohcf  1.81\n",
       "2                 stroke  1.67\n",
       "3   front_enginelocation  1.58\n",
       "4                hardtop  1.26\n",
       "5              hatchback  1.17\n",
       "6                      l  1.17\n",
       "8                  rotor  1.14\n",
       "9                    bmw  1.14\n",
       "10                  saab  1.12"
      ]
     },
     "execution_count": 170,
     "metadata": {},
     "output_type": "execute_result"
    }
   ],
   "source": [
    "# Print VIF\n",
    "vif_cal(input_data=cars.drop(drop_list, axis=1), dependent_col=\"price\")"
   ]
  },
  {
   "cell_type": "code",
   "execution_count": 171,
   "metadata": {
    "collapsed": true
   },
   "outputs": [],
   "source": [
    "# Hardtop has a high p-value\n",
    "drop_list.append('hardtop')"
   ]
  },
  {
   "cell_type": "code",
   "execution_count": 172,
   "metadata": {
    "collapsed": true
   },
   "outputs": [],
   "source": [
    "# Drop hardtop\n",
    "X_train.drop('hardtop', inplace = True, axis=1)"
   ]
  },
  {
   "cell_type": "code",
   "execution_count": 173,
   "metadata": {
    "collapsed": true
   },
   "outputs": [],
   "source": [
    "# Run linear regression\n",
    "X_train = sm.add_constant(X_train)\n",
    "lm_21 = sm.OLS(y_train, X_train).fit() "
   ]
  },
  {
   "cell_type": "code",
   "execution_count": 174,
   "metadata": {},
   "outputs": [
    {
     "name": "stdout",
     "output_type": "stream",
     "text": [
      "                            OLS Regression Results                            \n",
      "==============================================================================\n",
      "Dep. Variable:                  price   R-squared:                       0.901\n",
      "Model:                            OLS   Adj. R-squared:                  0.893\n",
      "Method:                 Least Squares   F-statistic:                     119.5\n",
      "Date:                Thu, 15 Mar 2018   Prob (F-statistic):           4.25e-61\n",
      "Time:                        03:52:03   Log-Likelihood:                 197.26\n",
      "No. Observations:                 143   AIC:                            -372.5\n",
      "Df Residuals:                     132   BIC:                            -339.9\n",
      "Df Model:                          10                                         \n",
      "Covariance Type:            nonrobust                                         \n",
      "========================================================================================\n",
      "                           coef    std err          t      P>|t|      [0.025      0.975]\n",
      "----------------------------------------------------------------------------------------\n",
      "const                    0.0041      0.005      0.759      0.449      -0.007       0.015\n",
      "carwidth                 0.4250      0.050      8.476      0.000       0.326       0.524\n",
      "enginesize               0.6538      0.062     10.607      0.000       0.532       0.776\n",
      "stroke                  -0.1130      0.047     -2.379      0.019      -0.207      -0.019\n",
      "front_enginelocation    -0.4306      0.070     -6.195      0.000      -0.568      -0.293\n",
      "hatchback               -0.0146      0.012     -1.201      0.232      -0.039       0.009\n",
      "l                       -0.0323      0.023     -1.384      0.169      -0.078       0.014\n",
      "ohcf                    -0.0652      0.026     -2.549      0.012      -0.116      -0.015\n",
      "rotor                    0.1525      0.035      4.318      0.000       0.083       0.222\n",
      "bmw                      0.2040      0.028      7.235      0.000       0.148       0.260\n",
      "saab                     0.0421      0.038      1.115      0.267      -0.033       0.117\n",
      "==============================================================================\n",
      "Omnibus:                       12.613   Durbin-Watson:                   2.002\n",
      "Prob(Omnibus):                  0.002   Jarque-Bera (JB):               15.714\n",
      "Skew:                           0.550   Prob(JB):                     0.000387\n",
      "Kurtosis:                       4.195   Cond. No.                         15.8\n",
      "==============================================================================\n",
      "\n",
      "Warnings:\n",
      "[1] Standard Errors assume that the covariance matrix of the errors is correctly specified.\n"
     ]
    }
   ],
   "source": [
    "# Print summary\n",
    "print(lm_21.summary())"
   ]
  },
  {
   "cell_type": "code",
   "execution_count": 175,
   "metadata": {},
   "outputs": [
    {
     "data": {
      "text/html": [
       "<div>\n",
       "<style>\n",
       "    .dataframe thead tr:only-child th {\n",
       "        text-align: right;\n",
       "    }\n",
       "\n",
       "    .dataframe thead th {\n",
       "        text-align: left;\n",
       "    }\n",
       "\n",
       "    .dataframe tbody tr th {\n",
       "        vertical-align: top;\n",
       "    }\n",
       "</style>\n",
       "<table border=\"1\" class=\"dataframe\">\n",
       "  <thead>\n",
       "    <tr style=\"text-align: right;\">\n",
       "      <th></th>\n",
       "      <th>Var</th>\n",
       "      <th>Vif</th>\n",
       "    </tr>\n",
       "  </thead>\n",
       "  <tbody>\n",
       "    <tr>\n",
       "      <th>1</th>\n",
       "      <td>enginesize</td>\n",
       "      <td>3.11</td>\n",
       "    </tr>\n",
       "    <tr>\n",
       "      <th>0</th>\n",
       "      <td>carwidth</td>\n",
       "      <td>2.93</td>\n",
       "    </tr>\n",
       "    <tr>\n",
       "      <th>6</th>\n",
       "      <td>ohcf</td>\n",
       "      <td>1.81</td>\n",
       "    </tr>\n",
       "    <tr>\n",
       "      <th>2</th>\n",
       "      <td>stroke</td>\n",
       "      <td>1.67</td>\n",
       "    </tr>\n",
       "    <tr>\n",
       "      <th>3</th>\n",
       "      <td>front_enginelocation</td>\n",
       "      <td>1.43</td>\n",
       "    </tr>\n",
       "    <tr>\n",
       "      <th>5</th>\n",
       "      <td>l</td>\n",
       "      <td>1.17</td>\n",
       "    </tr>\n",
       "    <tr>\n",
       "      <th>4</th>\n",
       "      <td>hatchback</td>\n",
       "      <td>1.15</td>\n",
       "    </tr>\n",
       "    <tr>\n",
       "      <th>7</th>\n",
       "      <td>rotor</td>\n",
       "      <td>1.14</td>\n",
       "    </tr>\n",
       "    <tr>\n",
       "      <th>8</th>\n",
       "      <td>bmw</td>\n",
       "      <td>1.13</td>\n",
       "    </tr>\n",
       "    <tr>\n",
       "      <th>9</th>\n",
       "      <td>saab</td>\n",
       "      <td>1.12</td>\n",
       "    </tr>\n",
       "  </tbody>\n",
       "</table>\n",
       "</div>"
      ],
      "text/plain": [
       "                    Var   Vif\n",
       "1            enginesize  3.11\n",
       "0              carwidth  2.93\n",
       "6                  ohcf  1.81\n",
       "2                stroke  1.67\n",
       "3  front_enginelocation  1.43\n",
       "5                     l  1.17\n",
       "4             hatchback  1.15\n",
       "7                 rotor  1.14\n",
       "8                   bmw  1.13\n",
       "9                  saab  1.12"
      ]
     },
     "execution_count": 175,
     "metadata": {},
     "output_type": "execute_result"
    }
   ],
   "source": [
    "# Print VIF\n",
    "vif_cal(input_data=cars.drop(drop_list, axis=1), dependent_col=\"price\")"
   ]
  },
  {
   "cell_type": "code",
   "execution_count": 176,
   "metadata": {
    "collapsed": true
   },
   "outputs": [],
   "source": [
    "# Hatchback has a high p-value\n",
    "drop_list.append('hatchback')"
   ]
  },
  {
   "cell_type": "code",
   "execution_count": 177,
   "metadata": {
    "collapsed": true
   },
   "outputs": [],
   "source": [
    "# Drop hatchback\n",
    "X_train.drop('hatchback', inplace = True, axis=1)"
   ]
  },
  {
   "cell_type": "code",
   "execution_count": 178,
   "metadata": {
    "collapsed": true
   },
   "outputs": [],
   "source": [
    "# Run linear regression\n",
    "X_train = sm.add_constant(X_train)\n",
    "lm_22 = sm.OLS(y_train, X_train).fit() "
   ]
  },
  {
   "cell_type": "code",
   "execution_count": 179,
   "metadata": {},
   "outputs": [
    {
     "name": "stdout",
     "output_type": "stream",
     "text": [
      "                            OLS Regression Results                            \n",
      "==============================================================================\n",
      "Dep. Variable:                  price   R-squared:                       0.899\n",
      "Model:                            OLS   Adj. R-squared:                  0.893\n",
      "Method:                 Least Squares   F-statistic:                     132.2\n",
      "Date:                Thu, 15 Mar 2018   Prob (F-statistic):           7.31e-62\n",
      "Time:                        03:52:04   Log-Likelihood:                 196.48\n",
      "No. Observations:                 143   AIC:                            -373.0\n",
      "Df Residuals:                     133   BIC:                            -343.3\n",
      "Df Model:                           9                                         \n",
      "Covariance Type:            nonrobust                                         \n",
      "========================================================================================\n",
      "                           coef    std err          t      P>|t|      [0.025      0.975]\n",
      "----------------------------------------------------------------------------------------\n",
      "const                    0.0041      0.005      0.772      0.442      -0.006       0.015\n",
      "carwidth                 0.4332      0.050      8.705      0.000       0.335       0.532\n",
      "enginesize               0.6541      0.062     10.595      0.000       0.532       0.776\n",
      "stroke                  -0.1166      0.047     -2.457      0.015      -0.211      -0.023\n",
      "front_enginelocation    -0.4337      0.070     -6.233      0.000      -0.571      -0.296\n",
      "l                       -0.0298      0.023     -1.282      0.202      -0.076       0.016\n",
      "ohcf                    -0.0631      0.026     -2.470      0.015      -0.114      -0.013\n",
      "rotor                    0.1434      0.035      4.150      0.000       0.075       0.212\n",
      "bmw                      0.2086      0.028      7.450      0.000       0.153       0.264\n",
      "saab                     0.0418      0.038      1.104      0.272      -0.033       0.117\n",
      "==============================================================================\n",
      "Omnibus:                       12.206   Durbin-Watson:                   2.042\n",
      "Prob(Omnibus):                  0.002   Jarque-Bera (JB):               14.097\n",
      "Skew:                           0.574   Prob(JB):                     0.000869\n",
      "Kurtosis:                       4.024   Cond. No.                         15.8\n",
      "==============================================================================\n",
      "\n",
      "Warnings:\n",
      "[1] Standard Errors assume that the covariance matrix of the errors is correctly specified.\n"
     ]
    }
   ],
   "source": [
    "# Print summary\n",
    "print(lm_22.summary())"
   ]
  },
  {
   "cell_type": "code",
   "execution_count": 180,
   "metadata": {},
   "outputs": [
    {
     "data": {
      "text/html": [
       "<div>\n",
       "<style>\n",
       "    .dataframe thead tr:only-child th {\n",
       "        text-align: right;\n",
       "    }\n",
       "\n",
       "    .dataframe thead th {\n",
       "        text-align: left;\n",
       "    }\n",
       "\n",
       "    .dataframe tbody tr th {\n",
       "        vertical-align: top;\n",
       "    }\n",
       "</style>\n",
       "<table border=\"1\" class=\"dataframe\">\n",
       "  <thead>\n",
       "    <tr style=\"text-align: right;\">\n",
       "      <th></th>\n",
       "      <th>Var</th>\n",
       "      <th>Vif</th>\n",
       "    </tr>\n",
       "  </thead>\n",
       "  <tbody>\n",
       "    <tr>\n",
       "      <th>1</th>\n",
       "      <td>enginesize</td>\n",
       "      <td>3.11</td>\n",
       "    </tr>\n",
       "    <tr>\n",
       "      <th>0</th>\n",
       "      <td>carwidth</td>\n",
       "      <td>2.86</td>\n",
       "    </tr>\n",
       "    <tr>\n",
       "      <th>5</th>\n",
       "      <td>ohcf</td>\n",
       "      <td>1.81</td>\n",
       "    </tr>\n",
       "    <tr>\n",
       "      <th>2</th>\n",
       "      <td>stroke</td>\n",
       "      <td>1.66</td>\n",
       "    </tr>\n",
       "    <tr>\n",
       "      <th>3</th>\n",
       "      <td>front_enginelocation</td>\n",
       "      <td>1.43</td>\n",
       "    </tr>\n",
       "    <tr>\n",
       "      <th>4</th>\n",
       "      <td>l</td>\n",
       "      <td>1.16</td>\n",
       "    </tr>\n",
       "    <tr>\n",
       "      <th>7</th>\n",
       "      <td>bmw</td>\n",
       "      <td>1.11</td>\n",
       "    </tr>\n",
       "    <tr>\n",
       "      <th>8</th>\n",
       "      <td>saab</td>\n",
       "      <td>1.11</td>\n",
       "    </tr>\n",
       "    <tr>\n",
       "      <th>6</th>\n",
       "      <td>rotor</td>\n",
       "      <td>1.10</td>\n",
       "    </tr>\n",
       "  </tbody>\n",
       "</table>\n",
       "</div>"
      ],
      "text/plain": [
       "                    Var   Vif\n",
       "1            enginesize  3.11\n",
       "0              carwidth  2.86\n",
       "5                  ohcf  1.81\n",
       "2                stroke  1.66\n",
       "3  front_enginelocation  1.43\n",
       "4                     l  1.16\n",
       "7                   bmw  1.11\n",
       "8                  saab  1.11\n",
       "6                 rotor  1.10"
      ]
     },
     "execution_count": 180,
     "metadata": {},
     "output_type": "execute_result"
    }
   ],
   "source": [
    "# Print VIF\n",
    "vif_cal(input_data=cars.drop(drop_list, axis=1), dependent_col=\"price\")"
   ]
  },
  {
   "cell_type": "code",
   "execution_count": 181,
   "metadata": {
    "collapsed": true
   },
   "outputs": [],
   "source": [
    "# \"l\" has a high p-value\n",
    "drop_list.append('l')"
   ]
  },
  {
   "cell_type": "code",
   "execution_count": 182,
   "metadata": {
    "collapsed": true
   },
   "outputs": [],
   "source": [
    "# Drop l\n",
    "X_train.drop('l', inplace = True, axis=1)"
   ]
  },
  {
   "cell_type": "code",
   "execution_count": 183,
   "metadata": {
    "collapsed": true
   },
   "outputs": [],
   "source": [
    "# Run linear regression\n",
    "X_train = sm.add_constant(X_train)\n",
    "lm_23 = sm.OLS(y_train, X_train).fit() "
   ]
  },
  {
   "cell_type": "code",
   "execution_count": 184,
   "metadata": {},
   "outputs": [
    {
     "name": "stdout",
     "output_type": "stream",
     "text": [
      "                            OLS Regression Results                            \n",
      "==============================================================================\n",
      "Dep. Variable:                  price   R-squared:                       0.898\n",
      "Model:                            OLS   Adj. R-squared:                  0.892\n",
      "Method:                 Least Squares   F-statistic:                     147.8\n",
      "Date:                Thu, 15 Mar 2018   Prob (F-statistic):           1.31e-62\n",
      "Time:                        03:52:04   Log-Likelihood:                 195.61\n",
      "No. Observations:                 143   AIC:                            -373.2\n",
      "Df Residuals:                     134   BIC:                            -346.5\n",
      "Df Model:                           8                                         \n",
      "Covariance Type:            nonrobust                                         \n",
      "========================================================================================\n",
      "                           coef    std err          t      P>|t|      [0.025      0.975]\n",
      "----------------------------------------------------------------------------------------\n",
      "const                    0.0039      0.005      0.730      0.467      -0.007       0.015\n",
      "carwidth                 0.4143      0.048      8.694      0.000       0.320       0.509\n",
      "enginesize               0.6699      0.061     11.048      0.000       0.550       0.790\n",
      "stroke                  -0.1074      0.047     -2.284      0.024      -0.200      -0.014\n",
      "front_enginelocation    -0.4271      0.070     -6.141      0.000      -0.565      -0.290\n",
      "ohcf                    -0.0579      0.025     -2.290      0.024      -0.108      -0.008\n",
      "rotor                    0.1489      0.034      4.331      0.000       0.081       0.217\n",
      "bmw                      0.2101      0.028      7.492      0.000       0.155       0.266\n",
      "saab                     0.0464      0.038      1.229      0.221      -0.028       0.121\n",
      "==============================================================================\n",
      "Omnibus:                        8.718   Durbin-Watson:                   2.035\n",
      "Prob(Omnibus):                  0.013   Jarque-Bera (JB):                8.954\n",
      "Skew:                           0.488   Prob(JB):                       0.0114\n",
      "Kurtosis:                       3.741   Cond. No.                         15.4\n",
      "==============================================================================\n",
      "\n",
      "Warnings:\n",
      "[1] Standard Errors assume that the covariance matrix of the errors is correctly specified.\n"
     ]
    }
   ],
   "source": [
    "# Print summary\n",
    "print(lm_23.summary())"
   ]
  },
  {
   "cell_type": "code",
   "execution_count": 185,
   "metadata": {},
   "outputs": [
    {
     "data": {
      "text/html": [
       "<div>\n",
       "<style>\n",
       "    .dataframe thead tr:only-child th {\n",
       "        text-align: right;\n",
       "    }\n",
       "\n",
       "    .dataframe thead th {\n",
       "        text-align: left;\n",
       "    }\n",
       "\n",
       "    .dataframe tbody tr th {\n",
       "        vertical-align: top;\n",
       "    }\n",
       "</style>\n",
       "<table border=\"1\" class=\"dataframe\">\n",
       "  <thead>\n",
       "    <tr style=\"text-align: right;\">\n",
       "      <th></th>\n",
       "      <th>Var</th>\n",
       "      <th>Vif</th>\n",
       "    </tr>\n",
       "  </thead>\n",
       "  <tbody>\n",
       "    <tr>\n",
       "      <th>1</th>\n",
       "      <td>enginesize</td>\n",
       "      <td>2.98</td>\n",
       "    </tr>\n",
       "    <tr>\n",
       "      <th>0</th>\n",
       "      <td>carwidth</td>\n",
       "      <td>2.59</td>\n",
       "    </tr>\n",
       "    <tr>\n",
       "      <th>4</th>\n",
       "      <td>ohcf</td>\n",
       "      <td>1.77</td>\n",
       "    </tr>\n",
       "    <tr>\n",
       "      <th>2</th>\n",
       "      <td>stroke</td>\n",
       "      <td>1.61</td>\n",
       "    </tr>\n",
       "    <tr>\n",
       "      <th>3</th>\n",
       "      <td>front_enginelocation</td>\n",
       "      <td>1.41</td>\n",
       "    </tr>\n",
       "    <tr>\n",
       "      <th>6</th>\n",
       "      <td>bmw</td>\n",
       "      <td>1.11</td>\n",
       "    </tr>\n",
       "    <tr>\n",
       "      <th>5</th>\n",
       "      <td>rotor</td>\n",
       "      <td>1.09</td>\n",
       "    </tr>\n",
       "    <tr>\n",
       "      <th>7</th>\n",
       "      <td>saab</td>\n",
       "      <td>1.09</td>\n",
       "    </tr>\n",
       "  </tbody>\n",
       "</table>\n",
       "</div>"
      ],
      "text/plain": [
       "                    Var   Vif\n",
       "1            enginesize  2.98\n",
       "0              carwidth  2.59\n",
       "4                  ohcf  1.77\n",
       "2                stroke  1.61\n",
       "3  front_enginelocation  1.41\n",
       "6                   bmw  1.11\n",
       "5                 rotor  1.09\n",
       "7                  saab  1.09"
      ]
     },
     "execution_count": 185,
     "metadata": {},
     "output_type": "execute_result"
    }
   ],
   "source": [
    "# Print VIF\n",
    "vif_cal(input_data=cars.drop(drop_list, axis=1), dependent_col=\"price\")"
   ]
  },
  {
   "cell_type": "code",
   "execution_count": 186,
   "metadata": {
    "collapsed": true
   },
   "outputs": [],
   "source": [
    "# Stroke has a high p-value\n",
    "drop_list.append('stroke')"
   ]
  },
  {
   "cell_type": "code",
   "execution_count": 187,
   "metadata": {
    "collapsed": true
   },
   "outputs": [],
   "source": [
    "# Drop stroke\n",
    "X_train.drop('stroke', inplace = True, axis=1)"
   ]
  },
  {
   "cell_type": "code",
   "execution_count": 188,
   "metadata": {
    "collapsed": true
   },
   "outputs": [],
   "source": [
    "# Run linear regression\n",
    "X_train = sm.add_constant(X_train)\n",
    "lm_24 = sm.OLS(y_train, X_train).fit() "
   ]
  },
  {
   "cell_type": "code",
   "execution_count": 189,
   "metadata": {},
   "outputs": [
    {
     "name": "stdout",
     "output_type": "stream",
     "text": [
      "                            OLS Regression Results                            \n",
      "==============================================================================\n",
      "Dep. Variable:                  price   R-squared:                       0.894\n",
      "Model:                            OLS   Adj. R-squared:                  0.889\n",
      "Method:                 Least Squares   F-statistic:                     163.1\n",
      "Date:                Thu, 15 Mar 2018   Prob (F-statistic):           1.26e-62\n",
      "Time:                        03:52:04   Log-Likelihood:                 192.87\n",
      "No. Observations:                 143   AIC:                            -369.7\n",
      "Df Residuals:                     135   BIC:                            -346.0\n",
      "Df Model:                           7                                         \n",
      "Covariance Type:            nonrobust                                         \n",
      "========================================================================================\n",
      "                           coef    std err          t      P>|t|      [0.025      0.975]\n",
      "----------------------------------------------------------------------------------------\n",
      "const                    0.0037      0.005      0.675      0.501      -0.007       0.014\n",
      "carwidth                 0.4073      0.048      8.434      0.000       0.312       0.503\n",
      "enginesize               0.6558      0.061     10.706      0.000       0.535       0.777\n",
      "front_enginelocation    -0.4171      0.070     -5.917      0.000      -0.557      -0.278\n",
      "ohcf                    -0.0233      0.021     -1.133      0.259      -0.064       0.017\n",
      "rotor                    0.1493      0.035      4.276      0.000       0.080       0.218\n",
      "bmw                      0.2194      0.028      7.791      0.000       0.164       0.275\n",
      "saab                     0.0593      0.038      1.564      0.120      -0.016       0.134\n",
      "==============================================================================\n",
      "Omnibus:                        5.827   Durbin-Watson:                   1.990\n",
      "Prob(Omnibus):                  0.054   Jarque-Bera (JB):                5.358\n",
      "Skew:                           0.420   Prob(JB):                       0.0686\n",
      "Kurtosis:                       3.442   Cond. No.                         15.4\n",
      "==============================================================================\n",
      "\n",
      "Warnings:\n",
      "[1] Standard Errors assume that the covariance matrix of the errors is correctly specified.\n"
     ]
    }
   ],
   "source": [
    "# Print summary\n",
    "print(lm_24.summary())"
   ]
  },
  {
   "cell_type": "code",
   "execution_count": 190,
   "metadata": {},
   "outputs": [
    {
     "data": {
      "text/html": [
       "<div>\n",
       "<style>\n",
       "    .dataframe thead tr:only-child th {\n",
       "        text-align: right;\n",
       "    }\n",
       "\n",
       "    .dataframe thead th {\n",
       "        text-align: left;\n",
       "    }\n",
       "\n",
       "    .dataframe tbody tr th {\n",
       "        vertical-align: top;\n",
       "    }\n",
       "</style>\n",
       "<table border=\"1\" class=\"dataframe\">\n",
       "  <thead>\n",
       "    <tr style=\"text-align: right;\">\n",
       "      <th></th>\n",
       "      <th>Var</th>\n",
       "      <th>Vif</th>\n",
       "    </tr>\n",
       "  </thead>\n",
       "  <tbody>\n",
       "    <tr>\n",
       "      <th>1</th>\n",
       "      <td>enginesize</td>\n",
       "      <td>2.88</td>\n",
       "    </tr>\n",
       "    <tr>\n",
       "      <th>0</th>\n",
       "      <td>carwidth</td>\n",
       "      <td>2.58</td>\n",
       "    </tr>\n",
       "    <tr>\n",
       "      <th>2</th>\n",
       "      <td>front_enginelocation</td>\n",
       "      <td>1.41</td>\n",
       "    </tr>\n",
       "    <tr>\n",
       "      <th>3</th>\n",
       "      <td>ohcf</td>\n",
       "      <td>1.26</td>\n",
       "    </tr>\n",
       "    <tr>\n",
       "      <th>4</th>\n",
       "      <td>rotor</td>\n",
       "      <td>1.09</td>\n",
       "    </tr>\n",
       "    <tr>\n",
       "      <th>5</th>\n",
       "      <td>bmw</td>\n",
       "      <td>1.07</td>\n",
       "    </tr>\n",
       "    <tr>\n",
       "      <th>6</th>\n",
       "      <td>saab</td>\n",
       "      <td>1.02</td>\n",
       "    </tr>\n",
       "  </tbody>\n",
       "</table>\n",
       "</div>"
      ],
      "text/plain": [
       "                    Var   Vif\n",
       "1            enginesize  2.88\n",
       "0              carwidth  2.58\n",
       "2  front_enginelocation  1.41\n",
       "3                  ohcf  1.26\n",
       "4                 rotor  1.09\n",
       "5                   bmw  1.07\n",
       "6                  saab  1.02"
      ]
     },
     "execution_count": 190,
     "metadata": {},
     "output_type": "execute_result"
    }
   ],
   "source": [
    "# Print VIF\n",
    "vif_cal(input_data=cars.drop(drop_list, axis=1), dependent_col=\"price\")"
   ]
  },
  {
   "cell_type": "code",
   "execution_count": 191,
   "metadata": {
    "collapsed": true
   },
   "outputs": [],
   "source": [
    "# OHCF has a high p-value\n",
    "drop_list.append('ohcf')"
   ]
  },
  {
   "cell_type": "code",
   "execution_count": 192,
   "metadata": {
    "collapsed": true
   },
   "outputs": [],
   "source": [
    "# Drop OHCF\n",
    "X_train.drop('ohcf', inplace = True, axis=1)"
   ]
  },
  {
   "cell_type": "code",
   "execution_count": 193,
   "metadata": {
    "collapsed": true
   },
   "outputs": [],
   "source": [
    "# Run linear regression\n",
    "X_train = sm.add_constant(X_train)\n",
    "lm_25 = sm.OLS(y_train, X_train).fit() "
   ]
  },
  {
   "cell_type": "code",
   "execution_count": 194,
   "metadata": {},
   "outputs": [
    {
     "name": "stdout",
     "output_type": "stream",
     "text": [
      "                            OLS Regression Results                            \n",
      "==============================================================================\n",
      "Dep. Variable:                  price   R-squared:                       0.893\n",
      "Model:                            OLS   Adj. R-squared:                  0.889\n",
      "Method:                 Least Squares   F-statistic:                     189.6\n",
      "Date:                Thu, 15 Mar 2018   Prob (F-statistic):           1.65e-63\n",
      "Time:                        03:52:04   Log-Likelihood:                 192.20\n",
      "No. Observations:                 143   AIC:                            -370.4\n",
      "Df Residuals:                     136   BIC:                            -349.7\n",
      "Df Model:                           6                                         \n",
      "Covariance Type:            nonrobust                                         \n",
      "========================================================================================\n",
      "                           coef    std err          t      P>|t|      [0.025      0.975]\n",
      "----------------------------------------------------------------------------------------\n",
      "const                    0.0033      0.005      0.603      0.548      -0.007       0.014\n",
      "carwidth                 0.4069      0.048      8.418      0.000       0.311       0.503\n",
      "enginesize               0.6617      0.061     10.829      0.000       0.541       0.783\n",
      "front_enginelocation    -0.3943      0.068     -5.831      0.000      -0.528      -0.261\n",
      "rotor                    0.1524      0.035      4.374      0.000       0.083       0.221\n",
      "bmw                      0.2204      0.028      7.822      0.000       0.165       0.276\n",
      "saab                     0.0614      0.038      1.619      0.108      -0.014       0.136\n",
      "==============================================================================\n",
      "Omnibus:                        6.108   Durbin-Watson:                   1.984\n",
      "Prob(Omnibus):                  0.047   Jarque-Bera (JB):                5.643\n",
      "Skew:                           0.444   Prob(JB):                       0.0595\n",
      "Kurtosis:                       3.396   Cond. No.                         15.1\n",
      "==============================================================================\n",
      "\n",
      "Warnings:\n",
      "[1] Standard Errors assume that the covariance matrix of the errors is correctly specified.\n"
     ]
    }
   ],
   "source": [
    "# Print summary\n",
    "print(lm_25.summary())"
   ]
  },
  {
   "cell_type": "code",
   "execution_count": 195,
   "metadata": {},
   "outputs": [
    {
     "data": {
      "text/html": [
       "<div>\n",
       "<style>\n",
       "    .dataframe thead tr:only-child th {\n",
       "        text-align: right;\n",
       "    }\n",
       "\n",
       "    .dataframe thead th {\n",
       "        text-align: left;\n",
       "    }\n",
       "\n",
       "    .dataframe tbody tr th {\n",
       "        vertical-align: top;\n",
       "    }\n",
       "</style>\n",
       "<table border=\"1\" class=\"dataframe\">\n",
       "  <thead>\n",
       "    <tr style=\"text-align: right;\">\n",
       "      <th></th>\n",
       "      <th>Var</th>\n",
       "      <th>Vif</th>\n",
       "    </tr>\n",
       "  </thead>\n",
       "  <tbody>\n",
       "    <tr>\n",
       "      <th>1</th>\n",
       "      <td>enginesize</td>\n",
       "      <td>2.88</td>\n",
       "    </tr>\n",
       "    <tr>\n",
       "      <th>0</th>\n",
       "      <td>carwidth</td>\n",
       "      <td>2.58</td>\n",
       "    </tr>\n",
       "    <tr>\n",
       "      <th>2</th>\n",
       "      <td>front_enginelocation</td>\n",
       "      <td>1.16</td>\n",
       "    </tr>\n",
       "    <tr>\n",
       "      <th>3</th>\n",
       "      <td>rotor</td>\n",
       "      <td>1.08</td>\n",
       "    </tr>\n",
       "    <tr>\n",
       "      <th>4</th>\n",
       "      <td>bmw</td>\n",
       "      <td>1.07</td>\n",
       "    </tr>\n",
       "    <tr>\n",
       "      <th>5</th>\n",
       "      <td>saab</td>\n",
       "      <td>1.01</td>\n",
       "    </tr>\n",
       "  </tbody>\n",
       "</table>\n",
       "</div>"
      ],
      "text/plain": [
       "                    Var   Vif\n",
       "1            enginesize  2.88\n",
       "0              carwidth  2.58\n",
       "2  front_enginelocation  1.16\n",
       "3                 rotor  1.08\n",
       "4                   bmw  1.07\n",
       "5                  saab  1.01"
      ]
     },
     "execution_count": 195,
     "metadata": {},
     "output_type": "execute_result"
    }
   ],
   "source": [
    "# Print VIF\n",
    "vif_cal(input_data=cars.drop(drop_list, axis=1), dependent_col=\"price\")"
   ]
  },
  {
   "cell_type": "code",
   "execution_count": 196,
   "metadata": {
    "collapsed": true
   },
   "outputs": [],
   "source": [
    "# Saab has a high p-value\n",
    "drop_list.append('saab')"
   ]
  },
  {
   "cell_type": "code",
   "execution_count": 197,
   "metadata": {
    "collapsed": true
   },
   "outputs": [],
   "source": [
    "# Drop saab\n",
    "X_train.drop('saab', inplace = True, axis=1)"
   ]
  },
  {
   "cell_type": "code",
   "execution_count": 198,
   "metadata": {
    "collapsed": true
   },
   "outputs": [],
   "source": [
    "# Run linear regression\n",
    "X_train = sm.add_constant(X_train)\n",
    "lm_26 = sm.OLS(y_train, X_train).fit() "
   ]
  },
  {
   "cell_type": "code",
   "execution_count": 199,
   "metadata": {},
   "outputs": [
    {
     "name": "stdout",
     "output_type": "stream",
     "text": [
      "                            OLS Regression Results                            \n",
      "==============================================================================\n",
      "Dep. Variable:                  price   R-squared:                       0.891\n",
      "Model:                            OLS   Adj. R-squared:                  0.887\n",
      "Method:                 Least Squares   F-statistic:                     224.4\n",
      "Date:                Thu, 15 Mar 2018   Prob (F-statistic):           3.81e-64\n",
      "Time:                        03:52:04   Log-Likelihood:                 190.83\n",
      "No. Observations:                 143   AIC:                            -369.7\n",
      "Df Residuals:                     137   BIC:                            -351.9\n",
      "Df Model:                           5                                         \n",
      "Covariance Type:            nonrobust                                         \n",
      "========================================================================================\n",
      "                           coef    std err          t      P>|t|      [0.025      0.975]\n",
      "----------------------------------------------------------------------------------------\n",
      "const                    0.0028      0.005      0.510      0.611      -0.008       0.014\n",
      "carwidth                 0.4139      0.048      8.546      0.000       0.318       0.510\n",
      "enginesize               0.6540      0.061     10.673      0.000       0.533       0.775\n",
      "front_enginelocation    -0.3954      0.068     -5.814      0.000      -0.530      -0.261\n",
      "rotor                    0.1496      0.035      4.274      0.000       0.080       0.219\n",
      "bmw                      0.2199      0.028      7.756      0.000       0.164       0.276\n",
      "==============================================================================\n",
      "Omnibus:                        6.554   Durbin-Watson:                   2.034\n",
      "Prob(Omnibus):                  0.038   Jarque-Bera (JB):                6.121\n",
      "Skew:                           0.465   Prob(JB):                       0.0469\n",
      "Kurtosis:                       3.404   Cond. No.                         15.0\n",
      "==============================================================================\n",
      "\n",
      "Warnings:\n",
      "[1] Standard Errors assume that the covariance matrix of the errors is correctly specified.\n"
     ]
    }
   ],
   "source": [
    "# Print summary\n",
    "print(lm_26.summary())"
   ]
  },
  {
   "cell_type": "code",
   "execution_count": 200,
   "metadata": {},
   "outputs": [
    {
     "data": {
      "text/html": [
       "<div>\n",
       "<style>\n",
       "    .dataframe thead tr:only-child th {\n",
       "        text-align: right;\n",
       "    }\n",
       "\n",
       "    .dataframe thead th {\n",
       "        text-align: left;\n",
       "    }\n",
       "\n",
       "    .dataframe tbody tr th {\n",
       "        vertical-align: top;\n",
       "    }\n",
       "</style>\n",
       "<table border=\"1\" class=\"dataframe\">\n",
       "  <thead>\n",
       "    <tr style=\"text-align: right;\">\n",
       "      <th></th>\n",
       "      <th>Var</th>\n",
       "      <th>Vif</th>\n",
       "    </tr>\n",
       "  </thead>\n",
       "  <tbody>\n",
       "    <tr>\n",
       "      <th>1</th>\n",
       "      <td>enginesize</td>\n",
       "      <td>2.85</td>\n",
       "    </tr>\n",
       "    <tr>\n",
       "      <th>0</th>\n",
       "      <td>carwidth</td>\n",
       "      <td>2.55</td>\n",
       "    </tr>\n",
       "    <tr>\n",
       "      <th>2</th>\n",
       "      <td>front_enginelocation</td>\n",
       "      <td>1.16</td>\n",
       "    </tr>\n",
       "    <tr>\n",
       "      <th>3</th>\n",
       "      <td>rotor</td>\n",
       "      <td>1.08</td>\n",
       "    </tr>\n",
       "    <tr>\n",
       "      <th>4</th>\n",
       "      <td>bmw</td>\n",
       "      <td>1.07</td>\n",
       "    </tr>\n",
       "  </tbody>\n",
       "</table>\n",
       "</div>"
      ],
      "text/plain": [
       "                    Var   Vif\n",
       "1            enginesize  2.85\n",
       "0              carwidth  2.55\n",
       "2  front_enginelocation  1.16\n",
       "3                 rotor  1.08\n",
       "4                   bmw  1.07"
      ]
     },
     "execution_count": 200,
     "metadata": {},
     "output_type": "execute_result"
    }
   ],
   "source": [
    "# Print VIF\n",
    "vif_cal(input_data=cars.drop(drop_list, axis=1), dependent_col=\"price\")"
   ]
  },
  {
   "cell_type": "raw",
   "metadata": {},
   "source": [
    "We seem to have arrived at the final model with 0 p-value and VIF in the acceptable range. Features that influence a car price as are follows\n",
    "1. Engine size - Larger the engine size, more power the car will have and hence highly influences a car price\n",
    "2. Car Width - If the car is wider, its more expensive else less expensive\n",
    "3. Engine type (Rotor) - Engine type seems to be an important influence while determining the car price\n",
    "4. Car Manufacturer (BMW) - Car Manufacturer plays an important role in determining the car price. BMW is more expensive\n",
    "5. Engine location (Front) - Whether the car is a front wheel drive or a rear while drive also seems to impact the car price"
   ]
  },
  {
   "cell_type": "markdown",
   "metadata": {},
   "source": [
    "### Making Predictions Using the Final Model"
   ]
  },
  {
   "cell_type": "code",
   "execution_count": 201,
   "metadata": {
    "collapsed": true
   },
   "outputs": [],
   "source": [
    "# Using LM 26 for the prediction"
   ]
  },
  {
   "cell_type": "code",
   "execution_count": 202,
   "metadata": {
    "collapsed": true
   },
   "outputs": [],
   "source": [
    "# Adding  constant variable to test dataframe\n",
    "X_test_new = sm.add_constant(X_test, has_constant='add')\n"
   ]
  },
  {
   "cell_type": "code",
   "execution_count": 203,
   "metadata": {},
   "outputs": [
    {
     "name": "stdout",
     "output_type": "stream",
     "text": [
      "<class 'pandas.core.frame.DataFrame'>\n",
      "Int64Index: 62 entries, 160 to 128\n",
      "Data columns (total 60 columns):\n",
      "const                   62 non-null float64\n",
      "symboling               62 non-null float64\n",
      "wheelbase               62 non-null float64\n",
      "carlength               62 non-null float64\n",
      "carwidth                62 non-null float64\n",
      "carheight               62 non-null float64\n",
      "curbweight              62 non-null float64\n",
      "enginesize              62 non-null float64\n",
      "boreratio               62 non-null float64\n",
      "stroke                  62 non-null float64\n",
      "compressionratio        62 non-null float64\n",
      "horsepower              62 non-null float64\n",
      "peakrpm                 62 non-null float64\n",
      "citympg                 62 non-null float64\n",
      "highwaympg              62 non-null float64\n",
      "std_aspiration          62 non-null float64\n",
      "front_enginelocation    62 non-null float64\n",
      "gas_fueltype            62 non-null float64\n",
      "two_doornumber          62 non-null float64\n",
      "cylindercount           62 non-null float64\n",
      "hardtop                 62 non-null float64\n",
      "hatchback               62 non-null float64\n",
      "sedan                   62 non-null float64\n",
      "wagon                   62 non-null float64\n",
      "fwd                     62 non-null float64\n",
      "rwd                     62 non-null float64\n",
      "dohcv                   62 non-null float64\n",
      "l                       62 non-null float64\n",
      "ohc                     62 non-null float64\n",
      "ohcf                    62 non-null float64\n",
      "ohcv                    62 non-null float64\n",
      "rotor                   62 non-null float64\n",
      "2bbl                    62 non-null float64\n",
      "4bbl                    62 non-null float64\n",
      "idi                     62 non-null float64\n",
      "mfi                     62 non-null float64\n",
      "mpfi                    62 non-null float64\n",
      "spdi                    62 non-null float64\n",
      "spfi                    62 non-null float64\n",
      "audi                    62 non-null float64\n",
      "bmw                     62 non-null float64\n",
      "buick                   62 non-null float64\n",
      "chevrolet               62 non-null float64\n",
      "dodge                   62 non-null float64\n",
      "honda                   62 non-null float64\n",
      "isuzu                   62 non-null float64\n",
      "jaguar                  62 non-null float64\n",
      "mazda                   62 non-null float64\n",
      "mercury                 62 non-null float64\n",
      "mitsubishi              62 non-null float64\n",
      "nissan                  62 non-null float64\n",
      "peugeot                 62 non-null float64\n",
      "plymouth                62 non-null float64\n",
      "porsche                 62 non-null float64\n",
      "renault                 62 non-null float64\n",
      "saab                    62 non-null float64\n",
      "subaru                  62 non-null float64\n",
      "toyota                  62 non-null float64\n",
      "volkswagen              62 non-null float64\n",
      "volvo                   62 non-null float64\n",
      "dtypes: float64(60)\n",
      "memory usage: 29.5 KB\n"
     ]
    }
   ],
   "source": [
    "X_test_new.info()"
   ]
  },
  {
   "cell_type": "code",
   "execution_count": 204,
   "metadata": {
    "collapsed": true
   },
   "outputs": [],
   "source": [
    "# Creating X_test_new dataframe by dropping variables from X_test\n",
    "X_test_new.drop(['mercury',\n",
    " 'spfi',\n",
    " 'mfi',\n",
    " 'volvo',\n",
    " 'two_doornumber',\n",
    " 'rwd',\n",
    " '2bbl',\n",
    " 'ohcv',\n",
    " 'fwd',\n",
    " 'audi',\n",
    " 'symboling',\n",
    " 'mpfi',\n",
    " 'spdi',\n",
    " 'jaguar',\n",
    " 'mazda',\n",
    " 'toyota',\n",
    " 'isuzu',\n",
    " 'citympg',\n",
    " 'nissan',\n",
    " 'volkswagen',\n",
    " 'renault',\n",
    " '4bbl',\n",
    " 'chevrolet',\n",
    " 'honda',\n",
    " 'std_aspiration',\n",
    " 'plymouth',\n",
    " 'dodge',\n",
    " 'dohcv',\n",
    " 'buick',\n",
    " 'ohc',\n",
    " 'horsepower',\n",
    " 'mitsubishi',\n",
    " 'carheight',\n",
    " 'peakrpm',\n",
    " 'highwaympg',\n",
    " 'cylindercount',\n",
    " 'boreratio',\n",
    " 'compressionratio',\n",
    " 'idi',\n",
    " 'gas_fueltype',\n",
    " 'porsche',\n",
    " 'subaru',\n",
    " 'peugeot',\n",
    " 'sedan',\n",
    " 'wheelbase',\n",
    " 'carlength',\n",
    " 'curbweight',\n",
    " 'wagon',\n",
    " 'hardtop',\n",
    " 'hatchback',\n",
    " 'l',\n",
    " 'stroke',\n",
    " 'ohcf',\n",
    " 'saab'], inplace = True, axis=1)"
   ]
  },
  {
   "cell_type": "code",
   "execution_count": 205,
   "metadata": {
    "collapsed": true
   },
   "outputs": [],
   "source": [
    "# Making predictions\n",
    "y_pred = lm_26.predict(X_test_new)"
   ]
  },
  {
   "cell_type": "code",
   "execution_count": 206,
   "metadata": {},
   "outputs": [
    {
     "data": {
      "text/plain": [
       "(62, 6)"
      ]
     },
     "execution_count": 206,
     "metadata": {},
     "output_type": "execute_result"
    }
   ],
   "source": [
    "# Dimensions of X_test\n",
    "X_test_new.shape"
   ]
  },
  {
   "cell_type": "code",
   "execution_count": 207,
   "metadata": {},
   "outputs": [
    {
     "data": {
      "text/plain": [
       "(143, 6)"
      ]
     },
     "execution_count": 207,
     "metadata": {},
     "output_type": "execute_result"
    }
   ],
   "source": [
    "# Dimensions of X_train\n",
    "X_train.shape"
   ]
  },
  {
   "cell_type": "code",
   "execution_count": 208,
   "metadata": {},
   "outputs": [
    {
     "data": {
      "image/png": "[encoded data removed]",
      "text/plain": [
       "<matplotlib.figure.Figure at 0x1c1a62d278>"
      ]
     },
     "metadata": {},
     "output_type": "display_data"
    }
   ],
   "source": [
    "# Actual vs Predicted\n",
    "c = [i for i in range(1,63,1)]\n",
    "fig = plt.figure()\n",
    "plt.plot(c,y_test, color=\"blue\", linewidth=2.5, linestyle=\"-\")     #Plotting Actual\n",
    "plt.plot(c,y_pred, color=\"red\",  linewidth=2.5, linestyle=\"-\")  #Plotting predicted\n",
    "fig.suptitle('Actual and Predicted', fontsize=20)              # Plot heading \n",
    "plt.xlabel('Index', fontsize=18)                               # X-label\n",
    "plt.ylabel('Car Price', fontsize=16)   \n",
    "plt.show()"
   ]
  },
  {
   "cell_type": "code",
   "execution_count": 209,
   "metadata": {},
   "outputs": [
    {
     "data": {
      "image/png": "[encoded data removed]",
      "text/plain": [
       "<matplotlib.figure.Figure at 0x1c1a62d898>"
      ]
     },
     "metadata": {},
     "output_type": "display_data"
    }
   ],
   "source": [
    "# Plotting y_test and y_pred to understand the spread.\n",
    "fig = plt.figure()\n",
    "plt.scatter(y_test,y_pred)\n",
    "fig.suptitle('y_test vs y_pred', fontsize=20)              # Plot heading \n",
    "plt.xlabel('y_test', fontsize=18)                          # X-label\n",
    "plt.ylabel('y_pred', fontsize=16)   \n",
    "plt.show()"
   ]
  },
  {
   "cell_type": "code",
   "execution_count": 210,
   "metadata": {},
   "outputs": [
    {
     "data": {
      "image/png": "[encoded data removed]",
      "text/plain": [
       "<matplotlib.figure.Figure at 0x1c1ae156d8>"
      ]
     },
     "metadata": {},
     "output_type": "display_data"
    }
   ],
   "source": [
    "# Error terms\n",
    "fig = plt.figure()\n",
    "c = [i for i in range(1,63,1)]\n",
    "plt.plot(c,y_test-y_pred, color=\"blue\", linewidth=2.5, linestyle=\"-\")\n",
    "fig.suptitle('Error Terms', fontsize=20)              # Plot heading \n",
    "plt.xlabel('Index', fontsize=18)                      # X-label\n",
    "plt.ylabel('ytest-ypred', fontsize=16)                # Y-label\n",
    "plt.show()"
   ]
  },
  {
   "cell_type": "code",
   "execution_count": 211,
   "metadata": {},
   "outputs": [
    {
     "data": {
      "image/png": "[encoded data removed]",
      "text/plain": [
       "<matplotlib.figure.Figure at 0x1c1ad1b630>"
      ]
     },
     "metadata": {},
     "output_type": "display_data"
    }
   ],
   "source": [
    "# Plotting the error terms to understand the distribution.\n",
    "fig = plt.figure()\n",
    "sns.distplot((y_test-y_pred),bins=50)\n",
    "fig.suptitle('Error Terms', fontsize=20)                  # Plot heading \n",
    "plt.xlabel('y_test-y_pred', fontsize=18)                  # X-label\n",
    "plt.ylabel('Index', fontsize=16)         \n",
    "plt.show()"
   ]
  },
  {
   "cell_type": "code",
   "execution_count": 212,
   "metadata": {},
   "outputs": [
    {
     "name": "stdout",
     "output_type": "stream",
     "text": [
      "RMSE : 0.06554584055\n"
     ]
    }
   ],
   "source": [
    "import numpy as np\n",
    "from sklearn import metrics\n",
    "print('RMSE :', np.sqrt(metrics.mean_squared_error(y_test, y_pred)))"
   ]
  },
  {
   "cell_type": "code",
   "execution_count": 213,
   "metadata": {
    "collapsed": true
   },
   "outputs": [],
   "source": [
    "# Representing LinearRegression as lr(Creating LinearRegression Object)\n",
    "lr = LinearRegression()"
   ]
  },
  {
   "cell_type": "code",
   "execution_count": 214,
   "metadata": {},
   "outputs": [
    {
     "data": {
      "text/plain": [
       "LinearRegression(copy_X=True, fit_intercept=True, n_jobs=1, normalize=False)"
      ]
     },
     "execution_count": 214,
     "metadata": {},
     "output_type": "execute_result"
    }
   ],
   "source": [
    "# fit the model to the training data\n",
    "lm.fit(X_train,y_train)"
   ]
  },
  {
   "cell_type": "code",
   "execution_count": 215,
   "metadata": {},
   "outputs": [
    {
     "name": "stdout",
     "output_type": "stream",
     "text": [
      "0.00279459632203\n"
     ]
    }
   ],
   "source": [
    "# print the intercept\n",
    "print(lm.intercept_)"
   ]
  },
  {
   "cell_type": "code",
   "execution_count": 216,
   "metadata": {},
   "outputs": [
    {
     "data": {
      "text/html": [
       "<div>\n",
       "<style>\n",
       "    .dataframe thead tr:only-child th {\n",
       "        text-align: right;\n",
       "    }\n",
       "\n",
       "    .dataframe thead th {\n",
       "        text-align: left;\n",
       "    }\n",
       "\n",
       "    .dataframe tbody tr th {\n",
       "        vertical-align: top;\n",
       "    }\n",
       "</style>\n",
       "<table border=\"1\" class=\"dataframe\">\n",
       "  <thead>\n",
       "    <tr style=\"text-align: right;\">\n",
       "      <th></th>\n",
       "      <th>Coefficient</th>\n",
       "    </tr>\n",
       "  </thead>\n",
       "  <tbody>\n",
       "    <tr>\n",
       "      <th>const</th>\n",
       "      <td>0.000000</td>\n",
       "    </tr>\n",
       "    <tr>\n",
       "      <th>carwidth</th>\n",
       "      <td>0.413907</td>\n",
       "    </tr>\n",
       "    <tr>\n",
       "      <th>enginesize</th>\n",
       "      <td>0.653995</td>\n",
       "    </tr>\n",
       "    <tr>\n",
       "      <th>front_enginelocation</th>\n",
       "      <td>-0.395373</td>\n",
       "    </tr>\n",
       "    <tr>\n",
       "      <th>rotor</th>\n",
       "      <td>0.149556</td>\n",
       "    </tr>\n",
       "    <tr>\n",
       "      <th>bmw</th>\n",
       "      <td>0.219853</td>\n",
       "    </tr>\n",
       "  </tbody>\n",
       "</table>\n",
       "</div>"
      ],
      "text/plain": [
       "                      Coefficient\n",
       "const                    0.000000\n",
       "carwidth                 0.413907\n",
       "enginesize               0.653995\n",
       "front_enginelocation    -0.395373\n",
       "rotor                    0.149556\n",
       "bmw                      0.219853"
      ]
     },
     "execution_count": 216,
     "metadata": {},
     "output_type": "execute_result"
    }
   ],
   "source": [
    "# Let's see the coefficient\n",
    "coeff_df = pd.DataFrame(lm.coef_,X_train.columns,columns=['Coefficient'])\n",
    "coeff_df"
   ]
  },
  {
   "cell_type": "code",
   "execution_count": 217,
   "metadata": {},
   "outputs": [
    {
     "name": "stdout",
     "output_type": "stream",
     "text": [
      "Mean_Squared_Error : 0.0042962572134\n",
      "r_square_value : 0.900451710602\n"
     ]
    }
   ],
   "source": [
    "# Determine MSE and R^2\n",
    "mse = mean_squared_error(y_test, y_pred)\n",
    "r_squared = r2_score(y_test, y_pred)\n",
    "\n",
    "# Printing mean square error and R square value\n",
    "print('Mean_Squared_Error :' ,mse)\n",
    "print('r_square_value :',r_squared)"
   ]
  },
  {
   "cell_type": "markdown",
   "metadata": {},
   "source": [
    "### Final Summary"
   ]
  },
  {
   "cell_type": "raw",
   "metadata": {},
   "source": [
    "RMSE : 0.06554584055\n",
    "Mean_Squared_Error : 0.0042962572134\n",
    "r_square_value : 0.900451710602"
   ]
  },
  {
   "cell_type": "raw",
   "metadata": {},
   "source": [
    "Management at Geely Auto can use the following car features (independent variables) to understand the fluctuation of car price in US Market.\n",
    "1. Engine size\n",
    "2. Car Width\n",
    "3. Engine type (Rotor) \n",
    "4. Car Manufacturer (BMW)\n",
    "5. Engine location (Front) \n",
    "\n",
    "They can use this information to manipulate the design of the cars, the business strategy etc. to meet certain price levels. Further, the model will be a good way for the management to understand the pricing dynamics of a new market. "
   ]
  },
  {
   "cell_type": "markdown",
   "metadata": {},
   "source": [
    "### Representation in terms of a linear equation"
   ]
  },
  {
   "cell_type": "markdown",
   "metadata": {
    "collapsed": true
   },
   "source": [
    "These are the values obtained for the final model\n",
    "1. beta0(intercept) : 0.00279459632203\n",
    "2. beta1(coefficient of carwidth) : 0.413907\n",
    "3. beta2(coefficient of enginesize) : 0.653995\n",
    "4. beta3(coefficient of front_enginelocation) : -0.395373\n",
    "5. beta4(coefficient of rotor) : 0.149556\n",
    "6. beta5(coefficient of bmw) : 0.219853"
   ]
  },
  {
   "cell_type": "markdown",
   "metadata": {
    "collapsed": true
   },
   "source": [
    "###### Following steps show how the unnormalized values can be obtained"
   ]
  },
  {
   "cell_type": "code",
   "execution_count": 218,
   "metadata": {},
   "outputs": [
    {
     "data": {
      "text/plain": [
       "-75565.9003606725"
      ]
     },
     "execution_count": 218,
     "metadata": {},
     "output_type": "execute_result"
    }
   ],
   "source": [
    "# Calculation of intercept using the formula provided in \n",
    "# https://stats.stackexchange.com/questions/74622/converting-standardized-betas-back-to-original-variables \n",
    "\n",
    "((0.00279459632203) * (45400 - 5118.0) + (13276.710570731706)) - ((0.413907 * ((45400 - 5118.0)/ (72.297 - 60.297)) * 65.907 ) + (0.653995* ((45400 - 5118.0)/ (326 - 61)) * 126.91) + (-0.395373 *((45400 - 5118.0)/ (1-0)) * 0.985) + (0.149556 * ((45400 - 5118.0)/ (1-0)) * 0.0195) + (0.219853 * ((45400 - 5118.0)/ (1-0)) * 0.038))"
   ]
  },
  {
   "cell_type": "code",
   "execution_count": 219,
   "metadata": {},
   "outputs": [
    {
     "data": {
      "text/plain": [
       "1389.4168145"
      ]
     },
     "execution_count": 219,
     "metadata": {},
     "output_type": "execute_result"
    }
   ],
   "source": [
    "# Calculation of coefficient beta1\n",
    "\n",
    "0.413907 * (45400 - 5118)/(72.297 - 60.297)"
   ]
  },
  {
   "cell_type": "code",
   "execution_count": 220,
   "metadata": {},
   "outputs": [
    {
     "data": {
      "text/plain": [
       "99.41217581132075"
      ]
     },
     "execution_count": 220,
     "metadata": {},
     "output_type": "execute_result"
    }
   ],
   "source": [
    "# Calculation of coefficient beta2\n",
    "\n",
    "0.653995 * (45400 - 5118)/(326 - 61)"
   ]
  },
  {
   "cell_type": "code",
   "execution_count": 221,
   "metadata": {},
   "outputs": [
    {
     "data": {
      "text/plain": [
       "-15926.415185999998"
      ]
     },
     "execution_count": 221,
     "metadata": {},
     "output_type": "execute_result"
    }
   ],
   "source": [
    "# Calculation of coefficient beta3\n",
    "\n",
    "-0.395373 * (45400 - 5118)/(1 - 0)"
   ]
  },
  {
   "cell_type": "code",
   "execution_count": 222,
   "metadata": {},
   "outputs": [
    {
     "data": {
      "text/plain": [
       "6024.414792"
      ]
     },
     "execution_count": 222,
     "metadata": {},
     "output_type": "execute_result"
    }
   ],
   "source": [
    "# Calculation of coefficient beta4\n",
    "\n",
    "0.149556 * (45400 - 5118)/(1 - 0)"
   ]
  },
  {
   "cell_type": "code",
   "execution_count": 223,
   "metadata": {},
   "outputs": [
    {
     "data": {
      "text/plain": [
       "8856.118546"
      ]
     },
     "execution_count": 223,
     "metadata": {},
     "output_type": "execute_result"
    }
   ],
   "source": [
    "# Calculation of coefficient beta5\n",
    "\n",
    "0.219853 * (45400 - 5118)/(1 - 0)"
   ]
  },
  {
   "cell_type": "markdown",
   "metadata": {},
   "source": [
    "##### Final linear equation is as follows"
   ]
  },
  {
   "cell_type": "markdown",
   "metadata": {},
   "source": [
    "#### y = 1389.4168145(x1) + 99.41217581132075(x2) - 15926.415185999998(x3) + 6024.414792(x4) + 8856.118546(x5) - 75565.9003606725"
   ]
  }
 ],
 "metadata": {
  "kernelspec": {
   "display_name": "Python 3",
   "language": "python",
   "name": "python3"
  },
  "language_info": {
   "codemirror_mode": {
    "name": "ipython",
    "version": 3
   },
   "file_extension": ".py",
   "mimetype": "text/x-python",
   "name": "python",
   "nbconvert_exporter": "python",
   "pygments_lexer": "ipython3",
   "version": "3.6.5"
  }
 },
 "nbformat": 4,
 "nbformat_minor": 2
}
